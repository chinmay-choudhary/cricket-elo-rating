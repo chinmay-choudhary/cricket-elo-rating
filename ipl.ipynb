{
 "cells": [
  {
   "cell_type": "markdown",
   "metadata": {},
   "source": [
    "## Downloading Raw Data"
   ]
  },
  {
   "cell_type": "code",
   "execution_count": null,
   "metadata": {},
   "outputs": [],
   "source": [
    "# import requests\n",
    "# import zipfile\n",
    "# import os\n",
    "\n",
    "# def downloadFile(url, destination):\n",
    "#     fileId = url.split('/')[5]\n",
    "    \n",
    "\n",
    "#     url='https://drive.google.com/uc?export=download&id=' + fileId\n",
    "    \n",
    "\n",
    "#     response = requests.get(url)\n",
    "    \n",
    "\n",
    "#     with open(destination, \"wb\") as file:\n",
    "#         file.write(response.content)\n",
    "\n",
    "# fileUrl = \"https://drive.google.com/file/d/1Emdky32QEjyNCAxktJV90G2hxO8NHEeI/view?usp=sharing\"  \n",
    "# path = \"ipl_json.zip\"  \n",
    "# downloadFile(fileUrl,path)\n",
    "# with zipfile.ZipFile(path, 'r') as zip_ref:\n",
    "#         zip_ref.extractall()\n"
   ]
  },
  {
   "cell_type": "markdown",
   "metadata": {},
   "source": [
    "# Extracting Data"
   ]
  },
  {
   "cell_type": "markdown",
   "metadata": {},
   "source": [
    "##### Relevant Imports"
   ]
  },
  {
   "cell_type": "code",
   "execution_count": 40,
   "metadata": {},
   "outputs": [],
   "source": [
    "import os\n",
    "import json\n",
    "import pandas as pd\n",
    "import pydash\n",
    "import plotly.express as px\n",
    "import plotly.graph_objects as go\n",
    "from plotly.subplots import make_subplots\n",
    "import numpy as np\n",
    "\n",
    "\n",
    "'''\n",
    "@function getValueFromJson\n",
    "@description Returns value from the json for the key passed\n",
    "@default returns zero if key is not found\n",
    "'''\n",
    "def getValueFromJson(json, key, default=0): \n",
    "    return pydash.get(json, key, default)"
   ]
  },
  {
   "cell_type": "code",
   "execution_count": 41,
   "metadata": {},
   "outputs": [],
   "source": [
    "path = 'ipl_json/'\n",
    "filelist = os.listdir(path)"
   ]
  },
  {
   "cell_type": "code",
   "execution_count": 42,
   "metadata": {},
   "outputs": [],
   "source": [
    "extract = []\n",
    "playOffEvent = set()\n",
    "for file in filelist:\n",
    "    with open(f'{path}/{file}','r') as f:\n",
    "        data = json.load(f)\n",
    "        event = getValueFromJson(data,'info.event.match_number')\n",
    "        team1 = getValueFromJson(data,'info.teams.0')\n",
    "        team2 = getValueFromJson(data,'info.teams.1')\n",
    "        outcome = getValueFromJson(data,'info.outcome.winner')\n",
    "        date = getValueFromJson(data,'info.dates.0')\n",
    "        season = getValueFromJson(data,'info.season')\n",
    "        if outcome == 0:\n",
    "            outcome = getValueFromJson(data,'info.outcome.result')\n",
    "        if event == 0:\n",
    "            event = getValueFromJson(data,'info.event.stage')\n",
    "            playOffEvent.add(event)\n",
    "        extract.append({\n",
    "            'date' : date,\n",
    "            'team1' : team1,\n",
    "            'team2' : team2,\n",
    "            'outcome' : outcome,\n",
    "            'event': event,\n",
    "            'season' : str(season)\n",
    "        })"
   ]
  },
  {
   "cell_type": "markdown",
   "metadata": {},
   "source": [
    "Creating DataFrame prepating data and creating a csv file for the extracted data\n",
    "\n",
    "Note: Rising Pune Supergiant and Rising Pune Supergiants are assumed to be the same team"
   ]
  },
  {
   "cell_type": "code",
   "execution_count": 43,
   "metadata": {},
   "outputs": [],
   "source": [
    "df = pd.DataFrame(extract)\n",
    "df.season.replace(['2007/08','2009/10','2020/21'],['2008','2010','2020'],inplace=True)\n",
    "df.team1.replace('Rising Pune Supergiant','Rising Pune Supergiants',inplace=True)\n",
    "df.team2.replace('Rising Pune Supergiant','Rising Pune Supergiants',inplace=True)\n",
    "df.outcome.replace('Rising Pune Supergiant','Rising Pune Supergiants',inplace=True)\n",
    "\n",
    "# uncomment the below code to get rid of the assumption that Kings XI Punjab and Delhi Daredevils are the same teams as Punjab Kings and Delhi Capitals\n",
    "df.team1.replace('Kings XI Punjab','Punjab Kings',inplace=True)\n",
    "df.team2.replace('Kings XI Punjab','Punjab Kings',inplace=True)\n",
    "df.outcome.replace('Kings XI Punjab','Punjab Kings',inplace=True)\n",
    "\n",
    "df.team1.replace('Delhi Daredevils','Delhi Capitals',inplace=True)\n",
    "df.team2.replace('Delhi Daredevils','Delhi Capitals',inplace=True)\n",
    "df.outcome.replace('Delhi Daredevils','Delhi Capitals',inplace=True)\n",
    "\n",
    "df.to_csv('ipl_match_results.csv',index=False)"
   ]
  },
  {
   "cell_type": "markdown",
   "metadata": {},
   "source": [
    "# IPL Elo Ratings Calculator"
   ]
  },
  {
   "cell_type": "markdown",
   "metadata": {},
   "source": [
    "#### Reading CSV file with initial Match by Match Results and relevant Elo rating"
   ]
  },
  {
   "cell_type": "code",
   "execution_count": 44,
   "metadata": {},
   "outputs": [],
   "source": [
    "df = pd.read_csv('ipl_match_results.csv')"
   ]
  },
  {
   "cell_type": "code",
   "execution_count": 45,
   "metadata": {},
   "outputs": [
    {
     "data": {
      "text/html": [
       "<div>\n",
       "<style scoped>\n",
       "    .dataframe tbody tr th:only-of-type {\n",
       "        vertical-align: middle;\n",
       "    }\n",
       "\n",
       "    .dataframe tbody tr th {\n",
       "        vertical-align: top;\n",
       "    }\n",
       "\n",
       "    .dataframe thead th {\n",
       "        text-align: right;\n",
       "    }\n",
       "</style>\n",
       "<table border=\"1\" class=\"dataframe\">\n",
       "  <thead>\n",
       "    <tr style=\"text-align: right;\">\n",
       "      <th></th>\n",
       "      <th>date</th>\n",
       "      <th>team1</th>\n",
       "      <th>team2</th>\n",
       "      <th>outcome</th>\n",
       "      <th>event</th>\n",
       "      <th>season</th>\n",
       "    </tr>\n",
       "  </thead>\n",
       "  <tbody>\n",
       "    <tr>\n",
       "      <th>308</th>\n",
       "      <td>2015-04-27</td>\n",
       "      <td>Punjab Kings</td>\n",
       "      <td>Sunrisers Hyderabad</td>\n",
       "      <td>Sunrisers Hyderabad</td>\n",
       "      <td>27</td>\n",
       "      <td>2015</td>\n",
       "    </tr>\n",
       "    <tr>\n",
       "      <th>956</th>\n",
       "      <td>2023-04-22</td>\n",
       "      <td>Gujarat Titans</td>\n",
       "      <td>Lucknow Super Giants</td>\n",
       "      <td>Gujarat Titans</td>\n",
       "      <td>30</td>\n",
       "      <td>2023</td>\n",
       "    </tr>\n",
       "    <tr>\n",
       "      <th>675</th>\n",
       "      <td>2023-05-17</td>\n",
       "      <td>Delhi Capitals</td>\n",
       "      <td>Punjab Kings</td>\n",
       "      <td>Delhi Capitals</td>\n",
       "      <td>64</td>\n",
       "      <td>2023</td>\n",
       "    </tr>\n",
       "    <tr>\n",
       "      <th>312</th>\n",
       "      <td>2018-04-14</td>\n",
       "      <td>Kolkata Knight Riders</td>\n",
       "      <td>Sunrisers Hyderabad</td>\n",
       "      <td>Sunrisers Hyderabad</td>\n",
       "      <td>10</td>\n",
       "      <td>2018</td>\n",
       "    </tr>\n",
       "    <tr>\n",
       "      <th>928</th>\n",
       "      <td>2017-04-28</td>\n",
       "      <td>Punjab Kings</td>\n",
       "      <td>Sunrisers Hyderabad</td>\n",
       "      <td>Sunrisers Hyderabad</td>\n",
       "      <td>33</td>\n",
       "      <td>2017</td>\n",
       "    </tr>\n",
       "  </tbody>\n",
       "</table>\n",
       "</div>"
      ],
      "text/plain": [
       "           date                  team1                 team2  \\\n",
       "308  2015-04-27           Punjab Kings   Sunrisers Hyderabad   \n",
       "956  2023-04-22         Gujarat Titans  Lucknow Super Giants   \n",
       "675  2023-05-17         Delhi Capitals          Punjab Kings   \n",
       "312  2018-04-14  Kolkata Knight Riders   Sunrisers Hyderabad   \n",
       "928  2017-04-28           Punjab Kings   Sunrisers Hyderabad   \n",
       "\n",
       "                 outcome event  season  \n",
       "308  Sunrisers Hyderabad    27    2015  \n",
       "956       Gujarat Titans    30    2023  \n",
       "675       Delhi Capitals    64    2023  \n",
       "312  Sunrisers Hyderabad    10    2018  \n",
       "928  Sunrisers Hyderabad    33    2017  "
      ]
     },
     "execution_count": 45,
     "metadata": {},
     "output_type": "execute_result"
    }
   ],
   "source": [
    "df.sample(5)"
   ]
  },
  {
   "cell_type": "code",
   "execution_count": 46,
   "metadata": {},
   "outputs": [],
   "source": [
    "playoffEvents = set()\n",
    "for _ in list(df['event'].unique()):\n",
    "    try:\n",
    "        int(_)\n",
    "    except Exception as error:\n",
    "        playoffEvents.add(_)\n",
    "playoffEvents=list(playoffEvents)\n",
    "\n",
    "def assign_points(row, playoffEvents):\n",
    "    if row['event'] in playoffEvents:\n",
    "\n",
    "        return (0,0)\n",
    "\n",
    "    if row['outcome'] == row['team1']:\n",
    "        return (2, 0)\n",
    "    else:\n",
    "        return (0, 2)\n",
    "\n",
    "# Apply the function to each row\n",
    "df['pointsTeam1'], df['pointsTeam2'] = zip(*df.apply(assign_points, playoffEvents=playoffEvents, axis=1))\n"
   ]
  },
  {
   "cell_type": "code",
   "execution_count": 47,
   "metadata": {},
   "outputs": [],
   "source": [
    "df_team1 = df[['team1', 'season', 'event','pointsTeam1']].rename(columns={'team1': 'team', 'pointsTeam1': 'points'})\n",
    "df_team2 = df[['team2', 'season', 'event','pointsTeam2']].rename(columns={'team2': 'team', 'pointsTeam2': 'points'})\n",
    "\n",
    "# Concatenate both DataFrames\n",
    "dfCombined = pd.concat([df_team1, df_team2])\n",
    "\n",
    "# Group by teamName and season, then sum the points\n",
    "dfPointsAllTime = dfCombined.groupby(['team']).agg(points=('points','sum')).reset_index()\n",
    "dfPointsSeason = dfCombined.groupby(['team','season']).agg(points=('points','sum')).reset_index()"
   ]
  },
  {
   "cell_type": "markdown",
   "metadata": {},
   "source": [
    "### Elo Rating Update Formula\n",
    "\n",
    "The Elo rating is updated after each game based on the game outcome. The new rating  R'  is calculated using the formula:\n",
    "\n",
    "$$\n",
    "R' = R + K \\times (S - E)\n",
    "$$\n",
    "\n",
    "Where:\n",
    "-  R  is the current rating.\n",
    "-  R'  is the new rating.\n",
    "-  K  is the K-factor, which determines the maximum possible change in rating.\n",
    "-  S  is the score of the game (1 for a win, 0.5 for a draw, and 0 for a loss).\n",
    "-  E  is the expected score.\n",
    "\n",
    "### Expected Score Formula\n",
    "\n",
    "The expected score  E  of a player/team is calculated using the formula:\n",
    "\n",
    "$$\n",
    "E = \\frac{1}{1 + 10^{(R_{\\text{opponent}} - R) / 400}}\n",
    "$$\n",
    "\n",
    "Where:\n",
    "-  R  is the player's/team's current rating.\n",
    "-  R<sub>opponent</sub>  is the opponent's rating.\n",
    "\n",
    "These formulas are used to calculate and update Elo ratings based on match outcomes, taking into account the relative strength of the opponents as indicated by their current ratings.\n"
   ]
  },
  {
   "cell_type": "code",
   "execution_count": 48,
   "metadata": {},
   "outputs": [],
   "source": [
    "def expectedScore(ratingA, ratingB):\n",
    "    return 1 / (1 + 10 ** ((ratingB - ratingA) / 400))"
   ]
  },
  {
   "cell_type": "markdown",
   "metadata": {},
   "source": [
    "Notes in update elo rating:\n",
    "- teams with a relative low elo rating (difference of > 25) are rewarded with a higher k Factor\n",
    "- league matches are given low kFactor while playoff matches are given a higher K factor"
   ]
  },
  {
   "cell_type": "code",
   "execution_count": 52,
   "metadata": {},
   "outputs": [],
   "source": [
    "def updateElo(ratingA, ratingB, outcome, baseKFactor):\n",
    "    # Calculate the rating difference\n",
    "    ratingDiff = abs(ratingA - ratingB)\n",
    "\n",
    "    if ratingDiff > 25:  \n",
    "        kFactor = baseKFactor + 10  \n",
    "    else:\n",
    "        kFactor = baseKFactor\n",
    "\n",
    "    expectedA = expectedScore(ratingA, ratingB)\n",
    "    expectedB = expectedScore(ratingB, ratingA)\n",
    "\n",
    "    if outcome == 'win':\n",
    "        scoreA = 1\n",
    "        scoreB = 0\n",
    "    elif outcome == 'tie':\n",
    "        scoreA = 0.5\n",
    "        scoreB = 0.5\n",
    "    else:  # no_result\n",
    "        # No change in ratings for no result\n",
    "        return ratingA, ratingB\n",
    "\n",
    "    newRatingA = ratingA + kFactor * (scoreA - expectedA)\n",
    "    newRatingB = ratingB + kFactor * (scoreB - expectedB)\n",
    "\n",
    "    return round(newRatingA, 3), round(newRatingB, 3)"
   ]
  },
  {
   "cell_type": "markdown",
   "metadata": {},
   "source": [
    "- Iterate over each row of the dataframe and calculate the elo rating after each match\n",
    "- Create a Dictionary to keep track of current elo ratings of a team and create an empty list to keep track of elo rating of team by date"
   ]
  },
  {
   "cell_type": "code",
   "execution_count": 53,
   "metadata": {},
   "outputs": [],
   "source": [
    "currentElo = {team: 1000 for team in set(df['team1']).union(set(df['team2']))} # dictionary to keep track of current elo rating of each team\n",
    "eloRatingMatch = [] # list of keeping track of match by match data of each team\n",
    "matchCount = {team: 0 for team in set(df['team1']).union(set(df['team2']))} # dictionary to have a count of overall matches played by each team\n",
    "winCount = {team: 0 for team in set(df['team1']).union(set(df['team2']))} # dictionary to have a count of overall matches won by each team\n",
    "tieCount = {team: 0 for team in set(df['team1']).union(set(df['team2']))}# dictionary to have a count of overall ties played by each team\n",
    "\n",
    "playoffMatches = ['Qualifier 2','Qualifier 1','3rd Place Play-Off','Semi Final','Eliminator','Elimination Final','Final']\n",
    "seasonData = {k:{team: 0 for team in set(df['team1']).union(set(df['team2']))} for k in df.season.unique()} #dictionary to keep track of seasonwise elo rating of teams\n",
    "seasonMatches = {k:{team: 0 for team in set(df['team1']).union(set(df['team2']))} for k in df.season.unique()} # dictionary to have a count of seasonwise matches played by each team\n",
    "seasonWins = {k:{team: 0 for team in set(df['team1']).union(set(df['team2']))} for k in df.season.unique()} # dictionary to have a count of seasonwise matches won by each team\n",
    "seasonTies = {k:{team: 0 for team in set(df['team1']).union(set(df['team2']))} for k in df.season.unique()} # dictionary to have a count of seasonwise matches tied by each team\n",
    "\n",
    "for index, row in df.iterrows():\n",
    "    date = row['date']\n",
    "    team1 = row['team1']\n",
    "    team2 = row['team2']\n",
    "    winner = row['outcome']\n",
    "    season = row['season']\n",
    "    event = row['event']\n",
    "    outcome = 'win' if row['outcome'] == team1 else 'tie' if row['outcome'] == 'tie' else 'no_result'\n",
    "\n",
    "    #updating match played\n",
    "    matchCount[team1] += 1\n",
    "    matchCount[team2] += 1\n",
    "    seasonMatches[season][team1] +=1\n",
    "    seasonMatches[season][team2] +=1\n",
    "    # Update win counts\n",
    "    if winner == team1:\n",
    "        winCount[team1] += 1\n",
    "        seasonWins[season][team1] +=1\n",
    "    elif winner == team2:\n",
    "        winCount[team2] += 1\n",
    "        seasonWins[season][team2] +=1\n",
    "    elif winner == 'tie':\n",
    "        tieCount[team1] +=1\n",
    "        tieCount[team2] += 1\n",
    "        seasonTies[season][team2] +=1\n",
    "        seasonTies[season][team1] +=1\n",
    "    \n",
    "    # Update Elo ratings\n",
    "    kFactor = 30\n",
    "    if event in playoffMatches:\n",
    "        kFactor = 40\n",
    "    newEloTeam1, newEloTeam2 = updateElo(currentElo[team1], currentElo[team2], outcome,kFactor)\n",
    "\n",
    "    eloRatingMatch.append((matchCount[team1], team1, newEloTeam1,season))\n",
    "    eloRatingMatch.append((matchCount[team2], team2, newEloTeam2,season))\n",
    "\n",
    "    # Set new Elo ratings in the DataFrame\n",
    "    df.at[index, 'eloTeam1'] = newEloTeam1\n",
    "    df.at[index, 'eloTeam2'] = newEloTeam2\n",
    "\n",
    "    # Update current Elo ratings\n",
    "    currentElo[team1] = newEloTeam1\n",
    "    currentElo[team2] = newEloTeam2\n",
    "    #update season Elo Ratings\n",
    "    seasonData[season][team1] = newEloTeam1\n",
    "    seasonData[season][team2] = newEloTeam2"
   ]
  },
  {
   "cell_type": "markdown",
   "metadata": {},
   "source": [
    "#### Current Elo Ratings of Each Team that has participated in IPL"
   ]
  },
  {
   "cell_type": "code",
   "execution_count": 54,
   "metadata": {},
   "outputs": [
    {
     "data": {
      "text/html": [
       "<div>\n",
       "<style scoped>\n",
       "    .dataframe tbody tr th:only-of-type {\n",
       "        vertical-align: middle;\n",
       "    }\n",
       "\n",
       "    .dataframe tbody tr th {\n",
       "        vertical-align: top;\n",
       "    }\n",
       "\n",
       "    .dataframe thead th {\n",
       "        text-align: right;\n",
       "    }\n",
       "</style>\n",
       "<table border=\"1\" class=\"dataframe\">\n",
       "  <thead>\n",
       "    <tr style=\"text-align: right;\">\n",
       "      <th></th>\n",
       "      <th>team</th>\n",
       "      <th>eloRating</th>\n",
       "      <th>totalMatches</th>\n",
       "      <th>wins</th>\n",
       "      <th>ties</th>\n",
       "      <th>winRatio</th>\n",
       "    </tr>\n",
       "  </thead>\n",
       "  <tbody>\n",
       "    <tr>\n",
       "      <th>0</th>\n",
       "      <td>Chennai Super Kings</td>\n",
       "      <td>1139.050</td>\n",
       "      <td>224</td>\n",
       "      <td>131</td>\n",
       "      <td>1</td>\n",
       "      <td>0.585</td>\n",
       "    </tr>\n",
       "    <tr>\n",
       "      <th>1</th>\n",
       "      <td>Royal Challengers Bangalore</td>\n",
       "      <td>1116.023</td>\n",
       "      <td>240</td>\n",
       "      <td>114</td>\n",
       "      <td>3</td>\n",
       "      <td>0.475</td>\n",
       "    </tr>\n",
       "    <tr>\n",
       "      <th>2</th>\n",
       "      <td>Gujarat Titans</td>\n",
       "      <td>1084.687</td>\n",
       "      <td>33</td>\n",
       "      <td>23</td>\n",
       "      <td>0</td>\n",
       "      <td>0.697</td>\n",
       "    </tr>\n",
       "    <tr>\n",
       "      <th>3</th>\n",
       "      <td>Mumbai Indians</td>\n",
       "      <td>1057.100</td>\n",
       "      <td>247</td>\n",
       "      <td>138</td>\n",
       "      <td>4</td>\n",
       "      <td>0.559</td>\n",
       "    </tr>\n",
       "    <tr>\n",
       "      <th>4</th>\n",
       "      <td>Punjab Kings</td>\n",
       "      <td>1044.234</td>\n",
       "      <td>232</td>\n",
       "      <td>104</td>\n",
       "      <td>4</td>\n",
       "      <td>0.448</td>\n",
       "    </tr>\n",
       "    <tr>\n",
       "      <th>5</th>\n",
       "      <td>Lucknow Super Giants</td>\n",
       "      <td>1017.219</td>\n",
       "      <td>30</td>\n",
       "      <td>17</td>\n",
       "      <td>0</td>\n",
       "      <td>0.567</td>\n",
       "    </tr>\n",
       "    <tr>\n",
       "      <th>6</th>\n",
       "      <td>Delhi Capitals</td>\n",
       "      <td>996.838</td>\n",
       "      <td>238</td>\n",
       "      <td>105</td>\n",
       "      <td>4</td>\n",
       "      <td>0.441</td>\n",
       "    </tr>\n",
       "    <tr>\n",
       "      <th>7</th>\n",
       "      <td>Gujarat Lions</td>\n",
       "      <td>991.245</td>\n",
       "      <td>30</td>\n",
       "      <td>13</td>\n",
       "      <td>1</td>\n",
       "      <td>0.433</td>\n",
       "    </tr>\n",
       "    <tr>\n",
       "      <th>8</th>\n",
       "      <td>Rising Pune Supergiants</td>\n",
       "      <td>980.733</td>\n",
       "      <td>30</td>\n",
       "      <td>15</td>\n",
       "      <td>0</td>\n",
       "      <td>0.500</td>\n",
       "    </tr>\n",
       "    <tr>\n",
       "      <th>9</th>\n",
       "      <td>Rajasthan Royals</td>\n",
       "      <td>976.936</td>\n",
       "      <td>206</td>\n",
       "      <td>101</td>\n",
       "      <td>3</td>\n",
       "      <td>0.490</td>\n",
       "    </tr>\n",
       "    <tr>\n",
       "      <th>10</th>\n",
       "      <td>Kochi Tuskers Kerala</td>\n",
       "      <td>962.662</td>\n",
       "      <td>14</td>\n",
       "      <td>6</td>\n",
       "      <td>0</td>\n",
       "      <td>0.429</td>\n",
       "    </tr>\n",
       "    <tr>\n",
       "      <th>11</th>\n",
       "      <td>Kolkata Knight Riders</td>\n",
       "      <td>944.597</td>\n",
       "      <td>237</td>\n",
       "      <td>119</td>\n",
       "      <td>4</td>\n",
       "      <td>0.502</td>\n",
       "    </tr>\n",
       "    <tr>\n",
       "      <th>12</th>\n",
       "      <td>Sunrisers Hyderabad</td>\n",
       "      <td>901.560</td>\n",
       "      <td>166</td>\n",
       "      <td>78</td>\n",
       "      <td>4</td>\n",
       "      <td>0.470</td>\n",
       "    </tr>\n",
       "    <tr>\n",
       "      <th>13</th>\n",
       "      <td>Pune Warriors</td>\n",
       "      <td>900.063</td>\n",
       "      <td>46</td>\n",
       "      <td>12</td>\n",
       "      <td>0</td>\n",
       "      <td>0.261</td>\n",
       "    </tr>\n",
       "    <tr>\n",
       "      <th>14</th>\n",
       "      <td>Deccan Chargers</td>\n",
       "      <td>887.053</td>\n",
       "      <td>75</td>\n",
       "      <td>29</td>\n",
       "      <td>0</td>\n",
       "      <td>0.387</td>\n",
       "    </tr>\n",
       "  </tbody>\n",
       "</table>\n",
       "</div>"
      ],
      "text/plain": [
       "                           team  eloRating  totalMatches  wins  ties  winRatio\n",
       "0           Chennai Super Kings   1139.050           224   131     1     0.585\n",
       "1   Royal Challengers Bangalore   1116.023           240   114     3     0.475\n",
       "2                Gujarat Titans   1084.687            33    23     0     0.697\n",
       "3                Mumbai Indians   1057.100           247   138     4     0.559\n",
       "4                  Punjab Kings   1044.234           232   104     4     0.448\n",
       "5          Lucknow Super Giants   1017.219            30    17     0     0.567\n",
       "6                Delhi Capitals    996.838           238   105     4     0.441\n",
       "7                 Gujarat Lions    991.245            30    13     1     0.433\n",
       "8       Rising Pune Supergiants    980.733            30    15     0     0.500\n",
       "9              Rajasthan Royals    976.936           206   101     3     0.490\n",
       "10         Kochi Tuskers Kerala    962.662            14     6     0     0.429\n",
       "11        Kolkata Knight Riders    944.597           237   119     4     0.502\n",
       "12          Sunrisers Hyderabad    901.560           166    78     4     0.470\n",
       "13                Pune Warriors    900.063            46    12     0     0.261\n",
       "14              Deccan Chargers    887.053            75    29     0     0.387"
      ]
     },
     "metadata": {},
     "output_type": "display_data"
    }
   ],
   "source": [
    "eloData = list(currentElo.items())\n",
    "eloDf = pd.DataFrame(eloData, columns=['team', 'eloRating'])\n",
    "eloDf.sort_values('eloRating',ascending=False,inplace=True)\n",
    "eloDf.reset_index(inplace=True,drop=True)\n",
    "eloDf['totalMatches'] = eloDf['team'].map(matchCount)\n",
    "eloDf['wins'] = eloDf['team'].map(winCount)\n",
    "eloDf['ties'] = eloDf['team'].map(tieCount)\n",
    "eloDf['winRatio'] = round(eloDf['wins'] / eloDf['totalMatches'],3) \n",
    "display(eloDf)"
   ]
  },
  {
   "cell_type": "markdown",
   "metadata": {},
   "source": [
    "Calculating win loss ratio, total Loss, and points scored in all seasons"
   ]
  },
  {
   "cell_type": "code",
   "execution_count": 55,
   "metadata": {},
   "outputs": [
    {
     "data": {
      "text/html": [
       "<div>\n",
       "<style scoped>\n",
       "    .dataframe tbody tr th:only-of-type {\n",
       "        vertical-align: middle;\n",
       "    }\n",
       "\n",
       "    .dataframe tbody tr th {\n",
       "        vertical-align: top;\n",
       "    }\n",
       "\n",
       "    .dataframe thead th {\n",
       "        text-align: right;\n",
       "    }\n",
       "</style>\n",
       "<table border=\"1\" class=\"dataframe\">\n",
       "  <thead>\n",
       "    <tr style=\"text-align: right;\">\n",
       "      <th></th>\n",
       "      <th>team</th>\n",
       "      <th>eloRating</th>\n",
       "      <th>totalMatches</th>\n",
       "      <th>wins</th>\n",
       "      <th>ties</th>\n",
       "      <th>winRatio</th>\n",
       "      <th>points</th>\n",
       "      <th>loss</th>\n",
       "      <th>winLossRatio</th>\n",
       "    </tr>\n",
       "  </thead>\n",
       "  <tbody>\n",
       "    <tr>\n",
       "      <th>0</th>\n",
       "      <td>Chennai Super Kings</td>\n",
       "      <td>1139.050</td>\n",
       "      <td>224</td>\n",
       "      <td>131</td>\n",
       "      <td>1</td>\n",
       "      <td>0.585</td>\n",
       "      <td>230</td>\n",
       "      <td>92</td>\n",
       "      <td>1.423913</td>\n",
       "    </tr>\n",
       "    <tr>\n",
       "      <th>1</th>\n",
       "      <td>Royal Challengers Bangalore</td>\n",
       "      <td>1116.023</td>\n",
       "      <td>240</td>\n",
       "      <td>114</td>\n",
       "      <td>3</td>\n",
       "      <td>0.475</td>\n",
       "      <td>218</td>\n",
       "      <td>123</td>\n",
       "      <td>0.926829</td>\n",
       "    </tr>\n",
       "    <tr>\n",
       "      <th>2</th>\n",
       "      <td>Gujarat Titans</td>\n",
       "      <td>1084.687</td>\n",
       "      <td>33</td>\n",
       "      <td>23</td>\n",
       "      <td>0</td>\n",
       "      <td>0.697</td>\n",
       "      <td>40</td>\n",
       "      <td>10</td>\n",
       "      <td>2.300000</td>\n",
       "    </tr>\n",
       "    <tr>\n",
       "      <th>3</th>\n",
       "      <td>Mumbai Indians</td>\n",
       "      <td>1057.100</td>\n",
       "      <td>247</td>\n",
       "      <td>138</td>\n",
       "      <td>4</td>\n",
       "      <td>0.559</td>\n",
       "      <td>254</td>\n",
       "      <td>105</td>\n",
       "      <td>1.314286</td>\n",
       "    </tr>\n",
       "    <tr>\n",
       "      <th>4</th>\n",
       "      <td>Punjab Kings</td>\n",
       "      <td>1044.234</td>\n",
       "      <td>232</td>\n",
       "      <td>104</td>\n",
       "      <td>4</td>\n",
       "      <td>0.448</td>\n",
       "      <td>214</td>\n",
       "      <td>124</td>\n",
       "      <td>0.838710</td>\n",
       "    </tr>\n",
       "    <tr>\n",
       "      <th>5</th>\n",
       "      <td>Lucknow Super Giants</td>\n",
       "      <td>1017.219</td>\n",
       "      <td>30</td>\n",
       "      <td>17</td>\n",
       "      <td>0</td>\n",
       "      <td>0.567</td>\n",
       "      <td>34</td>\n",
       "      <td>13</td>\n",
       "      <td>1.307692</td>\n",
       "    </tr>\n",
       "    <tr>\n",
       "      <th>6</th>\n",
       "      <td>Delhi Capitals</td>\n",
       "      <td>996.838</td>\n",
       "      <td>238</td>\n",
       "      <td>105</td>\n",
       "      <td>4</td>\n",
       "      <td>0.441</td>\n",
       "      <td>212</td>\n",
       "      <td>129</td>\n",
       "      <td>0.813953</td>\n",
       "    </tr>\n",
       "    <tr>\n",
       "      <th>7</th>\n",
       "      <td>Gujarat Lions</td>\n",
       "      <td>991.245</td>\n",
       "      <td>30</td>\n",
       "      <td>13</td>\n",
       "      <td>1</td>\n",
       "      <td>0.433</td>\n",
       "      <td>26</td>\n",
       "      <td>16</td>\n",
       "      <td>0.812500</td>\n",
       "    </tr>\n",
       "    <tr>\n",
       "      <th>8</th>\n",
       "      <td>Rising Pune Supergiants</td>\n",
       "      <td>980.733</td>\n",
       "      <td>30</td>\n",
       "      <td>15</td>\n",
       "      <td>0</td>\n",
       "      <td>0.500</td>\n",
       "      <td>28</td>\n",
       "      <td>15</td>\n",
       "      <td>1.000000</td>\n",
       "    </tr>\n",
       "    <tr>\n",
       "      <th>9</th>\n",
       "      <td>Rajasthan Royals</td>\n",
       "      <td>976.936</td>\n",
       "      <td>206</td>\n",
       "      <td>101</td>\n",
       "      <td>3</td>\n",
       "      <td>0.490</td>\n",
       "      <td>202</td>\n",
       "      <td>102</td>\n",
       "      <td>0.990196</td>\n",
       "    </tr>\n",
       "    <tr>\n",
       "      <th>10</th>\n",
       "      <td>Kochi Tuskers Kerala</td>\n",
       "      <td>962.662</td>\n",
       "      <td>14</td>\n",
       "      <td>6</td>\n",
       "      <td>0</td>\n",
       "      <td>0.429</td>\n",
       "      <td>12</td>\n",
       "      <td>8</td>\n",
       "      <td>0.750000</td>\n",
       "    </tr>\n",
       "    <tr>\n",
       "      <th>11</th>\n",
       "      <td>Kolkata Knight Riders</td>\n",
       "      <td>944.597</td>\n",
       "      <td>237</td>\n",
       "      <td>119</td>\n",
       "      <td>4</td>\n",
       "      <td>0.502</td>\n",
       "      <td>222</td>\n",
       "      <td>114</td>\n",
       "      <td>1.043860</td>\n",
       "    </tr>\n",
       "    <tr>\n",
       "      <th>12</th>\n",
       "      <td>Sunrisers Hyderabad</td>\n",
       "      <td>901.560</td>\n",
       "      <td>166</td>\n",
       "      <td>78</td>\n",
       "      <td>4</td>\n",
       "      <td>0.470</td>\n",
       "      <td>152</td>\n",
       "      <td>84</td>\n",
       "      <td>0.928571</td>\n",
       "    </tr>\n",
       "    <tr>\n",
       "      <th>13</th>\n",
       "      <td>Pune Warriors</td>\n",
       "      <td>900.063</td>\n",
       "      <td>46</td>\n",
       "      <td>12</td>\n",
       "      <td>0</td>\n",
       "      <td>0.261</td>\n",
       "      <td>26</td>\n",
       "      <td>34</td>\n",
       "      <td>0.352941</td>\n",
       "    </tr>\n",
       "    <tr>\n",
       "      <th>14</th>\n",
       "      <td>Deccan Chargers</td>\n",
       "      <td>887.053</td>\n",
       "      <td>75</td>\n",
       "      <td>29</td>\n",
       "      <td>0</td>\n",
       "      <td>0.387</td>\n",
       "      <td>54</td>\n",
       "      <td>46</td>\n",
       "      <td>0.630435</td>\n",
       "    </tr>\n",
       "  </tbody>\n",
       "</table>\n",
       "</div>"
      ],
      "text/plain": [
       "                           team  eloRating  totalMatches  wins  ties  \\\n",
       "0           Chennai Super Kings   1139.050           224   131     1   \n",
       "1   Royal Challengers Bangalore   1116.023           240   114     3   \n",
       "2                Gujarat Titans   1084.687            33    23     0   \n",
       "3                Mumbai Indians   1057.100           247   138     4   \n",
       "4                  Punjab Kings   1044.234           232   104     4   \n",
       "5          Lucknow Super Giants   1017.219            30    17     0   \n",
       "6                Delhi Capitals    996.838           238   105     4   \n",
       "7                 Gujarat Lions    991.245            30    13     1   \n",
       "8       Rising Pune Supergiants    980.733            30    15     0   \n",
       "9              Rajasthan Royals    976.936           206   101     3   \n",
       "10         Kochi Tuskers Kerala    962.662            14     6     0   \n",
       "11        Kolkata Knight Riders    944.597           237   119     4   \n",
       "12          Sunrisers Hyderabad    901.560           166    78     4   \n",
       "13                Pune Warriors    900.063            46    12     0   \n",
       "14              Deccan Chargers    887.053            75    29     0   \n",
       "\n",
       "    winRatio  points  loss  winLossRatio  \n",
       "0      0.585     230    92      1.423913  \n",
       "1      0.475     218   123      0.926829  \n",
       "2      0.697      40    10      2.300000  \n",
       "3      0.559     254   105      1.314286  \n",
       "4      0.448     214   124      0.838710  \n",
       "5      0.567      34    13      1.307692  \n",
       "6      0.441     212   129      0.813953  \n",
       "7      0.433      26    16      0.812500  \n",
       "8      0.500      28    15      1.000000  \n",
       "9      0.490     202   102      0.990196  \n",
       "10     0.429      12     8      0.750000  \n",
       "11     0.502     222   114      1.043860  \n",
       "12     0.470     152    84      0.928571  \n",
       "13     0.261      26    34      0.352941  \n",
       "14     0.387      54    46      0.630435  "
      ]
     },
     "execution_count": 55,
     "metadata": {},
     "output_type": "execute_result"
    }
   ],
   "source": [
    "eloDf = pd.merge(eloDf,dfPointsAllTime)\n",
    "eloDf['loss'] = eloDf['totalMatches'] - (eloDf['wins'] + eloDf['ties'])\n",
    "eloDf['winLossRatio'] = eloDf['wins'] / (eloDf['loss'])\n",
    "eloDf"
   ]
  },
  {
   "cell_type": "code",
   "execution_count": 56,
   "metadata": {},
   "outputs": [],
   "source": [
    "teams = list(eloDf.team.unique())\n",
    "\n",
    "inactiveTeams = ['Gujarat Lions','Deccan Chargers','Kochi Tuskers Kerala','Rising Pune Supergiants','Pune Warriors']\n",
    "grayCodes = ['#404040','#585858','#585858','#707070','#888888','#A0A0A0']\n",
    "\n",
    "colorScale = zip(inactiveTeams,grayCodes)\n",
    "colorScale = dict(colorScale)\n",
    "\n",
    "color_scale = {\n",
    "    'Team1': '#1f77b4', 'Team2': '#ff7f0e', 'Team3': '#2ca02c',\n",
    "    'Team4': '#d62728', 'Team5': '#9467bd', 'Team6': '#8c564b',\n",
    "    'Team7': '#e377c2', 'Team8': '#fc6ab5', 'Team9': '#bcbd22',\n",
    "    'Team10': '#17becf', 'Team11': '#1f77b4', 'Team12': '#ff7f0e',\n",
    "}\n",
    "\n",
    "\n",
    "colors = list(color_scale.values())\n",
    "count = 0\n",
    "for team in teams:\n",
    "    if team not in inactiveTeams:\n",
    "        colorScale[team] = colors[count]\n",
    "        count +=1\n"
   ]
  },
  {
   "cell_type": "code",
   "execution_count": 57,
   "metadata": {},
   "outputs": [
    {
     "data": {
      "application/vnd.plotly.v1+json": {
       "config": {
        "plotlyServerURL": "https://plot.ly"
       },
       "data": [
        {
         "marker": {
          "color": [
           "#1f77b4",
           "#ff7f0e",
           "#2ca02c",
           "#d62728",
           "#9467bd",
           "#8c564b",
           "#e377c2",
           "#404040",
           "#707070",
           "#fc6ab5",
           "#585858",
           "#bcbd22",
           "#17becf",
           "#888888",
           "#585858"
          ]
         },
         "name": "Elo Rating",
         "type": "bar",
         "x": [
          "Chennai Super Kings",
          "Royal Challengers Bangalore",
          "Gujarat Titans",
          "Mumbai Indians",
          "Punjab Kings",
          "Lucknow Super Giants",
          "Delhi Capitals",
          "Gujarat Lions",
          "Rising Pune Supergiants",
          "Rajasthan Royals",
          "Kochi Tuskers Kerala",
          "Kolkata Knight Riders",
          "Sunrisers Hyderabad",
          "Pune Warriors",
          "Deccan Chargers"
         ],
         "y": [
          1139.05,
          1116.023,
          1084.687,
          1057.1,
          1044.234,
          1017.219,
          996.838,
          991.245,
          980.733,
          976.936,
          962.662,
          944.597,
          901.56,
          900.063,
          887.053
         ]
        },
        {
         "marker": {
          "color": "black",
          "size": 10
         },
         "mode": "markers",
         "name": "Points",
         "type": "scatter",
         "x": [
          "Chennai Super Kings",
          "Royal Challengers Bangalore",
          "Gujarat Titans",
          "Mumbai Indians",
          "Punjab Kings",
          "Lucknow Super Giants",
          "Delhi Capitals",
          "Gujarat Lions",
          "Rising Pune Supergiants",
          "Rajasthan Royals",
          "Kochi Tuskers Kerala",
          "Kolkata Knight Riders",
          "Sunrisers Hyderabad",
          "Pune Warriors",
          "Deccan Chargers"
         ],
         "y": [
          230,
          218,
          40,
          254,
          214,
          34,
          212,
          26,
          28,
          202,
          12,
          222,
          152,
          26,
          54
         ]
        }
       ],
       "layout": {
        "annotations": [
         {
          "font": {
           "color": "black",
           "size": 12
          },
          "showarrow": false,
          "text": "230",
          "x": "Chennai Super Kings",
          "y": 280
         },
         {
          "font": {
           "color": "black",
           "size": 10
          },
          "showarrow": false,
          "text": "1139.050",
          "x": "Chennai Super Kings",
          "y": 1114.05
         },
         {
          "font": {
           "color": "black",
           "size": 12
          },
          "showarrow": false,
          "text": "218",
          "x": "Royal Challengers Bangalore",
          "y": 268
         },
         {
          "font": {
           "color": "black",
           "size": 10
          },
          "showarrow": false,
          "text": "1116.023",
          "x": "Royal Challengers Bangalore",
          "y": 1091.023
         },
         {
          "font": {
           "color": "black",
           "size": 12
          },
          "showarrow": false,
          "text": "40",
          "x": "Gujarat Titans",
          "y": 90
         },
         {
          "font": {
           "color": "black",
           "size": 10
          },
          "showarrow": false,
          "text": "1084.687",
          "x": "Gujarat Titans",
          "y": 1059.687
         },
         {
          "font": {
           "color": "black",
           "size": 12
          },
          "showarrow": false,
          "text": "254",
          "x": "Mumbai Indians",
          "y": 304
         },
         {
          "font": {
           "color": "black",
           "size": 10
          },
          "showarrow": false,
          "text": "1057.100",
          "x": "Mumbai Indians",
          "y": 1032.1
         },
         {
          "font": {
           "color": "black",
           "size": 12
          },
          "showarrow": false,
          "text": "214",
          "x": "Punjab Kings",
          "y": 264
         },
         {
          "font": {
           "color": "black",
           "size": 10
          },
          "showarrow": false,
          "text": "1044.234",
          "x": "Punjab Kings",
          "y": 1019.2339999999999
         },
         {
          "font": {
           "color": "black",
           "size": 12
          },
          "showarrow": false,
          "text": "34",
          "x": "Lucknow Super Giants",
          "y": 84
         },
         {
          "font": {
           "color": "black",
           "size": 10
          },
          "showarrow": false,
          "text": "1017.219",
          "x": "Lucknow Super Giants",
          "y": 992.219
         },
         {
          "font": {
           "color": "black",
           "size": 12
          },
          "showarrow": false,
          "text": "212",
          "x": "Delhi Capitals",
          "y": 262
         },
         {
          "font": {
           "color": "black",
           "size": 10
          },
          "showarrow": false,
          "text": "996.838",
          "x": "Delhi Capitals",
          "y": 971.838
         },
         {
          "font": {
           "color": "black",
           "size": 12
          },
          "showarrow": false,
          "text": "26",
          "x": "Gujarat Lions",
          "y": 76
         },
         {
          "font": {
           "color": "black",
           "size": 10
          },
          "showarrow": false,
          "text": "991.245",
          "x": "Gujarat Lions",
          "y": 966.245
         },
         {
          "font": {
           "color": "black",
           "size": 12
          },
          "showarrow": false,
          "text": "28",
          "x": "Rising Pune Supergiants",
          "y": 78
         },
         {
          "font": {
           "color": "black",
           "size": 10
          },
          "showarrow": false,
          "text": "980.733",
          "x": "Rising Pune Supergiants",
          "y": 955.733
         },
         {
          "font": {
           "color": "black",
           "size": 12
          },
          "showarrow": false,
          "text": "202",
          "x": "Rajasthan Royals",
          "y": 252
         },
         {
          "font": {
           "color": "black",
           "size": 10
          },
          "showarrow": false,
          "text": "976.936",
          "x": "Rajasthan Royals",
          "y": 951.936
         },
         {
          "font": {
           "color": "black",
           "size": 12
          },
          "showarrow": false,
          "text": "12",
          "x": "Kochi Tuskers Kerala",
          "y": 62
         },
         {
          "font": {
           "color": "black",
           "size": 10
          },
          "showarrow": false,
          "text": "962.662",
          "x": "Kochi Tuskers Kerala",
          "y": 937.662
         },
         {
          "font": {
           "color": "black",
           "size": 12
          },
          "showarrow": false,
          "text": "222",
          "x": "Kolkata Knight Riders",
          "y": 272
         },
         {
          "font": {
           "color": "black",
           "size": 10
          },
          "showarrow": false,
          "text": "944.597",
          "x": "Kolkata Knight Riders",
          "y": 919.597
         },
         {
          "font": {
           "color": "black",
           "size": 12
          },
          "showarrow": false,
          "text": "152",
          "x": "Sunrisers Hyderabad",
          "y": 202
         },
         {
          "font": {
           "color": "black",
           "size": 10
          },
          "showarrow": false,
          "text": "901.560",
          "x": "Sunrisers Hyderabad",
          "y": 876.56
         },
         {
          "font": {
           "color": "black",
           "size": 12
          },
          "showarrow": false,
          "text": "26",
          "x": "Pune Warriors",
          "y": 76
         },
         {
          "font": {
           "color": "black",
           "size": 10
          },
          "showarrow": false,
          "text": "900.063",
          "x": "Pune Warriors",
          "y": 875.063
         },
         {
          "font": {
           "color": "black",
           "size": 12
          },
          "showarrow": false,
          "text": "54",
          "x": "Deccan Chargers",
          "y": 104
         },
         {
          "font": {
           "color": "black",
           "size": 10
          },
          "showarrow": false,
          "text": "887.053",
          "x": "Deccan Chargers",
          "y": 862.053
         }
        ],
        "height": 600,
        "legend": {
         "title": {
          "text": "Metric"
         },
         "x": 1,
         "y": 1
        },
        "template": {
         "data": {
          "bar": [
           {
            "error_x": {
             "color": "#2a3f5f"
            },
            "error_y": {
             "color": "#2a3f5f"
            },
            "marker": {
             "line": {
              "color": "#E5ECF6",
              "width": 0.5
             },
             "pattern": {
              "fillmode": "overlay",
              "size": 10,
              "solidity": 0.2
             }
            },
            "type": "bar"
           }
          ],
          "barpolar": [
           {
            "marker": {
             "line": {
              "color": "#E5ECF6",
              "width": 0.5
             },
             "pattern": {
              "fillmode": "overlay",
              "size": 10,
              "solidity": 0.2
             }
            },
            "type": "barpolar"
           }
          ],
          "carpet": [
           {
            "aaxis": {
             "endlinecolor": "#2a3f5f",
             "gridcolor": "white",
             "linecolor": "white",
             "minorgridcolor": "white",
             "startlinecolor": "#2a3f5f"
            },
            "baxis": {
             "endlinecolor": "#2a3f5f",
             "gridcolor": "white",
             "linecolor": "white",
             "minorgridcolor": "white",
             "startlinecolor": "#2a3f5f"
            },
            "type": "carpet"
           }
          ],
          "choropleth": [
           {
            "colorbar": {
             "outlinewidth": 0,
             "ticks": ""
            },
            "type": "choropleth"
           }
          ],
          "contour": [
           {
            "colorbar": {
             "outlinewidth": 0,
             "ticks": ""
            },
            "colorscale": [
             [
              0,
              "#0d0887"
             ],
             [
              0.1111111111111111,
              "#46039f"
             ],
             [
              0.2222222222222222,
              "#7201a8"
             ],
             [
              0.3333333333333333,
              "#9c179e"
             ],
             [
              0.4444444444444444,
              "#bd3786"
             ],
             [
              0.5555555555555556,
              "#d8576b"
             ],
             [
              0.6666666666666666,
              "#ed7953"
             ],
             [
              0.7777777777777778,
              "#fb9f3a"
             ],
             [
              0.8888888888888888,
              "#fdca26"
             ],
             [
              1,
              "#f0f921"
             ]
            ],
            "type": "contour"
           }
          ],
          "contourcarpet": [
           {
            "colorbar": {
             "outlinewidth": 0,
             "ticks": ""
            },
            "type": "contourcarpet"
           }
          ],
          "heatmap": [
           {
            "colorbar": {
             "outlinewidth": 0,
             "ticks": ""
            },
            "colorscale": [
             [
              0,
              "#0d0887"
             ],
             [
              0.1111111111111111,
              "#46039f"
             ],
             [
              0.2222222222222222,
              "#7201a8"
             ],
             [
              0.3333333333333333,
              "#9c179e"
             ],
             [
              0.4444444444444444,
              "#bd3786"
             ],
             [
              0.5555555555555556,
              "#d8576b"
             ],
             [
              0.6666666666666666,
              "#ed7953"
             ],
             [
              0.7777777777777778,
              "#fb9f3a"
             ],
             [
              0.8888888888888888,
              "#fdca26"
             ],
             [
              1,
              "#f0f921"
             ]
            ],
            "type": "heatmap"
           }
          ],
          "heatmapgl": [
           {
            "colorbar": {
             "outlinewidth": 0,
             "ticks": ""
            },
            "colorscale": [
             [
              0,
              "#0d0887"
             ],
             [
              0.1111111111111111,
              "#46039f"
             ],
             [
              0.2222222222222222,
              "#7201a8"
             ],
             [
              0.3333333333333333,
              "#9c179e"
             ],
             [
              0.4444444444444444,
              "#bd3786"
             ],
             [
              0.5555555555555556,
              "#d8576b"
             ],
             [
              0.6666666666666666,
              "#ed7953"
             ],
             [
              0.7777777777777778,
              "#fb9f3a"
             ],
             [
              0.8888888888888888,
              "#fdca26"
             ],
             [
              1,
              "#f0f921"
             ]
            ],
            "type": "heatmapgl"
           }
          ],
          "histogram": [
           {
            "marker": {
             "pattern": {
              "fillmode": "overlay",
              "size": 10,
              "solidity": 0.2
             }
            },
            "type": "histogram"
           }
          ],
          "histogram2d": [
           {
            "colorbar": {
             "outlinewidth": 0,
             "ticks": ""
            },
            "colorscale": [
             [
              0,
              "#0d0887"
             ],
             [
              0.1111111111111111,
              "#46039f"
             ],
             [
              0.2222222222222222,
              "#7201a8"
             ],
             [
              0.3333333333333333,
              "#9c179e"
             ],
             [
              0.4444444444444444,
              "#bd3786"
             ],
             [
              0.5555555555555556,
              "#d8576b"
             ],
             [
              0.6666666666666666,
              "#ed7953"
             ],
             [
              0.7777777777777778,
              "#fb9f3a"
             ],
             [
              0.8888888888888888,
              "#fdca26"
             ],
             [
              1,
              "#f0f921"
             ]
            ],
            "type": "histogram2d"
           }
          ],
          "histogram2dcontour": [
           {
            "colorbar": {
             "outlinewidth": 0,
             "ticks": ""
            },
            "colorscale": [
             [
              0,
              "#0d0887"
             ],
             [
              0.1111111111111111,
              "#46039f"
             ],
             [
              0.2222222222222222,
              "#7201a8"
             ],
             [
              0.3333333333333333,
              "#9c179e"
             ],
             [
              0.4444444444444444,
              "#bd3786"
             ],
             [
              0.5555555555555556,
              "#d8576b"
             ],
             [
              0.6666666666666666,
              "#ed7953"
             ],
             [
              0.7777777777777778,
              "#fb9f3a"
             ],
             [
              0.8888888888888888,
              "#fdca26"
             ],
             [
              1,
              "#f0f921"
             ]
            ],
            "type": "histogram2dcontour"
           }
          ],
          "mesh3d": [
           {
            "colorbar": {
             "outlinewidth": 0,
             "ticks": ""
            },
            "type": "mesh3d"
           }
          ],
          "parcoords": [
           {
            "line": {
             "colorbar": {
              "outlinewidth": 0,
              "ticks": ""
             }
            },
            "type": "parcoords"
           }
          ],
          "pie": [
           {
            "automargin": true,
            "type": "pie"
           }
          ],
          "scatter": [
           {
            "fillpattern": {
             "fillmode": "overlay",
             "size": 10,
             "solidity": 0.2
            },
            "type": "scatter"
           }
          ],
          "scatter3d": [
           {
            "line": {
             "colorbar": {
              "outlinewidth": 0,
              "ticks": ""
             }
            },
            "marker": {
             "colorbar": {
              "outlinewidth": 0,
              "ticks": ""
             }
            },
            "type": "scatter3d"
           }
          ],
          "scattercarpet": [
           {
            "marker": {
             "colorbar": {
              "outlinewidth": 0,
              "ticks": ""
             }
            },
            "type": "scattercarpet"
           }
          ],
          "scattergeo": [
           {
            "marker": {
             "colorbar": {
              "outlinewidth": 0,
              "ticks": ""
             }
            },
            "type": "scattergeo"
           }
          ],
          "scattergl": [
           {
            "marker": {
             "colorbar": {
              "outlinewidth": 0,
              "ticks": ""
             }
            },
            "type": "scattergl"
           }
          ],
          "scattermapbox": [
           {
            "marker": {
             "colorbar": {
              "outlinewidth": 0,
              "ticks": ""
             }
            },
            "type": "scattermapbox"
           }
          ],
          "scatterpolar": [
           {
            "marker": {
             "colorbar": {
              "outlinewidth": 0,
              "ticks": ""
             }
            },
            "type": "scatterpolar"
           }
          ],
          "scatterpolargl": [
           {
            "marker": {
             "colorbar": {
              "outlinewidth": 0,
              "ticks": ""
             }
            },
            "type": "scatterpolargl"
           }
          ],
          "scatterternary": [
           {
            "marker": {
             "colorbar": {
              "outlinewidth": 0,
              "ticks": ""
             }
            },
            "type": "scatterternary"
           }
          ],
          "surface": [
           {
            "colorbar": {
             "outlinewidth": 0,
             "ticks": ""
            },
            "colorscale": [
             [
              0,
              "#0d0887"
             ],
             [
              0.1111111111111111,
              "#46039f"
             ],
             [
              0.2222222222222222,
              "#7201a8"
             ],
             [
              0.3333333333333333,
              "#9c179e"
             ],
             [
              0.4444444444444444,
              "#bd3786"
             ],
             [
              0.5555555555555556,
              "#d8576b"
             ],
             [
              0.6666666666666666,
              "#ed7953"
             ],
             [
              0.7777777777777778,
              "#fb9f3a"
             ],
             [
              0.8888888888888888,
              "#fdca26"
             ],
             [
              1,
              "#f0f921"
             ]
            ],
            "type": "surface"
           }
          ],
          "table": [
           {
            "cells": {
             "fill": {
              "color": "#EBF0F8"
             },
             "line": {
              "color": "white"
             }
            },
            "header": {
             "fill": {
              "color": "#C8D4E3"
             },
             "line": {
              "color": "white"
             }
            },
            "type": "table"
           }
          ]
         },
         "layout": {
          "annotationdefaults": {
           "arrowcolor": "#2a3f5f",
           "arrowhead": 0,
           "arrowwidth": 1
          },
          "autotypenumbers": "strict",
          "coloraxis": {
           "colorbar": {
            "outlinewidth": 0,
            "ticks": ""
           }
          },
          "colorscale": {
           "diverging": [
            [
             0,
             "#8e0152"
            ],
            [
             0.1,
             "#c51b7d"
            ],
            [
             0.2,
             "#de77ae"
            ],
            [
             0.3,
             "#f1b6da"
            ],
            [
             0.4,
             "#fde0ef"
            ],
            [
             0.5,
             "#f7f7f7"
            ],
            [
             0.6,
             "#e6f5d0"
            ],
            [
             0.7,
             "#b8e186"
            ],
            [
             0.8,
             "#7fbc41"
            ],
            [
             0.9,
             "#4d9221"
            ],
            [
             1,
             "#276419"
            ]
           ],
           "sequential": [
            [
             0,
             "#0d0887"
            ],
            [
             0.1111111111111111,
             "#46039f"
            ],
            [
             0.2222222222222222,
             "#7201a8"
            ],
            [
             0.3333333333333333,
             "#9c179e"
            ],
            [
             0.4444444444444444,
             "#bd3786"
            ],
            [
             0.5555555555555556,
             "#d8576b"
            ],
            [
             0.6666666666666666,
             "#ed7953"
            ],
            [
             0.7777777777777778,
             "#fb9f3a"
            ],
            [
             0.8888888888888888,
             "#fdca26"
            ],
            [
             1,
             "#f0f921"
            ]
           ],
           "sequentialminus": [
            [
             0,
             "#0d0887"
            ],
            [
             0.1111111111111111,
             "#46039f"
            ],
            [
             0.2222222222222222,
             "#7201a8"
            ],
            [
             0.3333333333333333,
             "#9c179e"
            ],
            [
             0.4444444444444444,
             "#bd3786"
            ],
            [
             0.5555555555555556,
             "#d8576b"
            ],
            [
             0.6666666666666666,
             "#ed7953"
            ],
            [
             0.7777777777777778,
             "#fb9f3a"
            ],
            [
             0.8888888888888888,
             "#fdca26"
            ],
            [
             1,
             "#f0f921"
            ]
           ]
          },
          "colorway": [
           "#636efa",
           "#EF553B",
           "#00cc96",
           "#ab63fa",
           "#FFA15A",
           "#19d3f3",
           "#FF6692",
           "#B6E880",
           "#FF97FF",
           "#FECB52"
          ],
          "font": {
           "color": "#2a3f5f"
          },
          "geo": {
           "bgcolor": "white",
           "lakecolor": "white",
           "landcolor": "#E5ECF6",
           "showlakes": true,
           "showland": true,
           "subunitcolor": "white"
          },
          "hoverlabel": {
           "align": "left"
          },
          "hovermode": "closest",
          "mapbox": {
           "style": "light"
          },
          "paper_bgcolor": "white",
          "plot_bgcolor": "#E5ECF6",
          "polar": {
           "angularaxis": {
            "gridcolor": "white",
            "linecolor": "white",
            "ticks": ""
           },
           "bgcolor": "#E5ECF6",
           "radialaxis": {
            "gridcolor": "white",
            "linecolor": "white",
            "ticks": ""
           }
          },
          "scene": {
           "xaxis": {
            "backgroundcolor": "#E5ECF6",
            "gridcolor": "white",
            "gridwidth": 2,
            "linecolor": "white",
            "showbackground": true,
            "ticks": "",
            "zerolinecolor": "white"
           },
           "yaxis": {
            "backgroundcolor": "#E5ECF6",
            "gridcolor": "white",
            "gridwidth": 2,
            "linecolor": "white",
            "showbackground": true,
            "ticks": "",
            "zerolinecolor": "white"
           },
           "zaxis": {
            "backgroundcolor": "#E5ECF6",
            "gridcolor": "white",
            "gridwidth": 2,
            "linecolor": "white",
            "showbackground": true,
            "ticks": "",
            "zerolinecolor": "white"
           }
          },
          "shapedefaults": {
           "line": {
            "color": "#2a3f5f"
           }
          },
          "ternary": {
           "aaxis": {
            "gridcolor": "white",
            "linecolor": "white",
            "ticks": ""
           },
           "baxis": {
            "gridcolor": "white",
            "linecolor": "white",
            "ticks": ""
           },
           "bgcolor": "#E5ECF6",
           "caxis": {
            "gridcolor": "white",
            "linecolor": "white",
            "ticks": ""
           }
          },
          "title": {
           "x": 0.05
          },
          "xaxis": {
           "automargin": true,
           "gridcolor": "white",
           "linecolor": "white",
           "ticks": "",
           "title": {
            "standoff": 15
           },
           "zerolinecolor": "white",
           "zerolinewidth": 2
          },
          "yaxis": {
           "automargin": true,
           "gridcolor": "white",
           "linecolor": "white",
           "ticks": "",
           "title": {
            "standoff": 15
           },
           "zerolinecolor": "white",
           "zerolinewidth": 2
          }
         }
        },
        "title": {
         "text": "Team Performance with Elo Rating"
        },
        "width": 1200,
        "xaxis": {
         "tickangle": 90,
         "title": {
          "text": "Team"
         }
        },
        "yaxis": {
         "title": {
          "text": "Elo Rating"
         }
        }
       }
      }
     },
     "metadata": {},
     "output_type": "display_data"
    }
   ],
   "source": [
    "\n",
    "\n",
    "# Create a bar plot\n",
    "fig = go.Figure()\n",
    "\n",
    "# Add bars for eloRating\n",
    "fig.add_trace(go.Bar(x=eloDf['team'], y=eloDf['eloRating'], name='Elo Rating', marker_color=eloDf['team'].map(colorScale)))\n",
    "\n",
    "# Add a scatter plot for points\n",
    "fig.add_trace(go.Scatter(x=eloDf['team'], y=eloDf['points'], mode='markers', name='Points',\n",
    "                         marker=dict(color='black', size=10)))\n",
    "\n",
    "\n",
    "fig.update_layout(height=600,width=1200,title='Team Performance with Elo Rating',\n",
    "                  xaxis_title='Team',\n",
    "                  yaxis_title='Elo Rating',\n",
    "                  xaxis=dict(tickangle=90),\n",
    "                  legend=dict(title='Metric', x=1, y=1))\n",
    "\n",
    "# Add annotations for win/loss ratio\n",
    "for i, row in eloDf.iterrows():\n",
    "    #'points annotation'\n",
    "    fig.add_annotation(\n",
    "        x=row['team'],\n",
    "        y=row['points'] +50,\n",
    "        text=f\"{row['points']}\",\n",
    "        showarrow=False,\n",
    "        font=dict(\n",
    "            color=\"black\",\n",
    "            size=12\n",
    "        )\n",
    "    )\n",
    "\n",
    "\n",
    "    fig.add_annotation(\n",
    "        x=row['team'],\n",
    "        y=row['eloRating'] -25,\n",
    "        text=f\"{row['eloRating']:.3f}\",\n",
    "        showarrow=False,\n",
    "        font=dict(\n",
    "            color=\"black\",\n",
    "            size=10\n",
    "        )\n",
    "    )\n",
    "\n",
    "fig.show()\n"
   ]
  },
  {
   "cell_type": "code",
   "execution_count": 58,
   "metadata": {},
   "outputs": [
    {
     "data": {
      "application/vnd.plotly.v1+json": {
       "config": {
        "plotlyServerURL": "https://plot.ly"
       },
       "data": [
        {
         "coloraxis": "coloraxis",
         "hovertemplate": "x: %{x}<br>y: %{y}<br>color: %{z}<extra></extra>",
         "name": "0",
         "texttemplate": "%{z}",
         "type": "heatmap",
         "x": [
          "eloRating",
          "wins",
          "points",
          "winRatio"
         ],
         "xaxis": "x",
         "y": [
          "eloRating",
          "wins",
          "points",
          "winRatio"
         ],
         "yaxis": "y",
         "z": [
          [
           1,
           0.4380854258938029,
           0.41021812622654613,
           0.6643772750732914
          ],
          [
           0.4380854258938029,
           1,
           0.9961823655980082,
           0.2421995239691551
          ],
          [
           0.41021812622654613,
           0.9961823655980082,
           1,
           0.20536855519197666
          ],
          [
           0.6643772750732914,
           0.2421995239691551,
           0.20536855519197666,
           1
          ]
         ]
        }
       ],
       "layout": {
        "coloraxis": {
         "colorscale": [
          [
           0,
           "#0d0887"
          ],
          [
           0.1111111111111111,
           "#46039f"
          ],
          [
           0.2222222222222222,
           "#7201a8"
          ],
          [
           0.3333333333333333,
           "#9c179e"
          ],
          [
           0.4444444444444444,
           "#bd3786"
          ],
          [
           0.5555555555555556,
           "#d8576b"
          ],
          [
           0.6666666666666666,
           "#ed7953"
          ],
          [
           0.7777777777777778,
           "#fb9f3a"
          ],
          [
           0.8888888888888888,
           "#fdca26"
          ],
          [
           1,
           "#f0f921"
          ]
         ]
        },
        "height": 600,
        "margin": {
         "t": 60
        },
        "template": {
         "data": {
          "bar": [
           {
            "error_x": {
             "color": "#2a3f5f"
            },
            "error_y": {
             "color": "#2a3f5f"
            },
            "marker": {
             "line": {
              "color": "#E5ECF6",
              "width": 0.5
             },
             "pattern": {
              "fillmode": "overlay",
              "size": 10,
              "solidity": 0.2
             }
            },
            "type": "bar"
           }
          ],
          "barpolar": [
           {
            "marker": {
             "line": {
              "color": "#E5ECF6",
              "width": 0.5
             },
             "pattern": {
              "fillmode": "overlay",
              "size": 10,
              "solidity": 0.2
             }
            },
            "type": "barpolar"
           }
          ],
          "carpet": [
           {
            "aaxis": {
             "endlinecolor": "#2a3f5f",
             "gridcolor": "white",
             "linecolor": "white",
             "minorgridcolor": "white",
             "startlinecolor": "#2a3f5f"
            },
            "baxis": {
             "endlinecolor": "#2a3f5f",
             "gridcolor": "white",
             "linecolor": "white",
             "minorgridcolor": "white",
             "startlinecolor": "#2a3f5f"
            },
            "type": "carpet"
           }
          ],
          "choropleth": [
           {
            "colorbar": {
             "outlinewidth": 0,
             "ticks": ""
            },
            "type": "choropleth"
           }
          ],
          "contour": [
           {
            "colorbar": {
             "outlinewidth": 0,
             "ticks": ""
            },
            "colorscale": [
             [
              0,
              "#0d0887"
             ],
             [
              0.1111111111111111,
              "#46039f"
             ],
             [
              0.2222222222222222,
              "#7201a8"
             ],
             [
              0.3333333333333333,
              "#9c179e"
             ],
             [
              0.4444444444444444,
              "#bd3786"
             ],
             [
              0.5555555555555556,
              "#d8576b"
             ],
             [
              0.6666666666666666,
              "#ed7953"
             ],
             [
              0.7777777777777778,
              "#fb9f3a"
             ],
             [
              0.8888888888888888,
              "#fdca26"
             ],
             [
              1,
              "#f0f921"
             ]
            ],
            "type": "contour"
           }
          ],
          "contourcarpet": [
           {
            "colorbar": {
             "outlinewidth": 0,
             "ticks": ""
            },
            "type": "contourcarpet"
           }
          ],
          "heatmap": [
           {
            "colorbar": {
             "outlinewidth": 0,
             "ticks": ""
            },
            "colorscale": [
             [
              0,
              "#0d0887"
             ],
             [
              0.1111111111111111,
              "#46039f"
             ],
             [
              0.2222222222222222,
              "#7201a8"
             ],
             [
              0.3333333333333333,
              "#9c179e"
             ],
             [
              0.4444444444444444,
              "#bd3786"
             ],
             [
              0.5555555555555556,
              "#d8576b"
             ],
             [
              0.6666666666666666,
              "#ed7953"
             ],
             [
              0.7777777777777778,
              "#fb9f3a"
             ],
             [
              0.8888888888888888,
              "#fdca26"
             ],
             [
              1,
              "#f0f921"
             ]
            ],
            "type": "heatmap"
           }
          ],
          "heatmapgl": [
           {
            "colorbar": {
             "outlinewidth": 0,
             "ticks": ""
            },
            "colorscale": [
             [
              0,
              "#0d0887"
             ],
             [
              0.1111111111111111,
              "#46039f"
             ],
             [
              0.2222222222222222,
              "#7201a8"
             ],
             [
              0.3333333333333333,
              "#9c179e"
             ],
             [
              0.4444444444444444,
              "#bd3786"
             ],
             [
              0.5555555555555556,
              "#d8576b"
             ],
             [
              0.6666666666666666,
              "#ed7953"
             ],
             [
              0.7777777777777778,
              "#fb9f3a"
             ],
             [
              0.8888888888888888,
              "#fdca26"
             ],
             [
              1,
              "#f0f921"
             ]
            ],
            "type": "heatmapgl"
           }
          ],
          "histogram": [
           {
            "marker": {
             "pattern": {
              "fillmode": "overlay",
              "size": 10,
              "solidity": 0.2
             }
            },
            "type": "histogram"
           }
          ],
          "histogram2d": [
           {
            "colorbar": {
             "outlinewidth": 0,
             "ticks": ""
            },
            "colorscale": [
             [
              0,
              "#0d0887"
             ],
             [
              0.1111111111111111,
              "#46039f"
             ],
             [
              0.2222222222222222,
              "#7201a8"
             ],
             [
              0.3333333333333333,
              "#9c179e"
             ],
             [
              0.4444444444444444,
              "#bd3786"
             ],
             [
              0.5555555555555556,
              "#d8576b"
             ],
             [
              0.6666666666666666,
              "#ed7953"
             ],
             [
              0.7777777777777778,
              "#fb9f3a"
             ],
             [
              0.8888888888888888,
              "#fdca26"
             ],
             [
              1,
              "#f0f921"
             ]
            ],
            "type": "histogram2d"
           }
          ],
          "histogram2dcontour": [
           {
            "colorbar": {
             "outlinewidth": 0,
             "ticks": ""
            },
            "colorscale": [
             [
              0,
              "#0d0887"
             ],
             [
              0.1111111111111111,
              "#46039f"
             ],
             [
              0.2222222222222222,
              "#7201a8"
             ],
             [
              0.3333333333333333,
              "#9c179e"
             ],
             [
              0.4444444444444444,
              "#bd3786"
             ],
             [
              0.5555555555555556,
              "#d8576b"
             ],
             [
              0.6666666666666666,
              "#ed7953"
             ],
             [
              0.7777777777777778,
              "#fb9f3a"
             ],
             [
              0.8888888888888888,
              "#fdca26"
             ],
             [
              1,
              "#f0f921"
             ]
            ],
            "type": "histogram2dcontour"
           }
          ],
          "mesh3d": [
           {
            "colorbar": {
             "outlinewidth": 0,
             "ticks": ""
            },
            "type": "mesh3d"
           }
          ],
          "parcoords": [
           {
            "line": {
             "colorbar": {
              "outlinewidth": 0,
              "ticks": ""
             }
            },
            "type": "parcoords"
           }
          ],
          "pie": [
           {
            "automargin": true,
            "type": "pie"
           }
          ],
          "scatter": [
           {
            "fillpattern": {
             "fillmode": "overlay",
             "size": 10,
             "solidity": 0.2
            },
            "type": "scatter"
           }
          ],
          "scatter3d": [
           {
            "line": {
             "colorbar": {
              "outlinewidth": 0,
              "ticks": ""
             }
            },
            "marker": {
             "colorbar": {
              "outlinewidth": 0,
              "ticks": ""
             }
            },
            "type": "scatter3d"
           }
          ],
          "scattercarpet": [
           {
            "marker": {
             "colorbar": {
              "outlinewidth": 0,
              "ticks": ""
             }
            },
            "type": "scattercarpet"
           }
          ],
          "scattergeo": [
           {
            "marker": {
             "colorbar": {
              "outlinewidth": 0,
              "ticks": ""
             }
            },
            "type": "scattergeo"
           }
          ],
          "scattergl": [
           {
            "marker": {
             "colorbar": {
              "outlinewidth": 0,
              "ticks": ""
             }
            },
            "type": "scattergl"
           }
          ],
          "scattermapbox": [
           {
            "marker": {
             "colorbar": {
              "outlinewidth": 0,
              "ticks": ""
             }
            },
            "type": "scattermapbox"
           }
          ],
          "scatterpolar": [
           {
            "marker": {
             "colorbar": {
              "outlinewidth": 0,
              "ticks": ""
             }
            },
            "type": "scatterpolar"
           }
          ],
          "scatterpolargl": [
           {
            "marker": {
             "colorbar": {
              "outlinewidth": 0,
              "ticks": ""
             }
            },
            "type": "scatterpolargl"
           }
          ],
          "scatterternary": [
           {
            "marker": {
             "colorbar": {
              "outlinewidth": 0,
              "ticks": ""
             }
            },
            "type": "scatterternary"
           }
          ],
          "surface": [
           {
            "colorbar": {
             "outlinewidth": 0,
             "ticks": ""
            },
            "colorscale": [
             [
              0,
              "#0d0887"
             ],
             [
              0.1111111111111111,
              "#46039f"
             ],
             [
              0.2222222222222222,
              "#7201a8"
             ],
             [
              0.3333333333333333,
              "#9c179e"
             ],
             [
              0.4444444444444444,
              "#bd3786"
             ],
             [
              0.5555555555555556,
              "#d8576b"
             ],
             [
              0.6666666666666666,
              "#ed7953"
             ],
             [
              0.7777777777777778,
              "#fb9f3a"
             ],
             [
              0.8888888888888888,
              "#fdca26"
             ],
             [
              1,
              "#f0f921"
             ]
            ],
            "type": "surface"
           }
          ],
          "table": [
           {
            "cells": {
             "fill": {
              "color": "#EBF0F8"
             },
             "line": {
              "color": "white"
             }
            },
            "header": {
             "fill": {
              "color": "#C8D4E3"
             },
             "line": {
              "color": "white"
             }
            },
            "type": "table"
           }
          ]
         },
         "layout": {
          "annotationdefaults": {
           "arrowcolor": "#2a3f5f",
           "arrowhead": 0,
           "arrowwidth": 1
          },
          "autotypenumbers": "strict",
          "coloraxis": {
           "colorbar": {
            "outlinewidth": 0,
            "ticks": ""
           }
          },
          "colorscale": {
           "diverging": [
            [
             0,
             "#8e0152"
            ],
            [
             0.1,
             "#c51b7d"
            ],
            [
             0.2,
             "#de77ae"
            ],
            [
             0.3,
             "#f1b6da"
            ],
            [
             0.4,
             "#fde0ef"
            ],
            [
             0.5,
             "#f7f7f7"
            ],
            [
             0.6,
             "#e6f5d0"
            ],
            [
             0.7,
             "#b8e186"
            ],
            [
             0.8,
             "#7fbc41"
            ],
            [
             0.9,
             "#4d9221"
            ],
            [
             1,
             "#276419"
            ]
           ],
           "sequential": [
            [
             0,
             "#0d0887"
            ],
            [
             0.1111111111111111,
             "#46039f"
            ],
            [
             0.2222222222222222,
             "#7201a8"
            ],
            [
             0.3333333333333333,
             "#9c179e"
            ],
            [
             0.4444444444444444,
             "#bd3786"
            ],
            [
             0.5555555555555556,
             "#d8576b"
            ],
            [
             0.6666666666666666,
             "#ed7953"
            ],
            [
             0.7777777777777778,
             "#fb9f3a"
            ],
            [
             0.8888888888888888,
             "#fdca26"
            ],
            [
             1,
             "#f0f921"
            ]
           ],
           "sequentialminus": [
            [
             0,
             "#0d0887"
            ],
            [
             0.1111111111111111,
             "#46039f"
            ],
            [
             0.2222222222222222,
             "#7201a8"
            ],
            [
             0.3333333333333333,
             "#9c179e"
            ],
            [
             0.4444444444444444,
             "#bd3786"
            ],
            [
             0.5555555555555556,
             "#d8576b"
            ],
            [
             0.6666666666666666,
             "#ed7953"
            ],
            [
             0.7777777777777778,
             "#fb9f3a"
            ],
            [
             0.8888888888888888,
             "#fdca26"
            ],
            [
             1,
             "#f0f921"
            ]
           ]
          },
          "colorway": [
           "#636efa",
           "#EF553B",
           "#00cc96",
           "#ab63fa",
           "#FFA15A",
           "#19d3f3",
           "#FF6692",
           "#B6E880",
           "#FF97FF",
           "#FECB52"
          ],
          "font": {
           "color": "#2a3f5f"
          },
          "geo": {
           "bgcolor": "white",
           "lakecolor": "white",
           "landcolor": "#E5ECF6",
           "showlakes": true,
           "showland": true,
           "subunitcolor": "white"
          },
          "hoverlabel": {
           "align": "left"
          },
          "hovermode": "closest",
          "mapbox": {
           "style": "light"
          },
          "paper_bgcolor": "white",
          "plot_bgcolor": "#E5ECF6",
          "polar": {
           "angularaxis": {
            "gridcolor": "white",
            "linecolor": "white",
            "ticks": ""
           },
           "bgcolor": "#E5ECF6",
           "radialaxis": {
            "gridcolor": "white",
            "linecolor": "white",
            "ticks": ""
           }
          },
          "scene": {
           "xaxis": {
            "backgroundcolor": "#E5ECF6",
            "gridcolor": "white",
            "gridwidth": 2,
            "linecolor": "white",
            "showbackground": true,
            "ticks": "",
            "zerolinecolor": "white"
           },
           "yaxis": {
            "backgroundcolor": "#E5ECF6",
            "gridcolor": "white",
            "gridwidth": 2,
            "linecolor": "white",
            "showbackground": true,
            "ticks": "",
            "zerolinecolor": "white"
           },
           "zaxis": {
            "backgroundcolor": "#E5ECF6",
            "gridcolor": "white",
            "gridwidth": 2,
            "linecolor": "white",
            "showbackground": true,
            "ticks": "",
            "zerolinecolor": "white"
           }
          },
          "shapedefaults": {
           "line": {
            "color": "#2a3f5f"
           }
          },
          "ternary": {
           "aaxis": {
            "gridcolor": "white",
            "linecolor": "white",
            "ticks": ""
           },
           "baxis": {
            "gridcolor": "white",
            "linecolor": "white",
            "ticks": ""
           },
           "bgcolor": "#E5ECF6",
           "caxis": {
            "gridcolor": "white",
            "linecolor": "white",
            "ticks": ""
           }
          },
          "title": {
           "x": 0.05
          },
          "xaxis": {
           "automargin": true,
           "gridcolor": "white",
           "linecolor": "white",
           "ticks": "",
           "title": {
            "standoff": 15
           },
           "zerolinecolor": "white",
           "zerolinewidth": 2
          },
          "yaxis": {
           "automargin": true,
           "gridcolor": "white",
           "linecolor": "white",
           "ticks": "",
           "title": {
            "standoff": 15
           },
           "zerolinecolor": "white",
           "zerolinewidth": 2
          }
         }
        },
        "title": {
         "text": "Correlation Heatmap"
        },
        "width": 800,
        "xaxis": {
         "anchor": "y",
         "constrain": "domain",
         "domain": [
          0,
          1
         ],
         "scaleanchor": "y",
         "showgrid": false,
         "side": "top",
         "ticks": "outside"
        },
        "yaxis": {
         "anchor": "x",
         "autorange": "reversed",
         "constrain": "domain",
         "domain": [
          0,
          1
         ],
         "showgrid": false,
         "side": "left",
         "ticks": "outside"
        }
       }
      }
     },
     "metadata": {},
     "output_type": "display_data"
    }
   ],
   "source": [
    "corrMatrix = eloDf[['eloRating', 'wins', 'points','winRatio']].corr()\n",
    "\n",
    "fig = px.imshow(corrMatrix, text_auto=True)\n",
    "\n",
    "fig.update_layout(\n",
    "    height=600,\n",
    "    width=800,\n",
    "    title='Correlation Heatmap',\n",
    "    xaxis_showgrid=False,\n",
    "    yaxis_showgrid=False,\n",
    "    xaxis=dict(ticks='outside', side='top'),\n",
    "    yaxis=dict(ticks='outside', side='left'),\n",
    ")\n",
    "\n",
    "fig.show()"
   ]
  },
  {
   "cell_type": "markdown",
   "metadata": {},
   "source": [
    "According to the heat map of the correlation matrix we can say that:\n",
    "- There is a higher correlation between win ratio and elo Rating "
   ]
  },
  {
   "cell_type": "code",
   "execution_count": 59,
   "metadata": {},
   "outputs": [
    {
     "data": {
      "application/vnd.plotly.v1+json": {
       "config": {
        "plotlyServerURL": "https://plot.ly"
       },
       "data": [
        {
         "customdata": [
          [
           "Chennai Super Kings"
          ]
         ],
         "hovertemplate": "team=%{customdata[0]}<br>totalMatches=%{x}<br>wins=%{y}<extra></extra>",
         "legendgroup": "Chennai Super Kings",
         "marker": {
          "color": "#1f77b4",
          "size": 10,
          "symbol": "x"
         },
         "mode": "markers",
         "name": "Chennai Super Kings",
         "orientation": "v",
         "showlegend": true,
         "type": "scatter",
         "x": [
          224
         ],
         "xaxis": "x",
         "y": [
          131
         ],
         "yaxis": "y"
        },
        {
         "customdata": [
          [
           "Royal Challengers Bangalore"
          ]
         ],
         "hovertemplate": "team=%{customdata[0]}<br>totalMatches=%{x}<br>wins=%{y}<extra></extra>",
         "legendgroup": "Royal Challengers Bangalore",
         "marker": {
          "color": "#ff7f0e",
          "size": 10,
          "symbol": "x"
         },
         "mode": "markers",
         "name": "Royal Challengers Bangalore",
         "orientation": "v",
         "showlegend": true,
         "type": "scatter",
         "x": [
          240
         ],
         "xaxis": "x",
         "y": [
          114
         ],
         "yaxis": "y"
        },
        {
         "customdata": [
          [
           "Gujarat Titans"
          ]
         ],
         "hovertemplate": "team=%{customdata[0]}<br>totalMatches=%{x}<br>wins=%{y}<extra></extra>",
         "legendgroup": "Gujarat Titans",
         "marker": {
          "color": "#2ca02c",
          "size": 10,
          "symbol": "x"
         },
         "mode": "markers",
         "name": "Gujarat Titans",
         "orientation": "v",
         "showlegend": true,
         "type": "scatter",
         "x": [
          33
         ],
         "xaxis": "x",
         "y": [
          23
         ],
         "yaxis": "y"
        },
        {
         "customdata": [
          [
           "Mumbai Indians"
          ]
         ],
         "hovertemplate": "team=%{customdata[0]}<br>totalMatches=%{x}<br>wins=%{y}<extra></extra>",
         "legendgroup": "Mumbai Indians",
         "marker": {
          "color": "#d62728",
          "size": 10,
          "symbol": "x"
         },
         "mode": "markers",
         "name": "Mumbai Indians",
         "orientation": "v",
         "showlegend": true,
         "type": "scatter",
         "x": [
          247
         ],
         "xaxis": "x",
         "y": [
          138
         ],
         "yaxis": "y"
        },
        {
         "customdata": [
          [
           "Punjab Kings"
          ]
         ],
         "hovertemplate": "team=%{customdata[0]}<br>totalMatches=%{x}<br>wins=%{y}<extra></extra>",
         "legendgroup": "Punjab Kings",
         "marker": {
          "color": "#9467bd",
          "size": 10,
          "symbol": "x"
         },
         "mode": "markers",
         "name": "Punjab Kings",
         "orientation": "v",
         "showlegend": true,
         "type": "scatter",
         "x": [
          232
         ],
         "xaxis": "x",
         "y": [
          104
         ],
         "yaxis": "y"
        },
        {
         "customdata": [
          [
           "Lucknow Super Giants"
          ]
         ],
         "hovertemplate": "team=%{customdata[0]}<br>totalMatches=%{x}<br>wins=%{y}<extra></extra>",
         "legendgroup": "Lucknow Super Giants",
         "marker": {
          "color": "#8c564b",
          "size": 10,
          "symbol": "x"
         },
         "mode": "markers",
         "name": "Lucknow Super Giants",
         "orientation": "v",
         "showlegend": true,
         "type": "scatter",
         "x": [
          30
         ],
         "xaxis": "x",
         "y": [
          17
         ],
         "yaxis": "y"
        },
        {
         "customdata": [
          [
           "Delhi Capitals"
          ]
         ],
         "hovertemplate": "team=%{customdata[0]}<br>totalMatches=%{x}<br>wins=%{y}<extra></extra>",
         "legendgroup": "Delhi Capitals",
         "marker": {
          "color": "#e377c2",
          "size": 10,
          "symbol": "x"
         },
         "mode": "markers",
         "name": "Delhi Capitals",
         "orientation": "v",
         "showlegend": true,
         "type": "scatter",
         "x": [
          238
         ],
         "xaxis": "x",
         "y": [
          105
         ],
         "yaxis": "y"
        },
        {
         "customdata": [
          [
           "Gujarat Lions"
          ]
         ],
         "hovertemplate": "team=%{customdata[0]}<br>totalMatches=%{x}<br>wins=%{y}<extra></extra>",
         "legendgroup": "Gujarat Lions",
         "marker": {
          "color": "#404040",
          "size": 10,
          "symbol": "x"
         },
         "mode": "markers",
         "name": "Gujarat Lions",
         "orientation": "v",
         "showlegend": true,
         "type": "scatter",
         "x": [
          30
         ],
         "xaxis": "x",
         "y": [
          13
         ],
         "yaxis": "y"
        },
        {
         "customdata": [
          [
           "Rising Pune Supergiants"
          ]
         ],
         "hovertemplate": "team=%{customdata[0]}<br>totalMatches=%{x}<br>wins=%{y}<extra></extra>",
         "legendgroup": "Rising Pune Supergiants",
         "marker": {
          "color": "#707070",
          "size": 10,
          "symbol": "x"
         },
         "mode": "markers",
         "name": "Rising Pune Supergiants",
         "orientation": "v",
         "showlegend": true,
         "type": "scatter",
         "x": [
          30
         ],
         "xaxis": "x",
         "y": [
          15
         ],
         "yaxis": "y"
        },
        {
         "customdata": [
          [
           "Rajasthan Royals"
          ]
         ],
         "hovertemplate": "team=%{customdata[0]}<br>totalMatches=%{x}<br>wins=%{y}<extra></extra>",
         "legendgroup": "Rajasthan Royals",
         "marker": {
          "color": "#fc6ab5",
          "size": 10,
          "symbol": "x"
         },
         "mode": "markers",
         "name": "Rajasthan Royals",
         "orientation": "v",
         "showlegend": true,
         "type": "scatter",
         "x": [
          206
         ],
         "xaxis": "x",
         "y": [
          101
         ],
         "yaxis": "y"
        },
        {
         "customdata": [
          [
           "Kochi Tuskers Kerala"
          ]
         ],
         "hovertemplate": "team=%{customdata[0]}<br>totalMatches=%{x}<br>wins=%{y}<extra></extra>",
         "legendgroup": "Kochi Tuskers Kerala",
         "marker": {
          "color": "#585858",
          "size": 10,
          "symbol": "x"
         },
         "mode": "markers",
         "name": "Kochi Tuskers Kerala",
         "orientation": "v",
         "showlegend": true,
         "type": "scatter",
         "x": [
          14
         ],
         "xaxis": "x",
         "y": [
          6
         ],
         "yaxis": "y"
        },
        {
         "customdata": [
          [
           "Kolkata Knight Riders"
          ]
         ],
         "hovertemplate": "team=%{customdata[0]}<br>totalMatches=%{x}<br>wins=%{y}<extra></extra>",
         "legendgroup": "Kolkata Knight Riders",
         "marker": {
          "color": "#bcbd22",
          "size": 10,
          "symbol": "x"
         },
         "mode": "markers",
         "name": "Kolkata Knight Riders",
         "orientation": "v",
         "showlegend": true,
         "type": "scatter",
         "x": [
          237
         ],
         "xaxis": "x",
         "y": [
          119
         ],
         "yaxis": "y"
        },
        {
         "customdata": [
          [
           "Sunrisers Hyderabad"
          ]
         ],
         "hovertemplate": "team=%{customdata[0]}<br>totalMatches=%{x}<br>wins=%{y}<extra></extra>",
         "legendgroup": "Sunrisers Hyderabad",
         "marker": {
          "color": "#17becf",
          "size": 10,
          "symbol": "x"
         },
         "mode": "markers",
         "name": "Sunrisers Hyderabad",
         "orientation": "v",
         "showlegend": true,
         "type": "scatter",
         "x": [
          166
         ],
         "xaxis": "x",
         "y": [
          78
         ],
         "yaxis": "y"
        },
        {
         "customdata": [
          [
           "Pune Warriors"
          ]
         ],
         "hovertemplate": "team=%{customdata[0]}<br>totalMatches=%{x}<br>wins=%{y}<extra></extra>",
         "legendgroup": "Pune Warriors",
         "marker": {
          "color": "#888888",
          "size": 10,
          "symbol": "x"
         },
         "mode": "markers",
         "name": "Pune Warriors",
         "orientation": "v",
         "showlegend": true,
         "type": "scatter",
         "x": [
          46
         ],
         "xaxis": "x",
         "y": [
          12
         ],
         "yaxis": "y"
        },
        {
         "customdata": [
          [
           "Deccan Chargers"
          ]
         ],
         "hovertemplate": "team=%{customdata[0]}<br>totalMatches=%{x}<br>wins=%{y}<extra></extra>",
         "legendgroup": "Deccan Chargers",
         "marker": {
          "color": "#585858",
          "size": 10,
          "symbol": "x"
         },
         "mode": "markers",
         "name": "Deccan Chargers",
         "orientation": "v",
         "showlegend": true,
         "type": "scatter",
         "x": [
          75
         ],
         "xaxis": "x",
         "y": [
          29
         ],
         "yaxis": "y"
        }
       ],
       "layout": {
        "height": 600,
        "legend": {
         "title": {
          "text": "Team"
         },
         "tracegroupgap": 0,
         "x": 1,
         "y": 1
        },
        "margin": {
         "t": 60
        },
        "template": {
         "data": {
          "bar": [
           {
            "error_x": {
             "color": "#2a3f5f"
            },
            "error_y": {
             "color": "#2a3f5f"
            },
            "marker": {
             "line": {
              "color": "#E5ECF6",
              "width": 0.5
             },
             "pattern": {
              "fillmode": "overlay",
              "size": 10,
              "solidity": 0.2
             }
            },
            "type": "bar"
           }
          ],
          "barpolar": [
           {
            "marker": {
             "line": {
              "color": "#E5ECF6",
              "width": 0.5
             },
             "pattern": {
              "fillmode": "overlay",
              "size": 10,
              "solidity": 0.2
             }
            },
            "type": "barpolar"
           }
          ],
          "carpet": [
           {
            "aaxis": {
             "endlinecolor": "#2a3f5f",
             "gridcolor": "white",
             "linecolor": "white",
             "minorgridcolor": "white",
             "startlinecolor": "#2a3f5f"
            },
            "baxis": {
             "endlinecolor": "#2a3f5f",
             "gridcolor": "white",
             "linecolor": "white",
             "minorgridcolor": "white",
             "startlinecolor": "#2a3f5f"
            },
            "type": "carpet"
           }
          ],
          "choropleth": [
           {
            "colorbar": {
             "outlinewidth": 0,
             "ticks": ""
            },
            "type": "choropleth"
           }
          ],
          "contour": [
           {
            "colorbar": {
             "outlinewidth": 0,
             "ticks": ""
            },
            "colorscale": [
             [
              0,
              "#0d0887"
             ],
             [
              0.1111111111111111,
              "#46039f"
             ],
             [
              0.2222222222222222,
              "#7201a8"
             ],
             [
              0.3333333333333333,
              "#9c179e"
             ],
             [
              0.4444444444444444,
              "#bd3786"
             ],
             [
              0.5555555555555556,
              "#d8576b"
             ],
             [
              0.6666666666666666,
              "#ed7953"
             ],
             [
              0.7777777777777778,
              "#fb9f3a"
             ],
             [
              0.8888888888888888,
              "#fdca26"
             ],
             [
              1,
              "#f0f921"
             ]
            ],
            "type": "contour"
           }
          ],
          "contourcarpet": [
           {
            "colorbar": {
             "outlinewidth": 0,
             "ticks": ""
            },
            "type": "contourcarpet"
           }
          ],
          "heatmap": [
           {
            "colorbar": {
             "outlinewidth": 0,
             "ticks": ""
            },
            "colorscale": [
             [
              0,
              "#0d0887"
             ],
             [
              0.1111111111111111,
              "#46039f"
             ],
             [
              0.2222222222222222,
              "#7201a8"
             ],
             [
              0.3333333333333333,
              "#9c179e"
             ],
             [
              0.4444444444444444,
              "#bd3786"
             ],
             [
              0.5555555555555556,
              "#d8576b"
             ],
             [
              0.6666666666666666,
              "#ed7953"
             ],
             [
              0.7777777777777778,
              "#fb9f3a"
             ],
             [
              0.8888888888888888,
              "#fdca26"
             ],
             [
              1,
              "#f0f921"
             ]
            ],
            "type": "heatmap"
           }
          ],
          "heatmapgl": [
           {
            "colorbar": {
             "outlinewidth": 0,
             "ticks": ""
            },
            "colorscale": [
             [
              0,
              "#0d0887"
             ],
             [
              0.1111111111111111,
              "#46039f"
             ],
             [
              0.2222222222222222,
              "#7201a8"
             ],
             [
              0.3333333333333333,
              "#9c179e"
             ],
             [
              0.4444444444444444,
              "#bd3786"
             ],
             [
              0.5555555555555556,
              "#d8576b"
             ],
             [
              0.6666666666666666,
              "#ed7953"
             ],
             [
              0.7777777777777778,
              "#fb9f3a"
             ],
             [
              0.8888888888888888,
              "#fdca26"
             ],
             [
              1,
              "#f0f921"
             ]
            ],
            "type": "heatmapgl"
           }
          ],
          "histogram": [
           {
            "marker": {
             "pattern": {
              "fillmode": "overlay",
              "size": 10,
              "solidity": 0.2
             }
            },
            "type": "histogram"
           }
          ],
          "histogram2d": [
           {
            "colorbar": {
             "outlinewidth": 0,
             "ticks": ""
            },
            "colorscale": [
             [
              0,
              "#0d0887"
             ],
             [
              0.1111111111111111,
              "#46039f"
             ],
             [
              0.2222222222222222,
              "#7201a8"
             ],
             [
              0.3333333333333333,
              "#9c179e"
             ],
             [
              0.4444444444444444,
              "#bd3786"
             ],
             [
              0.5555555555555556,
              "#d8576b"
             ],
             [
              0.6666666666666666,
              "#ed7953"
             ],
             [
              0.7777777777777778,
              "#fb9f3a"
             ],
             [
              0.8888888888888888,
              "#fdca26"
             ],
             [
              1,
              "#f0f921"
             ]
            ],
            "type": "histogram2d"
           }
          ],
          "histogram2dcontour": [
           {
            "colorbar": {
             "outlinewidth": 0,
             "ticks": ""
            },
            "colorscale": [
             [
              0,
              "#0d0887"
             ],
             [
              0.1111111111111111,
              "#46039f"
             ],
             [
              0.2222222222222222,
              "#7201a8"
             ],
             [
              0.3333333333333333,
              "#9c179e"
             ],
             [
              0.4444444444444444,
              "#bd3786"
             ],
             [
              0.5555555555555556,
              "#d8576b"
             ],
             [
              0.6666666666666666,
              "#ed7953"
             ],
             [
              0.7777777777777778,
              "#fb9f3a"
             ],
             [
              0.8888888888888888,
              "#fdca26"
             ],
             [
              1,
              "#f0f921"
             ]
            ],
            "type": "histogram2dcontour"
           }
          ],
          "mesh3d": [
           {
            "colorbar": {
             "outlinewidth": 0,
             "ticks": ""
            },
            "type": "mesh3d"
           }
          ],
          "parcoords": [
           {
            "line": {
             "colorbar": {
              "outlinewidth": 0,
              "ticks": ""
             }
            },
            "type": "parcoords"
           }
          ],
          "pie": [
           {
            "automargin": true,
            "type": "pie"
           }
          ],
          "scatter": [
           {
            "fillpattern": {
             "fillmode": "overlay",
             "size": 10,
             "solidity": 0.2
            },
            "type": "scatter"
           }
          ],
          "scatter3d": [
           {
            "line": {
             "colorbar": {
              "outlinewidth": 0,
              "ticks": ""
             }
            },
            "marker": {
             "colorbar": {
              "outlinewidth": 0,
              "ticks": ""
             }
            },
            "type": "scatter3d"
           }
          ],
          "scattercarpet": [
           {
            "marker": {
             "colorbar": {
              "outlinewidth": 0,
              "ticks": ""
             }
            },
            "type": "scattercarpet"
           }
          ],
          "scattergeo": [
           {
            "marker": {
             "colorbar": {
              "outlinewidth": 0,
              "ticks": ""
             }
            },
            "type": "scattergeo"
           }
          ],
          "scattergl": [
           {
            "marker": {
             "colorbar": {
              "outlinewidth": 0,
              "ticks": ""
             }
            },
            "type": "scattergl"
           }
          ],
          "scattermapbox": [
           {
            "marker": {
             "colorbar": {
              "outlinewidth": 0,
              "ticks": ""
             }
            },
            "type": "scattermapbox"
           }
          ],
          "scatterpolar": [
           {
            "marker": {
             "colorbar": {
              "outlinewidth": 0,
              "ticks": ""
             }
            },
            "type": "scatterpolar"
           }
          ],
          "scatterpolargl": [
           {
            "marker": {
             "colorbar": {
              "outlinewidth": 0,
              "ticks": ""
             }
            },
            "type": "scatterpolargl"
           }
          ],
          "scatterternary": [
           {
            "marker": {
             "colorbar": {
              "outlinewidth": 0,
              "ticks": ""
             }
            },
            "type": "scatterternary"
           }
          ],
          "surface": [
           {
            "colorbar": {
             "outlinewidth": 0,
             "ticks": ""
            },
            "colorscale": [
             [
              0,
              "#0d0887"
             ],
             [
              0.1111111111111111,
              "#46039f"
             ],
             [
              0.2222222222222222,
              "#7201a8"
             ],
             [
              0.3333333333333333,
              "#9c179e"
             ],
             [
              0.4444444444444444,
              "#bd3786"
             ],
             [
              0.5555555555555556,
              "#d8576b"
             ],
             [
              0.6666666666666666,
              "#ed7953"
             ],
             [
              0.7777777777777778,
              "#fb9f3a"
             ],
             [
              0.8888888888888888,
              "#fdca26"
             ],
             [
              1,
              "#f0f921"
             ]
            ],
            "type": "surface"
           }
          ],
          "table": [
           {
            "cells": {
             "fill": {
              "color": "#EBF0F8"
             },
             "line": {
              "color": "white"
             }
            },
            "header": {
             "fill": {
              "color": "#C8D4E3"
             },
             "line": {
              "color": "white"
             }
            },
            "type": "table"
           }
          ]
         },
         "layout": {
          "annotationdefaults": {
           "arrowcolor": "#2a3f5f",
           "arrowhead": 0,
           "arrowwidth": 1
          },
          "autotypenumbers": "strict",
          "coloraxis": {
           "colorbar": {
            "outlinewidth": 0,
            "ticks": ""
           }
          },
          "colorscale": {
           "diverging": [
            [
             0,
             "#8e0152"
            ],
            [
             0.1,
             "#c51b7d"
            ],
            [
             0.2,
             "#de77ae"
            ],
            [
             0.3,
             "#f1b6da"
            ],
            [
             0.4,
             "#fde0ef"
            ],
            [
             0.5,
             "#f7f7f7"
            ],
            [
             0.6,
             "#e6f5d0"
            ],
            [
             0.7,
             "#b8e186"
            ],
            [
             0.8,
             "#7fbc41"
            ],
            [
             0.9,
             "#4d9221"
            ],
            [
             1,
             "#276419"
            ]
           ],
           "sequential": [
            [
             0,
             "#0d0887"
            ],
            [
             0.1111111111111111,
             "#46039f"
            ],
            [
             0.2222222222222222,
             "#7201a8"
            ],
            [
             0.3333333333333333,
             "#9c179e"
            ],
            [
             0.4444444444444444,
             "#bd3786"
            ],
            [
             0.5555555555555556,
             "#d8576b"
            ],
            [
             0.6666666666666666,
             "#ed7953"
            ],
            [
             0.7777777777777778,
             "#fb9f3a"
            ],
            [
             0.8888888888888888,
             "#fdca26"
            ],
            [
             1,
             "#f0f921"
            ]
           ],
           "sequentialminus": [
            [
             0,
             "#0d0887"
            ],
            [
             0.1111111111111111,
             "#46039f"
            ],
            [
             0.2222222222222222,
             "#7201a8"
            ],
            [
             0.3333333333333333,
             "#9c179e"
            ],
            [
             0.4444444444444444,
             "#bd3786"
            ],
            [
             0.5555555555555556,
             "#d8576b"
            ],
            [
             0.6666666666666666,
             "#ed7953"
            ],
            [
             0.7777777777777778,
             "#fb9f3a"
            ],
            [
             0.8888888888888888,
             "#fdca26"
            ],
            [
             1,
             "#f0f921"
            ]
           ]
          },
          "colorway": [
           "#636efa",
           "#EF553B",
           "#00cc96",
           "#ab63fa",
           "#FFA15A",
           "#19d3f3",
           "#FF6692",
           "#B6E880",
           "#FF97FF",
           "#FECB52"
          ],
          "font": {
           "color": "#2a3f5f"
          },
          "geo": {
           "bgcolor": "white",
           "lakecolor": "white",
           "landcolor": "#E5ECF6",
           "showlakes": true,
           "showland": true,
           "subunitcolor": "white"
          },
          "hoverlabel": {
           "align": "left"
          },
          "hovermode": "closest",
          "mapbox": {
           "style": "light"
          },
          "paper_bgcolor": "white",
          "plot_bgcolor": "#E5ECF6",
          "polar": {
           "angularaxis": {
            "gridcolor": "white",
            "linecolor": "white",
            "ticks": ""
           },
           "bgcolor": "#E5ECF6",
           "radialaxis": {
            "gridcolor": "white",
            "linecolor": "white",
            "ticks": ""
           }
          },
          "scene": {
           "xaxis": {
            "backgroundcolor": "#E5ECF6",
            "gridcolor": "white",
            "gridwidth": 2,
            "linecolor": "white",
            "showbackground": true,
            "ticks": "",
            "zerolinecolor": "white"
           },
           "yaxis": {
            "backgroundcolor": "#E5ECF6",
            "gridcolor": "white",
            "gridwidth": 2,
            "linecolor": "white",
            "showbackground": true,
            "ticks": "",
            "zerolinecolor": "white"
           },
           "zaxis": {
            "backgroundcolor": "#E5ECF6",
            "gridcolor": "white",
            "gridwidth": 2,
            "linecolor": "white",
            "showbackground": true,
            "ticks": "",
            "zerolinecolor": "white"
           }
          },
          "shapedefaults": {
           "line": {
            "color": "#2a3f5f"
           }
          },
          "ternary": {
           "aaxis": {
            "gridcolor": "white",
            "linecolor": "white",
            "ticks": ""
           },
           "baxis": {
            "gridcolor": "white",
            "linecolor": "white",
            "ticks": ""
           },
           "bgcolor": "#E5ECF6",
           "caxis": {
            "gridcolor": "white",
            "linecolor": "white",
            "ticks": ""
           }
          },
          "title": {
           "x": 0.05
          },
          "xaxis": {
           "automargin": true,
           "gridcolor": "white",
           "linecolor": "white",
           "ticks": "",
           "title": {
            "standoff": 15
           },
           "zerolinecolor": "white",
           "zerolinewidth": 2
          },
          "yaxis": {
           "automargin": true,
           "gridcolor": "white",
           "linecolor": "white",
           "ticks": "",
           "title": {
            "standoff": 15
           },
           "zerolinecolor": "white",
           "zerolinewidth": 2
          }
         }
        },
        "title": {
         "text": "Total Matches Vs Total Wins"
        },
        "width": 1200,
        "xaxis": {
         "anchor": "y",
         "domain": [
          0,
          1
         ],
         "title": {
          "text": "Total Matches"
         }
        },
        "yaxis": {
         "anchor": "x",
         "domain": [
          0,
          1
         ],
         "title": {
          "text": "Wins"
         }
        }
       }
      }
     },
     "metadata": {},
     "output_type": "display_data"
    }
   ],
   "source": [
    "\n",
    "\n",
    "fig = px.scatter(eloDf, x=\"totalMatches\", y=\"wins\", color=\"team\",\n",
    "                 color_discrete_map=colorScale,\n",
    "                 hover_data=['team'])  \n",
    "\n",
    "fig.update_traces(marker=dict(size=10, symbol='x'),\n",
    "                  selector=dict(mode='markers'))\n",
    "\n",
    "fig.update_layout(height=600,width=1200,title='Total Matches Vs Total Wins',\n",
    "                  xaxis_title='Total Matches',\n",
    "                  yaxis_title='Wins',\n",
    "                  legend=dict(title='Team', x=1, y=1)) "
   ]
  },
  {
   "cell_type": "code",
   "execution_count": 60,
   "metadata": {},
   "outputs": [
    {
     "data": {
      "application/vnd.plotly.v1+json": {
       "config": {
        "plotlyServerURL": "https://plot.ly"
       },
       "data": [
        {
         "customdata": [
          [
           "Chennai Super Kings"
          ]
         ],
         "hovertemplate": "team=%{customdata[0]}<br>wins=%{x}<br>loss=%{y}<extra></extra>",
         "legendgroup": "Chennai Super Kings",
         "marker": {
          "color": "#1f77b4",
          "size": 10,
          "symbol": "x"
         },
         "mode": "markers",
         "name": "Chennai Super Kings",
         "orientation": "v",
         "showlegend": true,
         "type": "scatter",
         "x": [
          131
         ],
         "xaxis": "x",
         "y": [
          92
         ],
         "yaxis": "y"
        },
        {
         "customdata": [
          [
           "Royal Challengers Bangalore"
          ]
         ],
         "hovertemplate": "team=%{customdata[0]}<br>wins=%{x}<br>loss=%{y}<extra></extra>",
         "legendgroup": "Royal Challengers Bangalore",
         "marker": {
          "color": "#ff7f0e",
          "size": 10,
          "symbol": "x"
         },
         "mode": "markers",
         "name": "Royal Challengers Bangalore",
         "orientation": "v",
         "showlegend": true,
         "type": "scatter",
         "x": [
          114
         ],
         "xaxis": "x",
         "y": [
          123
         ],
         "yaxis": "y"
        },
        {
         "customdata": [
          [
           "Gujarat Titans"
          ]
         ],
         "hovertemplate": "team=%{customdata[0]}<br>wins=%{x}<br>loss=%{y}<extra></extra>",
         "legendgroup": "Gujarat Titans",
         "marker": {
          "color": "#2ca02c",
          "size": 10,
          "symbol": "x"
         },
         "mode": "markers",
         "name": "Gujarat Titans",
         "orientation": "v",
         "showlegend": true,
         "type": "scatter",
         "x": [
          23
         ],
         "xaxis": "x",
         "y": [
          10
         ],
         "yaxis": "y"
        },
        {
         "customdata": [
          [
           "Mumbai Indians"
          ]
         ],
         "hovertemplate": "team=%{customdata[0]}<br>wins=%{x}<br>loss=%{y}<extra></extra>",
         "legendgroup": "Mumbai Indians",
         "marker": {
          "color": "#d62728",
          "size": 10,
          "symbol": "x"
         },
         "mode": "markers",
         "name": "Mumbai Indians",
         "orientation": "v",
         "showlegend": true,
         "type": "scatter",
         "x": [
          138
         ],
         "xaxis": "x",
         "y": [
          105
         ],
         "yaxis": "y"
        },
        {
         "customdata": [
          [
           "Punjab Kings"
          ]
         ],
         "hovertemplate": "team=%{customdata[0]}<br>wins=%{x}<br>loss=%{y}<extra></extra>",
         "legendgroup": "Punjab Kings",
         "marker": {
          "color": "#9467bd",
          "size": 10,
          "symbol": "x"
         },
         "mode": "markers",
         "name": "Punjab Kings",
         "orientation": "v",
         "showlegend": true,
         "type": "scatter",
         "x": [
          104
         ],
         "xaxis": "x",
         "y": [
          124
         ],
         "yaxis": "y"
        },
        {
         "customdata": [
          [
           "Lucknow Super Giants"
          ]
         ],
         "hovertemplate": "team=%{customdata[0]}<br>wins=%{x}<br>loss=%{y}<extra></extra>",
         "legendgroup": "Lucknow Super Giants",
         "marker": {
          "color": "#8c564b",
          "size": 10,
          "symbol": "x"
         },
         "mode": "markers",
         "name": "Lucknow Super Giants",
         "orientation": "v",
         "showlegend": true,
         "type": "scatter",
         "x": [
          17
         ],
         "xaxis": "x",
         "y": [
          13
         ],
         "yaxis": "y"
        },
        {
         "customdata": [
          [
           "Delhi Capitals"
          ]
         ],
         "hovertemplate": "team=%{customdata[0]}<br>wins=%{x}<br>loss=%{y}<extra></extra>",
         "legendgroup": "Delhi Capitals",
         "marker": {
          "color": "#e377c2",
          "size": 10,
          "symbol": "x"
         },
         "mode": "markers",
         "name": "Delhi Capitals",
         "orientation": "v",
         "showlegend": true,
         "type": "scatter",
         "x": [
          105
         ],
         "xaxis": "x",
         "y": [
          129
         ],
         "yaxis": "y"
        },
        {
         "customdata": [
          [
           "Gujarat Lions"
          ]
         ],
         "hovertemplate": "team=%{customdata[0]}<br>wins=%{x}<br>loss=%{y}<extra></extra>",
         "legendgroup": "Gujarat Lions",
         "marker": {
          "color": "#404040",
          "size": 10,
          "symbol": "x"
         },
         "mode": "markers",
         "name": "Gujarat Lions",
         "orientation": "v",
         "showlegend": true,
         "type": "scatter",
         "x": [
          13
         ],
         "xaxis": "x",
         "y": [
          16
         ],
         "yaxis": "y"
        },
        {
         "customdata": [
          [
           "Rising Pune Supergiants"
          ]
         ],
         "hovertemplate": "team=%{customdata[0]}<br>wins=%{x}<br>loss=%{y}<extra></extra>",
         "legendgroup": "Rising Pune Supergiants",
         "marker": {
          "color": "#707070",
          "size": 10,
          "symbol": "x"
         },
         "mode": "markers",
         "name": "Rising Pune Supergiants",
         "orientation": "v",
         "showlegend": true,
         "type": "scatter",
         "x": [
          15
         ],
         "xaxis": "x",
         "y": [
          15
         ],
         "yaxis": "y"
        },
        {
         "customdata": [
          [
           "Rajasthan Royals"
          ]
         ],
         "hovertemplate": "team=%{customdata[0]}<br>wins=%{x}<br>loss=%{y}<extra></extra>",
         "legendgroup": "Rajasthan Royals",
         "marker": {
          "color": "#fc6ab5",
          "size": 10,
          "symbol": "x"
         },
         "mode": "markers",
         "name": "Rajasthan Royals",
         "orientation": "v",
         "showlegend": true,
         "type": "scatter",
         "x": [
          101
         ],
         "xaxis": "x",
         "y": [
          102
         ],
         "yaxis": "y"
        },
        {
         "customdata": [
          [
           "Kochi Tuskers Kerala"
          ]
         ],
         "hovertemplate": "team=%{customdata[0]}<br>wins=%{x}<br>loss=%{y}<extra></extra>",
         "legendgroup": "Kochi Tuskers Kerala",
         "marker": {
          "color": "#585858",
          "size": 10,
          "symbol": "x"
         },
         "mode": "markers",
         "name": "Kochi Tuskers Kerala",
         "orientation": "v",
         "showlegend": true,
         "type": "scatter",
         "x": [
          6
         ],
         "xaxis": "x",
         "y": [
          8
         ],
         "yaxis": "y"
        },
        {
         "customdata": [
          [
           "Kolkata Knight Riders"
          ]
         ],
         "hovertemplate": "team=%{customdata[0]}<br>wins=%{x}<br>loss=%{y}<extra></extra>",
         "legendgroup": "Kolkata Knight Riders",
         "marker": {
          "color": "#bcbd22",
          "size": 10,
          "symbol": "x"
         },
         "mode": "markers",
         "name": "Kolkata Knight Riders",
         "orientation": "v",
         "showlegend": true,
         "type": "scatter",
         "x": [
          119
         ],
         "xaxis": "x",
         "y": [
          114
         ],
         "yaxis": "y"
        },
        {
         "customdata": [
          [
           "Sunrisers Hyderabad"
          ]
         ],
         "hovertemplate": "team=%{customdata[0]}<br>wins=%{x}<br>loss=%{y}<extra></extra>",
         "legendgroup": "Sunrisers Hyderabad",
         "marker": {
          "color": "#17becf",
          "size": 10,
          "symbol": "x"
         },
         "mode": "markers",
         "name": "Sunrisers Hyderabad",
         "orientation": "v",
         "showlegend": true,
         "type": "scatter",
         "x": [
          78
         ],
         "xaxis": "x",
         "y": [
          84
         ],
         "yaxis": "y"
        },
        {
         "customdata": [
          [
           "Pune Warriors"
          ]
         ],
         "hovertemplate": "team=%{customdata[0]}<br>wins=%{x}<br>loss=%{y}<extra></extra>",
         "legendgroup": "Pune Warriors",
         "marker": {
          "color": "#888888",
          "size": 10,
          "symbol": "x"
         },
         "mode": "markers",
         "name": "Pune Warriors",
         "orientation": "v",
         "showlegend": true,
         "type": "scatter",
         "x": [
          12
         ],
         "xaxis": "x",
         "y": [
          34
         ],
         "yaxis": "y"
        },
        {
         "customdata": [
          [
           "Deccan Chargers"
          ]
         ],
         "hovertemplate": "team=%{customdata[0]}<br>wins=%{x}<br>loss=%{y}<extra></extra>",
         "legendgroup": "Deccan Chargers",
         "marker": {
          "color": "#585858",
          "size": 10,
          "symbol": "x"
         },
         "mode": "markers",
         "name": "Deccan Chargers",
         "orientation": "v",
         "showlegend": true,
         "type": "scatter",
         "x": [
          29
         ],
         "xaxis": "x",
         "y": [
          46
         ],
         "yaxis": "y"
        }
       ],
       "layout": {
        "height": 600,
        "legend": {
         "title": {
          "text": "Team"
         },
         "tracegroupgap": 0,
         "x": 1,
         "y": 1
        },
        "margin": {
         "t": 60
        },
        "template": {
         "data": {
          "bar": [
           {
            "error_x": {
             "color": "#2a3f5f"
            },
            "error_y": {
             "color": "#2a3f5f"
            },
            "marker": {
             "line": {
              "color": "#E5ECF6",
              "width": 0.5
             },
             "pattern": {
              "fillmode": "overlay",
              "size": 10,
              "solidity": 0.2
             }
            },
            "type": "bar"
           }
          ],
          "barpolar": [
           {
            "marker": {
             "line": {
              "color": "#E5ECF6",
              "width": 0.5
             },
             "pattern": {
              "fillmode": "overlay",
              "size": 10,
              "solidity": 0.2
             }
            },
            "type": "barpolar"
           }
          ],
          "carpet": [
           {
            "aaxis": {
             "endlinecolor": "#2a3f5f",
             "gridcolor": "white",
             "linecolor": "white",
             "minorgridcolor": "white",
             "startlinecolor": "#2a3f5f"
            },
            "baxis": {
             "endlinecolor": "#2a3f5f",
             "gridcolor": "white",
             "linecolor": "white",
             "minorgridcolor": "white",
             "startlinecolor": "#2a3f5f"
            },
            "type": "carpet"
           }
          ],
          "choropleth": [
           {
            "colorbar": {
             "outlinewidth": 0,
             "ticks": ""
            },
            "type": "choropleth"
           }
          ],
          "contour": [
           {
            "colorbar": {
             "outlinewidth": 0,
             "ticks": ""
            },
            "colorscale": [
             [
              0,
              "#0d0887"
             ],
             [
              0.1111111111111111,
              "#46039f"
             ],
             [
              0.2222222222222222,
              "#7201a8"
             ],
             [
              0.3333333333333333,
              "#9c179e"
             ],
             [
              0.4444444444444444,
              "#bd3786"
             ],
             [
              0.5555555555555556,
              "#d8576b"
             ],
             [
              0.6666666666666666,
              "#ed7953"
             ],
             [
              0.7777777777777778,
              "#fb9f3a"
             ],
             [
              0.8888888888888888,
              "#fdca26"
             ],
             [
              1,
              "#f0f921"
             ]
            ],
            "type": "contour"
           }
          ],
          "contourcarpet": [
           {
            "colorbar": {
             "outlinewidth": 0,
             "ticks": ""
            },
            "type": "contourcarpet"
           }
          ],
          "heatmap": [
           {
            "colorbar": {
             "outlinewidth": 0,
             "ticks": ""
            },
            "colorscale": [
             [
              0,
              "#0d0887"
             ],
             [
              0.1111111111111111,
              "#46039f"
             ],
             [
              0.2222222222222222,
              "#7201a8"
             ],
             [
              0.3333333333333333,
              "#9c179e"
             ],
             [
              0.4444444444444444,
              "#bd3786"
             ],
             [
              0.5555555555555556,
              "#d8576b"
             ],
             [
              0.6666666666666666,
              "#ed7953"
             ],
             [
              0.7777777777777778,
              "#fb9f3a"
             ],
             [
              0.8888888888888888,
              "#fdca26"
             ],
             [
              1,
              "#f0f921"
             ]
            ],
            "type": "heatmap"
           }
          ],
          "heatmapgl": [
           {
            "colorbar": {
             "outlinewidth": 0,
             "ticks": ""
            },
            "colorscale": [
             [
              0,
              "#0d0887"
             ],
             [
              0.1111111111111111,
              "#46039f"
             ],
             [
              0.2222222222222222,
              "#7201a8"
             ],
             [
              0.3333333333333333,
              "#9c179e"
             ],
             [
              0.4444444444444444,
              "#bd3786"
             ],
             [
              0.5555555555555556,
              "#d8576b"
             ],
             [
              0.6666666666666666,
              "#ed7953"
             ],
             [
              0.7777777777777778,
              "#fb9f3a"
             ],
             [
              0.8888888888888888,
              "#fdca26"
             ],
             [
              1,
              "#f0f921"
             ]
            ],
            "type": "heatmapgl"
           }
          ],
          "histogram": [
           {
            "marker": {
             "pattern": {
              "fillmode": "overlay",
              "size": 10,
              "solidity": 0.2
             }
            },
            "type": "histogram"
           }
          ],
          "histogram2d": [
           {
            "colorbar": {
             "outlinewidth": 0,
             "ticks": ""
            },
            "colorscale": [
             [
              0,
              "#0d0887"
             ],
             [
              0.1111111111111111,
              "#46039f"
             ],
             [
              0.2222222222222222,
              "#7201a8"
             ],
             [
              0.3333333333333333,
              "#9c179e"
             ],
             [
              0.4444444444444444,
              "#bd3786"
             ],
             [
              0.5555555555555556,
              "#d8576b"
             ],
             [
              0.6666666666666666,
              "#ed7953"
             ],
             [
              0.7777777777777778,
              "#fb9f3a"
             ],
             [
              0.8888888888888888,
              "#fdca26"
             ],
             [
              1,
              "#f0f921"
             ]
            ],
            "type": "histogram2d"
           }
          ],
          "histogram2dcontour": [
           {
            "colorbar": {
             "outlinewidth": 0,
             "ticks": ""
            },
            "colorscale": [
             [
              0,
              "#0d0887"
             ],
             [
              0.1111111111111111,
              "#46039f"
             ],
             [
              0.2222222222222222,
              "#7201a8"
             ],
             [
              0.3333333333333333,
              "#9c179e"
             ],
             [
              0.4444444444444444,
              "#bd3786"
             ],
             [
              0.5555555555555556,
              "#d8576b"
             ],
             [
              0.6666666666666666,
              "#ed7953"
             ],
             [
              0.7777777777777778,
              "#fb9f3a"
             ],
             [
              0.8888888888888888,
              "#fdca26"
             ],
             [
              1,
              "#f0f921"
             ]
            ],
            "type": "histogram2dcontour"
           }
          ],
          "mesh3d": [
           {
            "colorbar": {
             "outlinewidth": 0,
             "ticks": ""
            },
            "type": "mesh3d"
           }
          ],
          "parcoords": [
           {
            "line": {
             "colorbar": {
              "outlinewidth": 0,
              "ticks": ""
             }
            },
            "type": "parcoords"
           }
          ],
          "pie": [
           {
            "automargin": true,
            "type": "pie"
           }
          ],
          "scatter": [
           {
            "fillpattern": {
             "fillmode": "overlay",
             "size": 10,
             "solidity": 0.2
            },
            "type": "scatter"
           }
          ],
          "scatter3d": [
           {
            "line": {
             "colorbar": {
              "outlinewidth": 0,
              "ticks": ""
             }
            },
            "marker": {
             "colorbar": {
              "outlinewidth": 0,
              "ticks": ""
             }
            },
            "type": "scatter3d"
           }
          ],
          "scattercarpet": [
           {
            "marker": {
             "colorbar": {
              "outlinewidth": 0,
              "ticks": ""
             }
            },
            "type": "scattercarpet"
           }
          ],
          "scattergeo": [
           {
            "marker": {
             "colorbar": {
              "outlinewidth": 0,
              "ticks": ""
             }
            },
            "type": "scattergeo"
           }
          ],
          "scattergl": [
           {
            "marker": {
             "colorbar": {
              "outlinewidth": 0,
              "ticks": ""
             }
            },
            "type": "scattergl"
           }
          ],
          "scattermapbox": [
           {
            "marker": {
             "colorbar": {
              "outlinewidth": 0,
              "ticks": ""
             }
            },
            "type": "scattermapbox"
           }
          ],
          "scatterpolar": [
           {
            "marker": {
             "colorbar": {
              "outlinewidth": 0,
              "ticks": ""
             }
            },
            "type": "scatterpolar"
           }
          ],
          "scatterpolargl": [
           {
            "marker": {
             "colorbar": {
              "outlinewidth": 0,
              "ticks": ""
             }
            },
            "type": "scatterpolargl"
           }
          ],
          "scatterternary": [
           {
            "marker": {
             "colorbar": {
              "outlinewidth": 0,
              "ticks": ""
             }
            },
            "type": "scatterternary"
           }
          ],
          "surface": [
           {
            "colorbar": {
             "outlinewidth": 0,
             "ticks": ""
            },
            "colorscale": [
             [
              0,
              "#0d0887"
             ],
             [
              0.1111111111111111,
              "#46039f"
             ],
             [
              0.2222222222222222,
              "#7201a8"
             ],
             [
              0.3333333333333333,
              "#9c179e"
             ],
             [
              0.4444444444444444,
              "#bd3786"
             ],
             [
              0.5555555555555556,
              "#d8576b"
             ],
             [
              0.6666666666666666,
              "#ed7953"
             ],
             [
              0.7777777777777778,
              "#fb9f3a"
             ],
             [
              0.8888888888888888,
              "#fdca26"
             ],
             [
              1,
              "#f0f921"
             ]
            ],
            "type": "surface"
           }
          ],
          "table": [
           {
            "cells": {
             "fill": {
              "color": "#EBF0F8"
             },
             "line": {
              "color": "white"
             }
            },
            "header": {
             "fill": {
              "color": "#C8D4E3"
             },
             "line": {
              "color": "white"
             }
            },
            "type": "table"
           }
          ]
         },
         "layout": {
          "annotationdefaults": {
           "arrowcolor": "#2a3f5f",
           "arrowhead": 0,
           "arrowwidth": 1
          },
          "autotypenumbers": "strict",
          "coloraxis": {
           "colorbar": {
            "outlinewidth": 0,
            "ticks": ""
           }
          },
          "colorscale": {
           "diverging": [
            [
             0,
             "#8e0152"
            ],
            [
             0.1,
             "#c51b7d"
            ],
            [
             0.2,
             "#de77ae"
            ],
            [
             0.3,
             "#f1b6da"
            ],
            [
             0.4,
             "#fde0ef"
            ],
            [
             0.5,
             "#f7f7f7"
            ],
            [
             0.6,
             "#e6f5d0"
            ],
            [
             0.7,
             "#b8e186"
            ],
            [
             0.8,
             "#7fbc41"
            ],
            [
             0.9,
             "#4d9221"
            ],
            [
             1,
             "#276419"
            ]
           ],
           "sequential": [
            [
             0,
             "#0d0887"
            ],
            [
             0.1111111111111111,
             "#46039f"
            ],
            [
             0.2222222222222222,
             "#7201a8"
            ],
            [
             0.3333333333333333,
             "#9c179e"
            ],
            [
             0.4444444444444444,
             "#bd3786"
            ],
            [
             0.5555555555555556,
             "#d8576b"
            ],
            [
             0.6666666666666666,
             "#ed7953"
            ],
            [
             0.7777777777777778,
             "#fb9f3a"
            ],
            [
             0.8888888888888888,
             "#fdca26"
            ],
            [
             1,
             "#f0f921"
            ]
           ],
           "sequentialminus": [
            [
             0,
             "#0d0887"
            ],
            [
             0.1111111111111111,
             "#46039f"
            ],
            [
             0.2222222222222222,
             "#7201a8"
            ],
            [
             0.3333333333333333,
             "#9c179e"
            ],
            [
             0.4444444444444444,
             "#bd3786"
            ],
            [
             0.5555555555555556,
             "#d8576b"
            ],
            [
             0.6666666666666666,
             "#ed7953"
            ],
            [
             0.7777777777777778,
             "#fb9f3a"
            ],
            [
             0.8888888888888888,
             "#fdca26"
            ],
            [
             1,
             "#f0f921"
            ]
           ]
          },
          "colorway": [
           "#636efa",
           "#EF553B",
           "#00cc96",
           "#ab63fa",
           "#FFA15A",
           "#19d3f3",
           "#FF6692",
           "#B6E880",
           "#FF97FF",
           "#FECB52"
          ],
          "font": {
           "color": "#2a3f5f"
          },
          "geo": {
           "bgcolor": "white",
           "lakecolor": "white",
           "landcolor": "#E5ECF6",
           "showlakes": true,
           "showland": true,
           "subunitcolor": "white"
          },
          "hoverlabel": {
           "align": "left"
          },
          "hovermode": "closest",
          "mapbox": {
           "style": "light"
          },
          "paper_bgcolor": "white",
          "plot_bgcolor": "#E5ECF6",
          "polar": {
           "angularaxis": {
            "gridcolor": "white",
            "linecolor": "white",
            "ticks": ""
           },
           "bgcolor": "#E5ECF6",
           "radialaxis": {
            "gridcolor": "white",
            "linecolor": "white",
            "ticks": ""
           }
          },
          "scene": {
           "xaxis": {
            "backgroundcolor": "#E5ECF6",
            "gridcolor": "white",
            "gridwidth": 2,
            "linecolor": "white",
            "showbackground": true,
            "ticks": "",
            "zerolinecolor": "white"
           },
           "yaxis": {
            "backgroundcolor": "#E5ECF6",
            "gridcolor": "white",
            "gridwidth": 2,
            "linecolor": "white",
            "showbackground": true,
            "ticks": "",
            "zerolinecolor": "white"
           },
           "zaxis": {
            "backgroundcolor": "#E5ECF6",
            "gridcolor": "white",
            "gridwidth": 2,
            "linecolor": "white",
            "showbackground": true,
            "ticks": "",
            "zerolinecolor": "white"
           }
          },
          "shapedefaults": {
           "line": {
            "color": "#2a3f5f"
           }
          },
          "ternary": {
           "aaxis": {
            "gridcolor": "white",
            "linecolor": "white",
            "ticks": ""
           },
           "baxis": {
            "gridcolor": "white",
            "linecolor": "white",
            "ticks": ""
           },
           "bgcolor": "#E5ECF6",
           "caxis": {
            "gridcolor": "white",
            "linecolor": "white",
            "ticks": ""
           }
          },
          "title": {
           "x": 0.05
          },
          "xaxis": {
           "automargin": true,
           "gridcolor": "white",
           "linecolor": "white",
           "ticks": "",
           "title": {
            "standoff": 15
           },
           "zerolinecolor": "white",
           "zerolinewidth": 2
          },
          "yaxis": {
           "automargin": true,
           "gridcolor": "white",
           "linecolor": "white",
           "ticks": "",
           "title": {
            "standoff": 15
           },
           "zerolinecolor": "white",
           "zerolinewidth": 2
          }
         }
        },
        "title": {
         "text": "Total wins Vs Total loss"
        },
        "width": 1200,
        "xaxis": {
         "anchor": "y",
         "domain": [
          0,
          1
         ],
         "title": {
          "text": "Total Wins"
         }
        },
        "yaxis": {
         "anchor": "x",
         "domain": [
          0,
          1
         ],
         "title": {
          "text": "Losses"
         }
        }
       }
      }
     },
     "metadata": {},
     "output_type": "display_data"
    }
   ],
   "source": [
    "fig = px.scatter(eloDf, x=\"wins\", y=\"loss\", color=\"team\",\n",
    "                 color_discrete_map=colorScale,\n",
    "                 hover_data=['team'])  \n",
    "\n",
    "fig.update_traces(marker=dict(size=10, symbol='x'),\n",
    "                  selector=dict(mode='markers'))\n",
    "\n",
    "fig.update_layout(height=600,width=1200,title='Total wins Vs Total loss',\n",
    "                  xaxis_title='Total Wins',\n",
    "                  yaxis_title='Losses',\n",
    "                  legend=dict(title='Team', x=1, y=1)) "
   ]
  },
  {
   "cell_type": "code",
   "execution_count": 61,
   "metadata": {},
   "outputs": [
    {
     "data": {
      "application/vnd.plotly.v1+json": {
       "config": {
        "plotlyServerURL": "https://plot.ly"
       },
       "data": [
        {
         "name": "Wins",
         "type": "bar",
         "x": [
          "Chennai Super Kings",
          "Royal Challengers Bangalore",
          "Gujarat Titans",
          "Mumbai Indians",
          "Punjab Kings",
          "Lucknow Super Giants",
          "Delhi Capitals",
          "Gujarat Lions",
          "Rising Pune Supergiants",
          "Rajasthan Royals",
          "Kochi Tuskers Kerala",
          "Kolkata Knight Riders",
          "Sunrisers Hyderabad",
          "Pune Warriors",
          "Deccan Chargers"
         ],
         "y": [
          131,
          114,
          23,
          138,
          104,
          17,
          105,
          13,
          15,
          101,
          6,
          119,
          78,
          12,
          29
         ]
        },
        {
         "name": "Losses",
         "type": "bar",
         "x": [
          "Chennai Super Kings",
          "Royal Challengers Bangalore",
          "Gujarat Titans",
          "Mumbai Indians",
          "Punjab Kings",
          "Lucknow Super Giants",
          "Delhi Capitals",
          "Gujarat Lions",
          "Rising Pune Supergiants",
          "Rajasthan Royals",
          "Kochi Tuskers Kerala",
          "Kolkata Knight Riders",
          "Sunrisers Hyderabad",
          "Pune Warriors",
          "Deccan Chargers"
         ],
         "y": [
          92,
          123,
          10,
          105,
          124,
          13,
          129,
          16,
          15,
          102,
          8,
          114,
          84,
          34,
          46
         ]
        }
       ],
       "layout": {
        "annotations": [
         {
          "font": {
           "color": "black",
           "size": 10
          },
          "showarrow": false,
          "text": "wins:131",
          "x": "Chennai Super Kings",
          "y": 126
         },
         {
          "font": {
           "color": "black",
           "size": 10
          },
          "showarrow": false,
          "text": "loss:92",
          "x": "Chennai Super Kings",
          "y": 218
         },
         {
          "font": {
           "color": "black",
           "size": 12
          },
          "showarrow": false,
          "text": "1.4",
          "x": "Chennai Super Kings",
          "y": 228
         },
         {
          "font": {
           "color": "black",
           "size": 10
          },
          "showarrow": false,
          "text": "wins:114",
          "x": "Royal Challengers Bangalore",
          "y": 109
         },
         {
          "font": {
           "color": "black",
           "size": 10
          },
          "showarrow": false,
          "text": "loss:123",
          "x": "Royal Challengers Bangalore",
          "y": 232
         },
         {
          "font": {
           "color": "black",
           "size": 12
          },
          "showarrow": false,
          "text": "0.9",
          "x": "Royal Challengers Bangalore",
          "y": 242
         },
         {
          "font": {
           "color": "black",
           "size": 10
          },
          "showarrow": false,
          "text": "wins:23",
          "x": "Gujarat Titans",
          "y": 18
         },
         {
          "font": {
           "color": "black",
           "size": 10
          },
          "showarrow": false,
          "text": "loss:10",
          "x": "Gujarat Titans",
          "y": 28
         },
         {
          "font": {
           "color": "black",
           "size": 12
          },
          "showarrow": false,
          "text": "2.3",
          "x": "Gujarat Titans",
          "y": 38
         },
         {
          "font": {
           "color": "black",
           "size": 10
          },
          "showarrow": false,
          "text": "wins:138",
          "x": "Mumbai Indians",
          "y": 133
         },
         {
          "font": {
           "color": "black",
           "size": 10
          },
          "showarrow": false,
          "text": "loss:105",
          "x": "Mumbai Indians",
          "y": 238
         },
         {
          "font": {
           "color": "black",
           "size": 12
          },
          "showarrow": false,
          "text": "1.3",
          "x": "Mumbai Indians",
          "y": 248
         },
         {
          "font": {
           "color": "black",
           "size": 10
          },
          "showarrow": false,
          "text": "wins:104",
          "x": "Punjab Kings",
          "y": 99
         },
         {
          "font": {
           "color": "black",
           "size": 10
          },
          "showarrow": false,
          "text": "loss:124",
          "x": "Punjab Kings",
          "y": 223
         },
         {
          "font": {
           "color": "black",
           "size": 12
          },
          "showarrow": false,
          "text": "0.8",
          "x": "Punjab Kings",
          "y": 233
         },
         {
          "font": {
           "color": "black",
           "size": 10
          },
          "showarrow": false,
          "text": "wins:17",
          "x": "Lucknow Super Giants",
          "y": 12
         },
         {
          "font": {
           "color": "black",
           "size": 10
          },
          "showarrow": false,
          "text": "loss:13",
          "x": "Lucknow Super Giants",
          "y": 25
         },
         {
          "font": {
           "color": "black",
           "size": 12
          },
          "showarrow": false,
          "text": "1.3",
          "x": "Lucknow Super Giants",
          "y": 35
         },
         {
          "font": {
           "color": "black",
           "size": 10
          },
          "showarrow": false,
          "text": "wins:105",
          "x": "Delhi Capitals",
          "y": 100
         },
         {
          "font": {
           "color": "black",
           "size": 10
          },
          "showarrow": false,
          "text": "loss:129",
          "x": "Delhi Capitals",
          "y": 229
         },
         {
          "font": {
           "color": "black",
           "size": 12
          },
          "showarrow": false,
          "text": "0.8",
          "x": "Delhi Capitals",
          "y": 239
         },
         {
          "font": {
           "color": "black",
           "size": 10
          },
          "showarrow": false,
          "text": "wins:13",
          "x": "Gujarat Lions",
          "y": 8
         },
         {
          "font": {
           "color": "black",
           "size": 10
          },
          "showarrow": false,
          "text": "loss:16",
          "x": "Gujarat Lions",
          "y": 24
         },
         {
          "font": {
           "color": "black",
           "size": 12
          },
          "showarrow": false,
          "text": "0.8",
          "x": "Gujarat Lions",
          "y": 34
         },
         {
          "font": {
           "color": "black",
           "size": 10
          },
          "showarrow": false,
          "text": "wins:15",
          "x": "Rising Pune Supergiants",
          "y": 10
         },
         {
          "font": {
           "color": "black",
           "size": 10
          },
          "showarrow": false,
          "text": "loss:15",
          "x": "Rising Pune Supergiants",
          "y": 25
         },
         {
          "font": {
           "color": "black",
           "size": 12
          },
          "showarrow": false,
          "text": "1.0",
          "x": "Rising Pune Supergiants",
          "y": 35
         },
         {
          "font": {
           "color": "black",
           "size": 10
          },
          "showarrow": false,
          "text": "wins:101",
          "x": "Rajasthan Royals",
          "y": 96
         },
         {
          "font": {
           "color": "black",
           "size": 10
          },
          "showarrow": false,
          "text": "loss:102",
          "x": "Rajasthan Royals",
          "y": 198
         },
         {
          "font": {
           "color": "black",
           "size": 12
          },
          "showarrow": false,
          "text": "1.0",
          "x": "Rajasthan Royals",
          "y": 208
         },
         {
          "font": {
           "color": "black",
           "size": 10
          },
          "showarrow": false,
          "text": "wins:6",
          "x": "Kochi Tuskers Kerala",
          "y": 1
         },
         {
          "font": {
           "color": "black",
           "size": 10
          },
          "showarrow": false,
          "text": "loss:8",
          "x": "Kochi Tuskers Kerala",
          "y": 9
         },
         {
          "font": {
           "color": "black",
           "size": 12
          },
          "showarrow": false,
          "text": "0.8",
          "x": "Kochi Tuskers Kerala",
          "y": 19
         },
         {
          "font": {
           "color": "black",
           "size": 10
          },
          "showarrow": false,
          "text": "wins:119",
          "x": "Kolkata Knight Riders",
          "y": 114
         },
         {
          "font": {
           "color": "black",
           "size": 10
          },
          "showarrow": false,
          "text": "loss:114",
          "x": "Kolkata Knight Riders",
          "y": 228
         },
         {
          "font": {
           "color": "black",
           "size": 12
          },
          "showarrow": false,
          "text": "1.0",
          "x": "Kolkata Knight Riders",
          "y": 238
         },
         {
          "font": {
           "color": "black",
           "size": 10
          },
          "showarrow": false,
          "text": "wins:78",
          "x": "Sunrisers Hyderabad",
          "y": 73
         },
         {
          "font": {
           "color": "black",
           "size": 10
          },
          "showarrow": false,
          "text": "loss:84",
          "x": "Sunrisers Hyderabad",
          "y": 157
         },
         {
          "font": {
           "color": "black",
           "size": 12
          },
          "showarrow": false,
          "text": "0.9",
          "x": "Sunrisers Hyderabad",
          "y": 167
         },
         {
          "font": {
           "color": "black",
           "size": 10
          },
          "showarrow": false,
          "text": "wins:12",
          "x": "Pune Warriors",
          "y": 7
         },
         {
          "font": {
           "color": "black",
           "size": 10
          },
          "showarrow": false,
          "text": "loss:34",
          "x": "Pune Warriors",
          "y": 41
         },
         {
          "font": {
           "color": "black",
           "size": 12
          },
          "showarrow": false,
          "text": "0.4",
          "x": "Pune Warriors",
          "y": 51
         },
         {
          "font": {
           "color": "black",
           "size": 10
          },
          "showarrow": false,
          "text": "wins:29",
          "x": "Deccan Chargers",
          "y": 24
         },
         {
          "font": {
           "color": "black",
           "size": 10
          },
          "showarrow": false,
          "text": "loss:46",
          "x": "Deccan Chargers",
          "y": 70
         },
         {
          "font": {
           "color": "black",
           "size": 12
          },
          "showarrow": false,
          "text": "0.6",
          "x": "Deccan Chargers",
          "y": 80
         }
        ],
        "barmode": "stack",
        "height": 600,
        "legend": {
         "title": {
          "text": "Metric"
         },
         "x": 1,
         "y": 1
        },
        "template": {
         "data": {
          "bar": [
           {
            "error_x": {
             "color": "#2a3f5f"
            },
            "error_y": {
             "color": "#2a3f5f"
            },
            "marker": {
             "line": {
              "color": "#E5ECF6",
              "width": 0.5
             },
             "pattern": {
              "fillmode": "overlay",
              "size": 10,
              "solidity": 0.2
             }
            },
            "type": "bar"
           }
          ],
          "barpolar": [
           {
            "marker": {
             "line": {
              "color": "#E5ECF6",
              "width": 0.5
             },
             "pattern": {
              "fillmode": "overlay",
              "size": 10,
              "solidity": 0.2
             }
            },
            "type": "barpolar"
           }
          ],
          "carpet": [
           {
            "aaxis": {
             "endlinecolor": "#2a3f5f",
             "gridcolor": "white",
             "linecolor": "white",
             "minorgridcolor": "white",
             "startlinecolor": "#2a3f5f"
            },
            "baxis": {
             "endlinecolor": "#2a3f5f",
             "gridcolor": "white",
             "linecolor": "white",
             "minorgridcolor": "white",
             "startlinecolor": "#2a3f5f"
            },
            "type": "carpet"
           }
          ],
          "choropleth": [
           {
            "colorbar": {
             "outlinewidth": 0,
             "ticks": ""
            },
            "type": "choropleth"
           }
          ],
          "contour": [
           {
            "colorbar": {
             "outlinewidth": 0,
             "ticks": ""
            },
            "colorscale": [
             [
              0,
              "#0d0887"
             ],
             [
              0.1111111111111111,
              "#46039f"
             ],
             [
              0.2222222222222222,
              "#7201a8"
             ],
             [
              0.3333333333333333,
              "#9c179e"
             ],
             [
              0.4444444444444444,
              "#bd3786"
             ],
             [
              0.5555555555555556,
              "#d8576b"
             ],
             [
              0.6666666666666666,
              "#ed7953"
             ],
             [
              0.7777777777777778,
              "#fb9f3a"
             ],
             [
              0.8888888888888888,
              "#fdca26"
             ],
             [
              1,
              "#f0f921"
             ]
            ],
            "type": "contour"
           }
          ],
          "contourcarpet": [
           {
            "colorbar": {
             "outlinewidth": 0,
             "ticks": ""
            },
            "type": "contourcarpet"
           }
          ],
          "heatmap": [
           {
            "colorbar": {
             "outlinewidth": 0,
             "ticks": ""
            },
            "colorscale": [
             [
              0,
              "#0d0887"
             ],
             [
              0.1111111111111111,
              "#46039f"
             ],
             [
              0.2222222222222222,
              "#7201a8"
             ],
             [
              0.3333333333333333,
              "#9c179e"
             ],
             [
              0.4444444444444444,
              "#bd3786"
             ],
             [
              0.5555555555555556,
              "#d8576b"
             ],
             [
              0.6666666666666666,
              "#ed7953"
             ],
             [
              0.7777777777777778,
              "#fb9f3a"
             ],
             [
              0.8888888888888888,
              "#fdca26"
             ],
             [
              1,
              "#f0f921"
             ]
            ],
            "type": "heatmap"
           }
          ],
          "heatmapgl": [
           {
            "colorbar": {
             "outlinewidth": 0,
             "ticks": ""
            },
            "colorscale": [
             [
              0,
              "#0d0887"
             ],
             [
              0.1111111111111111,
              "#46039f"
             ],
             [
              0.2222222222222222,
              "#7201a8"
             ],
             [
              0.3333333333333333,
              "#9c179e"
             ],
             [
              0.4444444444444444,
              "#bd3786"
             ],
             [
              0.5555555555555556,
              "#d8576b"
             ],
             [
              0.6666666666666666,
              "#ed7953"
             ],
             [
              0.7777777777777778,
              "#fb9f3a"
             ],
             [
              0.8888888888888888,
              "#fdca26"
             ],
             [
              1,
              "#f0f921"
             ]
            ],
            "type": "heatmapgl"
           }
          ],
          "histogram": [
           {
            "marker": {
             "pattern": {
              "fillmode": "overlay",
              "size": 10,
              "solidity": 0.2
             }
            },
            "type": "histogram"
           }
          ],
          "histogram2d": [
           {
            "colorbar": {
             "outlinewidth": 0,
             "ticks": ""
            },
            "colorscale": [
             [
              0,
              "#0d0887"
             ],
             [
              0.1111111111111111,
              "#46039f"
             ],
             [
              0.2222222222222222,
              "#7201a8"
             ],
             [
              0.3333333333333333,
              "#9c179e"
             ],
             [
              0.4444444444444444,
              "#bd3786"
             ],
             [
              0.5555555555555556,
              "#d8576b"
             ],
             [
              0.6666666666666666,
              "#ed7953"
             ],
             [
              0.7777777777777778,
              "#fb9f3a"
             ],
             [
              0.8888888888888888,
              "#fdca26"
             ],
             [
              1,
              "#f0f921"
             ]
            ],
            "type": "histogram2d"
           }
          ],
          "histogram2dcontour": [
           {
            "colorbar": {
             "outlinewidth": 0,
             "ticks": ""
            },
            "colorscale": [
             [
              0,
              "#0d0887"
             ],
             [
              0.1111111111111111,
              "#46039f"
             ],
             [
              0.2222222222222222,
              "#7201a8"
             ],
             [
              0.3333333333333333,
              "#9c179e"
             ],
             [
              0.4444444444444444,
              "#bd3786"
             ],
             [
              0.5555555555555556,
              "#d8576b"
             ],
             [
              0.6666666666666666,
              "#ed7953"
             ],
             [
              0.7777777777777778,
              "#fb9f3a"
             ],
             [
              0.8888888888888888,
              "#fdca26"
             ],
             [
              1,
              "#f0f921"
             ]
            ],
            "type": "histogram2dcontour"
           }
          ],
          "mesh3d": [
           {
            "colorbar": {
             "outlinewidth": 0,
             "ticks": ""
            },
            "type": "mesh3d"
           }
          ],
          "parcoords": [
           {
            "line": {
             "colorbar": {
              "outlinewidth": 0,
              "ticks": ""
             }
            },
            "type": "parcoords"
           }
          ],
          "pie": [
           {
            "automargin": true,
            "type": "pie"
           }
          ],
          "scatter": [
           {
            "fillpattern": {
             "fillmode": "overlay",
             "size": 10,
             "solidity": 0.2
            },
            "type": "scatter"
           }
          ],
          "scatter3d": [
           {
            "line": {
             "colorbar": {
              "outlinewidth": 0,
              "ticks": ""
             }
            },
            "marker": {
             "colorbar": {
              "outlinewidth": 0,
              "ticks": ""
             }
            },
            "type": "scatter3d"
           }
          ],
          "scattercarpet": [
           {
            "marker": {
             "colorbar": {
              "outlinewidth": 0,
              "ticks": ""
             }
            },
            "type": "scattercarpet"
           }
          ],
          "scattergeo": [
           {
            "marker": {
             "colorbar": {
              "outlinewidth": 0,
              "ticks": ""
             }
            },
            "type": "scattergeo"
           }
          ],
          "scattergl": [
           {
            "marker": {
             "colorbar": {
              "outlinewidth": 0,
              "ticks": ""
             }
            },
            "type": "scattergl"
           }
          ],
          "scattermapbox": [
           {
            "marker": {
             "colorbar": {
              "outlinewidth": 0,
              "ticks": ""
             }
            },
            "type": "scattermapbox"
           }
          ],
          "scatterpolar": [
           {
            "marker": {
             "colorbar": {
              "outlinewidth": 0,
              "ticks": ""
             }
            },
            "type": "scatterpolar"
           }
          ],
          "scatterpolargl": [
           {
            "marker": {
             "colorbar": {
              "outlinewidth": 0,
              "ticks": ""
             }
            },
            "type": "scatterpolargl"
           }
          ],
          "scatterternary": [
           {
            "marker": {
             "colorbar": {
              "outlinewidth": 0,
              "ticks": ""
             }
            },
            "type": "scatterternary"
           }
          ],
          "surface": [
           {
            "colorbar": {
             "outlinewidth": 0,
             "ticks": ""
            },
            "colorscale": [
             [
              0,
              "#0d0887"
             ],
             [
              0.1111111111111111,
              "#46039f"
             ],
             [
              0.2222222222222222,
              "#7201a8"
             ],
             [
              0.3333333333333333,
              "#9c179e"
             ],
             [
              0.4444444444444444,
              "#bd3786"
             ],
             [
              0.5555555555555556,
              "#d8576b"
             ],
             [
              0.6666666666666666,
              "#ed7953"
             ],
             [
              0.7777777777777778,
              "#fb9f3a"
             ],
             [
              0.8888888888888888,
              "#fdca26"
             ],
             [
              1,
              "#f0f921"
             ]
            ],
            "type": "surface"
           }
          ],
          "table": [
           {
            "cells": {
             "fill": {
              "color": "#EBF0F8"
             },
             "line": {
              "color": "white"
             }
            },
            "header": {
             "fill": {
              "color": "#C8D4E3"
             },
             "line": {
              "color": "white"
             }
            },
            "type": "table"
           }
          ]
         },
         "layout": {
          "annotationdefaults": {
           "arrowcolor": "#2a3f5f",
           "arrowhead": 0,
           "arrowwidth": 1
          },
          "autotypenumbers": "strict",
          "coloraxis": {
           "colorbar": {
            "outlinewidth": 0,
            "ticks": ""
           }
          },
          "colorscale": {
           "diverging": [
            [
             0,
             "#8e0152"
            ],
            [
             0.1,
             "#c51b7d"
            ],
            [
             0.2,
             "#de77ae"
            ],
            [
             0.3,
             "#f1b6da"
            ],
            [
             0.4,
             "#fde0ef"
            ],
            [
             0.5,
             "#f7f7f7"
            ],
            [
             0.6,
             "#e6f5d0"
            ],
            [
             0.7,
             "#b8e186"
            ],
            [
             0.8,
             "#7fbc41"
            ],
            [
             0.9,
             "#4d9221"
            ],
            [
             1,
             "#276419"
            ]
           ],
           "sequential": [
            [
             0,
             "#0d0887"
            ],
            [
             0.1111111111111111,
             "#46039f"
            ],
            [
             0.2222222222222222,
             "#7201a8"
            ],
            [
             0.3333333333333333,
             "#9c179e"
            ],
            [
             0.4444444444444444,
             "#bd3786"
            ],
            [
             0.5555555555555556,
             "#d8576b"
            ],
            [
             0.6666666666666666,
             "#ed7953"
            ],
            [
             0.7777777777777778,
             "#fb9f3a"
            ],
            [
             0.8888888888888888,
             "#fdca26"
            ],
            [
             1,
             "#f0f921"
            ]
           ],
           "sequentialminus": [
            [
             0,
             "#0d0887"
            ],
            [
             0.1111111111111111,
             "#46039f"
            ],
            [
             0.2222222222222222,
             "#7201a8"
            ],
            [
             0.3333333333333333,
             "#9c179e"
            ],
            [
             0.4444444444444444,
             "#bd3786"
            ],
            [
             0.5555555555555556,
             "#d8576b"
            ],
            [
             0.6666666666666666,
             "#ed7953"
            ],
            [
             0.7777777777777778,
             "#fb9f3a"
            ],
            [
             0.8888888888888888,
             "#fdca26"
            ],
            [
             1,
             "#f0f921"
            ]
           ]
          },
          "colorway": [
           "#636efa",
           "#EF553B",
           "#00cc96",
           "#ab63fa",
           "#FFA15A",
           "#19d3f3",
           "#FF6692",
           "#B6E880",
           "#FF97FF",
           "#FECB52"
          ],
          "font": {
           "color": "#2a3f5f"
          },
          "geo": {
           "bgcolor": "white",
           "lakecolor": "white",
           "landcolor": "#E5ECF6",
           "showlakes": true,
           "showland": true,
           "subunitcolor": "white"
          },
          "hoverlabel": {
           "align": "left"
          },
          "hovermode": "closest",
          "mapbox": {
           "style": "light"
          },
          "paper_bgcolor": "white",
          "plot_bgcolor": "#E5ECF6",
          "polar": {
           "angularaxis": {
            "gridcolor": "white",
            "linecolor": "white",
            "ticks": ""
           },
           "bgcolor": "#E5ECF6",
           "radialaxis": {
            "gridcolor": "white",
            "linecolor": "white",
            "ticks": ""
           }
          },
          "scene": {
           "xaxis": {
            "backgroundcolor": "#E5ECF6",
            "gridcolor": "white",
            "gridwidth": 2,
            "linecolor": "white",
            "showbackground": true,
            "ticks": "",
            "zerolinecolor": "white"
           },
           "yaxis": {
            "backgroundcolor": "#E5ECF6",
            "gridcolor": "white",
            "gridwidth": 2,
            "linecolor": "white",
            "showbackground": true,
            "ticks": "",
            "zerolinecolor": "white"
           },
           "zaxis": {
            "backgroundcolor": "#E5ECF6",
            "gridcolor": "white",
            "gridwidth": 2,
            "linecolor": "white",
            "showbackground": true,
            "ticks": "",
            "zerolinecolor": "white"
           }
          },
          "shapedefaults": {
           "line": {
            "color": "#2a3f5f"
           }
          },
          "ternary": {
           "aaxis": {
            "gridcolor": "white",
            "linecolor": "white",
            "ticks": ""
           },
           "baxis": {
            "gridcolor": "white",
            "linecolor": "white",
            "ticks": ""
           },
           "bgcolor": "#E5ECF6",
           "caxis": {
            "gridcolor": "white",
            "linecolor": "white",
            "ticks": ""
           }
          },
          "title": {
           "x": 0.05
          },
          "xaxis": {
           "automargin": true,
           "gridcolor": "white",
           "linecolor": "white",
           "ticks": "",
           "title": {
            "standoff": 15
           },
           "zerolinecolor": "white",
           "zerolinewidth": 2
          },
          "yaxis": {
           "automargin": true,
           "gridcolor": "white",
           "linecolor": "white",
           "ticks": "",
           "title": {
            "standoff": 15
           },
           "zerolinecolor": "white",
           "zerolinewidth": 2
          }
         }
        },
        "title": {
         "text": "Team Performance"
        },
        "width": 1200,
        "xaxis": {
         "tickangle": 90,
         "title": {
          "text": "Team"
         }
        },
        "yaxis": {
         "title": {
          "text": "Matches"
         }
        }
       }
      }
     },
     "metadata": {},
     "output_type": "display_data"
    }
   ],
   "source": [
    "fig = go.Figure(data=[\n",
    "    go.Bar(name='Wins', x=eloDf['team'], y=eloDf['wins']),\n",
    "    go.Bar(name='Losses', x=eloDf['team'], y=eloDf['loss'])\n",
    "])\n",
    "\n",
    "# Update layout\n",
    "fig.update_layout(barmode=\"stack\",height=600, width=1200, title='Team Performance',\n",
    "                  xaxis_title='Team', yaxis_title='Matches',\n",
    "                  xaxis=dict(tickangle=90),\n",
    "                  legend=dict(title='Metric', x=1, y=1))\n",
    "\n",
    "# Add annotations for win/loss ratio\n",
    "for i, row in eloDf.iterrows():\n",
    "    #'win annotation'\n",
    "    fig.add_annotation(\n",
    "        x=row['team'],\n",
    "        y=row['wins'] -5,\n",
    "        text=f\"wins:{row['wins']}\",\n",
    "        showarrow=False,\n",
    "        font=dict(\n",
    "            color=\"black\",\n",
    "            size=10\n",
    "        )\n",
    "    )\n",
    "\n",
    "    #loss annotation\n",
    "    fig.add_annotation(\n",
    "        x=row['team'],\n",
    "        y=row['wins'] + row['loss']-5,\n",
    "        text=f\"loss:{row['loss']}\",\n",
    "        showarrow=False,\n",
    "        font=dict(\n",
    "            color=\"black\",\n",
    "            size=10\n",
    "        )\n",
    "    )\n",
    "\n",
    "    fig.add_annotation(\n",
    "        x=row['team'],\n",
    "        y=row['wins'] + row['loss']+5,\n",
    "        text=f\"{row['winLossRatio']:.1f}\",\n",
    "        showarrow=False,\n",
    "        font=dict(\n",
    "            color=\"black\",\n",
    "            size=12\n",
    "        )\n",
    "    )\n",
    "\n",
    "# Show the figure\n",
    "fig.show()"
   ]
  },
  {
   "cell_type": "markdown",
   "metadata": {},
   "source": [
    "## Season-wise Elo Ratings of Team"
   ]
  },
  {
   "cell_type": "markdown",
   "metadata": {},
   "source": [
    "preparing Elo Rating Season By Season Df"
   ]
  },
  {
   "cell_type": "code",
   "execution_count": 62,
   "metadata": {},
   "outputs": [],
   "source": [
    "#flattening data and prepping the dataframe\n",
    "data = []\n",
    "for season, teams in seasonData.items():\n",
    "    for team, elo in teams.items():\n",
    "        row = {\n",
    "            'team': team,\n",
    "            'season': season,\n",
    "            'eloRating': elo,\n",
    "            'wins': seasonWins[season].get(team, 0),\n",
    "            'matches': seasonMatches[season].get(team, 0),\n",
    "            'ties':seasonTies[season].get(team,0)\n",
    "        }\n",
    "        data.append(row)\n",
    "\n",
    "\n",
    "eloSeason = pd.DataFrame(data)\n",
    "\n",
    "eloSeason.sort_values(by=['team', 'season'], inplace=True)\n",
    "\n",
    "\n",
    "eloSeason.reset_index(drop=True,inplace=True)"
   ]
  },
  {
   "cell_type": "code",
   "execution_count": 63,
   "metadata": {},
   "outputs": [
    {
     "data": {
      "text/html": [
       "<div>\n",
       "<style scoped>\n",
       "    .dataframe tbody tr th:only-of-type {\n",
       "        vertical-align: middle;\n",
       "    }\n",
       "\n",
       "    .dataframe tbody tr th {\n",
       "        vertical-align: top;\n",
       "    }\n",
       "\n",
       "    .dataframe thead th {\n",
       "        text-align: right;\n",
       "    }\n",
       "</style>\n",
       "<table border=\"1\" class=\"dataframe\">\n",
       "  <thead>\n",
       "    <tr style=\"text-align: right;\">\n",
       "      <th></th>\n",
       "      <th>team</th>\n",
       "      <th>season</th>\n",
       "      <th>eloRating</th>\n",
       "      <th>wins</th>\n",
       "      <th>matches</th>\n",
       "      <th>ties</th>\n",
       "      <th>winRatio</th>\n",
       "      <th>loss</th>\n",
       "      <th>winLossRatio</th>\n",
       "    </tr>\n",
       "  </thead>\n",
       "  <tbody>\n",
       "    <tr>\n",
       "      <th>0</th>\n",
       "      <td>Chennai Super Kings</td>\n",
       "      <td>2008</td>\n",
       "      <td>1111.196</td>\n",
       "      <td>9</td>\n",
       "      <td>16</td>\n",
       "      <td>0</td>\n",
       "      <td>0.562</td>\n",
       "      <td>7</td>\n",
       "      <td>1.286</td>\n",
       "    </tr>\n",
       "    <tr>\n",
       "      <th>1</th>\n",
       "      <td>Chennai Super Kings</td>\n",
       "      <td>2009</td>\n",
       "      <td>1108.429</td>\n",
       "      <td>8</td>\n",
       "      <td>14</td>\n",
       "      <td>0</td>\n",
       "      <td>0.571</td>\n",
       "      <td>6</td>\n",
       "      <td>1.333</td>\n",
       "    </tr>\n",
       "    <tr>\n",
       "      <th>2</th>\n",
       "      <td>Chennai Super Kings</td>\n",
       "      <td>2010</td>\n",
       "      <td>1127.404</td>\n",
       "      <td>9</td>\n",
       "      <td>16</td>\n",
       "      <td>1</td>\n",
       "      <td>0.562</td>\n",
       "      <td>6</td>\n",
       "      <td>1.500</td>\n",
       "    </tr>\n",
       "    <tr>\n",
       "      <th>3</th>\n",
       "      <td>Chennai Super Kings</td>\n",
       "      <td>2011</td>\n",
       "      <td>1116.321</td>\n",
       "      <td>11</td>\n",
       "      <td>16</td>\n",
       "      <td>0</td>\n",
       "      <td>0.688</td>\n",
       "      <td>5</td>\n",
       "      <td>2.200</td>\n",
       "    </tr>\n",
       "    <tr>\n",
       "      <th>4</th>\n",
       "      <td>Chennai Super Kings</td>\n",
       "      <td>2012</td>\n",
       "      <td>1097.227</td>\n",
       "      <td>10</td>\n",
       "      <td>18</td>\n",
       "      <td>0</td>\n",
       "      <td>0.556</td>\n",
       "      <td>8</td>\n",
       "      <td>1.250</td>\n",
       "    </tr>\n",
       "    <tr>\n",
       "      <th>...</th>\n",
       "      <td>...</td>\n",
       "      <td>...</td>\n",
       "      <td>...</td>\n",
       "      <td>...</td>\n",
       "      <td>...</td>\n",
       "      <td>...</td>\n",
       "      <td>...</td>\n",
       "      <td>...</td>\n",
       "      <td>...</td>\n",
       "    </tr>\n",
       "    <tr>\n",
       "      <th>235</th>\n",
       "      <td>Sunrisers Hyderabad</td>\n",
       "      <td>2019</td>\n",
       "      <td>945.097</td>\n",
       "      <td>6</td>\n",
       "      <td>15</td>\n",
       "      <td>1</td>\n",
       "      <td>0.400</td>\n",
       "      <td>8</td>\n",
       "      <td>0.750</td>\n",
       "    </tr>\n",
       "    <tr>\n",
       "      <th>236</th>\n",
       "      <td>Sunrisers Hyderabad</td>\n",
       "      <td>2020</td>\n",
       "      <td>943.813</td>\n",
       "      <td>8</td>\n",
       "      <td>16</td>\n",
       "      <td>1</td>\n",
       "      <td>0.500</td>\n",
       "      <td>7</td>\n",
       "      <td>1.143</td>\n",
       "    </tr>\n",
       "    <tr>\n",
       "      <th>237</th>\n",
       "      <td>Sunrisers Hyderabad</td>\n",
       "      <td>2021</td>\n",
       "      <td>945.097</td>\n",
       "      <td>3</td>\n",
       "      <td>14</td>\n",
       "      <td>1</td>\n",
       "      <td>0.214</td>\n",
       "      <td>10</td>\n",
       "      <td>0.300</td>\n",
       "    </tr>\n",
       "    <tr>\n",
       "      <th>238</th>\n",
       "      <td>Sunrisers Hyderabad</td>\n",
       "      <td>2022</td>\n",
       "      <td>960.149</td>\n",
       "      <td>6</td>\n",
       "      <td>14</td>\n",
       "      <td>0</td>\n",
       "      <td>0.429</td>\n",
       "      <td>8</td>\n",
       "      <td>0.750</td>\n",
       "    </tr>\n",
       "    <tr>\n",
       "      <th>239</th>\n",
       "      <td>Sunrisers Hyderabad</td>\n",
       "      <td>2023</td>\n",
       "      <td>943.813</td>\n",
       "      <td>4</td>\n",
       "      <td>14</td>\n",
       "      <td>0</td>\n",
       "      <td>0.286</td>\n",
       "      <td>10</td>\n",
       "      <td>0.400</td>\n",
       "    </tr>\n",
       "  </tbody>\n",
       "</table>\n",
       "<p>240 rows × 9 columns</p>\n",
       "</div>"
      ],
      "text/plain": [
       "                    team  season  eloRating  wins  matches  ties  winRatio  \\\n",
       "0    Chennai Super Kings    2008   1111.196     9       16     0     0.562   \n",
       "1    Chennai Super Kings    2009   1108.429     8       14     0     0.571   \n",
       "2    Chennai Super Kings    2010   1127.404     9       16     1     0.562   \n",
       "3    Chennai Super Kings    2011   1116.321    11       16     0     0.688   \n",
       "4    Chennai Super Kings    2012   1097.227    10       18     0     0.556   \n",
       "..                   ...     ...        ...   ...      ...   ...       ...   \n",
       "235  Sunrisers Hyderabad    2019    945.097     6       15     1     0.400   \n",
       "236  Sunrisers Hyderabad    2020    943.813     8       16     1     0.500   \n",
       "237  Sunrisers Hyderabad    2021    945.097     3       14     1     0.214   \n",
       "238  Sunrisers Hyderabad    2022    960.149     6       14     0     0.429   \n",
       "239  Sunrisers Hyderabad    2023    943.813     4       14     0     0.286   \n",
       "\n",
       "     loss  winLossRatio  \n",
       "0       7         1.286  \n",
       "1       6         1.333  \n",
       "2       6         1.500  \n",
       "3       5         2.200  \n",
       "4       8         1.250  \n",
       "..    ...           ...  \n",
       "235     8         0.750  \n",
       "236     7         1.143  \n",
       "237    10         0.300  \n",
       "238     8         0.750  \n",
       "239    10         0.400  \n",
       "\n",
       "[240 rows x 9 columns]"
      ]
     },
     "execution_count": 63,
     "metadata": {},
     "output_type": "execute_result"
    }
   ],
   "source": [
    "eloSeason['winRatio'] = round(eloSeason['wins'] / eloSeason['matches'],3) \n",
    "eloSeason['loss'] = eloSeason['matches'] - (eloSeason['wins'] + eloSeason['ties'])\n",
    "eloSeason['winLossRatio'] = round(eloSeason['wins'] / (eloSeason['loss']),3)\n",
    "eloSeason"
   ]
  },
  {
   "cell_type": "code",
   "execution_count": 64,
   "metadata": {},
   "outputs": [
    {
     "name": "stderr",
     "output_type": "stream",
     "text": [
      "/var/folders/8g/tj2b4_nd4qd4hz2_n0dtzjjw0000gn/T/ipykernel_22840/1957506954.py:3: FutureWarning:\n",
      "\n",
      "Not prepending group keys to the result index of transform-like apply. In the future, the group keys will be included in the index, regardless of whether the applied function returns a like-indexed object.\n",
      "To preserve the previous behavior, use\n",
      "\n",
      "\t>>> .groupby(..., group_keys=False)\n",
      "\n",
      "To adopt the future behavior and silence this warning, use \n",
      "\n",
      "\t>>> .groupby(..., group_keys=True)\n",
      "\n"
     ]
    },
    {
     "data": {
      "text/html": [
       "<div>\n",
       "<style scoped>\n",
       "    .dataframe tbody tr th:only-of-type {\n",
       "        vertical-align: middle;\n",
       "    }\n",
       "\n",
       "    .dataframe tbody tr th {\n",
       "        vertical-align: top;\n",
       "    }\n",
       "\n",
       "    .dataframe thead th {\n",
       "        text-align: right;\n",
       "    }\n",
       "</style>\n",
       "<table border=\"1\" class=\"dataframe\">\n",
       "  <thead>\n",
       "    <tr style=\"text-align: right;\">\n",
       "      <th></th>\n",
       "      <th>team</th>\n",
       "      <th>season</th>\n",
       "      <th>eloRating</th>\n",
       "      <th>wins</th>\n",
       "      <th>matches</th>\n",
       "      <th>ties</th>\n",
       "      <th>winRatio</th>\n",
       "      <th>loss</th>\n",
       "      <th>winLossRatio</th>\n",
       "      <th>points</th>\n",
       "    </tr>\n",
       "  </thead>\n",
       "  <tbody>\n",
       "    <tr>\n",
       "      <th>0</th>\n",
       "      <td>Chennai Super Kings</td>\n",
       "      <td>2008</td>\n",
       "      <td>1111.196</td>\n",
       "      <td>9</td>\n",
       "      <td>16</td>\n",
       "      <td>0</td>\n",
       "      <td>0.562</td>\n",
       "      <td>7</td>\n",
       "      <td>1.286</td>\n",
       "      <td>16</td>\n",
       "    </tr>\n",
       "    <tr>\n",
       "      <th>1</th>\n",
       "      <td>Chennai Super Kings</td>\n",
       "      <td>2009</td>\n",
       "      <td>1108.429</td>\n",
       "      <td>8</td>\n",
       "      <td>14</td>\n",
       "      <td>0</td>\n",
       "      <td>0.571</td>\n",
       "      <td>6</td>\n",
       "      <td>1.333</td>\n",
       "      <td>16</td>\n",
       "    </tr>\n",
       "    <tr>\n",
       "      <th>2</th>\n",
       "      <td>Chennai Super Kings</td>\n",
       "      <td>2010</td>\n",
       "      <td>1127.404</td>\n",
       "      <td>9</td>\n",
       "      <td>16</td>\n",
       "      <td>1</td>\n",
       "      <td>0.562</td>\n",
       "      <td>6</td>\n",
       "      <td>1.500</td>\n",
       "      <td>14</td>\n",
       "    </tr>\n",
       "    <tr>\n",
       "      <th>3</th>\n",
       "      <td>Chennai Super Kings</td>\n",
       "      <td>2011</td>\n",
       "      <td>1116.321</td>\n",
       "      <td>11</td>\n",
       "      <td>16</td>\n",
       "      <td>0</td>\n",
       "      <td>0.688</td>\n",
       "      <td>5</td>\n",
       "      <td>2.200</td>\n",
       "      <td>18</td>\n",
       "    </tr>\n",
       "    <tr>\n",
       "      <th>4</th>\n",
       "      <td>Chennai Super Kings</td>\n",
       "      <td>2012</td>\n",
       "      <td>1097.227</td>\n",
       "      <td>10</td>\n",
       "      <td>18</td>\n",
       "      <td>0</td>\n",
       "      <td>0.556</td>\n",
       "      <td>8</td>\n",
       "      <td>1.250</td>\n",
       "      <td>16</td>\n",
       "    </tr>\n",
       "    <tr>\n",
       "      <th>...</th>\n",
       "      <td>...</td>\n",
       "      <td>...</td>\n",
       "      <td>...</td>\n",
       "      <td>...</td>\n",
       "      <td>...</td>\n",
       "      <td>...</td>\n",
       "      <td>...</td>\n",
       "      <td>...</td>\n",
       "      <td>...</td>\n",
       "      <td>...</td>\n",
       "    </tr>\n",
       "    <tr>\n",
       "      <th>131</th>\n",
       "      <td>Sunrisers Hyderabad</td>\n",
       "      <td>2019</td>\n",
       "      <td>945.097</td>\n",
       "      <td>6</td>\n",
       "      <td>15</td>\n",
       "      <td>1</td>\n",
       "      <td>0.400</td>\n",
       "      <td>8</td>\n",
       "      <td>0.750</td>\n",
       "      <td>14</td>\n",
       "    </tr>\n",
       "    <tr>\n",
       "      <th>132</th>\n",
       "      <td>Sunrisers Hyderabad</td>\n",
       "      <td>2020</td>\n",
       "      <td>943.813</td>\n",
       "      <td>8</td>\n",
       "      <td>16</td>\n",
       "      <td>1</td>\n",
       "      <td>0.500</td>\n",
       "      <td>7</td>\n",
       "      <td>1.143</td>\n",
       "      <td>16</td>\n",
       "    </tr>\n",
       "    <tr>\n",
       "      <th>133</th>\n",
       "      <td>Sunrisers Hyderabad</td>\n",
       "      <td>2021</td>\n",
       "      <td>945.097</td>\n",
       "      <td>3</td>\n",
       "      <td>14</td>\n",
       "      <td>1</td>\n",
       "      <td>0.214</td>\n",
       "      <td>10</td>\n",
       "      <td>0.300</td>\n",
       "      <td>8</td>\n",
       "    </tr>\n",
       "    <tr>\n",
       "      <th>134</th>\n",
       "      <td>Sunrisers Hyderabad</td>\n",
       "      <td>2022</td>\n",
       "      <td>960.149</td>\n",
       "      <td>6</td>\n",
       "      <td>14</td>\n",
       "      <td>0</td>\n",
       "      <td>0.429</td>\n",
       "      <td>8</td>\n",
       "      <td>0.750</td>\n",
       "      <td>12</td>\n",
       "    </tr>\n",
       "    <tr>\n",
       "      <th>135</th>\n",
       "      <td>Sunrisers Hyderabad</td>\n",
       "      <td>2023</td>\n",
       "      <td>943.813</td>\n",
       "      <td>4</td>\n",
       "      <td>14</td>\n",
       "      <td>0</td>\n",
       "      <td>0.286</td>\n",
       "      <td>10</td>\n",
       "      <td>0.400</td>\n",
       "      <td>8</td>\n",
       "    </tr>\n",
       "  </tbody>\n",
       "</table>\n",
       "<p>136 rows × 10 columns</p>\n",
       "</div>"
      ],
      "text/plain": [
       "                    team  season  eloRating  wins  matches  ties  winRatio  \\\n",
       "0    Chennai Super Kings    2008   1111.196     9       16     0     0.562   \n",
       "1    Chennai Super Kings    2009   1108.429     8       14     0     0.571   \n",
       "2    Chennai Super Kings    2010   1127.404     9       16     1     0.562   \n",
       "3    Chennai Super Kings    2011   1116.321    11       16     0     0.688   \n",
       "4    Chennai Super Kings    2012   1097.227    10       18     0     0.556   \n",
       "..                   ...     ...        ...   ...      ...   ...       ...   \n",
       "131  Sunrisers Hyderabad    2019    945.097     6       15     1     0.400   \n",
       "132  Sunrisers Hyderabad    2020    943.813     8       16     1     0.500   \n",
       "133  Sunrisers Hyderabad    2021    945.097     3       14     1     0.214   \n",
       "134  Sunrisers Hyderabad    2022    960.149     6       14     0     0.429   \n",
       "135  Sunrisers Hyderabad    2023    943.813     4       14     0     0.286   \n",
       "\n",
       "     loss  winLossRatio  points  \n",
       "0       7         1.286      16  \n",
       "1       6         1.333      16  \n",
       "2       6         1.500      14  \n",
       "3       5         2.200      18  \n",
       "4       8         1.250      16  \n",
       "..    ...           ...     ...  \n",
       "131     8         0.750      14  \n",
       "132     7         1.143      16  \n",
       "133    10         0.300       8  \n",
       "134     8         0.750      12  \n",
       "135    10         0.400       8  \n",
       "\n",
       "[136 rows x 10 columns]"
      ]
     },
     "execution_count": 64,
     "metadata": {},
     "output_type": "execute_result"
    }
   ],
   "source": [
    "eloSeason['eloRating'].replace(0, np.nan, inplace=True)\n",
    "\n",
    "eloSeason['eloRating'] = eloSeason.groupby('team')['eloRating'].apply(lambda x: x.ffill())\n",
    "eloSeason = pd.merge(eloSeason,dfPointsSeason)\n",
    "eloSeason"
   ]
  },
  {
   "cell_type": "code",
   "execution_count": 65,
   "metadata": {},
   "outputs": [
    {
     "data": {
      "application/vnd.plotly.v1+json": {
       "config": {
        "plotlyServerURL": "https://plot.ly"
       },
       "data": [
        {
         "hovertemplate": "team=Chennai Super Kings<br>season=%{x}<br>Elo Rating=%{y}<extra></extra>",
         "legendgroup": "Chennai Super Kings",
         "line": {
          "color": "#1f77b4",
          "dash": "solid"
         },
         "marker": {
          "symbol": "circle"
         },
         "mode": "lines",
         "name": "Chennai Super Kings",
         "orientation": "v",
         "showlegend": true,
         "type": "scatter",
         "x": [
          2008,
          2009,
          2010,
          2011,
          2012,
          2013,
          2014,
          2015,
          2018,
          2019,
          2020,
          2021,
          2022,
          2023
         ],
         "xaxis": "x",
         "y": [
          1111.196,
          1108.429,
          1127.404,
          1116.321,
          1097.227,
          1139.05,
          1139.776,
          1139.776,
          1103.36,
          1139.776,
          1123.721,
          1041.604,
          1043.094,
          1127.09
         ],
         "yaxis": "y"
        },
        {
         "hovertemplate": "team=Deccan Chargers<br>season=%{x}<br>Elo Rating=%{y}<extra></extra>",
         "legendgroup": "Deccan Chargers",
         "line": {
          "color": "#585858",
          "dash": "solid"
         },
         "marker": {
          "symbol": "circle"
         },
         "mode": "lines",
         "name": "Deccan Chargers",
         "orientation": "v",
         "showlegend": true,
         "type": "scatter",
         "x": [
          2008,
          2009,
          2010,
          2011,
          2012
         ],
         "xaxis": "x",
         "y": [
          908.996,
          953.645,
          887.053,
          898.136,
          908.996
         ],
         "yaxis": "y"
        },
        {
         "hovertemplate": "team=Delhi Capitals<br>season=%{x}<br>Elo Rating=%{y}<extra></extra>",
         "legendgroup": "Delhi Capitals",
         "line": {
          "color": "#e377c2",
          "dash": "solid"
         },
         "marker": {
          "symbol": "circle"
         },
         "mode": "lines",
         "name": "Delhi Capitals",
         "orientation": "v",
         "showlegend": true,
         "type": "scatter",
         "x": [
          2008,
          2009,
          2010,
          2011,
          2012,
          2013,
          2014,
          2015,
          2016,
          2017,
          2018,
          2019,
          2020,
          2021,
          2022,
          2023
         ],
         "xaxis": "x",
         "y": [
          1014.988,
          1067.633,
          987.175,
          1084.885,
          1062.951,
          961.698,
          976.544,
          981.182,
          993.868,
          996.838,
          996.838,
          961.698,
          976.544,
          993.868,
          961.698,
          971.2
         ],
         "yaxis": "y"
        },
        {
         "hovertemplate": "team=Gujarat Lions<br>season=%{x}<br>Elo Rating=%{y}<extra></extra>",
         "legendgroup": "Gujarat Lions",
         "line": {
          "color": "#404040",
          "dash": "solid"
         },
         "marker": {
          "symbol": "circle"
         },
         "mode": "lines",
         "name": "Gujarat Lions",
         "orientation": "v",
         "showlegend": true,
         "type": "scatter",
         "x": [
          2016,
          2017
         ],
         "xaxis": "x",
         "y": [
          991.245,
          991.245
         ],
         "yaxis": "y"
        },
        {
         "hovertemplate": "team=Gujarat Titans<br>season=%{x}<br>Elo Rating=%{y}<extra></extra>",
         "legendgroup": "Gujarat Titans",
         "line": {
          "color": "#2ca02c",
          "dash": "solid"
         },
         "marker": {
          "symbol": "circle"
         },
         "mode": "lines",
         "name": "Gujarat Titans",
         "orientation": "v",
         "showlegend": true,
         "type": "scatter",
         "x": [
          2022,
          2023
         ],
         "xaxis": "x",
         "y": [
          1084.687,
          1066.469
         ],
         "yaxis": "y"
        },
        {
         "hovertemplate": "team=Kochi Tuskers Kerala<br>season=%{x}<br>Elo Rating=%{y}<extra></extra>",
         "legendgroup": "Kochi Tuskers Kerala",
         "line": {
          "color": "#585858",
          "dash": "solid"
         },
         "marker": {
          "symbol": "circle"
         },
         "mode": "lines",
         "name": "Kochi Tuskers Kerala",
         "orientation": "v",
         "showlegend": true,
         "type": "scatter",
         "x": [
          2011
         ],
         "xaxis": "x",
         "y": [
          962.662
         ],
         "yaxis": "y"
        },
        {
         "hovertemplate": "team=Kolkata Knight Riders<br>season=%{x}<br>Elo Rating=%{y}<extra></extra>",
         "legendgroup": "Kolkata Knight Riders",
         "line": {
          "color": "#bcbd22",
          "dash": "solid"
         },
         "marker": {
          "symbol": "circle"
         },
         "mode": "lines",
         "name": "Kolkata Knight Riders",
         "orientation": "v",
         "showlegend": true,
         "type": "scatter",
         "x": [
          2008,
          2009,
          2010,
          2011,
          2012,
          2013,
          2014,
          2015,
          2016,
          2017,
          2018,
          2019,
          2020,
          2021,
          2022,
          2023
         ],
         "xaxis": "x",
         "y": [
          927.695,
          947.865,
          944.597,
          987.096,
          975.565,
          959.976,
          933.433,
          962.888,
          943.967,
          914.721,
          958.036,
          944.597,
          980.119,
          959.976,
          914.721,
          932.151
         ],
         "yaxis": "y"
        },
        {
         "hovertemplate": "team=Lucknow Super Giants<br>season=%{x}<br>Elo Rating=%{y}<extra></extra>",
         "legendgroup": "Lucknow Super Giants",
         "line": {
          "color": "#8c564b",
          "dash": "solid"
         },
         "marker": {
          "symbol": "circle"
         },
         "mode": "lines",
         "name": "Lucknow Super Giants",
         "orientation": "v",
         "showlegend": true,
         "type": "scatter",
         "x": [
          2022,
          2023
         ],
         "xaxis": "x",
         "y": [
          1017.219,
          1035.437
         ],
         "yaxis": "y"
        },
        {
         "hovertemplate": "team=Mumbai Indians<br>season=%{x}<br>Elo Rating=%{y}<extra></extra>",
         "legendgroup": "Mumbai Indians",
         "line": {
          "color": "#d62728",
          "dash": "solid"
         },
         "marker": {
          "symbol": "circle"
         },
         "mode": "lines",
         "name": "Mumbai Indians",
         "orientation": "v",
         "showlegend": true,
         "type": "scatter",
         "x": [
          2008,
          2009,
          2010,
          2011,
          2012,
          2013,
          2014,
          2015,
          2016,
          2017,
          2018,
          2019,
          2020,
          2021,
          2022,
          2023
         ],
         "xaxis": "x",
         "y": [
          1050.964,
          1018.708,
          1057.1,
          1002.348,
          1050.964,
          1002.348,
          1041.721,
          1002.348,
          1002.348,
          1026.803,
          1041.721,
          1017.311,
          1041.721,
          1041.721,
          1026.803,
          1041.721
         ],
         "yaxis": "y"
        },
        {
         "hovertemplate": "team=Pune Warriors<br>season=%{x}<br>Elo Rating=%{y}<extra></extra>",
         "legendgroup": "Pune Warriors",
         "line": {
          "color": "#888888",
          "dash": "solid"
         },
         "marker": {
          "symbol": "circle"
         },
         "mode": "lines",
         "name": "Pune Warriors",
         "orientation": "v",
         "showlegend": true,
         "type": "scatter",
         "x": [
          2011,
          2012,
          2013
         ],
         "xaxis": "x",
         "y": [
          910.725,
          900.063,
          900.063
         ],
         "yaxis": "y"
        },
        {
         "hovertemplate": "team=Punjab Kings<br>season=%{x}<br>Elo Rating=%{y}<extra></extra>",
         "legendgroup": "Punjab Kings",
         "line": {
          "color": "#9467bd",
          "dash": "solid"
         },
         "marker": {
          "symbol": "circle"
         },
         "mode": "lines",
         "name": "Punjab Kings",
         "orientation": "v",
         "showlegend": true,
         "type": "scatter",
         "x": [
          2008,
          2009,
          2010,
          2011,
          2012,
          2013,
          2014,
          2015,
          2016,
          2017,
          2018,
          2019,
          2020,
          2021,
          2022,
          2023
         ],
         "xaxis": "x",
         "y": [
          1093.871,
          1030.622,
          1068.148,
          1044.234,
          1055.174,
          1026.005,
          1009.975,
          1060.704,
          1009.975,
          1068.148,
          1124.994,
          1024.893,
          1098.099,
          1026.005,
          1068.986,
          1026.005
         ],
         "yaxis": "y"
        },
        {
         "hovertemplate": "team=Rajasthan Royals<br>season=%{x}<br>Elo Rating=%{y}<extra></extra>",
         "legendgroup": "Rajasthan Royals",
         "line": {
          "color": "#fc6ab5",
          "dash": "solid"
         },
         "marker": {
          "symbol": "circle"
         },
         "mode": "lines",
         "name": "Rajasthan Royals",
         "orientation": "v",
         "showlegend": true,
         "type": "scatter",
         "x": [
          2008,
          2009,
          2010,
          2011,
          2012,
          2013,
          2014,
          2015,
          2018,
          2019,
          2020,
          2021,
          2022,
          2023
         ],
         "xaxis": "x",
         "y": [
          980.005,
          1059.34,
          1033.863,
          976.936,
          1061.278,
          1002.012,
          952.061,
          959.284,
          995.165,
          976.936,
          1033.863,
          995.165,
          1061.278,
          1017.833
         ],
         "yaxis": "y"
        },
        {
         "hovertemplate": "team=Rising Pune Supergiants<br>season=%{x}<br>Elo Rating=%{y}<extra></extra>",
         "legendgroup": "Rising Pune Supergiants",
         "line": {
          "color": "#707070",
          "dash": "solid"
         },
         "marker": {
          "symbol": "circle"
         },
         "mode": "lines",
         "name": "Rising Pune Supergiants",
         "orientation": "v",
         "showlegend": true,
         "type": "scatter",
         "x": [
          2016,
          2017
         ],
         "xaxis": "x",
         "y": [
          977.612,
          980.733
         ],
         "yaxis": "y"
        },
        {
         "hovertemplate": "team=Royal Challengers Bangalore<br>season=%{x}<br>Elo Rating=%{y}<extra></extra>",
         "legendgroup": "Royal Challengers Bangalore",
         "line": {
          "color": "#ff7f0e",
          "dash": "solid"
         },
         "marker": {
          "symbol": "circle"
         },
         "mode": "lines",
         "name": "Royal Challengers Bangalore",
         "orientation": "v",
         "showlegend": true,
         "type": "scatter",
         "x": [
          2008,
          2009,
          2010,
          2011,
          2012,
          2013,
          2014,
          2015,
          2016,
          2017,
          2018,
          2019,
          2020,
          2021,
          2022,
          2023
         ],
         "xaxis": "x",
         "y": [
          1057.093,
          1115.297,
          1051.188,
          1051.188,
          1065.332,
          1116.023,
          1115.297,
          1065.332,
          1074.04,
          1080.778,
          1115.297,
          1050.739,
          1131.352,
          1051.188,
          1043.042,
          1115.297
         ],
         "yaxis": "y"
        },
        {
         "hovertemplate": "team=Sunrisers Hyderabad<br>season=%{x}<br>Elo Rating=%{y}<extra></extra>",
         "legendgroup": "Sunrisers Hyderabad",
         "line": {
          "color": "#17becf",
          "dash": "solid"
         },
         "marker": {
          "symbol": "circle"
         },
         "mode": "lines",
         "name": "Sunrisers Hyderabad",
         "orientation": "v",
         "showlegend": true,
         "type": "scatter",
         "x": [
          2013,
          2014,
          2015,
          2016,
          2017,
          2018,
          2019,
          2020,
          2021,
          2022,
          2023
         ],
         "xaxis": "x",
         "y": [
          940.317,
          943.813,
          918.035,
          960.271,
          901.56,
          901.56,
          945.097,
          943.813,
          945.097,
          960.149,
          943.813
         ],
         "yaxis": "y"
        }
       ],
       "layout": {
        "legend": {
         "title": {
          "text": "team"
         },
         "tracegroupgap": 0
        },
        "template": {
         "data": {
          "bar": [
           {
            "error_x": {
             "color": "#2a3f5f"
            },
            "error_y": {
             "color": "#2a3f5f"
            },
            "marker": {
             "line": {
              "color": "#E5ECF6",
              "width": 0.5
             },
             "pattern": {
              "fillmode": "overlay",
              "size": 10,
              "solidity": 0.2
             }
            },
            "type": "bar"
           }
          ],
          "barpolar": [
           {
            "marker": {
             "line": {
              "color": "#E5ECF6",
              "width": 0.5
             },
             "pattern": {
              "fillmode": "overlay",
              "size": 10,
              "solidity": 0.2
             }
            },
            "type": "barpolar"
           }
          ],
          "carpet": [
           {
            "aaxis": {
             "endlinecolor": "#2a3f5f",
             "gridcolor": "white",
             "linecolor": "white",
             "minorgridcolor": "white",
             "startlinecolor": "#2a3f5f"
            },
            "baxis": {
             "endlinecolor": "#2a3f5f",
             "gridcolor": "white",
             "linecolor": "white",
             "minorgridcolor": "white",
             "startlinecolor": "#2a3f5f"
            },
            "type": "carpet"
           }
          ],
          "choropleth": [
           {
            "colorbar": {
             "outlinewidth": 0,
             "ticks": ""
            },
            "type": "choropleth"
           }
          ],
          "contour": [
           {
            "colorbar": {
             "outlinewidth": 0,
             "ticks": ""
            },
            "colorscale": [
             [
              0,
              "#0d0887"
             ],
             [
              0.1111111111111111,
              "#46039f"
             ],
             [
              0.2222222222222222,
              "#7201a8"
             ],
             [
              0.3333333333333333,
              "#9c179e"
             ],
             [
              0.4444444444444444,
              "#bd3786"
             ],
             [
              0.5555555555555556,
              "#d8576b"
             ],
             [
              0.6666666666666666,
              "#ed7953"
             ],
             [
              0.7777777777777778,
              "#fb9f3a"
             ],
             [
              0.8888888888888888,
              "#fdca26"
             ],
             [
              1,
              "#f0f921"
             ]
            ],
            "type": "contour"
           }
          ],
          "contourcarpet": [
           {
            "colorbar": {
             "outlinewidth": 0,
             "ticks": ""
            },
            "type": "contourcarpet"
           }
          ],
          "heatmap": [
           {
            "colorbar": {
             "outlinewidth": 0,
             "ticks": ""
            },
            "colorscale": [
             [
              0,
              "#0d0887"
             ],
             [
              0.1111111111111111,
              "#46039f"
             ],
             [
              0.2222222222222222,
              "#7201a8"
             ],
             [
              0.3333333333333333,
              "#9c179e"
             ],
             [
              0.4444444444444444,
              "#bd3786"
             ],
             [
              0.5555555555555556,
              "#d8576b"
             ],
             [
              0.6666666666666666,
              "#ed7953"
             ],
             [
              0.7777777777777778,
              "#fb9f3a"
             ],
             [
              0.8888888888888888,
              "#fdca26"
             ],
             [
              1,
              "#f0f921"
             ]
            ],
            "type": "heatmap"
           }
          ],
          "heatmapgl": [
           {
            "colorbar": {
             "outlinewidth": 0,
             "ticks": ""
            },
            "colorscale": [
             [
              0,
              "#0d0887"
             ],
             [
              0.1111111111111111,
              "#46039f"
             ],
             [
              0.2222222222222222,
              "#7201a8"
             ],
             [
              0.3333333333333333,
              "#9c179e"
             ],
             [
              0.4444444444444444,
              "#bd3786"
             ],
             [
              0.5555555555555556,
              "#d8576b"
             ],
             [
              0.6666666666666666,
              "#ed7953"
             ],
             [
              0.7777777777777778,
              "#fb9f3a"
             ],
             [
              0.8888888888888888,
              "#fdca26"
             ],
             [
              1,
              "#f0f921"
             ]
            ],
            "type": "heatmapgl"
           }
          ],
          "histogram": [
           {
            "marker": {
             "pattern": {
              "fillmode": "overlay",
              "size": 10,
              "solidity": 0.2
             }
            },
            "type": "histogram"
           }
          ],
          "histogram2d": [
           {
            "colorbar": {
             "outlinewidth": 0,
             "ticks": ""
            },
            "colorscale": [
             [
              0,
              "#0d0887"
             ],
             [
              0.1111111111111111,
              "#46039f"
             ],
             [
              0.2222222222222222,
              "#7201a8"
             ],
             [
              0.3333333333333333,
              "#9c179e"
             ],
             [
              0.4444444444444444,
              "#bd3786"
             ],
             [
              0.5555555555555556,
              "#d8576b"
             ],
             [
              0.6666666666666666,
              "#ed7953"
             ],
             [
              0.7777777777777778,
              "#fb9f3a"
             ],
             [
              0.8888888888888888,
              "#fdca26"
             ],
             [
              1,
              "#f0f921"
             ]
            ],
            "type": "histogram2d"
           }
          ],
          "histogram2dcontour": [
           {
            "colorbar": {
             "outlinewidth": 0,
             "ticks": ""
            },
            "colorscale": [
             [
              0,
              "#0d0887"
             ],
             [
              0.1111111111111111,
              "#46039f"
             ],
             [
              0.2222222222222222,
              "#7201a8"
             ],
             [
              0.3333333333333333,
              "#9c179e"
             ],
             [
              0.4444444444444444,
              "#bd3786"
             ],
             [
              0.5555555555555556,
              "#d8576b"
             ],
             [
              0.6666666666666666,
              "#ed7953"
             ],
             [
              0.7777777777777778,
              "#fb9f3a"
             ],
             [
              0.8888888888888888,
              "#fdca26"
             ],
             [
              1,
              "#f0f921"
             ]
            ],
            "type": "histogram2dcontour"
           }
          ],
          "mesh3d": [
           {
            "colorbar": {
             "outlinewidth": 0,
             "ticks": ""
            },
            "type": "mesh3d"
           }
          ],
          "parcoords": [
           {
            "line": {
             "colorbar": {
              "outlinewidth": 0,
              "ticks": ""
             }
            },
            "type": "parcoords"
           }
          ],
          "pie": [
           {
            "automargin": true,
            "type": "pie"
           }
          ],
          "scatter": [
           {
            "fillpattern": {
             "fillmode": "overlay",
             "size": 10,
             "solidity": 0.2
            },
            "type": "scatter"
           }
          ],
          "scatter3d": [
           {
            "line": {
             "colorbar": {
              "outlinewidth": 0,
              "ticks": ""
             }
            },
            "marker": {
             "colorbar": {
              "outlinewidth": 0,
              "ticks": ""
             }
            },
            "type": "scatter3d"
           }
          ],
          "scattercarpet": [
           {
            "marker": {
             "colorbar": {
              "outlinewidth": 0,
              "ticks": ""
             }
            },
            "type": "scattercarpet"
           }
          ],
          "scattergeo": [
           {
            "marker": {
             "colorbar": {
              "outlinewidth": 0,
              "ticks": ""
             }
            },
            "type": "scattergeo"
           }
          ],
          "scattergl": [
           {
            "marker": {
             "colorbar": {
              "outlinewidth": 0,
              "ticks": ""
             }
            },
            "type": "scattergl"
           }
          ],
          "scattermapbox": [
           {
            "marker": {
             "colorbar": {
              "outlinewidth": 0,
              "ticks": ""
             }
            },
            "type": "scattermapbox"
           }
          ],
          "scatterpolar": [
           {
            "marker": {
             "colorbar": {
              "outlinewidth": 0,
              "ticks": ""
             }
            },
            "type": "scatterpolar"
           }
          ],
          "scatterpolargl": [
           {
            "marker": {
             "colorbar": {
              "outlinewidth": 0,
              "ticks": ""
             }
            },
            "type": "scatterpolargl"
           }
          ],
          "scatterternary": [
           {
            "marker": {
             "colorbar": {
              "outlinewidth": 0,
              "ticks": ""
             }
            },
            "type": "scatterternary"
           }
          ],
          "surface": [
           {
            "colorbar": {
             "outlinewidth": 0,
             "ticks": ""
            },
            "colorscale": [
             [
              0,
              "#0d0887"
             ],
             [
              0.1111111111111111,
              "#46039f"
             ],
             [
              0.2222222222222222,
              "#7201a8"
             ],
             [
              0.3333333333333333,
              "#9c179e"
             ],
             [
              0.4444444444444444,
              "#bd3786"
             ],
             [
              0.5555555555555556,
              "#d8576b"
             ],
             [
              0.6666666666666666,
              "#ed7953"
             ],
             [
              0.7777777777777778,
              "#fb9f3a"
             ],
             [
              0.8888888888888888,
              "#fdca26"
             ],
             [
              1,
              "#f0f921"
             ]
            ],
            "type": "surface"
           }
          ],
          "table": [
           {
            "cells": {
             "fill": {
              "color": "#EBF0F8"
             },
             "line": {
              "color": "white"
             }
            },
            "header": {
             "fill": {
              "color": "#C8D4E3"
             },
             "line": {
              "color": "white"
             }
            },
            "type": "table"
           }
          ]
         },
         "layout": {
          "annotationdefaults": {
           "arrowcolor": "#2a3f5f",
           "arrowhead": 0,
           "arrowwidth": 1
          },
          "autotypenumbers": "strict",
          "coloraxis": {
           "colorbar": {
            "outlinewidth": 0,
            "ticks": ""
           }
          },
          "colorscale": {
           "diverging": [
            [
             0,
             "#8e0152"
            ],
            [
             0.1,
             "#c51b7d"
            ],
            [
             0.2,
             "#de77ae"
            ],
            [
             0.3,
             "#f1b6da"
            ],
            [
             0.4,
             "#fde0ef"
            ],
            [
             0.5,
             "#f7f7f7"
            ],
            [
             0.6,
             "#e6f5d0"
            ],
            [
             0.7,
             "#b8e186"
            ],
            [
             0.8,
             "#7fbc41"
            ],
            [
             0.9,
             "#4d9221"
            ],
            [
             1,
             "#276419"
            ]
           ],
           "sequential": [
            [
             0,
             "#0d0887"
            ],
            [
             0.1111111111111111,
             "#46039f"
            ],
            [
             0.2222222222222222,
             "#7201a8"
            ],
            [
             0.3333333333333333,
             "#9c179e"
            ],
            [
             0.4444444444444444,
             "#bd3786"
            ],
            [
             0.5555555555555556,
             "#d8576b"
            ],
            [
             0.6666666666666666,
             "#ed7953"
            ],
            [
             0.7777777777777778,
             "#fb9f3a"
            ],
            [
             0.8888888888888888,
             "#fdca26"
            ],
            [
             1,
             "#f0f921"
            ]
           ],
           "sequentialminus": [
            [
             0,
             "#0d0887"
            ],
            [
             0.1111111111111111,
             "#46039f"
            ],
            [
             0.2222222222222222,
             "#7201a8"
            ],
            [
             0.3333333333333333,
             "#9c179e"
            ],
            [
             0.4444444444444444,
             "#bd3786"
            ],
            [
             0.5555555555555556,
             "#d8576b"
            ],
            [
             0.6666666666666666,
             "#ed7953"
            ],
            [
             0.7777777777777778,
             "#fb9f3a"
            ],
            [
             0.8888888888888888,
             "#fdca26"
            ],
            [
             1,
             "#f0f921"
            ]
           ]
          },
          "colorway": [
           "#636efa",
           "#EF553B",
           "#00cc96",
           "#ab63fa",
           "#FFA15A",
           "#19d3f3",
           "#FF6692",
           "#B6E880",
           "#FF97FF",
           "#FECB52"
          ],
          "font": {
           "color": "#2a3f5f"
          },
          "geo": {
           "bgcolor": "white",
           "lakecolor": "white",
           "landcolor": "#E5ECF6",
           "showlakes": true,
           "showland": true,
           "subunitcolor": "white"
          },
          "hoverlabel": {
           "align": "left"
          },
          "hovermode": "closest",
          "mapbox": {
           "style": "light"
          },
          "paper_bgcolor": "white",
          "plot_bgcolor": "#E5ECF6",
          "polar": {
           "angularaxis": {
            "gridcolor": "white",
            "linecolor": "white",
            "ticks": ""
           },
           "bgcolor": "#E5ECF6",
           "radialaxis": {
            "gridcolor": "white",
            "linecolor": "white",
            "ticks": ""
           }
          },
          "scene": {
           "xaxis": {
            "backgroundcolor": "#E5ECF6",
            "gridcolor": "white",
            "gridwidth": 2,
            "linecolor": "white",
            "showbackground": true,
            "ticks": "",
            "zerolinecolor": "white"
           },
           "yaxis": {
            "backgroundcolor": "#E5ECF6",
            "gridcolor": "white",
            "gridwidth": 2,
            "linecolor": "white",
            "showbackground": true,
            "ticks": "",
            "zerolinecolor": "white"
           },
           "zaxis": {
            "backgroundcolor": "#E5ECF6",
            "gridcolor": "white",
            "gridwidth": 2,
            "linecolor": "white",
            "showbackground": true,
            "ticks": "",
            "zerolinecolor": "white"
           }
          },
          "shapedefaults": {
           "line": {
            "color": "#2a3f5f"
           }
          },
          "ternary": {
           "aaxis": {
            "gridcolor": "white",
            "linecolor": "white",
            "ticks": ""
           },
           "baxis": {
            "gridcolor": "white",
            "linecolor": "white",
            "ticks": ""
           },
           "bgcolor": "#E5ECF6",
           "caxis": {
            "gridcolor": "white",
            "linecolor": "white",
            "ticks": ""
           }
          },
          "title": {
           "x": 0.05
          },
          "xaxis": {
           "automargin": true,
           "gridcolor": "white",
           "linecolor": "white",
           "ticks": "",
           "title": {
            "standoff": 15
           },
           "zerolinecolor": "white",
           "zerolinewidth": 2
          },
          "yaxis": {
           "automargin": true,
           "gridcolor": "white",
           "linecolor": "white",
           "ticks": "",
           "title": {
            "standoff": 15
           },
           "zerolinecolor": "white",
           "zerolinewidth": 2
          }
         }
        },
        "title": {
         "text": "Elo Ratings of Cricket Teams Over Seasons"
        },
        "xaxis": {
         "anchor": "y",
         "domain": [
          0,
          1
         ],
         "title": {
          "text": "season"
         }
        },
        "yaxis": {
         "anchor": "x",
         "domain": [
          0,
          1
         ],
         "title": {
          "text": "Elo Rating"
         }
        }
       }
      }
     },
     "metadata": {},
     "output_type": "display_data"
    }
   ],
   "source": [
    "lineFig = px.line(eloSeason, x=\"season\", y=\"eloRating\", color=\"team\", \n",
    "              title=\"Elo Ratings of Cricket Teams Over Seasons\",\n",
    "              labels={\"matchNo\": \"Season\", \"eloRating\": \"Elo Rating\"},\n",
    "              color_discrete_map=colorScale)\n",
    "\n",
    "lineFig.show()"
   ]
  },
  {
   "cell_type": "code",
   "execution_count": 66,
   "metadata": {},
   "outputs": [
    {
     "data": {
      "application/vnd.plotly.v1+json": {
       "config": {
        "plotlyServerURL": "https://plot.ly"
       },
       "data": [
        {
         "name": "Chennai Super Kings",
         "showlegend": true,
         "type": "bar",
         "x": [
          2008
         ],
         "xaxis": "x",
         "y": [
          1111.196
         ],
         "yaxis": "y"
        },
        {
         "name": "Deccan Chargers",
         "showlegend": true,
         "type": "bar",
         "x": [
          2008
         ],
         "xaxis": "x",
         "y": [
          908.996
         ],
         "yaxis": "y"
        },
        {
         "name": "Delhi Capitals",
         "showlegend": true,
         "type": "bar",
         "x": [
          2008
         ],
         "xaxis": "x",
         "y": [
          1014.988
         ],
         "yaxis": "y"
        },
        {
         "name": "Kolkata Knight Riders",
         "showlegend": true,
         "type": "bar",
         "x": [
          2008
         ],
         "xaxis": "x",
         "y": [
          927.695
         ],
         "yaxis": "y"
        },
        {
         "name": "Mumbai Indians",
         "showlegend": true,
         "type": "bar",
         "x": [
          2008
         ],
         "xaxis": "x",
         "y": [
          1050.964
         ],
         "yaxis": "y"
        },
        {
         "name": "Punjab Kings",
         "showlegend": true,
         "type": "bar",
         "x": [
          2008
         ],
         "xaxis": "x",
         "y": [
          1093.871
         ],
         "yaxis": "y"
        },
        {
         "name": "Rajasthan Royals",
         "showlegend": true,
         "type": "bar",
         "x": [
          2008
         ],
         "xaxis": "x",
         "y": [
          980.005
         ],
         "yaxis": "y"
        },
        {
         "name": "Royal Challengers Bangalore",
         "showlegend": true,
         "type": "bar",
         "x": [
          2008
         ],
         "xaxis": "x",
         "y": [
          1057.093
         ],
         "yaxis": "y"
        },
        {
         "name": "Chennai Super Kings",
         "showlegend": false,
         "type": "bar",
         "x": [
          2009
         ],
         "xaxis": "x2",
         "y": [
          1108.429
         ],
         "yaxis": "y2"
        },
        {
         "name": "Deccan Chargers",
         "showlegend": false,
         "type": "bar",
         "x": [
          2009
         ],
         "xaxis": "x2",
         "y": [
          953.645
         ],
         "yaxis": "y2"
        },
        {
         "name": "Delhi Capitals",
         "showlegend": false,
         "type": "bar",
         "x": [
          2009
         ],
         "xaxis": "x2",
         "y": [
          1067.633
         ],
         "yaxis": "y2"
        },
        {
         "name": "Kolkata Knight Riders",
         "showlegend": false,
         "type": "bar",
         "x": [
          2009
         ],
         "xaxis": "x2",
         "y": [
          947.865
         ],
         "yaxis": "y2"
        },
        {
         "name": "Mumbai Indians",
         "showlegend": false,
         "type": "bar",
         "x": [
          2009
         ],
         "xaxis": "x2",
         "y": [
          1018.708
         ],
         "yaxis": "y2"
        },
        {
         "name": "Punjab Kings",
         "showlegend": false,
         "type": "bar",
         "x": [
          2009
         ],
         "xaxis": "x2",
         "y": [
          1030.622
         ],
         "yaxis": "y2"
        },
        {
         "name": "Rajasthan Royals",
         "showlegend": false,
         "type": "bar",
         "x": [
          2009
         ],
         "xaxis": "x2",
         "y": [
          1059.34
         ],
         "yaxis": "y2"
        },
        {
         "name": "Royal Challengers Bangalore",
         "showlegend": false,
         "type": "bar",
         "x": [
          2009
         ],
         "xaxis": "x2",
         "y": [
          1115.297
         ],
         "yaxis": "y2"
        },
        {
         "name": "Chennai Super Kings",
         "showlegend": false,
         "type": "bar",
         "x": [
          2010
         ],
         "xaxis": "x3",
         "y": [
          1127.404
         ],
         "yaxis": "y3"
        },
        {
         "name": "Deccan Chargers",
         "showlegend": false,
         "type": "bar",
         "x": [
          2010
         ],
         "xaxis": "x3",
         "y": [
          887.053
         ],
         "yaxis": "y3"
        },
        {
         "name": "Delhi Capitals",
         "showlegend": false,
         "type": "bar",
         "x": [
          2010
         ],
         "xaxis": "x3",
         "y": [
          987.175
         ],
         "yaxis": "y3"
        },
        {
         "name": "Kolkata Knight Riders",
         "showlegend": false,
         "type": "bar",
         "x": [
          2010
         ],
         "xaxis": "x3",
         "y": [
          944.597
         ],
         "yaxis": "y3"
        },
        {
         "name": "Mumbai Indians",
         "showlegend": false,
         "type": "bar",
         "x": [
          2010
         ],
         "xaxis": "x3",
         "y": [
          1057.1
         ],
         "yaxis": "y3"
        },
        {
         "name": "Punjab Kings",
         "showlegend": false,
         "type": "bar",
         "x": [
          2010
         ],
         "xaxis": "x3",
         "y": [
          1068.148
         ],
         "yaxis": "y3"
        },
        {
         "name": "Rajasthan Royals",
         "showlegend": false,
         "type": "bar",
         "x": [
          2010
         ],
         "xaxis": "x3",
         "y": [
          1033.863
         ],
         "yaxis": "y3"
        },
        {
         "name": "Royal Challengers Bangalore",
         "showlegend": false,
         "type": "bar",
         "x": [
          2010
         ],
         "xaxis": "x3",
         "y": [
          1051.188
         ],
         "yaxis": "y3"
        },
        {
         "name": "Chennai Super Kings",
         "showlegend": false,
         "type": "bar",
         "x": [
          2011
         ],
         "xaxis": "x4",
         "y": [
          1116.321
         ],
         "yaxis": "y4"
        },
        {
         "name": "Deccan Chargers",
         "showlegend": false,
         "type": "bar",
         "x": [
          2011
         ],
         "xaxis": "x4",
         "y": [
          898.136
         ],
         "yaxis": "y4"
        },
        {
         "name": "Delhi Capitals",
         "showlegend": false,
         "type": "bar",
         "x": [
          2011
         ],
         "xaxis": "x4",
         "y": [
          1084.885
         ],
         "yaxis": "y4"
        },
        {
         "name": "Kochi Tuskers Kerala",
         "showlegend": true,
         "type": "bar",
         "x": [
          2011
         ],
         "xaxis": "x4",
         "y": [
          962.662
         ],
         "yaxis": "y4"
        },
        {
         "name": "Kolkata Knight Riders",
         "showlegend": false,
         "type": "bar",
         "x": [
          2011
         ],
         "xaxis": "x4",
         "y": [
          987.096
         ],
         "yaxis": "y4"
        },
        {
         "name": "Mumbai Indians",
         "showlegend": false,
         "type": "bar",
         "x": [
          2011
         ],
         "xaxis": "x4",
         "y": [
          1002.348
         ],
         "yaxis": "y4"
        },
        {
         "name": "Pune Warriors",
         "showlegend": true,
         "type": "bar",
         "x": [
          2011
         ],
         "xaxis": "x4",
         "y": [
          910.725
         ],
         "yaxis": "y4"
        },
        {
         "name": "Punjab Kings",
         "showlegend": false,
         "type": "bar",
         "x": [
          2011
         ],
         "xaxis": "x4",
         "y": [
          1044.234
         ],
         "yaxis": "y4"
        },
        {
         "name": "Rajasthan Royals",
         "showlegend": false,
         "type": "bar",
         "x": [
          2011
         ],
         "xaxis": "x4",
         "y": [
          976.936
         ],
         "yaxis": "y4"
        },
        {
         "name": "Royal Challengers Bangalore",
         "showlegend": false,
         "type": "bar",
         "x": [
          2011
         ],
         "xaxis": "x4",
         "y": [
          1051.188
         ],
         "yaxis": "y4"
        },
        {
         "name": "Chennai Super Kings",
         "showlegend": false,
         "type": "bar",
         "x": [
          2012
         ],
         "xaxis": "x5",
         "y": [
          1097.227
         ],
         "yaxis": "y5"
        },
        {
         "name": "Deccan Chargers",
         "showlegend": false,
         "type": "bar",
         "x": [
          2012
         ],
         "xaxis": "x5",
         "y": [
          908.996
         ],
         "yaxis": "y5"
        },
        {
         "name": "Delhi Capitals",
         "showlegend": false,
         "type": "bar",
         "x": [
          2012
         ],
         "xaxis": "x5",
         "y": [
          1062.951
         ],
         "yaxis": "y5"
        },
        {
         "name": "Kolkata Knight Riders",
         "showlegend": false,
         "type": "bar",
         "x": [
          2012
         ],
         "xaxis": "x5",
         "y": [
          975.565
         ],
         "yaxis": "y5"
        },
        {
         "name": "Mumbai Indians",
         "showlegend": false,
         "type": "bar",
         "x": [
          2012
         ],
         "xaxis": "x5",
         "y": [
          1050.964
         ],
         "yaxis": "y5"
        },
        {
         "name": "Pune Warriors",
         "showlegend": false,
         "type": "bar",
         "x": [
          2012
         ],
         "xaxis": "x5",
         "y": [
          900.063
         ],
         "yaxis": "y5"
        },
        {
         "name": "Punjab Kings",
         "showlegend": false,
         "type": "bar",
         "x": [
          2012
         ],
         "xaxis": "x5",
         "y": [
          1055.174
         ],
         "yaxis": "y5"
        },
        {
         "name": "Rajasthan Royals",
         "showlegend": false,
         "type": "bar",
         "x": [
          2012
         ],
         "xaxis": "x5",
         "y": [
          1061.278
         ],
         "yaxis": "y5"
        },
        {
         "name": "Royal Challengers Bangalore",
         "showlegend": false,
         "type": "bar",
         "x": [
          2012
         ],
         "xaxis": "x5",
         "y": [
          1065.332
         ],
         "yaxis": "y5"
        },
        {
         "name": "Chennai Super Kings",
         "showlegend": false,
         "type": "bar",
         "x": [
          2013
         ],
         "xaxis": "x6",
         "y": [
          1139.05
         ],
         "yaxis": "y6"
        },
        {
         "name": "Delhi Capitals",
         "showlegend": false,
         "type": "bar",
         "x": [
          2013
         ],
         "xaxis": "x6",
         "y": [
          961.698
         ],
         "yaxis": "y6"
        },
        {
         "name": "Kolkata Knight Riders",
         "showlegend": false,
         "type": "bar",
         "x": [
          2013
         ],
         "xaxis": "x6",
         "y": [
          959.976
         ],
         "yaxis": "y6"
        },
        {
         "name": "Mumbai Indians",
         "showlegend": false,
         "type": "bar",
         "x": [
          2013
         ],
         "xaxis": "x6",
         "y": [
          1002.348
         ],
         "yaxis": "y6"
        },
        {
         "name": "Pune Warriors",
         "showlegend": false,
         "type": "bar",
         "x": [
          2013
         ],
         "xaxis": "x6",
         "y": [
          900.063
         ],
         "yaxis": "y6"
        },
        {
         "name": "Punjab Kings",
         "showlegend": false,
         "type": "bar",
         "x": [
          2013
         ],
         "xaxis": "x6",
         "y": [
          1026.005
         ],
         "yaxis": "y6"
        },
        {
         "name": "Rajasthan Royals",
         "showlegend": false,
         "type": "bar",
         "x": [
          2013
         ],
         "xaxis": "x6",
         "y": [
          1002.012
         ],
         "yaxis": "y6"
        },
        {
         "name": "Royal Challengers Bangalore",
         "showlegend": false,
         "type": "bar",
         "x": [
          2013
         ],
         "xaxis": "x6",
         "y": [
          1116.023
         ],
         "yaxis": "y6"
        },
        {
         "name": "Sunrisers Hyderabad",
         "showlegend": true,
         "type": "bar",
         "x": [
          2013
         ],
         "xaxis": "x6",
         "y": [
          940.317
         ],
         "yaxis": "y6"
        },
        {
         "name": "Chennai Super Kings",
         "showlegend": false,
         "type": "bar",
         "x": [
          2014
         ],
         "xaxis": "x7",
         "y": [
          1139.776
         ],
         "yaxis": "y7"
        },
        {
         "name": "Delhi Capitals",
         "showlegend": false,
         "type": "bar",
         "x": [
          2014
         ],
         "xaxis": "x7",
         "y": [
          976.544
         ],
         "yaxis": "y7"
        },
        {
         "name": "Kolkata Knight Riders",
         "showlegend": false,
         "type": "bar",
         "x": [
          2014
         ],
         "xaxis": "x7",
         "y": [
          933.433
         ],
         "yaxis": "y7"
        },
        {
         "name": "Mumbai Indians",
         "showlegend": false,
         "type": "bar",
         "x": [
          2014
         ],
         "xaxis": "x7",
         "y": [
          1041.721
         ],
         "yaxis": "y7"
        },
        {
         "name": "Punjab Kings",
         "showlegend": false,
         "type": "bar",
         "x": [
          2014
         ],
         "xaxis": "x7",
         "y": [
          1009.975
         ],
         "yaxis": "y7"
        },
        {
         "name": "Rajasthan Royals",
         "showlegend": false,
         "type": "bar",
         "x": [
          2014
         ],
         "xaxis": "x7",
         "y": [
          952.061
         ],
         "yaxis": "y7"
        },
        {
         "name": "Royal Challengers Bangalore",
         "showlegend": false,
         "type": "bar",
         "x": [
          2014
         ],
         "xaxis": "x7",
         "y": [
          1115.297
         ],
         "yaxis": "y7"
        },
        {
         "name": "Sunrisers Hyderabad",
         "showlegend": false,
         "type": "bar",
         "x": [
          2014
         ],
         "xaxis": "x7",
         "y": [
          943.813
         ],
         "yaxis": "y7"
        },
        {
         "name": "Chennai Super Kings",
         "showlegend": false,
         "type": "bar",
         "x": [
          2015
         ],
         "xaxis": "x8",
         "y": [
          1139.776
         ],
         "yaxis": "y8"
        },
        {
         "name": "Delhi Capitals",
         "showlegend": false,
         "type": "bar",
         "x": [
          2015
         ],
         "xaxis": "x8",
         "y": [
          981.182
         ],
         "yaxis": "y8"
        },
        {
         "name": "Kolkata Knight Riders",
         "showlegend": false,
         "type": "bar",
         "x": [
          2015
         ],
         "xaxis": "x8",
         "y": [
          962.888
         ],
         "yaxis": "y8"
        },
        {
         "name": "Mumbai Indians",
         "showlegend": false,
         "type": "bar",
         "x": [
          2015
         ],
         "xaxis": "x8",
         "y": [
          1002.348
         ],
         "yaxis": "y8"
        },
        {
         "name": "Punjab Kings",
         "showlegend": false,
         "type": "bar",
         "x": [
          2015
         ],
         "xaxis": "x8",
         "y": [
          1060.704
         ],
         "yaxis": "y8"
        },
        {
         "name": "Rajasthan Royals",
         "showlegend": false,
         "type": "bar",
         "x": [
          2015
         ],
         "xaxis": "x8",
         "y": [
          959.284
         ],
         "yaxis": "y8"
        },
        {
         "name": "Royal Challengers Bangalore",
         "showlegend": false,
         "type": "bar",
         "x": [
          2015
         ],
         "xaxis": "x8",
         "y": [
          1065.332
         ],
         "yaxis": "y8"
        },
        {
         "name": "Sunrisers Hyderabad",
         "showlegend": false,
         "type": "bar",
         "x": [
          2015
         ],
         "xaxis": "x8",
         "y": [
          918.035
         ],
         "yaxis": "y8"
        },
        {
         "name": "Chennai Super Kings",
         "showlegend": false,
         "type": "bar",
         "x": [
          2018
         ],
         "xaxis": "x9",
         "y": [
          1103.36
         ],
         "yaxis": "y9"
        },
        {
         "name": "Delhi Capitals",
         "showlegend": false,
         "type": "bar",
         "x": [
          2018
         ],
         "xaxis": "x9",
         "y": [
          996.838
         ],
         "yaxis": "y9"
        },
        {
         "name": "Kolkata Knight Riders",
         "showlegend": false,
         "type": "bar",
         "x": [
          2018
         ],
         "xaxis": "x9",
         "y": [
          958.036
         ],
         "yaxis": "y9"
        },
        {
         "name": "Mumbai Indians",
         "showlegend": false,
         "type": "bar",
         "x": [
          2018
         ],
         "xaxis": "x9",
         "y": [
          1041.721
         ],
         "yaxis": "y9"
        },
        {
         "name": "Punjab Kings",
         "showlegend": false,
         "type": "bar",
         "x": [
          2018
         ],
         "xaxis": "x9",
         "y": [
          1124.994
         ],
         "yaxis": "y9"
        },
        {
         "name": "Rajasthan Royals",
         "showlegend": false,
         "type": "bar",
         "x": [
          2018
         ],
         "xaxis": "x9",
         "y": [
          995.165
         ],
         "yaxis": "y9"
        },
        {
         "name": "Royal Challengers Bangalore",
         "showlegend": false,
         "type": "bar",
         "x": [
          2018
         ],
         "xaxis": "x9",
         "y": [
          1115.297
         ],
         "yaxis": "y9"
        },
        {
         "name": "Sunrisers Hyderabad",
         "showlegend": false,
         "type": "bar",
         "x": [
          2018
         ],
         "xaxis": "x9",
         "y": [
          901.56
         ],
         "yaxis": "y9"
        },
        {
         "name": "Chennai Super Kings",
         "showlegend": false,
         "type": "bar",
         "x": [
          2019
         ],
         "xaxis": "x10",
         "y": [
          1139.776
         ],
         "yaxis": "y10"
        },
        {
         "name": "Delhi Capitals",
         "showlegend": false,
         "type": "bar",
         "x": [
          2019
         ],
         "xaxis": "x10",
         "y": [
          961.698
         ],
         "yaxis": "y10"
        },
        {
         "name": "Kolkata Knight Riders",
         "showlegend": false,
         "type": "bar",
         "x": [
          2019
         ],
         "xaxis": "x10",
         "y": [
          944.597
         ],
         "yaxis": "y10"
        },
        {
         "name": "Mumbai Indians",
         "showlegend": false,
         "type": "bar",
         "x": [
          2019
         ],
         "xaxis": "x10",
         "y": [
          1017.311
         ],
         "yaxis": "y10"
        },
        {
         "name": "Punjab Kings",
         "showlegend": false,
         "type": "bar",
         "x": [
          2019
         ],
         "xaxis": "x10",
         "y": [
          1024.893
         ],
         "yaxis": "y10"
        },
        {
         "name": "Rajasthan Royals",
         "showlegend": false,
         "type": "bar",
         "x": [
          2019
         ],
         "xaxis": "x10",
         "y": [
          976.936
         ],
         "yaxis": "y10"
        },
        {
         "name": "Royal Challengers Bangalore",
         "showlegend": false,
         "type": "bar",
         "x": [
          2019
         ],
         "xaxis": "x10",
         "y": [
          1050.739
         ],
         "yaxis": "y10"
        },
        {
         "name": "Sunrisers Hyderabad",
         "showlegend": false,
         "type": "bar",
         "x": [
          2019
         ],
         "xaxis": "x10",
         "y": [
          945.097
         ],
         "yaxis": "y10"
        },
        {
         "name": "Chennai Super Kings",
         "showlegend": false,
         "type": "bar",
         "x": [
          2020
         ],
         "xaxis": "x11",
         "y": [
          1123.721
         ],
         "yaxis": "y11"
        },
        {
         "name": "Delhi Capitals",
         "showlegend": false,
         "type": "bar",
         "x": [
          2020
         ],
         "xaxis": "x11",
         "y": [
          976.544
         ],
         "yaxis": "y11"
        },
        {
         "name": "Kolkata Knight Riders",
         "showlegend": false,
         "type": "bar",
         "x": [
          2020
         ],
         "xaxis": "x11",
         "y": [
          980.119
         ],
         "yaxis": "y11"
        },
        {
         "name": "Mumbai Indians",
         "showlegend": false,
         "type": "bar",
         "x": [
          2020
         ],
         "xaxis": "x11",
         "y": [
          1041.721
         ],
         "yaxis": "y11"
        },
        {
         "name": "Punjab Kings",
         "showlegend": false,
         "type": "bar",
         "x": [
          2020
         ],
         "xaxis": "x11",
         "y": [
          1098.099
         ],
         "yaxis": "y11"
        },
        {
         "name": "Rajasthan Royals",
         "showlegend": false,
         "type": "bar",
         "x": [
          2020
         ],
         "xaxis": "x11",
         "y": [
          1033.863
         ],
         "yaxis": "y11"
        },
        {
         "name": "Royal Challengers Bangalore",
         "showlegend": false,
         "type": "bar",
         "x": [
          2020
         ],
         "xaxis": "x11",
         "y": [
          1131.352
         ],
         "yaxis": "y11"
        },
        {
         "name": "Sunrisers Hyderabad",
         "showlegend": false,
         "type": "bar",
         "x": [
          2020
         ],
         "xaxis": "x11",
         "y": [
          943.813
         ],
         "yaxis": "y11"
        },
        {
         "name": "Chennai Super Kings",
         "showlegend": false,
         "type": "bar",
         "x": [
          2021
         ],
         "xaxis": "x12",
         "y": [
          1041.604
         ],
         "yaxis": "y12"
        },
        {
         "name": "Delhi Capitals",
         "showlegend": false,
         "type": "bar",
         "x": [
          2021
         ],
         "xaxis": "x12",
         "y": [
          993.868
         ],
         "yaxis": "y12"
        },
        {
         "name": "Kolkata Knight Riders",
         "showlegend": false,
         "type": "bar",
         "x": [
          2021
         ],
         "xaxis": "x12",
         "y": [
          959.976
         ],
         "yaxis": "y12"
        },
        {
         "name": "Mumbai Indians",
         "showlegend": false,
         "type": "bar",
         "x": [
          2021
         ],
         "xaxis": "x12",
         "y": [
          1041.721
         ],
         "yaxis": "y12"
        },
        {
         "name": "Punjab Kings",
         "showlegend": false,
         "type": "bar",
         "x": [
          2021
         ],
         "xaxis": "x12",
         "y": [
          1026.005
         ],
         "yaxis": "y12"
        },
        {
         "name": "Rajasthan Royals",
         "showlegend": false,
         "type": "bar",
         "x": [
          2021
         ],
         "xaxis": "x12",
         "y": [
          995.165
         ],
         "yaxis": "y12"
        },
        {
         "name": "Royal Challengers Bangalore",
         "showlegend": false,
         "type": "bar",
         "x": [
          2021
         ],
         "xaxis": "x12",
         "y": [
          1051.188
         ],
         "yaxis": "y12"
        },
        {
         "name": "Sunrisers Hyderabad",
         "showlegend": false,
         "type": "bar",
         "x": [
          2021
         ],
         "xaxis": "x12",
         "y": [
          945.097
         ],
         "yaxis": "y12"
        },
        {
         "name": "Chennai Super Kings",
         "showlegend": false,
         "type": "bar",
         "x": [
          2022
         ],
         "xaxis": "x13",
         "y": [
          1043.094
         ],
         "yaxis": "y13"
        },
        {
         "name": "Delhi Capitals",
         "showlegend": false,
         "type": "bar",
         "x": [
          2022
         ],
         "xaxis": "x13",
         "y": [
          961.698
         ],
         "yaxis": "y13"
        },
        {
         "name": "Gujarat Titans",
         "showlegend": true,
         "type": "bar",
         "x": [
          2022
         ],
         "xaxis": "x13",
         "y": [
          1084.687
         ],
         "yaxis": "y13"
        },
        {
         "name": "Kolkata Knight Riders",
         "showlegend": false,
         "type": "bar",
         "x": [
          2022
         ],
         "xaxis": "x13",
         "y": [
          914.721
         ],
         "yaxis": "y13"
        },
        {
         "name": "Lucknow Super Giants",
         "showlegend": true,
         "type": "bar",
         "x": [
          2022
         ],
         "xaxis": "x13",
         "y": [
          1017.219
         ],
         "yaxis": "y13"
        },
        {
         "name": "Mumbai Indians",
         "showlegend": false,
         "type": "bar",
         "x": [
          2022
         ],
         "xaxis": "x13",
         "y": [
          1026.803
         ],
         "yaxis": "y13"
        },
        {
         "name": "Punjab Kings",
         "showlegend": false,
         "type": "bar",
         "x": [
          2022
         ],
         "xaxis": "x13",
         "y": [
          1068.986
         ],
         "yaxis": "y13"
        },
        {
         "name": "Rajasthan Royals",
         "showlegend": false,
         "type": "bar",
         "x": [
          2022
         ],
         "xaxis": "x13",
         "y": [
          1061.278
         ],
         "yaxis": "y13"
        },
        {
         "name": "Royal Challengers Bangalore",
         "showlegend": false,
         "type": "bar",
         "x": [
          2022
         ],
         "xaxis": "x13",
         "y": [
          1043.042
         ],
         "yaxis": "y13"
        },
        {
         "name": "Sunrisers Hyderabad",
         "showlegend": false,
         "type": "bar",
         "x": [
          2022
         ],
         "xaxis": "x13",
         "y": [
          960.149
         ],
         "yaxis": "y13"
        },
        {
         "name": "Chennai Super Kings",
         "showlegend": false,
         "type": "bar",
         "x": [
          2023
         ],
         "xaxis": "x14",
         "y": [
          1127.09
         ],
         "yaxis": "y14"
        },
        {
         "name": "Delhi Capitals",
         "showlegend": false,
         "type": "bar",
         "x": [
          2023
         ],
         "xaxis": "x14",
         "y": [
          971.2
         ],
         "yaxis": "y14"
        },
        {
         "name": "Gujarat Titans",
         "showlegend": false,
         "type": "bar",
         "x": [
          2023
         ],
         "xaxis": "x14",
         "y": [
          1066.469
         ],
         "yaxis": "y14"
        },
        {
         "name": "Kolkata Knight Riders",
         "showlegend": false,
         "type": "bar",
         "x": [
          2023
         ],
         "xaxis": "x14",
         "y": [
          932.151
         ],
         "yaxis": "y14"
        },
        {
         "name": "Lucknow Super Giants",
         "showlegend": false,
         "type": "bar",
         "x": [
          2023
         ],
         "xaxis": "x14",
         "y": [
          1035.437
         ],
         "yaxis": "y14"
        },
        {
         "name": "Mumbai Indians",
         "showlegend": false,
         "type": "bar",
         "x": [
          2023
         ],
         "xaxis": "x14",
         "y": [
          1041.721
         ],
         "yaxis": "y14"
        },
        {
         "name": "Punjab Kings",
         "showlegend": false,
         "type": "bar",
         "x": [
          2023
         ],
         "xaxis": "x14",
         "y": [
          1026.005
         ],
         "yaxis": "y14"
        },
        {
         "name": "Rajasthan Royals",
         "showlegend": false,
         "type": "bar",
         "x": [
          2023
         ],
         "xaxis": "x14",
         "y": [
          1017.833
         ],
         "yaxis": "y14"
        },
        {
         "name": "Royal Challengers Bangalore",
         "showlegend": false,
         "type": "bar",
         "x": [
          2023
         ],
         "xaxis": "x14",
         "y": [
          1115.297
         ],
         "yaxis": "y14"
        },
        {
         "name": "Sunrisers Hyderabad",
         "showlegend": false,
         "type": "bar",
         "x": [
          2023
         ],
         "xaxis": "x14",
         "y": [
          943.813
         ],
         "yaxis": "y14"
        },
        {
         "name": "Delhi Capitals",
         "showlegend": false,
         "type": "bar",
         "x": [
          2016
         ],
         "xaxis": "x15",
         "y": [
          993.868
         ],
         "yaxis": "y15"
        },
        {
         "name": "Gujarat Lions",
         "showlegend": true,
         "type": "bar",
         "x": [
          2016
         ],
         "xaxis": "x15",
         "y": [
          991.245
         ],
         "yaxis": "y15"
        },
        {
         "name": "Kolkata Knight Riders",
         "showlegend": false,
         "type": "bar",
         "x": [
          2016
         ],
         "xaxis": "x15",
         "y": [
          943.967
         ],
         "yaxis": "y15"
        },
        {
         "name": "Mumbai Indians",
         "showlegend": false,
         "type": "bar",
         "x": [
          2016
         ],
         "xaxis": "x15",
         "y": [
          1002.348
         ],
         "yaxis": "y15"
        },
        {
         "name": "Punjab Kings",
         "showlegend": false,
         "type": "bar",
         "x": [
          2016
         ],
         "xaxis": "x15",
         "y": [
          1009.975
         ],
         "yaxis": "y15"
        },
        {
         "name": "Rising Pune Supergiants",
         "showlegend": true,
         "type": "bar",
         "x": [
          2016
         ],
         "xaxis": "x15",
         "y": [
          977.612
         ],
         "yaxis": "y15"
        },
        {
         "name": "Royal Challengers Bangalore",
         "showlegend": false,
         "type": "bar",
         "x": [
          2016
         ],
         "xaxis": "x15",
         "y": [
          1074.04
         ],
         "yaxis": "y15"
        },
        {
         "name": "Sunrisers Hyderabad",
         "showlegend": false,
         "type": "bar",
         "x": [
          2016
         ],
         "xaxis": "x15",
         "y": [
          960.271
         ],
         "yaxis": "y15"
        },
        {
         "name": "Delhi Capitals",
         "showlegend": false,
         "type": "bar",
         "x": [
          2017
         ],
         "xaxis": "x16",
         "y": [
          996.838
         ],
         "yaxis": "y16"
        },
        {
         "name": "Gujarat Lions",
         "showlegend": false,
         "type": "bar",
         "x": [
          2017
         ],
         "xaxis": "x16",
         "y": [
          991.245
         ],
         "yaxis": "y16"
        },
        {
         "name": "Kolkata Knight Riders",
         "showlegend": false,
         "type": "bar",
         "x": [
          2017
         ],
         "xaxis": "x16",
         "y": [
          914.721
         ],
         "yaxis": "y16"
        },
        {
         "name": "Mumbai Indians",
         "showlegend": false,
         "type": "bar",
         "x": [
          2017
         ],
         "xaxis": "x16",
         "y": [
          1026.803
         ],
         "yaxis": "y16"
        },
        {
         "name": "Punjab Kings",
         "showlegend": false,
         "type": "bar",
         "x": [
          2017
         ],
         "xaxis": "x16",
         "y": [
          1068.148
         ],
         "yaxis": "y16"
        },
        {
         "name": "Rising Pune Supergiants",
         "showlegend": false,
         "type": "bar",
         "x": [
          2017
         ],
         "xaxis": "x16",
         "y": [
          980.733
         ],
         "yaxis": "y16"
        },
        {
         "name": "Royal Challengers Bangalore",
         "showlegend": false,
         "type": "bar",
         "x": [
          2017
         ],
         "xaxis": "x16",
         "y": [
          1080.778
         ],
         "yaxis": "y16"
        },
        {
         "name": "Sunrisers Hyderabad",
         "showlegend": false,
         "type": "bar",
         "x": [
          2017
         ],
         "xaxis": "x16",
         "y": [
          901.56
         ],
         "yaxis": "y16"
        }
       ],
       "layout": {
        "annotations": [
         {
          "font": {
           "size": 16
          },
          "showarrow": false,
          "text": "2008",
          "x": 0.10625,
          "xanchor": "center",
          "xref": "paper",
          "y": 1,
          "yanchor": "bottom",
          "yref": "paper"
         },
         {
          "font": {
           "size": 16
          },
          "showarrow": false,
          "text": "2009",
          "x": 0.36875,
          "xanchor": "center",
          "xref": "paper",
          "y": 1,
          "yanchor": "bottom",
          "yref": "paper"
         },
         {
          "font": {
           "size": 16
          },
          "showarrow": false,
          "text": "2010",
          "x": 0.6312500000000001,
          "xanchor": "center",
          "xref": "paper",
          "y": 1,
          "yanchor": "bottom",
          "yref": "paper"
         },
         {
          "font": {
           "size": 16
          },
          "showarrow": false,
          "text": "2011",
          "x": 0.89375,
          "xanchor": "center",
          "xref": "paper",
          "y": 1,
          "yanchor": "bottom",
          "yref": "paper"
         },
         {
          "font": {
           "size": 16
          },
          "showarrow": false,
          "text": "2012",
          "x": 0.10625,
          "xanchor": "center",
          "xref": "paper",
          "y": 0.71875,
          "yanchor": "bottom",
          "yref": "paper"
         },
         {
          "font": {
           "size": 16
          },
          "showarrow": false,
          "text": "2013",
          "x": 0.36875,
          "xanchor": "center",
          "xref": "paper",
          "y": 0.71875,
          "yanchor": "bottom",
          "yref": "paper"
         },
         {
          "font": {
           "size": 16
          },
          "showarrow": false,
          "text": "2014",
          "x": 0.6312500000000001,
          "xanchor": "center",
          "xref": "paper",
          "y": 0.71875,
          "yanchor": "bottom",
          "yref": "paper"
         },
         {
          "font": {
           "size": 16
          },
          "showarrow": false,
          "text": "2015",
          "x": 0.89375,
          "xanchor": "center",
          "xref": "paper",
          "y": 0.71875,
          "yanchor": "bottom",
          "yref": "paper"
         },
         {
          "font": {
           "size": 16
          },
          "showarrow": false,
          "text": "2018",
          "x": 0.10625,
          "xanchor": "center",
          "xref": "paper",
          "y": 0.4375,
          "yanchor": "bottom",
          "yref": "paper"
         },
         {
          "font": {
           "size": 16
          },
          "showarrow": false,
          "text": "2019",
          "x": 0.36875,
          "xanchor": "center",
          "xref": "paper",
          "y": 0.4375,
          "yanchor": "bottom",
          "yref": "paper"
         },
         {
          "font": {
           "size": 16
          },
          "showarrow": false,
          "text": "2020",
          "x": 0.6312500000000001,
          "xanchor": "center",
          "xref": "paper",
          "y": 0.4375,
          "yanchor": "bottom",
          "yref": "paper"
         },
         {
          "font": {
           "size": 16
          },
          "showarrow": false,
          "text": "2021",
          "x": 0.89375,
          "xanchor": "center",
          "xref": "paper",
          "y": 0.4375,
          "yanchor": "bottom",
          "yref": "paper"
         },
         {
          "font": {
           "size": 16
          },
          "showarrow": false,
          "text": "2022",
          "x": 0.10625,
          "xanchor": "center",
          "xref": "paper",
          "y": 0.15625,
          "yanchor": "bottom",
          "yref": "paper"
         },
         {
          "font": {
           "size": 16
          },
          "showarrow": false,
          "text": "2023",
          "x": 0.36875,
          "xanchor": "center",
          "xref": "paper",
          "y": 0.15625,
          "yanchor": "bottom",
          "yref": "paper"
         },
         {
          "font": {
           "size": 16
          },
          "showarrow": false,
          "text": "2016",
          "x": 0.6312500000000001,
          "xanchor": "center",
          "xref": "paper",
          "y": 0.15625,
          "yanchor": "bottom",
          "yref": "paper"
         },
         {
          "font": {
           "size": 16
          },
          "showarrow": false,
          "text": "2017",
          "x": 0.89375,
          "xanchor": "center",
          "xref": "paper",
          "y": 0.15625,
          "yanchor": "bottom",
          "yref": "paper"
         }
        ],
        "height": 800,
        "template": {
         "data": {
          "bar": [
           {
            "error_x": {
             "color": "#2a3f5f"
            },
            "error_y": {
             "color": "#2a3f5f"
            },
            "marker": {
             "line": {
              "color": "#E5ECF6",
              "width": 0.5
             },
             "pattern": {
              "fillmode": "overlay",
              "size": 10,
              "solidity": 0.2
             }
            },
            "type": "bar"
           }
          ],
          "barpolar": [
           {
            "marker": {
             "line": {
              "color": "#E5ECF6",
              "width": 0.5
             },
             "pattern": {
              "fillmode": "overlay",
              "size": 10,
              "solidity": 0.2
             }
            },
            "type": "barpolar"
           }
          ],
          "carpet": [
           {
            "aaxis": {
             "endlinecolor": "#2a3f5f",
             "gridcolor": "white",
             "linecolor": "white",
             "minorgridcolor": "white",
             "startlinecolor": "#2a3f5f"
            },
            "baxis": {
             "endlinecolor": "#2a3f5f",
             "gridcolor": "white",
             "linecolor": "white",
             "minorgridcolor": "white",
             "startlinecolor": "#2a3f5f"
            },
            "type": "carpet"
           }
          ],
          "choropleth": [
           {
            "colorbar": {
             "outlinewidth": 0,
             "ticks": ""
            },
            "type": "choropleth"
           }
          ],
          "contour": [
           {
            "colorbar": {
             "outlinewidth": 0,
             "ticks": ""
            },
            "colorscale": [
             [
              0,
              "#0d0887"
             ],
             [
              0.1111111111111111,
              "#46039f"
             ],
             [
              0.2222222222222222,
              "#7201a8"
             ],
             [
              0.3333333333333333,
              "#9c179e"
             ],
             [
              0.4444444444444444,
              "#bd3786"
             ],
             [
              0.5555555555555556,
              "#d8576b"
             ],
             [
              0.6666666666666666,
              "#ed7953"
             ],
             [
              0.7777777777777778,
              "#fb9f3a"
             ],
             [
              0.8888888888888888,
              "#fdca26"
             ],
             [
              1,
              "#f0f921"
             ]
            ],
            "type": "contour"
           }
          ],
          "contourcarpet": [
           {
            "colorbar": {
             "outlinewidth": 0,
             "ticks": ""
            },
            "type": "contourcarpet"
           }
          ],
          "heatmap": [
           {
            "colorbar": {
             "outlinewidth": 0,
             "ticks": ""
            },
            "colorscale": [
             [
              0,
              "#0d0887"
             ],
             [
              0.1111111111111111,
              "#46039f"
             ],
             [
              0.2222222222222222,
              "#7201a8"
             ],
             [
              0.3333333333333333,
              "#9c179e"
             ],
             [
              0.4444444444444444,
              "#bd3786"
             ],
             [
              0.5555555555555556,
              "#d8576b"
             ],
             [
              0.6666666666666666,
              "#ed7953"
             ],
             [
              0.7777777777777778,
              "#fb9f3a"
             ],
             [
              0.8888888888888888,
              "#fdca26"
             ],
             [
              1,
              "#f0f921"
             ]
            ],
            "type": "heatmap"
           }
          ],
          "heatmapgl": [
           {
            "colorbar": {
             "outlinewidth": 0,
             "ticks": ""
            },
            "colorscale": [
             [
              0,
              "#0d0887"
             ],
             [
              0.1111111111111111,
              "#46039f"
             ],
             [
              0.2222222222222222,
              "#7201a8"
             ],
             [
              0.3333333333333333,
              "#9c179e"
             ],
             [
              0.4444444444444444,
              "#bd3786"
             ],
             [
              0.5555555555555556,
              "#d8576b"
             ],
             [
              0.6666666666666666,
              "#ed7953"
             ],
             [
              0.7777777777777778,
              "#fb9f3a"
             ],
             [
              0.8888888888888888,
              "#fdca26"
             ],
             [
              1,
              "#f0f921"
             ]
            ],
            "type": "heatmapgl"
           }
          ],
          "histogram": [
           {
            "marker": {
             "pattern": {
              "fillmode": "overlay",
              "size": 10,
              "solidity": 0.2
             }
            },
            "type": "histogram"
           }
          ],
          "histogram2d": [
           {
            "colorbar": {
             "outlinewidth": 0,
             "ticks": ""
            },
            "colorscale": [
             [
              0,
              "#0d0887"
             ],
             [
              0.1111111111111111,
              "#46039f"
             ],
             [
              0.2222222222222222,
              "#7201a8"
             ],
             [
              0.3333333333333333,
              "#9c179e"
             ],
             [
              0.4444444444444444,
              "#bd3786"
             ],
             [
              0.5555555555555556,
              "#d8576b"
             ],
             [
              0.6666666666666666,
              "#ed7953"
             ],
             [
              0.7777777777777778,
              "#fb9f3a"
             ],
             [
              0.8888888888888888,
              "#fdca26"
             ],
             [
              1,
              "#f0f921"
             ]
            ],
            "type": "histogram2d"
           }
          ],
          "histogram2dcontour": [
           {
            "colorbar": {
             "outlinewidth": 0,
             "ticks": ""
            },
            "colorscale": [
             [
              0,
              "#0d0887"
             ],
             [
              0.1111111111111111,
              "#46039f"
             ],
             [
              0.2222222222222222,
              "#7201a8"
             ],
             [
              0.3333333333333333,
              "#9c179e"
             ],
             [
              0.4444444444444444,
              "#bd3786"
             ],
             [
              0.5555555555555556,
              "#d8576b"
             ],
             [
              0.6666666666666666,
              "#ed7953"
             ],
             [
              0.7777777777777778,
              "#fb9f3a"
             ],
             [
              0.8888888888888888,
              "#fdca26"
             ],
             [
              1,
              "#f0f921"
             ]
            ],
            "type": "histogram2dcontour"
           }
          ],
          "mesh3d": [
           {
            "colorbar": {
             "outlinewidth": 0,
             "ticks": ""
            },
            "type": "mesh3d"
           }
          ],
          "parcoords": [
           {
            "line": {
             "colorbar": {
              "outlinewidth": 0,
              "ticks": ""
             }
            },
            "type": "parcoords"
           }
          ],
          "pie": [
           {
            "automargin": true,
            "type": "pie"
           }
          ],
          "scatter": [
           {
            "fillpattern": {
             "fillmode": "overlay",
             "size": 10,
             "solidity": 0.2
            },
            "type": "scatter"
           }
          ],
          "scatter3d": [
           {
            "line": {
             "colorbar": {
              "outlinewidth": 0,
              "ticks": ""
             }
            },
            "marker": {
             "colorbar": {
              "outlinewidth": 0,
              "ticks": ""
             }
            },
            "type": "scatter3d"
           }
          ],
          "scattercarpet": [
           {
            "marker": {
             "colorbar": {
              "outlinewidth": 0,
              "ticks": ""
             }
            },
            "type": "scattercarpet"
           }
          ],
          "scattergeo": [
           {
            "marker": {
             "colorbar": {
              "outlinewidth": 0,
              "ticks": ""
             }
            },
            "type": "scattergeo"
           }
          ],
          "scattergl": [
           {
            "marker": {
             "colorbar": {
              "outlinewidth": 0,
              "ticks": ""
             }
            },
            "type": "scattergl"
           }
          ],
          "scattermapbox": [
           {
            "marker": {
             "colorbar": {
              "outlinewidth": 0,
              "ticks": ""
             }
            },
            "type": "scattermapbox"
           }
          ],
          "scatterpolar": [
           {
            "marker": {
             "colorbar": {
              "outlinewidth": 0,
              "ticks": ""
             }
            },
            "type": "scatterpolar"
           }
          ],
          "scatterpolargl": [
           {
            "marker": {
             "colorbar": {
              "outlinewidth": 0,
              "ticks": ""
             }
            },
            "type": "scatterpolargl"
           }
          ],
          "scatterternary": [
           {
            "marker": {
             "colorbar": {
              "outlinewidth": 0,
              "ticks": ""
             }
            },
            "type": "scatterternary"
           }
          ],
          "surface": [
           {
            "colorbar": {
             "outlinewidth": 0,
             "ticks": ""
            },
            "colorscale": [
             [
              0,
              "#0d0887"
             ],
             [
              0.1111111111111111,
              "#46039f"
             ],
             [
              0.2222222222222222,
              "#7201a8"
             ],
             [
              0.3333333333333333,
              "#9c179e"
             ],
             [
              0.4444444444444444,
              "#bd3786"
             ],
             [
              0.5555555555555556,
              "#d8576b"
             ],
             [
              0.6666666666666666,
              "#ed7953"
             ],
             [
              0.7777777777777778,
              "#fb9f3a"
             ],
             [
              0.8888888888888888,
              "#fdca26"
             ],
             [
              1,
              "#f0f921"
             ]
            ],
            "type": "surface"
           }
          ],
          "table": [
           {
            "cells": {
             "fill": {
              "color": "#EBF0F8"
             },
             "line": {
              "color": "white"
             }
            },
            "header": {
             "fill": {
              "color": "#C8D4E3"
             },
             "line": {
              "color": "white"
             }
            },
            "type": "table"
           }
          ]
         },
         "layout": {
          "annotationdefaults": {
           "arrowcolor": "#2a3f5f",
           "arrowhead": 0,
           "arrowwidth": 1
          },
          "autotypenumbers": "strict",
          "coloraxis": {
           "colorbar": {
            "outlinewidth": 0,
            "ticks": ""
           }
          },
          "colorscale": {
           "diverging": [
            [
             0,
             "#8e0152"
            ],
            [
             0.1,
             "#c51b7d"
            ],
            [
             0.2,
             "#de77ae"
            ],
            [
             0.3,
             "#f1b6da"
            ],
            [
             0.4,
             "#fde0ef"
            ],
            [
             0.5,
             "#f7f7f7"
            ],
            [
             0.6,
             "#e6f5d0"
            ],
            [
             0.7,
             "#b8e186"
            ],
            [
             0.8,
             "#7fbc41"
            ],
            [
             0.9,
             "#4d9221"
            ],
            [
             1,
             "#276419"
            ]
           ],
           "sequential": [
            [
             0,
             "#0d0887"
            ],
            [
             0.1111111111111111,
             "#46039f"
            ],
            [
             0.2222222222222222,
             "#7201a8"
            ],
            [
             0.3333333333333333,
             "#9c179e"
            ],
            [
             0.4444444444444444,
             "#bd3786"
            ],
            [
             0.5555555555555556,
             "#d8576b"
            ],
            [
             0.6666666666666666,
             "#ed7953"
            ],
            [
             0.7777777777777778,
             "#fb9f3a"
            ],
            [
             0.8888888888888888,
             "#fdca26"
            ],
            [
             1,
             "#f0f921"
            ]
           ],
           "sequentialminus": [
            [
             0,
             "#0d0887"
            ],
            [
             0.1111111111111111,
             "#46039f"
            ],
            [
             0.2222222222222222,
             "#7201a8"
            ],
            [
             0.3333333333333333,
             "#9c179e"
            ],
            [
             0.4444444444444444,
             "#bd3786"
            ],
            [
             0.5555555555555556,
             "#d8576b"
            ],
            [
             0.6666666666666666,
             "#ed7953"
            ],
            [
             0.7777777777777778,
             "#fb9f3a"
            ],
            [
             0.8888888888888888,
             "#fdca26"
            ],
            [
             1,
             "#f0f921"
            ]
           ]
          },
          "colorway": [
           "#636efa",
           "#EF553B",
           "#00cc96",
           "#ab63fa",
           "#FFA15A",
           "#19d3f3",
           "#FF6692",
           "#B6E880",
           "#FF97FF",
           "#FECB52"
          ],
          "font": {
           "color": "#2a3f5f"
          },
          "geo": {
           "bgcolor": "white",
           "lakecolor": "white",
           "landcolor": "#E5ECF6",
           "showlakes": true,
           "showland": true,
           "subunitcolor": "white"
          },
          "hoverlabel": {
           "align": "left"
          },
          "hovermode": "closest",
          "mapbox": {
           "style": "light"
          },
          "paper_bgcolor": "white",
          "plot_bgcolor": "#E5ECF6",
          "polar": {
           "angularaxis": {
            "gridcolor": "white",
            "linecolor": "white",
            "ticks": ""
           },
           "bgcolor": "#E5ECF6",
           "radialaxis": {
            "gridcolor": "white",
            "linecolor": "white",
            "ticks": ""
           }
          },
          "scene": {
           "xaxis": {
            "backgroundcolor": "#E5ECF6",
            "gridcolor": "white",
            "gridwidth": 2,
            "linecolor": "white",
            "showbackground": true,
            "ticks": "",
            "zerolinecolor": "white"
           },
           "yaxis": {
            "backgroundcolor": "#E5ECF6",
            "gridcolor": "white",
            "gridwidth": 2,
            "linecolor": "white",
            "showbackground": true,
            "ticks": "",
            "zerolinecolor": "white"
           },
           "zaxis": {
            "backgroundcolor": "#E5ECF6",
            "gridcolor": "white",
            "gridwidth": 2,
            "linecolor": "white",
            "showbackground": true,
            "ticks": "",
            "zerolinecolor": "white"
           }
          },
          "shapedefaults": {
           "line": {
            "color": "#2a3f5f"
           }
          },
          "ternary": {
           "aaxis": {
            "gridcolor": "white",
            "linecolor": "white",
            "ticks": ""
           },
           "baxis": {
            "gridcolor": "white",
            "linecolor": "white",
            "ticks": ""
           },
           "bgcolor": "#E5ECF6",
           "caxis": {
            "gridcolor": "white",
            "linecolor": "white",
            "ticks": ""
           }
          },
          "title": {
           "x": 0.05
          },
          "xaxis": {
           "automargin": true,
           "gridcolor": "white",
           "linecolor": "white",
           "ticks": "",
           "title": {
            "standoff": 15
           },
           "zerolinecolor": "white",
           "zerolinewidth": 2
          },
          "yaxis": {
           "automargin": true,
           "gridcolor": "white",
           "linecolor": "white",
           "ticks": "",
           "title": {
            "standoff": 15
           },
           "zerolinecolor": "white",
           "zerolinewidth": 2
          }
         }
        },
        "title": {
         "text": "Match By Match Elo Ratings of Teams"
        },
        "width": 1200,
        "xaxis": {
         "anchor": "y",
         "domain": [
          0,
          0.2125
         ]
        },
        "xaxis10": {
         "anchor": "y10",
         "domain": [
          0.2625,
          0.475
         ]
        },
        "xaxis11": {
         "anchor": "y11",
         "domain": [
          0.525,
          0.7375
         ]
        },
        "xaxis12": {
         "anchor": "y12",
         "domain": [
          0.7875,
          1
         ]
        },
        "xaxis13": {
         "anchor": "y13",
         "domain": [
          0,
          0.2125
         ]
        },
        "xaxis14": {
         "anchor": "y14",
         "domain": [
          0.2625,
          0.475
         ]
        },
        "xaxis15": {
         "anchor": "y15",
         "domain": [
          0.525,
          0.7375
         ]
        },
        "xaxis16": {
         "anchor": "y16",
         "domain": [
          0.7875,
          1
         ]
        },
        "xaxis2": {
         "anchor": "y2",
         "domain": [
          0.2625,
          0.475
         ]
        },
        "xaxis3": {
         "anchor": "y3",
         "domain": [
          0.525,
          0.7375
         ]
        },
        "xaxis4": {
         "anchor": "y4",
         "domain": [
          0.7875,
          1
         ]
        },
        "xaxis5": {
         "anchor": "y5",
         "domain": [
          0,
          0.2125
         ]
        },
        "xaxis6": {
         "anchor": "y6",
         "domain": [
          0.2625,
          0.475
         ]
        },
        "xaxis7": {
         "anchor": "y7",
         "domain": [
          0.525,
          0.7375
         ]
        },
        "xaxis8": {
         "anchor": "y8",
         "domain": [
          0.7875,
          1
         ]
        },
        "xaxis9": {
         "anchor": "y9",
         "domain": [
          0,
          0.2125
         ]
        },
        "yaxis": {
         "anchor": "x",
         "domain": [
          0.84375,
          1
         ],
         "showticklabels": true,
         "title": {
          "text": "Elo Rating"
         }
        },
        "yaxis10": {
         "anchor": "x10",
         "domain": [
          0.28125,
          0.4375
         ],
         "showticklabels": false
        },
        "yaxis11": {
         "anchor": "x11",
         "domain": [
          0.28125,
          0.4375
         ],
         "showticklabels": false
        },
        "yaxis12": {
         "anchor": "x12",
         "domain": [
          0.28125,
          0.4375
         ],
         "showticklabels": false
        },
        "yaxis13": {
         "anchor": "x13",
         "domain": [
          0,
          0.15625
         ],
         "showticklabels": true,
         "title": {
          "text": "Elo Rating"
         }
        },
        "yaxis14": {
         "anchor": "x14",
         "domain": [
          0,
          0.15625
         ],
         "showticklabels": false
        },
        "yaxis15": {
         "anchor": "x15",
         "domain": [
          0,
          0.15625
         ],
         "showticklabels": false
        },
        "yaxis16": {
         "anchor": "x16",
         "domain": [
          0,
          0.15625
         ],
         "showticklabels": false
        },
        "yaxis2": {
         "anchor": "x2",
         "domain": [
          0.84375,
          1
         ],
         "showticklabels": false
        },
        "yaxis3": {
         "anchor": "x3",
         "domain": [
          0.84375,
          1
         ],
         "showticklabels": false
        },
        "yaxis4": {
         "anchor": "x4",
         "domain": [
          0.84375,
          1
         ],
         "showticklabels": false
        },
        "yaxis5": {
         "anchor": "x5",
         "domain": [
          0.5625,
          0.71875
         ],
         "showticklabels": true,
         "title": {
          "text": "Elo Rating"
         }
        },
        "yaxis6": {
         "anchor": "x6",
         "domain": [
          0.5625,
          0.71875
         ],
         "showticklabels": false
        },
        "yaxis7": {
         "anchor": "x7",
         "domain": [
          0.5625,
          0.71875
         ],
         "showticklabels": false
        },
        "yaxis8": {
         "anchor": "x8",
         "domain": [
          0.5625,
          0.71875
         ],
         "showticklabels": false
        },
        "yaxis9": {
         "anchor": "x9",
         "domain": [
          0.28125,
          0.4375
         ],
         "showticklabels": true,
         "title": {
          "text": "Elo Rating"
         }
        }
       }
      }
     },
     "metadata": {},
     "output_type": "display_data"
    }
   ],
   "source": [
    "seasons = eloSeason['season'].unique()\n",
    "\n",
    "subFig = make_subplots(rows=4, cols=4, subplot_titles=[f\"{season}\" for season in seasons])\n",
    "\n",
    "row = 1\n",
    "col = 1\n",
    "legendAdded = set()\n",
    "\n",
    "for season in seasons:\n",
    "    seasonDf = eloSeason[eloSeason['season'] == season]\n",
    "    for team in seasonDf['team'].unique():\n",
    "        teamDf = seasonDf[seasonDf['team'] == team]\n",
    "\n",
    "        # Add trace to the subplot\n",
    "        subFig.add_trace(\n",
    "            go.Bar(\n",
    "                x=teamDf['season'], \n",
    "                y=teamDf['eloRating'], \n",
    "                name=team,\n",
    "                showlegend=team not in legendAdded \n",
    "            ),\n",
    "            row=row, col=col\n",
    "        )\n",
    "        legendAdded.add(team)\n",
    "\n",
    "        if col == 1:\n",
    "            subFig.update_yaxes(title_text=\"Elo Rating\", row=row, col=col, showticklabels=True)\n",
    "        else:\n",
    "            subFig.update_yaxes(showticklabels=False, row=row, col=col)\n",
    "\n",
    "    col += 1\n",
    "    if col > 4:\n",
    "        col = 1\n",
    "        row += 1\n",
    "\n",
    "subFig.update_layout(height=800, width=1200, title_text=\"Match By Match Elo Ratings of Teams\")\n",
    "subFig.show()"
   ]
  },
  {
   "cell_type": "code",
   "execution_count": 67,
   "metadata": {},
   "outputs": [
    {
     "data": {
      "application/vnd.plotly.v1+json": {
       "config": {
        "plotlyServerURL": "https://plot.ly"
       },
       "data": [
        {
         "alignmentgroup": "True",
         "hovertemplate": "Match Outcome=wins<br>team=Chennai Super Kings<br>season=%{x}<br>Number of Matches=%{y}<extra></extra>",
         "legendgroup": "wins",
         "marker": {
          "color": "green",
          "pattern": {
           "shape": ""
          }
         },
         "name": "wins",
         "offsetgroup": "wins",
         "orientation": "v",
         "showlegend": true,
         "textposition": "auto",
         "type": "bar",
         "x": [
          2008,
          2009,
          2010,
          2011,
          2012,
          2013,
          2014,
          2015,
          2018,
          2019,
          2020,
          2021,
          2022,
          2023
         ],
         "xaxis": "x13",
         "y": [
          9,
          8,
          9,
          11,
          10,
          12,
          10,
          10,
          11,
          10,
          6,
          11,
          4,
          10
         ],
         "yaxis": "y13"
        },
        {
         "alignmentgroup": "True",
         "hovertemplate": "Match Outcome=wins<br>team=Deccan Chargers<br>season=%{x}<br>Number of Matches=%{y}<extra></extra>",
         "legendgroup": "wins",
         "marker": {
          "color": "green",
          "pattern": {
           "shape": ""
          }
         },
         "name": "wins",
         "offsetgroup": "wins",
         "orientation": "v",
         "showlegend": false,
         "textposition": "auto",
         "type": "bar",
         "x": [
          2008,
          2009,
          2010,
          2011,
          2012
         ],
         "xaxis": "x14",
         "y": [
          2,
          9,
          8,
          6,
          4
         ],
         "yaxis": "y14"
        },
        {
         "alignmentgroup": "True",
         "hovertemplate": "Match Outcome=wins<br>team=Delhi Capitals<br>season=%{x}<br>Number of Matches=%{y}<extra></extra>",
         "legendgroup": "wins",
         "marker": {
          "color": "green",
          "pattern": {
           "shape": ""
          }
         },
         "name": "wins",
         "offsetgroup": "wins",
         "orientation": "v",
         "showlegend": false,
         "textposition": "auto",
         "type": "bar",
         "x": [
          2008,
          2009,
          2010,
          2011,
          2012,
          2013,
          2014,
          2015,
          2016,
          2017,
          2018,
          2019,
          2020,
          2021,
          2022,
          2023
         ],
         "xaxis": "x15",
         "y": [
          7,
          10,
          7,
          4,
          11,
          3,
          2,
          5,
          7,
          6,
          5,
          9,
          8,
          9,
          7,
          5
         ],
         "yaxis": "y15"
        },
        {
         "alignmentgroup": "True",
         "hovertemplate": "Match Outcome=wins<br>team=Gujarat Lions<br>season=%{x}<br>Number of Matches=%{y}<extra></extra>",
         "legendgroup": "wins",
         "marker": {
          "color": "green",
          "pattern": {
           "shape": ""
          }
         },
         "name": "wins",
         "offsetgroup": "wins",
         "orientation": "v",
         "showlegend": false,
         "textposition": "auto",
         "type": "bar",
         "x": [
          2016,
          2017
         ],
         "xaxis": "x10",
         "y": [
          9,
          4
         ],
         "yaxis": "y10"
        },
        {
         "alignmentgroup": "True",
         "hovertemplate": "Match Outcome=wins<br>team=Gujarat Titans<br>season=%{x}<br>Number of Matches=%{y}<extra></extra>",
         "legendgroup": "wins",
         "marker": {
          "color": "green",
          "pattern": {
           "shape": ""
          }
         },
         "name": "wins",
         "offsetgroup": "wins",
         "orientation": "v",
         "showlegend": false,
         "textposition": "auto",
         "type": "bar",
         "x": [
          2022,
          2023
         ],
         "xaxis": "x11",
         "y": [
          12,
          11
         ],
         "yaxis": "y11"
        },
        {
         "alignmentgroup": "True",
         "hovertemplate": "Match Outcome=wins<br>team=Kochi Tuskers Kerala<br>season=%{x}<br>Number of Matches=%{y}<extra></extra>",
         "legendgroup": "wins",
         "marker": {
          "color": "green",
          "pattern": {
           "shape": ""
          }
         },
         "name": "wins",
         "offsetgroup": "wins",
         "orientation": "v",
         "showlegend": false,
         "textposition": "auto",
         "type": "bar",
         "x": [
          2011
         ],
         "xaxis": "x12",
         "y": [
          6
         ],
         "yaxis": "y12"
        },
        {
         "alignmentgroup": "True",
         "hovertemplate": "Match Outcome=wins<br>team=Kolkata Knight Riders<br>season=%{x}<br>Number of Matches=%{y}<extra></extra>",
         "legendgroup": "wins",
         "marker": {
          "color": "green",
          "pattern": {
           "shape": ""
          }
         },
         "name": "wins",
         "offsetgroup": "wins",
         "orientation": "v",
         "showlegend": false,
         "textposition": "auto",
         "type": "bar",
         "x": [
          2008,
          2009,
          2010,
          2011,
          2012,
          2013,
          2014,
          2015,
          2016,
          2017,
          2018,
          2019,
          2020,
          2021,
          2022,
          2023
         ],
         "xaxis": "x7",
         "y": [
          6,
          3,
          7,
          8,
          12,
          6,
          11,
          7,
          8,
          9,
          9,
          6,
          6,
          9,
          6,
          6
         ],
         "yaxis": "y7"
        },
        {
         "alignmentgroup": "True",
         "hovertemplate": "Match Outcome=wins<br>team=Lucknow Super Giants<br>season=%{x}<br>Number of Matches=%{y}<extra></extra>",
         "legendgroup": "wins",
         "marker": {
          "color": "green",
          "pattern": {
           "shape": ""
          }
         },
         "name": "wins",
         "offsetgroup": "wins",
         "orientation": "v",
         "showlegend": false,
         "textposition": "auto",
         "type": "bar",
         "x": [
          2022,
          2023
         ],
         "xaxis": "x8",
         "y": [
          9,
          8
         ],
         "yaxis": "y8"
        },
        {
         "alignmentgroup": "True",
         "hovertemplate": "Match Outcome=wins<br>team=Mumbai Indians<br>season=%{x}<br>Number of Matches=%{y}<extra></extra>",
         "legendgroup": "wins",
         "marker": {
          "color": "green",
          "pattern": {
           "shape": ""
          }
         },
         "name": "wins",
         "offsetgroup": "wins",
         "orientation": "v",
         "showlegend": false,
         "textposition": "auto",
         "type": "bar",
         "x": [
          2008,
          2009,
          2010,
          2011,
          2012,
          2013,
          2014,
          2015,
          2016,
          2017,
          2018,
          2019,
          2020,
          2021,
          2022,
          2023
         ],
         "xaxis": "x9",
         "y": [
          7,
          5,
          11,
          10,
          10,
          13,
          7,
          10,
          7,
          11,
          6,
          10,
          11,
          7,
          4,
          9
         ],
         "yaxis": "y9"
        },
        {
         "alignmentgroup": "True",
         "hovertemplate": "Match Outcome=wins<br>team=Pune Warriors<br>season=%{x}<br>Number of Matches=%{y}<extra></extra>",
         "legendgroup": "wins",
         "marker": {
          "color": "green",
          "pattern": {
           "shape": ""
          }
         },
         "name": "wins",
         "offsetgroup": "wins",
         "orientation": "v",
         "showlegend": false,
         "textposition": "auto",
         "type": "bar",
         "x": [
          2011,
          2012,
          2013
         ],
         "xaxis": "x4",
         "y": [
          4,
          4,
          4
         ],
         "yaxis": "y4"
        },
        {
         "alignmentgroup": "True",
         "hovertemplate": "Match Outcome=wins<br>team=Punjab Kings<br>season=%{x}<br>Number of Matches=%{y}<extra></extra>",
         "legendgroup": "wins",
         "marker": {
          "color": "green",
          "pattern": {
           "shape": ""
          }
         },
         "name": "wins",
         "offsetgroup": "wins",
         "orientation": "v",
         "showlegend": false,
         "textposition": "auto",
         "type": "bar",
         "x": [
          2008,
          2009,
          2010,
          2011,
          2012,
          2013,
          2014,
          2015,
          2016,
          2017,
          2018,
          2019,
          2020,
          2021,
          2022,
          2023
         ],
         "xaxis": "x5",
         "y": [
          10,
          7,
          3,
          7,
          8,
          8,
          12,
          2,
          4,
          7,
          6,
          6,
          5,
          6,
          7,
          6
         ],
         "yaxis": "y5"
        },
        {
         "alignmentgroup": "True",
         "hovertemplate": "Match Outcome=wins<br>team=Rajasthan Royals<br>season=%{x}<br>Number of Matches=%{y}<extra></extra>",
         "legendgroup": "wins",
         "marker": {
          "color": "green",
          "pattern": {
           "shape": ""
          }
         },
         "name": "wins",
         "offsetgroup": "wins",
         "orientation": "v",
         "showlegend": false,
         "textposition": "auto",
         "type": "bar",
         "x": [
          2008,
          2009,
          2010,
          2011,
          2012,
          2013,
          2014,
          2015,
          2018,
          2019,
          2020,
          2021,
          2022,
          2023
         ],
         "xaxis": "x6",
         "y": [
          13,
          5,
          6,
          6,
          7,
          11,
          6,
          7,
          7,
          5,
          6,
          5,
          10,
          7
         ],
         "yaxis": "y6"
        },
        {
         "alignmentgroup": "True",
         "hovertemplate": "Match Outcome=wins<br>team=Rising Pune Supergiants<br>season=%{x}<br>Number of Matches=%{y}<extra></extra>",
         "legendgroup": "wins",
         "marker": {
          "color": "green",
          "pattern": {
           "shape": ""
          }
         },
         "name": "wins",
         "offsetgroup": "wins",
         "orientation": "v",
         "showlegend": false,
         "textposition": "auto",
         "type": "bar",
         "x": [
          2016,
          2017
         ],
         "xaxis": "x",
         "y": [
          5,
          10
         ],
         "yaxis": "y"
        },
        {
         "alignmentgroup": "True",
         "hovertemplate": "Match Outcome=wins<br>team=Royal Challengers Bangalore<br>season=%{x}<br>Number of Matches=%{y}<extra></extra>",
         "legendgroup": "wins",
         "marker": {
          "color": "green",
          "pattern": {
           "shape": ""
          }
         },
         "name": "wins",
         "offsetgroup": "wins",
         "orientation": "v",
         "showlegend": false,
         "textposition": "auto",
         "type": "bar",
         "x": [
          2008,
          2009,
          2010,
          2011,
          2012,
          2013,
          2014,
          2015,
          2016,
          2017,
          2018,
          2019,
          2020,
          2021,
          2022,
          2023
         ],
         "xaxis": "x2",
         "y": [
          4,
          9,
          8,
          10,
          8,
          8,
          5,
          8,
          9,
          3,
          6,
          5,
          6,
          9,
          9,
          7
         ],
         "yaxis": "y2"
        },
        {
         "alignmentgroup": "True",
         "hovertemplate": "Match Outcome=wins<br>team=Sunrisers Hyderabad<br>season=%{x}<br>Number of Matches=%{y}<extra></extra>",
         "legendgroup": "wins",
         "marker": {
          "color": "green",
          "pattern": {
           "shape": ""
          }
         },
         "name": "wins",
         "offsetgroup": "wins",
         "orientation": "v",
         "showlegend": false,
         "textposition": "auto",
         "type": "bar",
         "x": [
          2013,
          2014,
          2015,
          2016,
          2017,
          2018,
          2019,
          2020,
          2021,
          2022,
          2023
         ],
         "xaxis": "x3",
         "y": [
          9,
          6,
          7,
          11,
          8,
          10,
          6,
          8,
          3,
          6,
          4
         ],
         "yaxis": "y3"
        },
        {
         "alignmentgroup": "True",
         "hovertemplate": "Match Outcome=loss<br>team=Chennai Super Kings<br>season=%{x}<br>Number of Matches=%{y}<extra></extra>",
         "legendgroup": "loss",
         "marker": {
          "color": "red",
          "pattern": {
           "shape": ""
          }
         },
         "name": "loss",
         "offsetgroup": "loss",
         "orientation": "v",
         "showlegend": true,
         "textposition": "auto",
         "type": "bar",
         "x": [
          2008,
          2009,
          2010,
          2011,
          2012,
          2013,
          2014,
          2015,
          2018,
          2019,
          2020,
          2021,
          2022,
          2023
         ],
         "xaxis": "x13",
         "y": [
          7,
          6,
          6,
          5,
          8,
          6,
          6,
          7,
          5,
          7,
          8,
          5,
          10,
          6
         ],
         "yaxis": "y13"
        },
        {
         "alignmentgroup": "True",
         "hovertemplate": "Match Outcome=loss<br>team=Deccan Chargers<br>season=%{x}<br>Number of Matches=%{y}<extra></extra>",
         "legendgroup": "loss",
         "marker": {
          "color": "red",
          "pattern": {
           "shape": ""
          }
         },
         "name": "loss",
         "offsetgroup": "loss",
         "orientation": "v",
         "showlegend": false,
         "textposition": "auto",
         "type": "bar",
         "x": [
          2008,
          2009,
          2010,
          2011,
          2012
         ],
         "xaxis": "x14",
         "y": [
          12,
          7,
          8,
          8,
          11
         ],
         "yaxis": "y14"
        },
        {
         "alignmentgroup": "True",
         "hovertemplate": "Match Outcome=loss<br>team=Delhi Capitals<br>season=%{x}<br>Number of Matches=%{y}<extra></extra>",
         "legendgroup": "loss",
         "marker": {
          "color": "red",
          "pattern": {
           "shape": ""
          }
         },
         "name": "loss",
         "offsetgroup": "loss",
         "orientation": "v",
         "showlegend": false,
         "textposition": "auto",
         "type": "bar",
         "x": [
          2008,
          2009,
          2010,
          2011,
          2012,
          2013,
          2014,
          2015,
          2016,
          2017,
          2018,
          2019,
          2020,
          2021,
          2022,
          2023
         ],
         "xaxis": "x15",
         "y": [
          7,
          5,
          7,
          10,
          7,
          12,
          12,
          9,
          7,
          8,
          9,
          6,
          8,
          6,
          7,
          9
         ],
         "yaxis": "y15"
        },
        {
         "alignmentgroup": "True",
         "hovertemplate": "Match Outcome=loss<br>team=Gujarat Lions<br>season=%{x}<br>Number of Matches=%{y}<extra></extra>",
         "legendgroup": "loss",
         "marker": {
          "color": "red",
          "pattern": {
           "shape": ""
          }
         },
         "name": "loss",
         "offsetgroup": "loss",
         "orientation": "v",
         "showlegend": false,
         "textposition": "auto",
         "type": "bar",
         "x": [
          2016,
          2017
         ],
         "xaxis": "x10",
         "y": [
          7,
          9
         ],
         "yaxis": "y10"
        },
        {
         "alignmentgroup": "True",
         "hovertemplate": "Match Outcome=loss<br>team=Gujarat Titans<br>season=%{x}<br>Number of Matches=%{y}<extra></extra>",
         "legendgroup": "loss",
         "marker": {
          "color": "red",
          "pattern": {
           "shape": ""
          }
         },
         "name": "loss",
         "offsetgroup": "loss",
         "orientation": "v",
         "showlegend": false,
         "textposition": "auto",
         "type": "bar",
         "x": [
          2022,
          2023
         ],
         "xaxis": "x11",
         "y": [
          4,
          6
         ],
         "yaxis": "y11"
        },
        {
         "alignmentgroup": "True",
         "hovertemplate": "Match Outcome=loss<br>team=Kochi Tuskers Kerala<br>season=%{x}<br>Number of Matches=%{y}<extra></extra>",
         "legendgroup": "loss",
         "marker": {
          "color": "red",
          "pattern": {
           "shape": ""
          }
         },
         "name": "loss",
         "offsetgroup": "loss",
         "orientation": "v",
         "showlegend": false,
         "textposition": "auto",
         "type": "bar",
         "x": [
          2011
         ],
         "xaxis": "x12",
         "y": [
          8
         ],
         "yaxis": "y12"
        },
        {
         "alignmentgroup": "True",
         "hovertemplate": "Match Outcome=loss<br>team=Kolkata Knight Riders<br>season=%{x}<br>Number of Matches=%{y}<extra></extra>",
         "legendgroup": "loss",
         "marker": {
          "color": "red",
          "pattern": {
           "shape": ""
          }
         },
         "name": "loss",
         "offsetgroup": "loss",
         "orientation": "v",
         "showlegend": false,
         "textposition": "auto",
         "type": "bar",
         "x": [
          2008,
          2009,
          2010,
          2011,
          2012,
          2013,
          2014,
          2015,
          2016,
          2017,
          2018,
          2019,
          2020,
          2021,
          2022,
          2023
         ],
         "xaxis": "x7",
         "y": [
          7,
          9,
          7,
          7,
          5,
          10,
          4,
          6,
          7,
          7,
          7,
          7,
          7,
          8,
          8,
          8
         ],
         "yaxis": "y7"
        },
        {
         "alignmentgroup": "True",
         "hovertemplate": "Match Outcome=loss<br>team=Lucknow Super Giants<br>season=%{x}<br>Number of Matches=%{y}<extra></extra>",
         "legendgroup": "loss",
         "marker": {
          "color": "red",
          "pattern": {
           "shape": ""
          }
         },
         "name": "loss",
         "offsetgroup": "loss",
         "orientation": "v",
         "showlegend": false,
         "textposition": "auto",
         "type": "bar",
         "x": [
          2022,
          2023
         ],
         "xaxis": "x8",
         "y": [
          6,
          7
         ],
         "yaxis": "y8"
        },
        {
         "alignmentgroup": "True",
         "hovertemplate": "Match Outcome=loss<br>team=Mumbai Indians<br>season=%{x}<br>Number of Matches=%{y}<extra></extra>",
         "legendgroup": "loss",
         "marker": {
          "color": "red",
          "pattern": {
           "shape": ""
          }
         },
         "name": "loss",
         "offsetgroup": "loss",
         "orientation": "v",
         "showlegend": false,
         "textposition": "auto",
         "type": "bar",
         "x": [
          2008,
          2009,
          2010,
          2011,
          2012,
          2013,
          2014,
          2015,
          2016,
          2017,
          2018,
          2019,
          2020,
          2021,
          2022,
          2023
         ],
         "xaxis": "x9",
         "y": [
          7,
          8,
          5,
          6,
          7,
          6,
          8,
          6,
          7,
          5,
          8,
          5,
          3,
          7,
          10,
          7
         ],
         "yaxis": "y9"
        },
        {
         "alignmentgroup": "True",
         "hovertemplate": "Match Outcome=loss<br>team=Pune Warriors<br>season=%{x}<br>Number of Matches=%{y}<extra></extra>",
         "legendgroup": "loss",
         "marker": {
          "color": "red",
          "pattern": {
           "shape": ""
          }
         },
         "name": "loss",
         "offsetgroup": "loss",
         "orientation": "v",
         "showlegend": false,
         "textposition": "auto",
         "type": "bar",
         "x": [
          2011,
          2012,
          2013
         ],
         "xaxis": "x4",
         "y": [
          10,
          12,
          12
         ],
         "yaxis": "y4"
        },
        {
         "alignmentgroup": "True",
         "hovertemplate": "Match Outcome=loss<br>team=Punjab Kings<br>season=%{x}<br>Number of Matches=%{y}<extra></extra>",
         "legendgroup": "loss",
         "marker": {
          "color": "red",
          "pattern": {
           "shape": ""
          }
         },
         "name": "loss",
         "offsetgroup": "loss",
         "orientation": "v",
         "showlegend": false,
         "textposition": "auto",
         "type": "bar",
         "x": [
          2008,
          2009,
          2010,
          2011,
          2012,
          2013,
          2014,
          2015,
          2016,
          2017,
          2018,
          2019,
          2020,
          2021,
          2022,
          2023
         ],
         "xaxis": "x5",
         "y": [
          5,
          7,
          10,
          7,
          8,
          8,
          5,
          11,
          10,
          7,
          8,
          8,
          7,
          8,
          7,
          8
         ],
         "yaxis": "y5"
        },
        {
         "alignmentgroup": "True",
         "hovertemplate": "Match Outcome=loss<br>team=Rajasthan Royals<br>season=%{x}<br>Number of Matches=%{y}<extra></extra>",
         "legendgroup": "loss",
         "marker": {
          "color": "red",
          "pattern": {
           "shape": ""
          }
         },
         "name": "loss",
         "offsetgroup": "loss",
         "orientation": "v",
         "showlegend": false,
         "textposition": "auto",
         "type": "bar",
         "x": [
          2008,
          2009,
          2010,
          2011,
          2012,
          2013,
          2014,
          2015,
          2018,
          2019,
          2020,
          2021,
          2022,
          2023
         ],
         "xaxis": "x6",
         "y": [
          3,
          7,
          8,
          7,
          9,
          7,
          7,
          6,
          8,
          9,
          8,
          9,
          7,
          7
         ],
         "yaxis": "y6"
        },
        {
         "alignmentgroup": "True",
         "hovertemplate": "Match Outcome=loss<br>team=Rising Pune Supergiants<br>season=%{x}<br>Number of Matches=%{y}<extra></extra>",
         "legendgroup": "loss",
         "marker": {
          "color": "red",
          "pattern": {
           "shape": ""
          }
         },
         "name": "loss",
         "offsetgroup": "loss",
         "orientation": "v",
         "showlegend": false,
         "textposition": "auto",
         "type": "bar",
         "x": [
          2016,
          2017
         ],
         "xaxis": "x",
         "y": [
          9,
          6
         ],
         "yaxis": "y"
        },
        {
         "alignmentgroup": "True",
         "hovertemplate": "Match Outcome=loss<br>team=Royal Challengers Bangalore<br>season=%{x}<br>Number of Matches=%{y}<extra></extra>",
         "legendgroup": "loss",
         "marker": {
          "color": "red",
          "pattern": {
           "shape": ""
          }
         },
         "name": "loss",
         "offsetgroup": "loss",
         "orientation": "v",
         "showlegend": false,
         "textposition": "auto",
         "type": "bar",
         "x": [
          2008,
          2009,
          2010,
          2011,
          2012,
          2013,
          2014,
          2015,
          2016,
          2017,
          2018,
          2019,
          2020,
          2021,
          2022,
          2023
         ],
         "xaxis": "x2",
         "y": [
          10,
          7,
          8,
          6,
          7,
          6,
          9,
          8,
          7,
          10,
          8,
          9,
          8,
          6,
          7,
          7
         ],
         "yaxis": "y2"
        },
        {
         "alignmentgroup": "True",
         "hovertemplate": "Match Outcome=loss<br>team=Sunrisers Hyderabad<br>season=%{x}<br>Number of Matches=%{y}<extra></extra>",
         "legendgroup": "loss",
         "marker": {
          "color": "red",
          "pattern": {
           "shape": ""
          }
         },
         "name": "loss",
         "offsetgroup": "loss",
         "orientation": "v",
         "showlegend": false,
         "textposition": "auto",
         "type": "bar",
         "x": [
          2013,
          2014,
          2015,
          2016,
          2017,
          2018,
          2019,
          2020,
          2021,
          2022,
          2023
         ],
         "xaxis": "x3",
         "y": [
          7,
          8,
          7,
          6,
          6,
          7,
          8,
          7,
          10,
          8,
          10
         ],
         "yaxis": "y3"
        },
        {
         "alignmentgroup": "True",
         "hovertemplate": "Match Outcome=ties<br>team=Chennai Super Kings<br>season=%{x}<br>Number of Matches=%{y}<extra></extra>",
         "legendgroup": "ties",
         "marker": {
          "color": "blue",
          "pattern": {
           "shape": ""
          }
         },
         "name": "ties",
         "offsetgroup": "ties",
         "orientation": "v",
         "showlegend": true,
         "textposition": "auto",
         "type": "bar",
         "x": [
          2008,
          2009,
          2010,
          2011,
          2012,
          2013,
          2014,
          2015,
          2018,
          2019,
          2020,
          2021,
          2022,
          2023
         ],
         "xaxis": "x13",
         "y": [
          0,
          0,
          1,
          0,
          0,
          0,
          0,
          0,
          0,
          0,
          0,
          0,
          0,
          0
         ],
         "yaxis": "y13"
        },
        {
         "alignmentgroup": "True",
         "hovertemplate": "Match Outcome=ties<br>team=Deccan Chargers<br>season=%{x}<br>Number of Matches=%{y}<extra></extra>",
         "legendgroup": "ties",
         "marker": {
          "color": "blue",
          "pattern": {
           "shape": ""
          }
         },
         "name": "ties",
         "offsetgroup": "ties",
         "orientation": "v",
         "showlegend": false,
         "textposition": "auto",
         "type": "bar",
         "x": [
          2008,
          2009,
          2010,
          2011,
          2012
         ],
         "xaxis": "x14",
         "y": [
          0,
          0,
          0,
          0,
          0
         ],
         "yaxis": "y14"
        },
        {
         "alignmentgroup": "True",
         "hovertemplate": "Match Outcome=ties<br>team=Delhi Capitals<br>season=%{x}<br>Number of Matches=%{y}<extra></extra>",
         "legendgroup": "ties",
         "marker": {
          "color": "blue",
          "pattern": {
           "shape": ""
          }
         },
         "name": "ties",
         "offsetgroup": "ties",
         "orientation": "v",
         "showlegend": false,
         "textposition": "auto",
         "type": "bar",
         "x": [
          2008,
          2009,
          2010,
          2011,
          2012,
          2013,
          2014,
          2015,
          2016,
          2017,
          2018,
          2019,
          2020,
          2021,
          2022,
          2023
         ],
         "xaxis": "x15",
         "y": [
          0,
          0,
          0,
          0,
          0,
          1,
          0,
          0,
          0,
          0,
          0,
          1,
          1,
          1,
          0,
          0
         ],
         "yaxis": "y15"
        },
        {
         "alignmentgroup": "True",
         "hovertemplate": "Match Outcome=ties<br>team=Gujarat Lions<br>season=%{x}<br>Number of Matches=%{y}<extra></extra>",
         "legendgroup": "ties",
         "marker": {
          "color": "blue",
          "pattern": {
           "shape": ""
          }
         },
         "name": "ties",
         "offsetgroup": "ties",
         "orientation": "v",
         "showlegend": false,
         "textposition": "auto",
         "type": "bar",
         "x": [
          2016,
          2017
         ],
         "xaxis": "x10",
         "y": [
          0,
          1
         ],
         "yaxis": "y10"
        },
        {
         "alignmentgroup": "True",
         "hovertemplate": "Match Outcome=ties<br>team=Gujarat Titans<br>season=%{x}<br>Number of Matches=%{y}<extra></extra>",
         "legendgroup": "ties",
         "marker": {
          "color": "blue",
          "pattern": {
           "shape": ""
          }
         },
         "name": "ties",
         "offsetgroup": "ties",
         "orientation": "v",
         "showlegend": false,
         "textposition": "auto",
         "type": "bar",
         "x": [
          2022,
          2023
         ],
         "xaxis": "x11",
         "y": [
          0,
          0
         ],
         "yaxis": "y11"
        },
        {
         "alignmentgroup": "True",
         "hovertemplate": "Match Outcome=ties<br>team=Kochi Tuskers Kerala<br>season=%{x}<br>Number of Matches=%{y}<extra></extra>",
         "legendgroup": "ties",
         "marker": {
          "color": "blue",
          "pattern": {
           "shape": ""
          }
         },
         "name": "ties",
         "offsetgroup": "ties",
         "orientation": "v",
         "showlegend": false,
         "textposition": "auto",
         "type": "bar",
         "x": [
          2011
         ],
         "xaxis": "x12",
         "y": [
          0
         ],
         "yaxis": "y12"
        },
        {
         "alignmentgroup": "True",
         "hovertemplate": "Match Outcome=ties<br>team=Kolkata Knight Riders<br>season=%{x}<br>Number of Matches=%{y}<extra></extra>",
         "legendgroup": "ties",
         "marker": {
          "color": "blue",
          "pattern": {
           "shape": ""
          }
         },
         "name": "ties",
         "offsetgroup": "ties",
         "orientation": "v",
         "showlegend": false,
         "textposition": "auto",
         "type": "bar",
         "x": [
          2008,
          2009,
          2010,
          2011,
          2012,
          2013,
          2014,
          2015,
          2016,
          2017,
          2018,
          2019,
          2020,
          2021,
          2022,
          2023
         ],
         "xaxis": "x7",
         "y": [
          0,
          1,
          0,
          0,
          0,
          0,
          1,
          0,
          0,
          0,
          0,
          1,
          1,
          0,
          0,
          0
         ],
         "yaxis": "y7"
        },
        {
         "alignmentgroup": "True",
         "hovertemplate": "Match Outcome=ties<br>team=Lucknow Super Giants<br>season=%{x}<br>Number of Matches=%{y}<extra></extra>",
         "legendgroup": "ties",
         "marker": {
          "color": "blue",
          "pattern": {
           "shape": ""
          }
         },
         "name": "ties",
         "offsetgroup": "ties",
         "orientation": "v",
         "showlegend": false,
         "textposition": "auto",
         "type": "bar",
         "x": [
          2022,
          2023
         ],
         "xaxis": "x8",
         "y": [
          0,
          0
         ],
         "yaxis": "y8"
        },
        {
         "alignmentgroup": "True",
         "hovertemplate": "Match Outcome=ties<br>team=Mumbai Indians<br>season=%{x}<br>Number of Matches=%{y}<extra></extra>",
         "legendgroup": "ties",
         "marker": {
          "color": "blue",
          "pattern": {
           "shape": ""
          }
         },
         "name": "ties",
         "offsetgroup": "ties",
         "orientation": "v",
         "showlegend": false,
         "textposition": "auto",
         "type": "bar",
         "x": [
          2008,
          2009,
          2010,
          2011,
          2012,
          2013,
          2014,
          2015,
          2016,
          2017,
          2018,
          2019,
          2020,
          2021,
          2022,
          2023
         ],
         "xaxis": "x9",
         "y": [
          0,
          0,
          0,
          0,
          0,
          0,
          0,
          0,
          0,
          1,
          0,
          1,
          2,
          0,
          0,
          0
         ],
         "yaxis": "y9"
        },
        {
         "alignmentgroup": "True",
         "hovertemplate": "Match Outcome=ties<br>team=Pune Warriors<br>season=%{x}<br>Number of Matches=%{y}<extra></extra>",
         "legendgroup": "ties",
         "marker": {
          "color": "blue",
          "pattern": {
           "shape": ""
          }
         },
         "name": "ties",
         "offsetgroup": "ties",
         "orientation": "v",
         "showlegend": false,
         "textposition": "auto",
         "type": "bar",
         "x": [
          2011,
          2012,
          2013
         ],
         "xaxis": "x4",
         "y": [
          0,
          0,
          0
         ],
         "yaxis": "y4"
        },
        {
         "alignmentgroup": "True",
         "hovertemplate": "Match Outcome=ties<br>team=Punjab Kings<br>season=%{x}<br>Number of Matches=%{y}<extra></extra>",
         "legendgroup": "ties",
         "marker": {
          "color": "blue",
          "pattern": {
           "shape": ""
          }
         },
         "name": "ties",
         "offsetgroup": "ties",
         "orientation": "v",
         "showlegend": false,
         "textposition": "auto",
         "type": "bar",
         "x": [
          2008,
          2009,
          2010,
          2011,
          2012,
          2013,
          2014,
          2015,
          2016,
          2017,
          2018,
          2019,
          2020,
          2021,
          2022,
          2023
         ],
         "xaxis": "x5",
         "y": [
          0,
          0,
          1,
          0,
          0,
          0,
          0,
          1,
          0,
          0,
          0,
          0,
          2,
          0,
          0,
          0
         ],
         "yaxis": "y5"
        },
        {
         "alignmentgroup": "True",
         "hovertemplate": "Match Outcome=ties<br>team=Rajasthan Royals<br>season=%{x}<br>Number of Matches=%{y}<extra></extra>",
         "legendgroup": "ties",
         "marker": {
          "color": "blue",
          "pattern": {
           "shape": ""
          }
         },
         "name": "ties",
         "offsetgroup": "ties",
         "orientation": "v",
         "showlegend": false,
         "textposition": "auto",
         "type": "bar",
         "x": [
          2008,
          2009,
          2010,
          2011,
          2012,
          2013,
          2014,
          2015,
          2018,
          2019,
          2020,
          2021,
          2022,
          2023
         ],
         "xaxis": "x6",
         "y": [
          0,
          1,
          0,
          0,
          0,
          0,
          1,
          1,
          0,
          0,
          0,
          0,
          0,
          0
         ],
         "yaxis": "y6"
        },
        {
         "alignmentgroup": "True",
         "hovertemplate": "Match Outcome=ties<br>team=Rising Pune Supergiants<br>season=%{x}<br>Number of Matches=%{y}<extra></extra>",
         "legendgroup": "ties",
         "marker": {
          "color": "blue",
          "pattern": {
           "shape": ""
          }
         },
         "name": "ties",
         "offsetgroup": "ties",
         "orientation": "v",
         "showlegend": false,
         "textposition": "auto",
         "type": "bar",
         "x": [
          2016,
          2017
         ],
         "xaxis": "x",
         "y": [
          0,
          0
         ],
         "yaxis": "y"
        },
        {
         "alignmentgroup": "True",
         "hovertemplate": "Match Outcome=ties<br>team=Royal Challengers Bangalore<br>season=%{x}<br>Number of Matches=%{y}<extra></extra>",
         "legendgroup": "ties",
         "marker": {
          "color": "blue",
          "pattern": {
           "shape": ""
          }
         },
         "name": "ties",
         "offsetgroup": "ties",
         "orientation": "v",
         "showlegend": false,
         "textposition": "auto",
         "type": "bar",
         "x": [
          2008,
          2009,
          2010,
          2011,
          2012,
          2013,
          2014,
          2015,
          2016,
          2017,
          2018,
          2019,
          2020,
          2021,
          2022,
          2023
         ],
         "xaxis": "x2",
         "y": [
          0,
          0,
          0,
          0,
          0,
          2,
          0,
          0,
          0,
          0,
          0,
          0,
          1,
          0,
          0,
          0
         ],
         "yaxis": "y2"
        },
        {
         "alignmentgroup": "True",
         "hovertemplate": "Match Outcome=ties<br>team=Sunrisers Hyderabad<br>season=%{x}<br>Number of Matches=%{y}<extra></extra>",
         "legendgroup": "ties",
         "marker": {
          "color": "blue",
          "pattern": {
           "shape": ""
          }
         },
         "name": "ties",
         "offsetgroup": "ties",
         "orientation": "v",
         "showlegend": false,
         "textposition": "auto",
         "type": "bar",
         "x": [
          2013,
          2014,
          2015,
          2016,
          2017,
          2018,
          2019,
          2020,
          2021,
          2022,
          2023
         ],
         "xaxis": "x3",
         "y": [
          1,
          0,
          0,
          0,
          0,
          0,
          1,
          1,
          1,
          0,
          0
         ],
         "yaxis": "y3"
        }
       ],
       "layout": {
        "annotations": [
         {
          "font": {},
          "showarrow": false,
          "text": "team=Rising Pune Supergiants",
          "x": 0.15999999999999998,
          "xanchor": "center",
          "xref": "paper",
          "y": 0.144,
          "yanchor": "bottom",
          "yref": "paper"
         },
         {
          "font": {},
          "showarrow": false,
          "text": "team=Royal Challengers Bangalore",
          "x": 0.49999999999999994,
          "xanchor": "center",
          "xref": "paper",
          "y": 0.144,
          "yanchor": "bottom",
          "yref": "paper"
         },
         {
          "font": {},
          "showarrow": false,
          "text": "team=Sunrisers Hyderabad",
          "x": 0.8399999999999999,
          "xanchor": "center",
          "xref": "paper",
          "y": 0.144,
          "yanchor": "bottom",
          "yref": "paper"
         },
         {
          "font": {},
          "showarrow": false,
          "text": "team=Pune Warriors",
          "x": 0.15999999999999998,
          "xanchor": "center",
          "xref": "paper",
          "y": 0.358,
          "yanchor": "bottom",
          "yref": "paper"
         },
         {
          "font": {},
          "showarrow": false,
          "text": "team=Punjab Kings",
          "x": 0.49999999999999994,
          "xanchor": "center",
          "xref": "paper",
          "y": 0.358,
          "yanchor": "bottom",
          "yref": "paper"
         },
         {
          "font": {},
          "showarrow": false,
          "text": "team=Rajasthan Royals",
          "x": 0.8399999999999999,
          "xanchor": "center",
          "xref": "paper",
          "y": 0.358,
          "yanchor": "bottom",
          "yref": "paper"
         },
         {
          "font": {},
          "showarrow": false,
          "text": "team=Kolkata Knight Riders",
          "x": 0.15999999999999998,
          "xanchor": "center",
          "xref": "paper",
          "y": 0.572,
          "yanchor": "bottom",
          "yref": "paper"
         },
         {
          "font": {},
          "showarrow": false,
          "text": "team=Lucknow Super Giants",
          "x": 0.49999999999999994,
          "xanchor": "center",
          "xref": "paper",
          "y": 0.572,
          "yanchor": "bottom",
          "yref": "paper"
         },
         {
          "font": {},
          "showarrow": false,
          "text": "team=Mumbai Indians",
          "x": 0.8399999999999999,
          "xanchor": "center",
          "xref": "paper",
          "y": 0.572,
          "yanchor": "bottom",
          "yref": "paper"
         },
         {
          "font": {},
          "showarrow": false,
          "text": "team=Gujarat Lions",
          "x": 0.15999999999999998,
          "xanchor": "center",
          "xref": "paper",
          "y": 0.7859999999999999,
          "yanchor": "bottom",
          "yref": "paper"
         },
         {
          "font": {},
          "showarrow": false,
          "text": "team=Gujarat Titans",
          "x": 0.49999999999999994,
          "xanchor": "center",
          "xref": "paper",
          "y": 0.7859999999999999,
          "yanchor": "bottom",
          "yref": "paper"
         },
         {
          "font": {},
          "showarrow": false,
          "text": "team=Kochi Tuskers Kerala",
          "x": 0.8399999999999999,
          "xanchor": "center",
          "xref": "paper",
          "y": 0.7859999999999999,
          "yanchor": "bottom",
          "yref": "paper"
         },
         {
          "font": {},
          "showarrow": false,
          "text": "team=Chennai Super Kings",
          "x": 0.15999999999999998,
          "xanchor": "center",
          "xref": "paper",
          "y": 1,
          "yanchor": "bottom",
          "yref": "paper"
         },
         {
          "font": {},
          "showarrow": false,
          "text": "team=Deccan Chargers",
          "x": 0.49999999999999994,
          "xanchor": "center",
          "xref": "paper",
          "y": 1,
          "yanchor": "bottom",
          "yref": "paper"
         },
         {
          "font": {},
          "showarrow": false,
          "text": "team=Delhi Capitals",
          "x": 0.8399999999999999,
          "xanchor": "center",
          "xref": "paper",
          "y": 1,
          "yanchor": "bottom",
          "yref": "paper"
         }
        ],
        "barmode": "stack",
        "height": 800,
        "legend": {
         "title": {
          "text": "Match Outcome"
         },
         "tracegroupgap": 0
        },
        "template": {
         "data": {
          "bar": [
           {
            "error_x": {
             "color": "#2a3f5f"
            },
            "error_y": {
             "color": "#2a3f5f"
            },
            "marker": {
             "line": {
              "color": "#E5ECF6",
              "width": 0.5
             },
             "pattern": {
              "fillmode": "overlay",
              "size": 10,
              "solidity": 0.2
             }
            },
            "type": "bar"
           }
          ],
          "barpolar": [
           {
            "marker": {
             "line": {
              "color": "#E5ECF6",
              "width": 0.5
             },
             "pattern": {
              "fillmode": "overlay",
              "size": 10,
              "solidity": 0.2
             }
            },
            "type": "barpolar"
           }
          ],
          "carpet": [
           {
            "aaxis": {
             "endlinecolor": "#2a3f5f",
             "gridcolor": "white",
             "linecolor": "white",
             "minorgridcolor": "white",
             "startlinecolor": "#2a3f5f"
            },
            "baxis": {
             "endlinecolor": "#2a3f5f",
             "gridcolor": "white",
             "linecolor": "white",
             "minorgridcolor": "white",
             "startlinecolor": "#2a3f5f"
            },
            "type": "carpet"
           }
          ],
          "choropleth": [
           {
            "colorbar": {
             "outlinewidth": 0,
             "ticks": ""
            },
            "type": "choropleth"
           }
          ],
          "contour": [
           {
            "colorbar": {
             "outlinewidth": 0,
             "ticks": ""
            },
            "colorscale": [
             [
              0,
              "#0d0887"
             ],
             [
              0.1111111111111111,
              "#46039f"
             ],
             [
              0.2222222222222222,
              "#7201a8"
             ],
             [
              0.3333333333333333,
              "#9c179e"
             ],
             [
              0.4444444444444444,
              "#bd3786"
             ],
             [
              0.5555555555555556,
              "#d8576b"
             ],
             [
              0.6666666666666666,
              "#ed7953"
             ],
             [
              0.7777777777777778,
              "#fb9f3a"
             ],
             [
              0.8888888888888888,
              "#fdca26"
             ],
             [
              1,
              "#f0f921"
             ]
            ],
            "type": "contour"
           }
          ],
          "contourcarpet": [
           {
            "colorbar": {
             "outlinewidth": 0,
             "ticks": ""
            },
            "type": "contourcarpet"
           }
          ],
          "heatmap": [
           {
            "colorbar": {
             "outlinewidth": 0,
             "ticks": ""
            },
            "colorscale": [
             [
              0,
              "#0d0887"
             ],
             [
              0.1111111111111111,
              "#46039f"
             ],
             [
              0.2222222222222222,
              "#7201a8"
             ],
             [
              0.3333333333333333,
              "#9c179e"
             ],
             [
              0.4444444444444444,
              "#bd3786"
             ],
             [
              0.5555555555555556,
              "#d8576b"
             ],
             [
              0.6666666666666666,
              "#ed7953"
             ],
             [
              0.7777777777777778,
              "#fb9f3a"
             ],
             [
              0.8888888888888888,
              "#fdca26"
             ],
             [
              1,
              "#f0f921"
             ]
            ],
            "type": "heatmap"
           }
          ],
          "heatmapgl": [
           {
            "colorbar": {
             "outlinewidth": 0,
             "ticks": ""
            },
            "colorscale": [
             [
              0,
              "#0d0887"
             ],
             [
              0.1111111111111111,
              "#46039f"
             ],
             [
              0.2222222222222222,
              "#7201a8"
             ],
             [
              0.3333333333333333,
              "#9c179e"
             ],
             [
              0.4444444444444444,
              "#bd3786"
             ],
             [
              0.5555555555555556,
              "#d8576b"
             ],
             [
              0.6666666666666666,
              "#ed7953"
             ],
             [
              0.7777777777777778,
              "#fb9f3a"
             ],
             [
              0.8888888888888888,
              "#fdca26"
             ],
             [
              1,
              "#f0f921"
             ]
            ],
            "type": "heatmapgl"
           }
          ],
          "histogram": [
           {
            "marker": {
             "pattern": {
              "fillmode": "overlay",
              "size": 10,
              "solidity": 0.2
             }
            },
            "type": "histogram"
           }
          ],
          "histogram2d": [
           {
            "colorbar": {
             "outlinewidth": 0,
             "ticks": ""
            },
            "colorscale": [
             [
              0,
              "#0d0887"
             ],
             [
              0.1111111111111111,
              "#46039f"
             ],
             [
              0.2222222222222222,
              "#7201a8"
             ],
             [
              0.3333333333333333,
              "#9c179e"
             ],
             [
              0.4444444444444444,
              "#bd3786"
             ],
             [
              0.5555555555555556,
              "#d8576b"
             ],
             [
              0.6666666666666666,
              "#ed7953"
             ],
             [
              0.7777777777777778,
              "#fb9f3a"
             ],
             [
              0.8888888888888888,
              "#fdca26"
             ],
             [
              1,
              "#f0f921"
             ]
            ],
            "type": "histogram2d"
           }
          ],
          "histogram2dcontour": [
           {
            "colorbar": {
             "outlinewidth": 0,
             "ticks": ""
            },
            "colorscale": [
             [
              0,
              "#0d0887"
             ],
             [
              0.1111111111111111,
              "#46039f"
             ],
             [
              0.2222222222222222,
              "#7201a8"
             ],
             [
              0.3333333333333333,
              "#9c179e"
             ],
             [
              0.4444444444444444,
              "#bd3786"
             ],
             [
              0.5555555555555556,
              "#d8576b"
             ],
             [
              0.6666666666666666,
              "#ed7953"
             ],
             [
              0.7777777777777778,
              "#fb9f3a"
             ],
             [
              0.8888888888888888,
              "#fdca26"
             ],
             [
              1,
              "#f0f921"
             ]
            ],
            "type": "histogram2dcontour"
           }
          ],
          "mesh3d": [
           {
            "colorbar": {
             "outlinewidth": 0,
             "ticks": ""
            },
            "type": "mesh3d"
           }
          ],
          "parcoords": [
           {
            "line": {
             "colorbar": {
              "outlinewidth": 0,
              "ticks": ""
             }
            },
            "type": "parcoords"
           }
          ],
          "pie": [
           {
            "automargin": true,
            "type": "pie"
           }
          ],
          "scatter": [
           {
            "fillpattern": {
             "fillmode": "overlay",
             "size": 10,
             "solidity": 0.2
            },
            "type": "scatter"
           }
          ],
          "scatter3d": [
           {
            "line": {
             "colorbar": {
              "outlinewidth": 0,
              "ticks": ""
             }
            },
            "marker": {
             "colorbar": {
              "outlinewidth": 0,
              "ticks": ""
             }
            },
            "type": "scatter3d"
           }
          ],
          "scattercarpet": [
           {
            "marker": {
             "colorbar": {
              "outlinewidth": 0,
              "ticks": ""
             }
            },
            "type": "scattercarpet"
           }
          ],
          "scattergeo": [
           {
            "marker": {
             "colorbar": {
              "outlinewidth": 0,
              "ticks": ""
             }
            },
            "type": "scattergeo"
           }
          ],
          "scattergl": [
           {
            "marker": {
             "colorbar": {
              "outlinewidth": 0,
              "ticks": ""
             }
            },
            "type": "scattergl"
           }
          ],
          "scattermapbox": [
           {
            "marker": {
             "colorbar": {
              "outlinewidth": 0,
              "ticks": ""
             }
            },
            "type": "scattermapbox"
           }
          ],
          "scatterpolar": [
           {
            "marker": {
             "colorbar": {
              "outlinewidth": 0,
              "ticks": ""
             }
            },
            "type": "scatterpolar"
           }
          ],
          "scatterpolargl": [
           {
            "marker": {
             "colorbar": {
              "outlinewidth": 0,
              "ticks": ""
             }
            },
            "type": "scatterpolargl"
           }
          ],
          "scatterternary": [
           {
            "marker": {
             "colorbar": {
              "outlinewidth": 0,
              "ticks": ""
             }
            },
            "type": "scatterternary"
           }
          ],
          "surface": [
           {
            "colorbar": {
             "outlinewidth": 0,
             "ticks": ""
            },
            "colorscale": [
             [
              0,
              "#0d0887"
             ],
             [
              0.1111111111111111,
              "#46039f"
             ],
             [
              0.2222222222222222,
              "#7201a8"
             ],
             [
              0.3333333333333333,
              "#9c179e"
             ],
             [
              0.4444444444444444,
              "#bd3786"
             ],
             [
              0.5555555555555556,
              "#d8576b"
             ],
             [
              0.6666666666666666,
              "#ed7953"
             ],
             [
              0.7777777777777778,
              "#fb9f3a"
             ],
             [
              0.8888888888888888,
              "#fdca26"
             ],
             [
              1,
              "#f0f921"
             ]
            ],
            "type": "surface"
           }
          ],
          "table": [
           {
            "cells": {
             "fill": {
              "color": "#EBF0F8"
             },
             "line": {
              "color": "white"
             }
            },
            "header": {
             "fill": {
              "color": "#C8D4E3"
             },
             "line": {
              "color": "white"
             }
            },
            "type": "table"
           }
          ]
         },
         "layout": {
          "annotationdefaults": {
           "arrowcolor": "#2a3f5f",
           "arrowhead": 0,
           "arrowwidth": 1
          },
          "autotypenumbers": "strict",
          "coloraxis": {
           "colorbar": {
            "outlinewidth": 0,
            "ticks": ""
           }
          },
          "colorscale": {
           "diverging": [
            [
             0,
             "#8e0152"
            ],
            [
             0.1,
             "#c51b7d"
            ],
            [
             0.2,
             "#de77ae"
            ],
            [
             0.3,
             "#f1b6da"
            ],
            [
             0.4,
             "#fde0ef"
            ],
            [
             0.5,
             "#f7f7f7"
            ],
            [
             0.6,
             "#e6f5d0"
            ],
            [
             0.7,
             "#b8e186"
            ],
            [
             0.8,
             "#7fbc41"
            ],
            [
             0.9,
             "#4d9221"
            ],
            [
             1,
             "#276419"
            ]
           ],
           "sequential": [
            [
             0,
             "#0d0887"
            ],
            [
             0.1111111111111111,
             "#46039f"
            ],
            [
             0.2222222222222222,
             "#7201a8"
            ],
            [
             0.3333333333333333,
             "#9c179e"
            ],
            [
             0.4444444444444444,
             "#bd3786"
            ],
            [
             0.5555555555555556,
             "#d8576b"
            ],
            [
             0.6666666666666666,
             "#ed7953"
            ],
            [
             0.7777777777777778,
             "#fb9f3a"
            ],
            [
             0.8888888888888888,
             "#fdca26"
            ],
            [
             1,
             "#f0f921"
            ]
           ],
           "sequentialminus": [
            [
             0,
             "#0d0887"
            ],
            [
             0.1111111111111111,
             "#46039f"
            ],
            [
             0.2222222222222222,
             "#7201a8"
            ],
            [
             0.3333333333333333,
             "#9c179e"
            ],
            [
             0.4444444444444444,
             "#bd3786"
            ],
            [
             0.5555555555555556,
             "#d8576b"
            ],
            [
             0.6666666666666666,
             "#ed7953"
            ],
            [
             0.7777777777777778,
             "#fb9f3a"
            ],
            [
             0.8888888888888888,
             "#fdca26"
            ],
            [
             1,
             "#f0f921"
            ]
           ]
          },
          "colorway": [
           "#636efa",
           "#EF553B",
           "#00cc96",
           "#ab63fa",
           "#FFA15A",
           "#19d3f3",
           "#FF6692",
           "#B6E880",
           "#FF97FF",
           "#FECB52"
          ],
          "font": {
           "color": "#2a3f5f"
          },
          "geo": {
           "bgcolor": "white",
           "lakecolor": "white",
           "landcolor": "#E5ECF6",
           "showlakes": true,
           "showland": true,
           "subunitcolor": "white"
          },
          "hoverlabel": {
           "align": "left"
          },
          "hovermode": "closest",
          "mapbox": {
           "style": "light"
          },
          "paper_bgcolor": "white",
          "plot_bgcolor": "#E5ECF6",
          "polar": {
           "angularaxis": {
            "gridcolor": "white",
            "linecolor": "white",
            "ticks": ""
           },
           "bgcolor": "#E5ECF6",
           "radialaxis": {
            "gridcolor": "white",
            "linecolor": "white",
            "ticks": ""
           }
          },
          "scene": {
           "xaxis": {
            "backgroundcolor": "#E5ECF6",
            "gridcolor": "white",
            "gridwidth": 2,
            "linecolor": "white",
            "showbackground": true,
            "ticks": "",
            "zerolinecolor": "white"
           },
           "yaxis": {
            "backgroundcolor": "#E5ECF6",
            "gridcolor": "white",
            "gridwidth": 2,
            "linecolor": "white",
            "showbackground": true,
            "ticks": "",
            "zerolinecolor": "white"
           },
           "zaxis": {
            "backgroundcolor": "#E5ECF6",
            "gridcolor": "white",
            "gridwidth": 2,
            "linecolor": "white",
            "showbackground": true,
            "ticks": "",
            "zerolinecolor": "white"
           }
          },
          "shapedefaults": {
           "line": {
            "color": "#2a3f5f"
           }
          },
          "ternary": {
           "aaxis": {
            "gridcolor": "white",
            "linecolor": "white",
            "ticks": ""
           },
           "baxis": {
            "gridcolor": "white",
            "linecolor": "white",
            "ticks": ""
           },
           "bgcolor": "#E5ECF6",
           "caxis": {
            "gridcolor": "white",
            "linecolor": "white",
            "ticks": ""
           }
          },
          "title": {
           "x": 0.05
          },
          "xaxis": {
           "automargin": true,
           "gridcolor": "white",
           "linecolor": "white",
           "ticks": "",
           "title": {
            "standoff": 15
           },
           "zerolinecolor": "white",
           "zerolinewidth": 2
          },
          "yaxis": {
           "automargin": true,
           "gridcolor": "white",
           "linecolor": "white",
           "ticks": "",
           "title": {
            "standoff": 15
           },
           "zerolinecolor": "white",
           "zerolinewidth": 2
          }
         }
        },
        "title": {
         "text": "Performance of teams per season"
        },
        "width": 1200,
        "xaxis": {
         "anchor": "y",
         "domain": [
          0,
          0.31999999999999995
         ],
         "title": {
          "text": "season"
         }
        },
        "xaxis10": {
         "anchor": "y10",
         "domain": [
          0,
          0.31999999999999995
         ],
         "matches": "x",
         "showticklabels": false
        },
        "xaxis11": {
         "anchor": "y11",
         "domain": [
          0.33999999999999997,
          0.6599999999999999
         ],
         "matches": "x",
         "showticklabels": false
        },
        "xaxis12": {
         "anchor": "y12",
         "domain": [
          0.6799999999999999,
          0.9999999999999999
         ],
         "matches": "x",
         "showticklabels": false
        },
        "xaxis13": {
         "anchor": "y13",
         "domain": [
          0,
          0.31999999999999995
         ],
         "matches": "x",
         "showticklabels": false
        },
        "xaxis14": {
         "anchor": "y14",
         "domain": [
          0.33999999999999997,
          0.6599999999999999
         ],
         "matches": "x",
         "showticklabels": false
        },
        "xaxis15": {
         "anchor": "y15",
         "domain": [
          0.6799999999999999,
          0.9999999999999999
         ],
         "matches": "x",
         "showticklabels": false
        },
        "xaxis2": {
         "anchor": "y2",
         "domain": [
          0.33999999999999997,
          0.6599999999999999
         ],
         "matches": "x",
         "title": {
          "text": "season"
         }
        },
        "xaxis3": {
         "anchor": "y3",
         "domain": [
          0.6799999999999999,
          0.9999999999999999
         ],
         "matches": "x",
         "title": {
          "text": "season"
         }
        },
        "xaxis4": {
         "anchor": "y4",
         "domain": [
          0,
          0.31999999999999995
         ],
         "matches": "x",
         "showticklabels": false
        },
        "xaxis5": {
         "anchor": "y5",
         "domain": [
          0.33999999999999997,
          0.6599999999999999
         ],
         "matches": "x",
         "showticklabels": false
        },
        "xaxis6": {
         "anchor": "y6",
         "domain": [
          0.6799999999999999,
          0.9999999999999999
         ],
         "matches": "x",
         "showticklabels": false
        },
        "xaxis7": {
         "anchor": "y7",
         "domain": [
          0,
          0.31999999999999995
         ],
         "matches": "x",
         "showticklabels": false
        },
        "xaxis8": {
         "anchor": "y8",
         "domain": [
          0.33999999999999997,
          0.6599999999999999
         ],
         "matches": "x",
         "showticklabels": false
        },
        "xaxis9": {
         "anchor": "y9",
         "domain": [
          0.6799999999999999,
          0.9999999999999999
         ],
         "matches": "x",
         "showticklabels": false
        },
        "yaxis": {
         "anchor": "x",
         "domain": [
          0,
          0.144
         ],
         "title": {
          "text": "Number of Matches"
         }
        },
        "yaxis10": {
         "anchor": "x10",
         "domain": [
          0.6419999999999999,
          0.7859999999999999
         ],
         "matches": "y",
         "title": {
          "text": "Number of Matches"
         }
        },
        "yaxis11": {
         "anchor": "x11",
         "domain": [
          0.6419999999999999,
          0.7859999999999999
         ],
         "matches": "y",
         "showticklabels": false
        },
        "yaxis12": {
         "anchor": "x12",
         "domain": [
          0.6419999999999999,
          0.7859999999999999
         ],
         "matches": "y",
         "showticklabels": false
        },
        "yaxis13": {
         "anchor": "x13",
         "domain": [
          0.856,
          1
         ],
         "matches": "y",
         "title": {
          "text": "Number of Matches"
         }
        },
        "yaxis14": {
         "anchor": "x14",
         "domain": [
          0.856,
          1
         ],
         "matches": "y",
         "showticklabels": false
        },
        "yaxis15": {
         "anchor": "x15",
         "domain": [
          0.856,
          1
         ],
         "matches": "y",
         "showticklabels": false
        },
        "yaxis2": {
         "anchor": "x2",
         "domain": [
          0,
          0.144
         ],
         "matches": "y",
         "showticklabels": false
        },
        "yaxis3": {
         "anchor": "x3",
         "domain": [
          0,
          0.144
         ],
         "matches": "y",
         "showticklabels": false
        },
        "yaxis4": {
         "anchor": "x4",
         "domain": [
          0.214,
          0.358
         ],
         "matches": "y",
         "title": {
          "text": "Number of Matches"
         }
        },
        "yaxis5": {
         "anchor": "x5",
         "domain": [
          0.214,
          0.358
         ],
         "matches": "y",
         "showticklabels": false
        },
        "yaxis6": {
         "anchor": "x6",
         "domain": [
          0.214,
          0.358
         ],
         "matches": "y",
         "showticklabels": false
        },
        "yaxis7": {
         "anchor": "x7",
         "domain": [
          0.428,
          0.572
         ],
         "matches": "y",
         "title": {
          "text": "Number of Matches"
         }
        },
        "yaxis8": {
         "anchor": "x8",
         "domain": [
          0.428,
          0.572
         ],
         "matches": "y",
         "showticklabels": false
        },
        "yaxis9": {
         "anchor": "x9",
         "domain": [
          0.428,
          0.572
         ],
         "matches": "y",
         "showticklabels": false
        }
       }
      }
     },
     "metadata": {},
     "output_type": "display_data"
    }
   ],
   "source": [
    "fig = px.bar(eloSeason, x=\"season\", y=[\"wins\", \"loss\", \"ties\"], \n",
    "                              color_discrete_map={\"wins\":\"green\", \"loss\":\"red\", \"ties\":\"blue\"},\n",
    "                              title=\"Team Performance Across Seasons\",\n",
    "                              labels={\"value\": \"Number of Matches\", \"variable\": \"Match Outcome\"},\n",
    "                              barmode=\"stack\",\n",
    "                              facet_col=\"team\",\n",
    "                              facet_col_wrap=3)\n",
    "\n",
    "\n",
    "fig.update_layout(height=800, width=1200, title_text=\"Performance of teams per season\")\n",
    "fig.show()\n"
   ]
  },
  {
   "cell_type": "code",
   "execution_count": 68,
   "metadata": {},
   "outputs": [
    {
     "data": {
      "application/vnd.plotly.v1+json": {
       "config": {
        "plotlyServerURL": "https://plot.ly"
       },
       "data": [
        {
         "coloraxis": "coloraxis",
         "hovertemplate": "x: %{x}<br>y: %{y}<br>color: %{z}<extra></extra>",
         "name": "0",
         "texttemplate": "%{z}",
         "type": "heatmap",
         "x": [
          "eloRating",
          "wins",
          "points",
          "winRatio"
         ],
         "xaxis": "x",
         "y": [
          "eloRating",
          "wins",
          "points",
          "winRatio"
         ],
         "yaxis": "y",
         "z": [
          [
           1,
           0.2472360880920065,
           0.24904087812211645,
           0.24652849038032557
          ],
          [
           0.2472360880920065,
           1,
           0.9585738253631816,
           0.9745734417069691
          ],
          [
           0.24904087812211645,
           0.9585738253631816,
           1,
           0.9504537828836715
          ],
          [
           0.24652849038032557,
           0.9745734417069691,
           0.9504537828836715,
           1
          ]
         ]
        }
       ],
       "layout": {
        "coloraxis": {
         "colorscale": [
          [
           0,
           "#0d0887"
          ],
          [
           0.1111111111111111,
           "#46039f"
          ],
          [
           0.2222222222222222,
           "#7201a8"
          ],
          [
           0.3333333333333333,
           "#9c179e"
          ],
          [
           0.4444444444444444,
           "#bd3786"
          ],
          [
           0.5555555555555556,
           "#d8576b"
          ],
          [
           0.6666666666666666,
           "#ed7953"
          ],
          [
           0.7777777777777778,
           "#fb9f3a"
          ],
          [
           0.8888888888888888,
           "#fdca26"
          ],
          [
           1,
           "#f0f921"
          ]
         ]
        },
        "height": 600,
        "margin": {
         "t": 60
        },
        "template": {
         "data": {
          "bar": [
           {
            "error_x": {
             "color": "#2a3f5f"
            },
            "error_y": {
             "color": "#2a3f5f"
            },
            "marker": {
             "line": {
              "color": "#E5ECF6",
              "width": 0.5
             },
             "pattern": {
              "fillmode": "overlay",
              "size": 10,
              "solidity": 0.2
             }
            },
            "type": "bar"
           }
          ],
          "barpolar": [
           {
            "marker": {
             "line": {
              "color": "#E5ECF6",
              "width": 0.5
             },
             "pattern": {
              "fillmode": "overlay",
              "size": 10,
              "solidity": 0.2
             }
            },
            "type": "barpolar"
           }
          ],
          "carpet": [
           {
            "aaxis": {
             "endlinecolor": "#2a3f5f",
             "gridcolor": "white",
             "linecolor": "white",
             "minorgridcolor": "white",
             "startlinecolor": "#2a3f5f"
            },
            "baxis": {
             "endlinecolor": "#2a3f5f",
             "gridcolor": "white",
             "linecolor": "white",
             "minorgridcolor": "white",
             "startlinecolor": "#2a3f5f"
            },
            "type": "carpet"
           }
          ],
          "choropleth": [
           {
            "colorbar": {
             "outlinewidth": 0,
             "ticks": ""
            },
            "type": "choropleth"
           }
          ],
          "contour": [
           {
            "colorbar": {
             "outlinewidth": 0,
             "ticks": ""
            },
            "colorscale": [
             [
              0,
              "#0d0887"
             ],
             [
              0.1111111111111111,
              "#46039f"
             ],
             [
              0.2222222222222222,
              "#7201a8"
             ],
             [
              0.3333333333333333,
              "#9c179e"
             ],
             [
              0.4444444444444444,
              "#bd3786"
             ],
             [
              0.5555555555555556,
              "#d8576b"
             ],
             [
              0.6666666666666666,
              "#ed7953"
             ],
             [
              0.7777777777777778,
              "#fb9f3a"
             ],
             [
              0.8888888888888888,
              "#fdca26"
             ],
             [
              1,
              "#f0f921"
             ]
            ],
            "type": "contour"
           }
          ],
          "contourcarpet": [
           {
            "colorbar": {
             "outlinewidth": 0,
             "ticks": ""
            },
            "type": "contourcarpet"
           }
          ],
          "heatmap": [
           {
            "colorbar": {
             "outlinewidth": 0,
             "ticks": ""
            },
            "colorscale": [
             [
              0,
              "#0d0887"
             ],
             [
              0.1111111111111111,
              "#46039f"
             ],
             [
              0.2222222222222222,
              "#7201a8"
             ],
             [
              0.3333333333333333,
              "#9c179e"
             ],
             [
              0.4444444444444444,
              "#bd3786"
             ],
             [
              0.5555555555555556,
              "#d8576b"
             ],
             [
              0.6666666666666666,
              "#ed7953"
             ],
             [
              0.7777777777777778,
              "#fb9f3a"
             ],
             [
              0.8888888888888888,
              "#fdca26"
             ],
             [
              1,
              "#f0f921"
             ]
            ],
            "type": "heatmap"
           }
          ],
          "heatmapgl": [
           {
            "colorbar": {
             "outlinewidth": 0,
             "ticks": ""
            },
            "colorscale": [
             [
              0,
              "#0d0887"
             ],
             [
              0.1111111111111111,
              "#46039f"
             ],
             [
              0.2222222222222222,
              "#7201a8"
             ],
             [
              0.3333333333333333,
              "#9c179e"
             ],
             [
              0.4444444444444444,
              "#bd3786"
             ],
             [
              0.5555555555555556,
              "#d8576b"
             ],
             [
              0.6666666666666666,
              "#ed7953"
             ],
             [
              0.7777777777777778,
              "#fb9f3a"
             ],
             [
              0.8888888888888888,
              "#fdca26"
             ],
             [
              1,
              "#f0f921"
             ]
            ],
            "type": "heatmapgl"
           }
          ],
          "histogram": [
           {
            "marker": {
             "pattern": {
              "fillmode": "overlay",
              "size": 10,
              "solidity": 0.2
             }
            },
            "type": "histogram"
           }
          ],
          "histogram2d": [
           {
            "colorbar": {
             "outlinewidth": 0,
             "ticks": ""
            },
            "colorscale": [
             [
              0,
              "#0d0887"
             ],
             [
              0.1111111111111111,
              "#46039f"
             ],
             [
              0.2222222222222222,
              "#7201a8"
             ],
             [
              0.3333333333333333,
              "#9c179e"
             ],
             [
              0.4444444444444444,
              "#bd3786"
             ],
             [
              0.5555555555555556,
              "#d8576b"
             ],
             [
              0.6666666666666666,
              "#ed7953"
             ],
             [
              0.7777777777777778,
              "#fb9f3a"
             ],
             [
              0.8888888888888888,
              "#fdca26"
             ],
             [
              1,
              "#f0f921"
             ]
            ],
            "type": "histogram2d"
           }
          ],
          "histogram2dcontour": [
           {
            "colorbar": {
             "outlinewidth": 0,
             "ticks": ""
            },
            "colorscale": [
             [
              0,
              "#0d0887"
             ],
             [
              0.1111111111111111,
              "#46039f"
             ],
             [
              0.2222222222222222,
              "#7201a8"
             ],
             [
              0.3333333333333333,
              "#9c179e"
             ],
             [
              0.4444444444444444,
              "#bd3786"
             ],
             [
              0.5555555555555556,
              "#d8576b"
             ],
             [
              0.6666666666666666,
              "#ed7953"
             ],
             [
              0.7777777777777778,
              "#fb9f3a"
             ],
             [
              0.8888888888888888,
              "#fdca26"
             ],
             [
              1,
              "#f0f921"
             ]
            ],
            "type": "histogram2dcontour"
           }
          ],
          "mesh3d": [
           {
            "colorbar": {
             "outlinewidth": 0,
             "ticks": ""
            },
            "type": "mesh3d"
           }
          ],
          "parcoords": [
           {
            "line": {
             "colorbar": {
              "outlinewidth": 0,
              "ticks": ""
             }
            },
            "type": "parcoords"
           }
          ],
          "pie": [
           {
            "automargin": true,
            "type": "pie"
           }
          ],
          "scatter": [
           {
            "fillpattern": {
             "fillmode": "overlay",
             "size": 10,
             "solidity": 0.2
            },
            "type": "scatter"
           }
          ],
          "scatter3d": [
           {
            "line": {
             "colorbar": {
              "outlinewidth": 0,
              "ticks": ""
             }
            },
            "marker": {
             "colorbar": {
              "outlinewidth": 0,
              "ticks": ""
             }
            },
            "type": "scatter3d"
           }
          ],
          "scattercarpet": [
           {
            "marker": {
             "colorbar": {
              "outlinewidth": 0,
              "ticks": ""
             }
            },
            "type": "scattercarpet"
           }
          ],
          "scattergeo": [
           {
            "marker": {
             "colorbar": {
              "outlinewidth": 0,
              "ticks": ""
             }
            },
            "type": "scattergeo"
           }
          ],
          "scattergl": [
           {
            "marker": {
             "colorbar": {
              "outlinewidth": 0,
              "ticks": ""
             }
            },
            "type": "scattergl"
           }
          ],
          "scattermapbox": [
           {
            "marker": {
             "colorbar": {
              "outlinewidth": 0,
              "ticks": ""
             }
            },
            "type": "scattermapbox"
           }
          ],
          "scatterpolar": [
           {
            "marker": {
             "colorbar": {
              "outlinewidth": 0,
              "ticks": ""
             }
            },
            "type": "scatterpolar"
           }
          ],
          "scatterpolargl": [
           {
            "marker": {
             "colorbar": {
              "outlinewidth": 0,
              "ticks": ""
             }
            },
            "type": "scatterpolargl"
           }
          ],
          "scatterternary": [
           {
            "marker": {
             "colorbar": {
              "outlinewidth": 0,
              "ticks": ""
             }
            },
            "type": "scatterternary"
           }
          ],
          "surface": [
           {
            "colorbar": {
             "outlinewidth": 0,
             "ticks": ""
            },
            "colorscale": [
             [
              0,
              "#0d0887"
             ],
             [
              0.1111111111111111,
              "#46039f"
             ],
             [
              0.2222222222222222,
              "#7201a8"
             ],
             [
              0.3333333333333333,
              "#9c179e"
             ],
             [
              0.4444444444444444,
              "#bd3786"
             ],
             [
              0.5555555555555556,
              "#d8576b"
             ],
             [
              0.6666666666666666,
              "#ed7953"
             ],
             [
              0.7777777777777778,
              "#fb9f3a"
             ],
             [
              0.8888888888888888,
              "#fdca26"
             ],
             [
              1,
              "#f0f921"
             ]
            ],
            "type": "surface"
           }
          ],
          "table": [
           {
            "cells": {
             "fill": {
              "color": "#EBF0F8"
             },
             "line": {
              "color": "white"
             }
            },
            "header": {
             "fill": {
              "color": "#C8D4E3"
             },
             "line": {
              "color": "white"
             }
            },
            "type": "table"
           }
          ]
         },
         "layout": {
          "annotationdefaults": {
           "arrowcolor": "#2a3f5f",
           "arrowhead": 0,
           "arrowwidth": 1
          },
          "autotypenumbers": "strict",
          "coloraxis": {
           "colorbar": {
            "outlinewidth": 0,
            "ticks": ""
           }
          },
          "colorscale": {
           "diverging": [
            [
             0,
             "#8e0152"
            ],
            [
             0.1,
             "#c51b7d"
            ],
            [
             0.2,
             "#de77ae"
            ],
            [
             0.3,
             "#f1b6da"
            ],
            [
             0.4,
             "#fde0ef"
            ],
            [
             0.5,
             "#f7f7f7"
            ],
            [
             0.6,
             "#e6f5d0"
            ],
            [
             0.7,
             "#b8e186"
            ],
            [
             0.8,
             "#7fbc41"
            ],
            [
             0.9,
             "#4d9221"
            ],
            [
             1,
             "#276419"
            ]
           ],
           "sequential": [
            [
             0,
             "#0d0887"
            ],
            [
             0.1111111111111111,
             "#46039f"
            ],
            [
             0.2222222222222222,
             "#7201a8"
            ],
            [
             0.3333333333333333,
             "#9c179e"
            ],
            [
             0.4444444444444444,
             "#bd3786"
            ],
            [
             0.5555555555555556,
             "#d8576b"
            ],
            [
             0.6666666666666666,
             "#ed7953"
            ],
            [
             0.7777777777777778,
             "#fb9f3a"
            ],
            [
             0.8888888888888888,
             "#fdca26"
            ],
            [
             1,
             "#f0f921"
            ]
           ],
           "sequentialminus": [
            [
             0,
             "#0d0887"
            ],
            [
             0.1111111111111111,
             "#46039f"
            ],
            [
             0.2222222222222222,
             "#7201a8"
            ],
            [
             0.3333333333333333,
             "#9c179e"
            ],
            [
             0.4444444444444444,
             "#bd3786"
            ],
            [
             0.5555555555555556,
             "#d8576b"
            ],
            [
             0.6666666666666666,
             "#ed7953"
            ],
            [
             0.7777777777777778,
             "#fb9f3a"
            ],
            [
             0.8888888888888888,
             "#fdca26"
            ],
            [
             1,
             "#f0f921"
            ]
           ]
          },
          "colorway": [
           "#636efa",
           "#EF553B",
           "#00cc96",
           "#ab63fa",
           "#FFA15A",
           "#19d3f3",
           "#FF6692",
           "#B6E880",
           "#FF97FF",
           "#FECB52"
          ],
          "font": {
           "color": "#2a3f5f"
          },
          "geo": {
           "bgcolor": "white",
           "lakecolor": "white",
           "landcolor": "#E5ECF6",
           "showlakes": true,
           "showland": true,
           "subunitcolor": "white"
          },
          "hoverlabel": {
           "align": "left"
          },
          "hovermode": "closest",
          "mapbox": {
           "style": "light"
          },
          "paper_bgcolor": "white",
          "plot_bgcolor": "#E5ECF6",
          "polar": {
           "angularaxis": {
            "gridcolor": "white",
            "linecolor": "white",
            "ticks": ""
           },
           "bgcolor": "#E5ECF6",
           "radialaxis": {
            "gridcolor": "white",
            "linecolor": "white",
            "ticks": ""
           }
          },
          "scene": {
           "xaxis": {
            "backgroundcolor": "#E5ECF6",
            "gridcolor": "white",
            "gridwidth": 2,
            "linecolor": "white",
            "showbackground": true,
            "ticks": "",
            "zerolinecolor": "white"
           },
           "yaxis": {
            "backgroundcolor": "#E5ECF6",
            "gridcolor": "white",
            "gridwidth": 2,
            "linecolor": "white",
            "showbackground": true,
            "ticks": "",
            "zerolinecolor": "white"
           },
           "zaxis": {
            "backgroundcolor": "#E5ECF6",
            "gridcolor": "white",
            "gridwidth": 2,
            "linecolor": "white",
            "showbackground": true,
            "ticks": "",
            "zerolinecolor": "white"
           }
          },
          "shapedefaults": {
           "line": {
            "color": "#2a3f5f"
           }
          },
          "ternary": {
           "aaxis": {
            "gridcolor": "white",
            "linecolor": "white",
            "ticks": ""
           },
           "baxis": {
            "gridcolor": "white",
            "linecolor": "white",
            "ticks": ""
           },
           "bgcolor": "#E5ECF6",
           "caxis": {
            "gridcolor": "white",
            "linecolor": "white",
            "ticks": ""
           }
          },
          "title": {
           "x": 0.05
          },
          "xaxis": {
           "automargin": true,
           "gridcolor": "white",
           "linecolor": "white",
           "ticks": "",
           "title": {
            "standoff": 15
           },
           "zerolinecolor": "white",
           "zerolinewidth": 2
          },
          "yaxis": {
           "automargin": true,
           "gridcolor": "white",
           "linecolor": "white",
           "ticks": "",
           "title": {
            "standoff": 15
           },
           "zerolinecolor": "white",
           "zerolinewidth": 2
          }
         }
        },
        "title": {
         "text": "Correlation Heatmap"
        },
        "width": 800,
        "xaxis": {
         "anchor": "y",
         "constrain": "domain",
         "domain": [
          0,
          1
         ],
         "scaleanchor": "y",
         "showgrid": false,
         "side": "top",
         "ticks": "outside"
        },
        "yaxis": {
         "anchor": "x",
         "autorange": "reversed",
         "constrain": "domain",
         "domain": [
          0,
          1
         ],
         "showgrid": false,
         "side": "left",
         "ticks": "outside"
        }
       }
      }
     },
     "metadata": {},
     "output_type": "display_data"
    }
   ],
   "source": [
    "corrMatrix = eloSeason[['eloRating', 'wins', 'points','winRatio']].corr()\n",
    "\n",
    "fig = px.imshow(corrMatrix, text_auto=True)\n",
    "\n",
    "fig.update_layout(\n",
    "    height=600,\n",
    "    width=800,\n",
    "    title='Correlation Heatmap',\n",
    "    xaxis_showgrid=False,\n",
    "    yaxis_showgrid=False,\n",
    "    xaxis=dict(ticks='outside', side='top'),\n",
    "    yaxis=dict(ticks='outside', side='left'),\n",
    ")\n",
    "\n",
    "fig.show()"
   ]
  },
  {
   "cell_type": "code",
   "execution_count": 69,
   "metadata": {},
   "outputs": [
    {
     "data": {
      "application/vnd.plotly.v1+json": {
       "config": {
        "plotlyServerURL": "https://plot.ly"
       },
       "data": [
        {
         "customdata": [
          [
           "Chennai Super Kings"
          ],
          [
           "Chennai Super Kings"
          ],
          [
           "Chennai Super Kings"
          ],
          [
           "Chennai Super Kings"
          ],
          [
           "Chennai Super Kings"
          ],
          [
           "Chennai Super Kings"
          ],
          [
           "Chennai Super Kings"
          ],
          [
           "Chennai Super Kings"
          ],
          [
           "Chennai Super Kings"
          ],
          [
           "Chennai Super Kings"
          ],
          [
           "Chennai Super Kings"
          ],
          [
           "Chennai Super Kings"
          ],
          [
           "Chennai Super Kings"
          ],
          [
           "Chennai Super Kings"
          ]
         ],
         "hovertemplate": "team=%{customdata[0]}<br>Elo Rating=%{x}<br>Win Ratio=%{y}<extra></extra>",
         "legendgroup": "Chennai Super Kings",
         "marker": {
          "color": "#1f77b4",
          "size": 10,
          "symbol": "x"
         },
         "mode": "markers",
         "name": "Chennai Super Kings",
         "orientation": "v",
         "showlegend": true,
         "type": "scatter",
         "x": [
          1111.196,
          1108.429,
          1127.404,
          1116.321,
          1097.227,
          1139.05,
          1139.776,
          1139.776,
          1103.36,
          1139.776,
          1123.721,
          1041.604,
          1043.094,
          1127.09
         ],
         "xaxis": "x",
         "y": [
          0.562,
          0.571,
          0.562,
          0.688,
          0.556,
          0.667,
          0.625,
          0.588,
          0.688,
          0.588,
          0.429,
          0.688,
          0.286,
          0.625
         ],
         "yaxis": "y"
        },
        {
         "customdata": [
          [
           "Deccan Chargers"
          ],
          [
           "Deccan Chargers"
          ],
          [
           "Deccan Chargers"
          ],
          [
           "Deccan Chargers"
          ],
          [
           "Deccan Chargers"
          ]
         ],
         "hovertemplate": "team=%{customdata[0]}<br>Elo Rating=%{x}<br>Win Ratio=%{y}<extra></extra>",
         "legendgroup": "Deccan Chargers",
         "marker": {
          "color": "#585858",
          "size": 10,
          "symbol": "x"
         },
         "mode": "markers",
         "name": "Deccan Chargers",
         "orientation": "v",
         "showlegend": true,
         "type": "scatter",
         "x": [
          908.996,
          953.645,
          887.053,
          898.136,
          908.996
         ],
         "xaxis": "x",
         "y": [
          0.143,
          0.562,
          0.5,
          0.429,
          0.267
         ],
         "yaxis": "y"
        },
        {
         "customdata": [
          [
           "Delhi Capitals"
          ],
          [
           "Delhi Capitals"
          ],
          [
           "Delhi Capitals"
          ],
          [
           "Delhi Capitals"
          ],
          [
           "Delhi Capitals"
          ],
          [
           "Delhi Capitals"
          ],
          [
           "Delhi Capitals"
          ],
          [
           "Delhi Capitals"
          ],
          [
           "Delhi Capitals"
          ],
          [
           "Delhi Capitals"
          ],
          [
           "Delhi Capitals"
          ],
          [
           "Delhi Capitals"
          ],
          [
           "Delhi Capitals"
          ],
          [
           "Delhi Capitals"
          ],
          [
           "Delhi Capitals"
          ],
          [
           "Delhi Capitals"
          ]
         ],
         "hovertemplate": "team=%{customdata[0]}<br>Elo Rating=%{x}<br>Win Ratio=%{y}<extra></extra>",
         "legendgroup": "Delhi Capitals",
         "marker": {
          "color": "#e377c2",
          "size": 10,
          "symbol": "x"
         },
         "mode": "markers",
         "name": "Delhi Capitals",
         "orientation": "v",
         "showlegend": true,
         "type": "scatter",
         "x": [
          1014.988,
          1067.633,
          987.175,
          1084.885,
          1062.951,
          961.698,
          976.544,
          981.182,
          993.868,
          996.838,
          996.838,
          961.698,
          976.544,
          993.868,
          961.698,
          971.2
         ],
         "xaxis": "x",
         "y": [
          0.5,
          0.667,
          0.5,
          0.286,
          0.611,
          0.188,
          0.143,
          0.357,
          0.5,
          0.429,
          0.357,
          0.562,
          0.471,
          0.562,
          0.5,
          0.357
         ],
         "yaxis": "y"
        },
        {
         "customdata": [
          [
           "Gujarat Lions"
          ],
          [
           "Gujarat Lions"
          ]
         ],
         "hovertemplate": "team=%{customdata[0]}<br>Elo Rating=%{x}<br>Win Ratio=%{y}<extra></extra>",
         "legendgroup": "Gujarat Lions",
         "marker": {
          "color": "#404040",
          "size": 10,
          "symbol": "x"
         },
         "mode": "markers",
         "name": "Gujarat Lions",
         "orientation": "v",
         "showlegend": true,
         "type": "scatter",
         "x": [
          991.245,
          991.245
         ],
         "xaxis": "x",
         "y": [
          0.562,
          0.286
         ],
         "yaxis": "y"
        },
        {
         "customdata": [
          [
           "Gujarat Titans"
          ],
          [
           "Gujarat Titans"
          ]
         ],
         "hovertemplate": "team=%{customdata[0]}<br>Elo Rating=%{x}<br>Win Ratio=%{y}<extra></extra>",
         "legendgroup": "Gujarat Titans",
         "marker": {
          "color": "#2ca02c",
          "size": 10,
          "symbol": "x"
         },
         "mode": "markers",
         "name": "Gujarat Titans",
         "orientation": "v",
         "showlegend": true,
         "type": "scatter",
         "x": [
          1084.687,
          1066.469
         ],
         "xaxis": "x",
         "y": [
          0.75,
          0.647
         ],
         "yaxis": "y"
        },
        {
         "customdata": [
          [
           "Kochi Tuskers Kerala"
          ]
         ],
         "hovertemplate": "team=%{customdata[0]}<br>Elo Rating=%{x}<br>Win Ratio=%{y}<extra></extra>",
         "legendgroup": "Kochi Tuskers Kerala",
         "marker": {
          "color": "#585858",
          "size": 10,
          "symbol": "x"
         },
         "mode": "markers",
         "name": "Kochi Tuskers Kerala",
         "orientation": "v",
         "showlegend": true,
         "type": "scatter",
         "x": [
          962.662
         ],
         "xaxis": "x",
         "y": [
          0.429
         ],
         "yaxis": "y"
        },
        {
         "customdata": [
          [
           "Kolkata Knight Riders"
          ],
          [
           "Kolkata Knight Riders"
          ],
          [
           "Kolkata Knight Riders"
          ],
          [
           "Kolkata Knight Riders"
          ],
          [
           "Kolkata Knight Riders"
          ],
          [
           "Kolkata Knight Riders"
          ],
          [
           "Kolkata Knight Riders"
          ],
          [
           "Kolkata Knight Riders"
          ],
          [
           "Kolkata Knight Riders"
          ],
          [
           "Kolkata Knight Riders"
          ],
          [
           "Kolkata Knight Riders"
          ],
          [
           "Kolkata Knight Riders"
          ],
          [
           "Kolkata Knight Riders"
          ],
          [
           "Kolkata Knight Riders"
          ],
          [
           "Kolkata Knight Riders"
          ],
          [
           "Kolkata Knight Riders"
          ]
         ],
         "hovertemplate": "team=%{customdata[0]}<br>Elo Rating=%{x}<br>Win Ratio=%{y}<extra></extra>",
         "legendgroup": "Kolkata Knight Riders",
         "marker": {
          "color": "#bcbd22",
          "size": 10,
          "symbol": "x"
         },
         "mode": "markers",
         "name": "Kolkata Knight Riders",
         "orientation": "v",
         "showlegend": true,
         "type": "scatter",
         "x": [
          927.695,
          947.865,
          944.597,
          987.096,
          975.565,
          959.976,
          933.433,
          962.888,
          943.967,
          914.721,
          958.036,
          944.597,
          980.119,
          959.976,
          914.721,
          932.151
         ],
         "xaxis": "x",
         "y": [
          0.462,
          0.231,
          0.5,
          0.533,
          0.706,
          0.375,
          0.688,
          0.538,
          0.533,
          0.562,
          0.562,
          0.429,
          0.429,
          0.529,
          0.429,
          0.429
         ],
         "yaxis": "y"
        },
        {
         "customdata": [
          [
           "Lucknow Super Giants"
          ],
          [
           "Lucknow Super Giants"
          ]
         ],
         "hovertemplate": "team=%{customdata[0]}<br>Elo Rating=%{x}<br>Win Ratio=%{y}<extra></extra>",
         "legendgroup": "Lucknow Super Giants",
         "marker": {
          "color": "#8c564b",
          "size": 10,
          "symbol": "x"
         },
         "mode": "markers",
         "name": "Lucknow Super Giants",
         "orientation": "v",
         "showlegend": true,
         "type": "scatter",
         "x": [
          1017.219,
          1035.437
         ],
         "xaxis": "x",
         "y": [
          0.6,
          0.533
         ],
         "yaxis": "y"
        },
        {
         "customdata": [
          [
           "Mumbai Indians"
          ],
          [
           "Mumbai Indians"
          ],
          [
           "Mumbai Indians"
          ],
          [
           "Mumbai Indians"
          ],
          [
           "Mumbai Indians"
          ],
          [
           "Mumbai Indians"
          ],
          [
           "Mumbai Indians"
          ],
          [
           "Mumbai Indians"
          ],
          [
           "Mumbai Indians"
          ],
          [
           "Mumbai Indians"
          ],
          [
           "Mumbai Indians"
          ],
          [
           "Mumbai Indians"
          ],
          [
           "Mumbai Indians"
          ],
          [
           "Mumbai Indians"
          ],
          [
           "Mumbai Indians"
          ],
          [
           "Mumbai Indians"
          ]
         ],
         "hovertemplate": "team=%{customdata[0]}<br>Elo Rating=%{x}<br>Win Ratio=%{y}<extra></extra>",
         "legendgroup": "Mumbai Indians",
         "marker": {
          "color": "#d62728",
          "size": 10,
          "symbol": "x"
         },
         "mode": "markers",
         "name": "Mumbai Indians",
         "orientation": "v",
         "showlegend": true,
         "type": "scatter",
         "x": [
          1050.964,
          1018.708,
          1057.1,
          1002.348,
          1050.964,
          1002.348,
          1041.721,
          1002.348,
          1002.348,
          1026.803,
          1041.721,
          1017.311,
          1041.721,
          1041.721,
          1026.803,
          1041.721
         ],
         "xaxis": "x",
         "y": [
          0.5,
          0.385,
          0.688,
          0.625,
          0.588,
          0.684,
          0.467,
          0.625,
          0.5,
          0.647,
          0.429,
          0.625,
          0.688,
          0.5,
          0.286,
          0.562
         ],
         "yaxis": "y"
        },
        {
         "customdata": [
          [
           "Pune Warriors"
          ],
          [
           "Pune Warriors"
          ],
          [
           "Pune Warriors"
          ]
         ],
         "hovertemplate": "team=%{customdata[0]}<br>Elo Rating=%{x}<br>Win Ratio=%{y}<extra></extra>",
         "legendgroup": "Pune Warriors",
         "marker": {
          "color": "#888888",
          "size": 10,
          "symbol": "x"
         },
         "mode": "markers",
         "name": "Pune Warriors",
         "orientation": "v",
         "showlegend": true,
         "type": "scatter",
         "x": [
          910.725,
          900.063,
          900.063
         ],
         "xaxis": "x",
         "y": [
          0.286,
          0.25,
          0.25
         ],
         "yaxis": "y"
        },
        {
         "customdata": [
          [
           "Punjab Kings"
          ],
          [
           "Punjab Kings"
          ],
          [
           "Punjab Kings"
          ],
          [
           "Punjab Kings"
          ],
          [
           "Punjab Kings"
          ],
          [
           "Punjab Kings"
          ],
          [
           "Punjab Kings"
          ],
          [
           "Punjab Kings"
          ],
          [
           "Punjab Kings"
          ],
          [
           "Punjab Kings"
          ],
          [
           "Punjab Kings"
          ],
          [
           "Punjab Kings"
          ],
          [
           "Punjab Kings"
          ],
          [
           "Punjab Kings"
          ],
          [
           "Punjab Kings"
          ],
          [
           "Punjab Kings"
          ]
         ],
         "hovertemplate": "team=%{customdata[0]}<br>Elo Rating=%{x}<br>Win Ratio=%{y}<extra></extra>",
         "legendgroup": "Punjab Kings",
         "marker": {
          "color": "#9467bd",
          "size": 10,
          "symbol": "x"
         },
         "mode": "markers",
         "name": "Punjab Kings",
         "orientation": "v",
         "showlegend": true,
         "type": "scatter",
         "x": [
          1093.871,
          1030.622,
          1068.148,
          1044.234,
          1055.174,
          1026.005,
          1009.975,
          1060.704,
          1009.975,
          1068.148,
          1124.994,
          1024.893,
          1098.099,
          1026.005,
          1068.986,
          1026.005
         ],
         "xaxis": "x",
         "y": [
          0.667,
          0.5,
          0.214,
          0.5,
          0.5,
          0.5,
          0.706,
          0.143,
          0.286,
          0.5,
          0.429,
          0.429,
          0.357,
          0.429,
          0.5,
          0.429
         ],
         "yaxis": "y"
        },
        {
         "customdata": [
          [
           "Rajasthan Royals"
          ],
          [
           "Rajasthan Royals"
          ],
          [
           "Rajasthan Royals"
          ],
          [
           "Rajasthan Royals"
          ],
          [
           "Rajasthan Royals"
          ],
          [
           "Rajasthan Royals"
          ],
          [
           "Rajasthan Royals"
          ],
          [
           "Rajasthan Royals"
          ],
          [
           "Rajasthan Royals"
          ],
          [
           "Rajasthan Royals"
          ],
          [
           "Rajasthan Royals"
          ],
          [
           "Rajasthan Royals"
          ],
          [
           "Rajasthan Royals"
          ],
          [
           "Rajasthan Royals"
          ]
         ],
         "hovertemplate": "team=%{customdata[0]}<br>Elo Rating=%{x}<br>Win Ratio=%{y}<extra></extra>",
         "legendgroup": "Rajasthan Royals",
         "marker": {
          "color": "#fc6ab5",
          "size": 10,
          "symbol": "x"
         },
         "mode": "markers",
         "name": "Rajasthan Royals",
         "orientation": "v",
         "showlegend": true,
         "type": "scatter",
         "x": [
          980.005,
          1059.34,
          1033.863,
          976.936,
          1061.278,
          1002.012,
          952.061,
          959.284,
          995.165,
          976.936,
          1033.863,
          995.165,
          1061.278,
          1017.833
         ],
         "xaxis": "x",
         "y": [
          0.812,
          0.385,
          0.429,
          0.462,
          0.438,
          0.611,
          0.429,
          0.5,
          0.467,
          0.357,
          0.429,
          0.357,
          0.588,
          0.5
         ],
         "yaxis": "y"
        },
        {
         "customdata": [
          [
           "Rising Pune Supergiants"
          ],
          [
           "Rising Pune Supergiants"
          ]
         ],
         "hovertemplate": "team=%{customdata[0]}<br>Elo Rating=%{x}<br>Win Ratio=%{y}<extra></extra>",
         "legendgroup": "Rising Pune Supergiants",
         "marker": {
          "color": "#707070",
          "size": 10,
          "symbol": "x"
         },
         "mode": "markers",
         "name": "Rising Pune Supergiants",
         "orientation": "v",
         "showlegend": true,
         "type": "scatter",
         "x": [
          977.612,
          980.733
         ],
         "xaxis": "x",
         "y": [
          0.357,
          0.625
         ],
         "yaxis": "y"
        },
        {
         "customdata": [
          [
           "Royal Challengers Bangalore"
          ],
          [
           "Royal Challengers Bangalore"
          ],
          [
           "Royal Challengers Bangalore"
          ],
          [
           "Royal Challengers Bangalore"
          ],
          [
           "Royal Challengers Bangalore"
          ],
          [
           "Royal Challengers Bangalore"
          ],
          [
           "Royal Challengers Bangalore"
          ],
          [
           "Royal Challengers Bangalore"
          ],
          [
           "Royal Challengers Bangalore"
          ],
          [
           "Royal Challengers Bangalore"
          ],
          [
           "Royal Challengers Bangalore"
          ],
          [
           "Royal Challengers Bangalore"
          ],
          [
           "Royal Challengers Bangalore"
          ],
          [
           "Royal Challengers Bangalore"
          ],
          [
           "Royal Challengers Bangalore"
          ],
          [
           "Royal Challengers Bangalore"
          ]
         ],
         "hovertemplate": "team=%{customdata[0]}<br>Elo Rating=%{x}<br>Win Ratio=%{y}<extra></extra>",
         "legendgroup": "Royal Challengers Bangalore",
         "marker": {
          "color": "#ff7f0e",
          "size": 10,
          "symbol": "x"
         },
         "mode": "markers",
         "name": "Royal Challengers Bangalore",
         "orientation": "v",
         "showlegend": true,
         "type": "scatter",
         "x": [
          1057.093,
          1115.297,
          1051.188,
          1051.188,
          1065.332,
          1116.023,
          1115.297,
          1065.332,
          1074.04,
          1080.778,
          1115.297,
          1050.739,
          1131.352,
          1051.188,
          1043.042,
          1115.297
         ],
         "xaxis": "x",
         "y": [
          0.286,
          0.562,
          0.5,
          0.625,
          0.533,
          0.5,
          0.357,
          0.5,
          0.562,
          0.231,
          0.429,
          0.357,
          0.4,
          0.6,
          0.562,
          0.5
         ],
         "yaxis": "y"
        },
        {
         "customdata": [
          [
           "Sunrisers Hyderabad"
          ],
          [
           "Sunrisers Hyderabad"
          ],
          [
           "Sunrisers Hyderabad"
          ],
          [
           "Sunrisers Hyderabad"
          ],
          [
           "Sunrisers Hyderabad"
          ],
          [
           "Sunrisers Hyderabad"
          ],
          [
           "Sunrisers Hyderabad"
          ],
          [
           "Sunrisers Hyderabad"
          ],
          [
           "Sunrisers Hyderabad"
          ],
          [
           "Sunrisers Hyderabad"
          ],
          [
           "Sunrisers Hyderabad"
          ]
         ],
         "hovertemplate": "team=%{customdata[0]}<br>Elo Rating=%{x}<br>Win Ratio=%{y}<extra></extra>",
         "legendgroup": "Sunrisers Hyderabad",
         "marker": {
          "color": "#17becf",
          "size": 10,
          "symbol": "x"
         },
         "mode": "markers",
         "name": "Sunrisers Hyderabad",
         "orientation": "v",
         "showlegend": true,
         "type": "scatter",
         "x": [
          940.317,
          943.813,
          918.035,
          960.271,
          901.56,
          901.56,
          945.097,
          943.813,
          945.097,
          960.149,
          943.813
         ],
         "xaxis": "x",
         "y": [
          0.529,
          0.429,
          0.5,
          0.647,
          0.571,
          0.588,
          0.4,
          0.5,
          0.214,
          0.429,
          0.286
         ],
         "yaxis": "y"
        }
       ],
       "layout": {
        "height": 600,
        "legend": {
         "title": {
          "text": "Team"
         },
         "tracegroupgap": 0,
         "x": 1,
         "y": 1
        },
        "template": {
         "data": {
          "bar": [
           {
            "error_x": {
             "color": "#2a3f5f"
            },
            "error_y": {
             "color": "#2a3f5f"
            },
            "marker": {
             "line": {
              "color": "#E5ECF6",
              "width": 0.5
             },
             "pattern": {
              "fillmode": "overlay",
              "size": 10,
              "solidity": 0.2
             }
            },
            "type": "bar"
           }
          ],
          "barpolar": [
           {
            "marker": {
             "line": {
              "color": "#E5ECF6",
              "width": 0.5
             },
             "pattern": {
              "fillmode": "overlay",
              "size": 10,
              "solidity": 0.2
             }
            },
            "type": "barpolar"
           }
          ],
          "carpet": [
           {
            "aaxis": {
             "endlinecolor": "#2a3f5f",
             "gridcolor": "white",
             "linecolor": "white",
             "minorgridcolor": "white",
             "startlinecolor": "#2a3f5f"
            },
            "baxis": {
             "endlinecolor": "#2a3f5f",
             "gridcolor": "white",
             "linecolor": "white",
             "minorgridcolor": "white",
             "startlinecolor": "#2a3f5f"
            },
            "type": "carpet"
           }
          ],
          "choropleth": [
           {
            "colorbar": {
             "outlinewidth": 0,
             "ticks": ""
            },
            "type": "choropleth"
           }
          ],
          "contour": [
           {
            "colorbar": {
             "outlinewidth": 0,
             "ticks": ""
            },
            "colorscale": [
             [
              0,
              "#0d0887"
             ],
             [
              0.1111111111111111,
              "#46039f"
             ],
             [
              0.2222222222222222,
              "#7201a8"
             ],
             [
              0.3333333333333333,
              "#9c179e"
             ],
             [
              0.4444444444444444,
              "#bd3786"
             ],
             [
              0.5555555555555556,
              "#d8576b"
             ],
             [
              0.6666666666666666,
              "#ed7953"
             ],
             [
              0.7777777777777778,
              "#fb9f3a"
             ],
             [
              0.8888888888888888,
              "#fdca26"
             ],
             [
              1,
              "#f0f921"
             ]
            ],
            "type": "contour"
           }
          ],
          "contourcarpet": [
           {
            "colorbar": {
             "outlinewidth": 0,
             "ticks": ""
            },
            "type": "contourcarpet"
           }
          ],
          "heatmap": [
           {
            "colorbar": {
             "outlinewidth": 0,
             "ticks": ""
            },
            "colorscale": [
             [
              0,
              "#0d0887"
             ],
             [
              0.1111111111111111,
              "#46039f"
             ],
             [
              0.2222222222222222,
              "#7201a8"
             ],
             [
              0.3333333333333333,
              "#9c179e"
             ],
             [
              0.4444444444444444,
              "#bd3786"
             ],
             [
              0.5555555555555556,
              "#d8576b"
             ],
             [
              0.6666666666666666,
              "#ed7953"
             ],
             [
              0.7777777777777778,
              "#fb9f3a"
             ],
             [
              0.8888888888888888,
              "#fdca26"
             ],
             [
              1,
              "#f0f921"
             ]
            ],
            "type": "heatmap"
           }
          ],
          "heatmapgl": [
           {
            "colorbar": {
             "outlinewidth": 0,
             "ticks": ""
            },
            "colorscale": [
             [
              0,
              "#0d0887"
             ],
             [
              0.1111111111111111,
              "#46039f"
             ],
             [
              0.2222222222222222,
              "#7201a8"
             ],
             [
              0.3333333333333333,
              "#9c179e"
             ],
             [
              0.4444444444444444,
              "#bd3786"
             ],
             [
              0.5555555555555556,
              "#d8576b"
             ],
             [
              0.6666666666666666,
              "#ed7953"
             ],
             [
              0.7777777777777778,
              "#fb9f3a"
             ],
             [
              0.8888888888888888,
              "#fdca26"
             ],
             [
              1,
              "#f0f921"
             ]
            ],
            "type": "heatmapgl"
           }
          ],
          "histogram": [
           {
            "marker": {
             "pattern": {
              "fillmode": "overlay",
              "size": 10,
              "solidity": 0.2
             }
            },
            "type": "histogram"
           }
          ],
          "histogram2d": [
           {
            "colorbar": {
             "outlinewidth": 0,
             "ticks": ""
            },
            "colorscale": [
             [
              0,
              "#0d0887"
             ],
             [
              0.1111111111111111,
              "#46039f"
             ],
             [
              0.2222222222222222,
              "#7201a8"
             ],
             [
              0.3333333333333333,
              "#9c179e"
             ],
             [
              0.4444444444444444,
              "#bd3786"
             ],
             [
              0.5555555555555556,
              "#d8576b"
             ],
             [
              0.6666666666666666,
              "#ed7953"
             ],
             [
              0.7777777777777778,
              "#fb9f3a"
             ],
             [
              0.8888888888888888,
              "#fdca26"
             ],
             [
              1,
              "#f0f921"
             ]
            ],
            "type": "histogram2d"
           }
          ],
          "histogram2dcontour": [
           {
            "colorbar": {
             "outlinewidth": 0,
             "ticks": ""
            },
            "colorscale": [
             [
              0,
              "#0d0887"
             ],
             [
              0.1111111111111111,
              "#46039f"
             ],
             [
              0.2222222222222222,
              "#7201a8"
             ],
             [
              0.3333333333333333,
              "#9c179e"
             ],
             [
              0.4444444444444444,
              "#bd3786"
             ],
             [
              0.5555555555555556,
              "#d8576b"
             ],
             [
              0.6666666666666666,
              "#ed7953"
             ],
             [
              0.7777777777777778,
              "#fb9f3a"
             ],
             [
              0.8888888888888888,
              "#fdca26"
             ],
             [
              1,
              "#f0f921"
             ]
            ],
            "type": "histogram2dcontour"
           }
          ],
          "mesh3d": [
           {
            "colorbar": {
             "outlinewidth": 0,
             "ticks": ""
            },
            "type": "mesh3d"
           }
          ],
          "parcoords": [
           {
            "line": {
             "colorbar": {
              "outlinewidth": 0,
              "ticks": ""
             }
            },
            "type": "parcoords"
           }
          ],
          "pie": [
           {
            "automargin": true,
            "type": "pie"
           }
          ],
          "scatter": [
           {
            "fillpattern": {
             "fillmode": "overlay",
             "size": 10,
             "solidity": 0.2
            },
            "type": "scatter"
           }
          ],
          "scatter3d": [
           {
            "line": {
             "colorbar": {
              "outlinewidth": 0,
              "ticks": ""
             }
            },
            "marker": {
             "colorbar": {
              "outlinewidth": 0,
              "ticks": ""
             }
            },
            "type": "scatter3d"
           }
          ],
          "scattercarpet": [
           {
            "marker": {
             "colorbar": {
              "outlinewidth": 0,
              "ticks": ""
             }
            },
            "type": "scattercarpet"
           }
          ],
          "scattergeo": [
           {
            "marker": {
             "colorbar": {
              "outlinewidth": 0,
              "ticks": ""
             }
            },
            "type": "scattergeo"
           }
          ],
          "scattergl": [
           {
            "marker": {
             "colorbar": {
              "outlinewidth": 0,
              "ticks": ""
             }
            },
            "type": "scattergl"
           }
          ],
          "scattermapbox": [
           {
            "marker": {
             "colorbar": {
              "outlinewidth": 0,
              "ticks": ""
             }
            },
            "type": "scattermapbox"
           }
          ],
          "scatterpolar": [
           {
            "marker": {
             "colorbar": {
              "outlinewidth": 0,
              "ticks": ""
             }
            },
            "type": "scatterpolar"
           }
          ],
          "scatterpolargl": [
           {
            "marker": {
             "colorbar": {
              "outlinewidth": 0,
              "ticks": ""
             }
            },
            "type": "scatterpolargl"
           }
          ],
          "scatterternary": [
           {
            "marker": {
             "colorbar": {
              "outlinewidth": 0,
              "ticks": ""
             }
            },
            "type": "scatterternary"
           }
          ],
          "surface": [
           {
            "colorbar": {
             "outlinewidth": 0,
             "ticks": ""
            },
            "colorscale": [
             [
              0,
              "#0d0887"
             ],
             [
              0.1111111111111111,
              "#46039f"
             ],
             [
              0.2222222222222222,
              "#7201a8"
             ],
             [
              0.3333333333333333,
              "#9c179e"
             ],
             [
              0.4444444444444444,
              "#bd3786"
             ],
             [
              0.5555555555555556,
              "#d8576b"
             ],
             [
              0.6666666666666666,
              "#ed7953"
             ],
             [
              0.7777777777777778,
              "#fb9f3a"
             ],
             [
              0.8888888888888888,
              "#fdca26"
             ],
             [
              1,
              "#f0f921"
             ]
            ],
            "type": "surface"
           }
          ],
          "table": [
           {
            "cells": {
             "fill": {
              "color": "#EBF0F8"
             },
             "line": {
              "color": "white"
             }
            },
            "header": {
             "fill": {
              "color": "#C8D4E3"
             },
             "line": {
              "color": "white"
             }
            },
            "type": "table"
           }
          ]
         },
         "layout": {
          "annotationdefaults": {
           "arrowcolor": "#2a3f5f",
           "arrowhead": 0,
           "arrowwidth": 1
          },
          "autotypenumbers": "strict",
          "coloraxis": {
           "colorbar": {
            "outlinewidth": 0,
            "ticks": ""
           }
          },
          "colorscale": {
           "diverging": [
            [
             0,
             "#8e0152"
            ],
            [
             0.1,
             "#c51b7d"
            ],
            [
             0.2,
             "#de77ae"
            ],
            [
             0.3,
             "#f1b6da"
            ],
            [
             0.4,
             "#fde0ef"
            ],
            [
             0.5,
             "#f7f7f7"
            ],
            [
             0.6,
             "#e6f5d0"
            ],
            [
             0.7,
             "#b8e186"
            ],
            [
             0.8,
             "#7fbc41"
            ],
            [
             0.9,
             "#4d9221"
            ],
            [
             1,
             "#276419"
            ]
           ],
           "sequential": [
            [
             0,
             "#0d0887"
            ],
            [
             0.1111111111111111,
             "#46039f"
            ],
            [
             0.2222222222222222,
             "#7201a8"
            ],
            [
             0.3333333333333333,
             "#9c179e"
            ],
            [
             0.4444444444444444,
             "#bd3786"
            ],
            [
             0.5555555555555556,
             "#d8576b"
            ],
            [
             0.6666666666666666,
             "#ed7953"
            ],
            [
             0.7777777777777778,
             "#fb9f3a"
            ],
            [
             0.8888888888888888,
             "#fdca26"
            ],
            [
             1,
             "#f0f921"
            ]
           ],
           "sequentialminus": [
            [
             0,
             "#0d0887"
            ],
            [
             0.1111111111111111,
             "#46039f"
            ],
            [
             0.2222222222222222,
             "#7201a8"
            ],
            [
             0.3333333333333333,
             "#9c179e"
            ],
            [
             0.4444444444444444,
             "#bd3786"
            ],
            [
             0.5555555555555556,
             "#d8576b"
            ],
            [
             0.6666666666666666,
             "#ed7953"
            ],
            [
             0.7777777777777778,
             "#fb9f3a"
            ],
            [
             0.8888888888888888,
             "#fdca26"
            ],
            [
             1,
             "#f0f921"
            ]
           ]
          },
          "colorway": [
           "#636efa",
           "#EF553B",
           "#00cc96",
           "#ab63fa",
           "#FFA15A",
           "#19d3f3",
           "#FF6692",
           "#B6E880",
           "#FF97FF",
           "#FECB52"
          ],
          "font": {
           "color": "#2a3f5f"
          },
          "geo": {
           "bgcolor": "white",
           "lakecolor": "white",
           "landcolor": "#E5ECF6",
           "showlakes": true,
           "showland": true,
           "subunitcolor": "white"
          },
          "hoverlabel": {
           "align": "left"
          },
          "hovermode": "closest",
          "mapbox": {
           "style": "light"
          },
          "paper_bgcolor": "white",
          "plot_bgcolor": "#E5ECF6",
          "polar": {
           "angularaxis": {
            "gridcolor": "white",
            "linecolor": "white",
            "ticks": ""
           },
           "bgcolor": "#E5ECF6",
           "radialaxis": {
            "gridcolor": "white",
            "linecolor": "white",
            "ticks": ""
           }
          },
          "scene": {
           "xaxis": {
            "backgroundcolor": "#E5ECF6",
            "gridcolor": "white",
            "gridwidth": 2,
            "linecolor": "white",
            "showbackground": true,
            "ticks": "",
            "zerolinecolor": "white"
           },
           "yaxis": {
            "backgroundcolor": "#E5ECF6",
            "gridcolor": "white",
            "gridwidth": 2,
            "linecolor": "white",
            "showbackground": true,
            "ticks": "",
            "zerolinecolor": "white"
           },
           "zaxis": {
            "backgroundcolor": "#E5ECF6",
            "gridcolor": "white",
            "gridwidth": 2,
            "linecolor": "white",
            "showbackground": true,
            "ticks": "",
            "zerolinecolor": "white"
           }
          },
          "shapedefaults": {
           "line": {
            "color": "#2a3f5f"
           }
          },
          "ternary": {
           "aaxis": {
            "gridcolor": "white",
            "linecolor": "white",
            "ticks": ""
           },
           "baxis": {
            "gridcolor": "white",
            "linecolor": "white",
            "ticks": ""
           },
           "bgcolor": "#E5ECF6",
           "caxis": {
            "gridcolor": "white",
            "linecolor": "white",
            "ticks": ""
           }
          },
          "title": {
           "x": 0.05
          },
          "xaxis": {
           "automargin": true,
           "gridcolor": "white",
           "linecolor": "white",
           "ticks": "",
           "title": {
            "standoff": 15
           },
           "zerolinecolor": "white",
           "zerolinewidth": 2
          },
          "yaxis": {
           "automargin": true,
           "gridcolor": "white",
           "linecolor": "white",
           "ticks": "",
           "title": {
            "standoff": 15
           },
           "zerolinecolor": "white",
           "zerolinewidth": 2
          }
         }
        },
        "title": {
         "text": "Elo Rating vs Win Ratio per Team"
        },
        "width": 1200,
        "xaxis": {
         "anchor": "y",
         "domain": [
          0,
          1
         ],
         "title": {
          "text": "Elo Rating"
         }
        },
        "yaxis": {
         "anchor": "x",
         "domain": [
          0,
          1
         ],
         "title": {
          "text": "Win Ratio"
         }
        }
       }
      }
     },
     "metadata": {},
     "output_type": "display_data"
    }
   ],
   "source": [
    "# Visualization 3: Scatter Plot for EloRating vs WinRatio\n",
    "fig = px.scatter(eloSeason, x=\"eloRating\", y=\"winRatio\", color=\"team\",\n",
    "                                  title=\"Elo Rating vs Win Ratio per Team\",\n",
    "                                  labels={\"eloRating\": \"Elo Rating\", \"winRatio\": \"Win Ratio\"},\n",
    "                                  color_discrete_map=colorScale,\n",
    "                                  hover_data=['team'])\n",
    "\n",
    "\n",
    "fig.update_traces(marker=dict(size=10, symbol='x'),\n",
    "                  selector=dict(mode='markers'))\n",
    "\n",
    "fig.update_layout(height=600,width=1200,\n",
    "                  xaxis_title='Elo Rating',\n",
    "                  yaxis_title='Win Ratio',\n",
    "                  legend=dict(title='Team', x=1, y=1)) \n"
   ]
  },
  {
   "cell_type": "code",
   "execution_count": 78,
   "metadata": {},
   "outputs": [
    {
     "data": {
      "application/vnd.plotly.v1+json": {
       "config": {
        "plotlyServerURL": "https://plot.ly"
       },
       "data": [
        {
         "customdata": [
          [
           "Chennai Super Kings",
           2008
          ],
          [
           "Chennai Super Kings",
           2009
          ],
          [
           "Chennai Super Kings",
           2010
          ],
          [
           "Chennai Super Kings",
           2011
          ],
          [
           "Chennai Super Kings",
           2012
          ],
          [
           "Chennai Super Kings",
           2013
          ],
          [
           "Chennai Super Kings",
           2014
          ],
          [
           "Chennai Super Kings",
           2015
          ],
          [
           "Chennai Super Kings",
           2018
          ],
          [
           "Chennai Super Kings",
           2019
          ],
          [
           "Chennai Super Kings",
           2020
          ],
          [
           "Chennai Super Kings",
           2021
          ],
          [
           "Chennai Super Kings",
           2022
          ],
          [
           "Chennai Super Kings",
           2023
          ]
         ],
         "hovertemplate": "team=%{customdata[0]}<br>Loss=%{x}<br>Wins=%{y}<br>season=%{customdata[1]}<extra></extra>",
         "legendgroup": "Chennai Super Kings",
         "marker": {
          "color": "#1f77b4",
          "size": 10,
          "symbol": "x"
         },
         "mode": "markers",
         "name": "Chennai Super Kings",
         "orientation": "v",
         "showlegend": true,
         "type": "scatter",
         "x": [
          7,
          6,
          6,
          5,
          8,
          6,
          6,
          7,
          5,
          7,
          8,
          5,
          10,
          6
         ],
         "xaxis": "x",
         "y": [
          9,
          8,
          9,
          11,
          10,
          12,
          10,
          10,
          11,
          10,
          6,
          11,
          4,
          10
         ],
         "yaxis": "y"
        },
        {
         "customdata": [
          [
           "Deccan Chargers",
           2008
          ],
          [
           "Deccan Chargers",
           2009
          ],
          [
           "Deccan Chargers",
           2010
          ],
          [
           "Deccan Chargers",
           2011
          ],
          [
           "Deccan Chargers",
           2012
          ]
         ],
         "hovertemplate": "team=%{customdata[0]}<br>Loss=%{x}<br>Wins=%{y}<br>season=%{customdata[1]}<extra></extra>",
         "legendgroup": "Deccan Chargers",
         "marker": {
          "color": "#585858",
          "size": 10,
          "symbol": "x"
         },
         "mode": "markers",
         "name": "Deccan Chargers",
         "orientation": "v",
         "showlegend": true,
         "type": "scatter",
         "x": [
          12,
          7,
          8,
          8,
          11
         ],
         "xaxis": "x",
         "y": [
          2,
          9,
          8,
          6,
          4
         ],
         "yaxis": "y"
        },
        {
         "customdata": [
          [
           "Delhi Capitals",
           2008
          ],
          [
           "Delhi Capitals",
           2009
          ],
          [
           "Delhi Capitals",
           2010
          ],
          [
           "Delhi Capitals",
           2011
          ],
          [
           "Delhi Capitals",
           2012
          ],
          [
           "Delhi Capitals",
           2013
          ],
          [
           "Delhi Capitals",
           2014
          ],
          [
           "Delhi Capitals",
           2015
          ],
          [
           "Delhi Capitals",
           2016
          ],
          [
           "Delhi Capitals",
           2017
          ],
          [
           "Delhi Capitals",
           2018
          ],
          [
           "Delhi Capitals",
           2019
          ],
          [
           "Delhi Capitals",
           2020
          ],
          [
           "Delhi Capitals",
           2021
          ],
          [
           "Delhi Capitals",
           2022
          ],
          [
           "Delhi Capitals",
           2023
          ]
         ],
         "hovertemplate": "team=%{customdata[0]}<br>Loss=%{x}<br>Wins=%{y}<br>season=%{customdata[1]}<extra></extra>",
         "legendgroup": "Delhi Capitals",
         "marker": {
          "color": "#9467bd",
          "size": 10,
          "symbol": "x"
         },
         "mode": "markers",
         "name": "Delhi Capitals",
         "orientation": "v",
         "showlegend": true,
         "type": "scatter",
         "x": [
          7,
          5,
          7,
          10,
          7,
          12,
          12,
          9,
          7,
          8,
          9,
          6,
          8,
          6,
          7,
          9
         ],
         "xaxis": "x",
         "y": [
          7,
          10,
          7,
          4,
          11,
          3,
          2,
          5,
          7,
          6,
          5,
          9,
          8,
          9,
          7,
          5
         ],
         "yaxis": "y"
        },
        {
         "customdata": [
          [
           "Gujarat Lions",
           2016
          ],
          [
           "Gujarat Lions",
           2017
          ]
         ],
         "hovertemplate": "team=%{customdata[0]}<br>Loss=%{x}<br>Wins=%{y}<br>season=%{customdata[1]}<extra></extra>",
         "legendgroup": "Gujarat Lions",
         "marker": {
          "color": "#404040",
          "size": 10,
          "symbol": "x"
         },
         "mode": "markers",
         "name": "Gujarat Lions",
         "orientation": "v",
         "showlegend": true,
         "type": "scatter",
         "x": [
          7,
          9
         ],
         "xaxis": "x",
         "y": [
          9,
          4
         ],
         "yaxis": "y"
        },
        {
         "customdata": [
          [
           "Gujarat Titans",
           2022
          ],
          [
           "Gujarat Titans",
           2023
          ]
         ],
         "hovertemplate": "team=%{customdata[0]}<br>Loss=%{x}<br>Wins=%{y}<br>season=%{customdata[1]}<extra></extra>",
         "legendgroup": "Gujarat Titans",
         "marker": {
          "color": "#bcbd22",
          "size": 10,
          "symbol": "x"
         },
         "mode": "markers",
         "name": "Gujarat Titans",
         "orientation": "v",
         "showlegend": true,
         "type": "scatter",
         "x": [
          4,
          6
         ],
         "xaxis": "x",
         "y": [
          12,
          11
         ],
         "yaxis": "y"
        },
        {
         "customdata": [
          [
           "Kochi Tuskers Kerala",
           2011
          ]
         ],
         "hovertemplate": "team=%{customdata[0]}<br>Loss=%{x}<br>Wins=%{y}<br>season=%{customdata[1]}<extra></extra>",
         "legendgroup": "Kochi Tuskers Kerala",
         "marker": {
          "color": "#585858",
          "size": 10,
          "symbol": "x"
         },
         "mode": "markers",
         "name": "Kochi Tuskers Kerala",
         "orientation": "v",
         "showlegend": true,
         "type": "scatter",
         "x": [
          8
         ],
         "xaxis": "x",
         "y": [
          6
         ],
         "yaxis": "y"
        },
        {
         "customdata": [
          [
           "Kolkata Knight Riders",
           2008
          ],
          [
           "Kolkata Knight Riders",
           2009
          ],
          [
           "Kolkata Knight Riders",
           2010
          ],
          [
           "Kolkata Knight Riders",
           2011
          ],
          [
           "Kolkata Knight Riders",
           2012
          ],
          [
           "Kolkata Knight Riders",
           2013
          ],
          [
           "Kolkata Knight Riders",
           2014
          ],
          [
           "Kolkata Knight Riders",
           2015
          ],
          [
           "Kolkata Knight Riders",
           2016
          ],
          [
           "Kolkata Knight Riders",
           2017
          ],
          [
           "Kolkata Knight Riders",
           2018
          ],
          [
           "Kolkata Knight Riders",
           2019
          ],
          [
           "Kolkata Knight Riders",
           2020
          ],
          [
           "Kolkata Knight Riders",
           2021
          ],
          [
           "Kolkata Knight Riders",
           2022
          ],
          [
           "Kolkata Knight Riders",
           2023
          ]
         ],
         "hovertemplate": "team=%{customdata[0]}<br>Loss=%{x}<br>Wins=%{y}<br>season=%{customdata[1]}<extra></extra>",
         "legendgroup": "Kolkata Knight Riders",
         "marker": {
          "color": "#ff7f0e",
          "size": 10,
          "symbol": "x"
         },
         "mode": "markers",
         "name": "Kolkata Knight Riders",
         "orientation": "v",
         "showlegend": true,
         "type": "scatter",
         "x": [
          7,
          9,
          7,
          7,
          5,
          10,
          4,
          6,
          7,
          7,
          7,
          7,
          7,
          8,
          8,
          8
         ],
         "xaxis": "x",
         "y": [
          6,
          3,
          7,
          8,
          12,
          6,
          11,
          7,
          8,
          9,
          9,
          6,
          6,
          9,
          6,
          6
         ],
         "yaxis": "y"
        },
        {
         "customdata": [
          [
           "Lucknow Super Giants",
           2022
          ],
          [
           "Lucknow Super Giants",
           2023
          ]
         ],
         "hovertemplate": "team=%{customdata[0]}<br>Loss=%{x}<br>Wins=%{y}<br>season=%{customdata[1]}<extra></extra>",
         "legendgroup": "Lucknow Super Giants",
         "marker": {
          "color": "#17becf",
          "size": 10,
          "symbol": "x"
         },
         "mode": "markers",
         "name": "Lucknow Super Giants",
         "orientation": "v",
         "showlegend": true,
         "type": "scatter",
         "x": [
          6,
          7
         ],
         "xaxis": "x",
         "y": [
          9,
          8
         ],
         "yaxis": "y"
        },
        {
         "customdata": [
          [
           "Mumbai Indians",
           2008
          ],
          [
           "Mumbai Indians",
           2009
          ],
          [
           "Mumbai Indians",
           2010
          ],
          [
           "Mumbai Indians",
           2011
          ],
          [
           "Mumbai Indians",
           2012
          ],
          [
           "Mumbai Indians",
           2013
          ],
          [
           "Mumbai Indians",
           2014
          ],
          [
           "Mumbai Indians",
           2015
          ],
          [
           "Mumbai Indians",
           2016
          ],
          [
           "Mumbai Indians",
           2017
          ],
          [
           "Mumbai Indians",
           2018
          ],
          [
           "Mumbai Indians",
           2019
          ],
          [
           "Mumbai Indians",
           2020
          ],
          [
           "Mumbai Indians",
           2021
          ],
          [
           "Mumbai Indians",
           2022
          ],
          [
           "Mumbai Indians",
           2023
          ]
         ],
         "hovertemplate": "team=%{customdata[0]}<br>Loss=%{x}<br>Wins=%{y}<br>season=%{customdata[1]}<extra></extra>",
         "legendgroup": "Mumbai Indians",
         "marker": {
          "color": "#d62728",
          "size": 10,
          "symbol": "x"
         },
         "mode": "markers",
         "name": "Mumbai Indians",
         "orientation": "v",
         "showlegend": true,
         "type": "scatter",
         "x": [
          7,
          8,
          5,
          6,
          7,
          6,
          8,
          6,
          7,
          5,
          8,
          5,
          3,
          7,
          10,
          7
         ],
         "xaxis": "x",
         "y": [
          7,
          5,
          11,
          10,
          10,
          13,
          7,
          10,
          7,
          11,
          6,
          10,
          11,
          7,
          4,
          9
         ],
         "yaxis": "y"
        },
        {
         "customdata": [
          [
           "Pune Warriors",
           2011
          ],
          [
           "Pune Warriors",
           2012
          ],
          [
           "Pune Warriors",
           2013
          ]
         ],
         "hovertemplate": "team=%{customdata[0]}<br>Loss=%{x}<br>Wins=%{y}<br>season=%{customdata[1]}<extra></extra>",
         "legendgroup": "Pune Warriors",
         "marker": {
          "color": "#888888",
          "size": 10,
          "symbol": "x"
         },
         "mode": "markers",
         "name": "Pune Warriors",
         "orientation": "v",
         "showlegend": true,
         "type": "scatter",
         "x": [
          10,
          12,
          12
         ],
         "xaxis": "x",
         "y": [
          4,
          4,
          4
         ],
         "yaxis": "y"
        },
        {
         "customdata": [
          [
           "Punjab Kings",
           2008
          ],
          [
           "Punjab Kings",
           2009
          ],
          [
           "Punjab Kings",
           2010
          ],
          [
           "Punjab Kings",
           2011
          ],
          [
           "Punjab Kings",
           2012
          ],
          [
           "Punjab Kings",
           2013
          ],
          [
           "Punjab Kings",
           2014
          ],
          [
           "Punjab Kings",
           2015
          ],
          [
           "Punjab Kings",
           2016
          ],
          [
           "Punjab Kings",
           2017
          ],
          [
           "Punjab Kings",
           2018
          ],
          [
           "Punjab Kings",
           2019
          ],
          [
           "Punjab Kings",
           2020
          ],
          [
           "Punjab Kings",
           2021
          ],
          [
           "Punjab Kings",
           2022
          ],
          [
           "Punjab Kings",
           2023
          ]
         ],
         "hovertemplate": "team=%{customdata[0]}<br>Loss=%{x}<br>Wins=%{y}<br>season=%{customdata[1]}<extra></extra>",
         "legendgroup": "Punjab Kings",
         "marker": {
          "color": "#8c564b",
          "size": 10,
          "symbol": "x"
         },
         "mode": "markers",
         "name": "Punjab Kings",
         "orientation": "v",
         "showlegend": true,
         "type": "scatter",
         "x": [
          5,
          7,
          10,
          7,
          8,
          8,
          5,
          11,
          10,
          7,
          8,
          8,
          7,
          8,
          7,
          8
         ],
         "xaxis": "x",
         "y": [
          10,
          7,
          3,
          7,
          8,
          8,
          12,
          2,
          4,
          7,
          6,
          6,
          5,
          6,
          7,
          6
         ],
         "yaxis": "y"
        },
        {
         "customdata": [
          [
           "Rajasthan Royals",
           2008
          ],
          [
           "Rajasthan Royals",
           2009
          ],
          [
           "Rajasthan Royals",
           2010
          ],
          [
           "Rajasthan Royals",
           2011
          ],
          [
           "Rajasthan Royals",
           2012
          ],
          [
           "Rajasthan Royals",
           2013
          ],
          [
           "Rajasthan Royals",
           2014
          ],
          [
           "Rajasthan Royals",
           2015
          ],
          [
           "Rajasthan Royals",
           2018
          ],
          [
           "Rajasthan Royals",
           2019
          ],
          [
           "Rajasthan Royals",
           2020
          ],
          [
           "Rajasthan Royals",
           2021
          ],
          [
           "Rajasthan Royals",
           2022
          ],
          [
           "Rajasthan Royals",
           2023
          ]
         ],
         "hovertemplate": "team=%{customdata[0]}<br>Loss=%{x}<br>Wins=%{y}<br>season=%{customdata[1]}<extra></extra>",
         "legendgroup": "Rajasthan Royals",
         "marker": {
          "color": "#2ca02c",
          "size": 10,
          "symbol": "x"
         },
         "mode": "markers",
         "name": "Rajasthan Royals",
         "orientation": "v",
         "showlegend": true,
         "type": "scatter",
         "x": [
          3,
          7,
          8,
          7,
          9,
          7,
          7,
          6,
          8,
          9,
          8,
          9,
          7,
          7
         ],
         "xaxis": "x",
         "y": [
          13,
          5,
          6,
          6,
          7,
          11,
          6,
          7,
          7,
          5,
          6,
          5,
          10,
          7
         ],
         "yaxis": "y"
        },
        {
         "customdata": [
          [
           "Rising Pune Supergiants",
           2016
          ],
          [
           "Rising Pune Supergiants",
           2017
          ]
         ],
         "hovertemplate": "team=%{customdata[0]}<br>Loss=%{x}<br>Wins=%{y}<br>season=%{customdata[1]}<extra></extra>",
         "legendgroup": "Rising Pune Supergiants",
         "marker": {
          "color": "#707070",
          "size": 10,
          "symbol": "x"
         },
         "mode": "markers",
         "name": "Rising Pune Supergiants",
         "orientation": "v",
         "showlegend": true,
         "type": "scatter",
         "x": [
          9,
          6
         ],
         "xaxis": "x",
         "y": [
          5,
          10
         ],
         "yaxis": "y"
        },
        {
         "customdata": [
          [
           "Royal Challengers Bangalore",
           2008
          ],
          [
           "Royal Challengers Bangalore",
           2009
          ],
          [
           "Royal Challengers Bangalore",
           2010
          ],
          [
           "Royal Challengers Bangalore",
           2011
          ],
          [
           "Royal Challengers Bangalore",
           2012
          ],
          [
           "Royal Challengers Bangalore",
           2013
          ],
          [
           "Royal Challengers Bangalore",
           2014
          ],
          [
           "Royal Challengers Bangalore",
           2015
          ],
          [
           "Royal Challengers Bangalore",
           2016
          ],
          [
           "Royal Challengers Bangalore",
           2017
          ],
          [
           "Royal Challengers Bangalore",
           2018
          ],
          [
           "Royal Challengers Bangalore",
           2019
          ],
          [
           "Royal Challengers Bangalore",
           2020
          ],
          [
           "Royal Challengers Bangalore",
           2021
          ],
          [
           "Royal Challengers Bangalore",
           2022
          ],
          [
           "Royal Challengers Bangalore",
           2023
          ]
         ],
         "hovertemplate": "team=%{customdata[0]}<br>Loss=%{x}<br>Wins=%{y}<br>season=%{customdata[1]}<extra></extra>",
         "legendgroup": "Royal Challengers Bangalore",
         "marker": {
          "color": "#e377c2",
          "size": 10,
          "symbol": "x"
         },
         "mode": "markers",
         "name": "Royal Challengers Bangalore",
         "orientation": "v",
         "showlegend": true,
         "type": "scatter",
         "x": [
          10,
          7,
          8,
          6,
          7,
          6,
          9,
          8,
          7,
          10,
          8,
          9,
          8,
          6,
          7,
          7
         ],
         "xaxis": "x",
         "y": [
          4,
          9,
          8,
          10,
          8,
          8,
          5,
          8,
          9,
          3,
          6,
          5,
          6,
          9,
          9,
          7
         ],
         "yaxis": "y"
        },
        {
         "customdata": [
          [
           "Sunrisers Hyderabad",
           2013
          ],
          [
           "Sunrisers Hyderabad",
           2014
          ],
          [
           "Sunrisers Hyderabad",
           2015
          ],
          [
           "Sunrisers Hyderabad",
           2016
          ],
          [
           "Sunrisers Hyderabad",
           2017
          ],
          [
           "Sunrisers Hyderabad",
           2018
          ],
          [
           "Sunrisers Hyderabad",
           2019
          ],
          [
           "Sunrisers Hyderabad",
           2020
          ],
          [
           "Sunrisers Hyderabad",
           2021
          ],
          [
           "Sunrisers Hyderabad",
           2022
          ],
          [
           "Sunrisers Hyderabad",
           2023
          ]
         ],
         "hovertemplate": "team=%{customdata[0]}<br>Loss=%{x}<br>Wins=%{y}<br>season=%{customdata[1]}<extra></extra>",
         "legendgroup": "Sunrisers Hyderabad",
         "marker": {
          "color": "#7f7f7f",
          "size": 10,
          "symbol": "x"
         },
         "mode": "markers",
         "name": "Sunrisers Hyderabad",
         "orientation": "v",
         "showlegend": true,
         "type": "scatter",
         "x": [
          7,
          8,
          7,
          6,
          6,
          7,
          8,
          7,
          10,
          8,
          10
         ],
         "xaxis": "x",
         "y": [
          9,
          6,
          7,
          11,
          8,
          10,
          6,
          8,
          3,
          6,
          4
         ],
         "yaxis": "y"
        }
       ],
       "layout": {
        "annotations": [
         {
          "font": {
           "color": "black",
           "size": 12
          },
          "showarrow": false,
          "text": "Highest Win/Loss Ratio:<br>Team: Rajasthan Royals<br>Season: 2008<br>Ratio: 4.333",
          "x": 3,
          "y": 15
         },
         {
          "font": {
           "color": "black",
           "size": 12
          },
          "showarrow": false,
          "text": "Lowest Win/Loss Ratio:<br>Team: Deccan Chargers<br>Season: 2008<br>Ratio: 0.167",
          "x": 12,
          "y": 6
         }
        ],
        "height": 600,
        "legend": {
         "title": {
          "text": "Team"
         },
         "tracegroupgap": 0,
         "x": 1,
         "y": 1
        },
        "template": {
         "data": {
          "bar": [
           {
            "error_x": {
             "color": "#2a3f5f"
            },
            "error_y": {
             "color": "#2a3f5f"
            },
            "marker": {
             "line": {
              "color": "#E5ECF6",
              "width": 0.5
             },
             "pattern": {
              "fillmode": "overlay",
              "size": 10,
              "solidity": 0.2
             }
            },
            "type": "bar"
           }
          ],
          "barpolar": [
           {
            "marker": {
             "line": {
              "color": "#E5ECF6",
              "width": 0.5
             },
             "pattern": {
              "fillmode": "overlay",
              "size": 10,
              "solidity": 0.2
             }
            },
            "type": "barpolar"
           }
          ],
          "carpet": [
           {
            "aaxis": {
             "endlinecolor": "#2a3f5f",
             "gridcolor": "white",
             "linecolor": "white",
             "minorgridcolor": "white",
             "startlinecolor": "#2a3f5f"
            },
            "baxis": {
             "endlinecolor": "#2a3f5f",
             "gridcolor": "white",
             "linecolor": "white",
             "minorgridcolor": "white",
             "startlinecolor": "#2a3f5f"
            },
            "type": "carpet"
           }
          ],
          "choropleth": [
           {
            "colorbar": {
             "outlinewidth": 0,
             "ticks": ""
            },
            "type": "choropleth"
           }
          ],
          "contour": [
           {
            "colorbar": {
             "outlinewidth": 0,
             "ticks": ""
            },
            "colorscale": [
             [
              0,
              "#0d0887"
             ],
             [
              0.1111111111111111,
              "#46039f"
             ],
             [
              0.2222222222222222,
              "#7201a8"
             ],
             [
              0.3333333333333333,
              "#9c179e"
             ],
             [
              0.4444444444444444,
              "#bd3786"
             ],
             [
              0.5555555555555556,
              "#d8576b"
             ],
             [
              0.6666666666666666,
              "#ed7953"
             ],
             [
              0.7777777777777778,
              "#fb9f3a"
             ],
             [
              0.8888888888888888,
              "#fdca26"
             ],
             [
              1,
              "#f0f921"
             ]
            ],
            "type": "contour"
           }
          ],
          "contourcarpet": [
           {
            "colorbar": {
             "outlinewidth": 0,
             "ticks": ""
            },
            "type": "contourcarpet"
           }
          ],
          "heatmap": [
           {
            "colorbar": {
             "outlinewidth": 0,
             "ticks": ""
            },
            "colorscale": [
             [
              0,
              "#0d0887"
             ],
             [
              0.1111111111111111,
              "#46039f"
             ],
             [
              0.2222222222222222,
              "#7201a8"
             ],
             [
              0.3333333333333333,
              "#9c179e"
             ],
             [
              0.4444444444444444,
              "#bd3786"
             ],
             [
              0.5555555555555556,
              "#d8576b"
             ],
             [
              0.6666666666666666,
              "#ed7953"
             ],
             [
              0.7777777777777778,
              "#fb9f3a"
             ],
             [
              0.8888888888888888,
              "#fdca26"
             ],
             [
              1,
              "#f0f921"
             ]
            ],
            "type": "heatmap"
           }
          ],
          "heatmapgl": [
           {
            "colorbar": {
             "outlinewidth": 0,
             "ticks": ""
            },
            "colorscale": [
             [
              0,
              "#0d0887"
             ],
             [
              0.1111111111111111,
              "#46039f"
             ],
             [
              0.2222222222222222,
              "#7201a8"
             ],
             [
              0.3333333333333333,
              "#9c179e"
             ],
             [
              0.4444444444444444,
              "#bd3786"
             ],
             [
              0.5555555555555556,
              "#d8576b"
             ],
             [
              0.6666666666666666,
              "#ed7953"
             ],
             [
              0.7777777777777778,
              "#fb9f3a"
             ],
             [
              0.8888888888888888,
              "#fdca26"
             ],
             [
              1,
              "#f0f921"
             ]
            ],
            "type": "heatmapgl"
           }
          ],
          "histogram": [
           {
            "marker": {
             "pattern": {
              "fillmode": "overlay",
              "size": 10,
              "solidity": 0.2
             }
            },
            "type": "histogram"
           }
          ],
          "histogram2d": [
           {
            "colorbar": {
             "outlinewidth": 0,
             "ticks": ""
            },
            "colorscale": [
             [
              0,
              "#0d0887"
             ],
             [
              0.1111111111111111,
              "#46039f"
             ],
             [
              0.2222222222222222,
              "#7201a8"
             ],
             [
              0.3333333333333333,
              "#9c179e"
             ],
             [
              0.4444444444444444,
              "#bd3786"
             ],
             [
              0.5555555555555556,
              "#d8576b"
             ],
             [
              0.6666666666666666,
              "#ed7953"
             ],
             [
              0.7777777777777778,
              "#fb9f3a"
             ],
             [
              0.8888888888888888,
              "#fdca26"
             ],
             [
              1,
              "#f0f921"
             ]
            ],
            "type": "histogram2d"
           }
          ],
          "histogram2dcontour": [
           {
            "colorbar": {
             "outlinewidth": 0,
             "ticks": ""
            },
            "colorscale": [
             [
              0,
              "#0d0887"
             ],
             [
              0.1111111111111111,
              "#46039f"
             ],
             [
              0.2222222222222222,
              "#7201a8"
             ],
             [
              0.3333333333333333,
              "#9c179e"
             ],
             [
              0.4444444444444444,
              "#bd3786"
             ],
             [
              0.5555555555555556,
              "#d8576b"
             ],
             [
              0.6666666666666666,
              "#ed7953"
             ],
             [
              0.7777777777777778,
              "#fb9f3a"
             ],
             [
              0.8888888888888888,
              "#fdca26"
             ],
             [
              1,
              "#f0f921"
             ]
            ],
            "type": "histogram2dcontour"
           }
          ],
          "mesh3d": [
           {
            "colorbar": {
             "outlinewidth": 0,
             "ticks": ""
            },
            "type": "mesh3d"
           }
          ],
          "parcoords": [
           {
            "line": {
             "colorbar": {
              "outlinewidth": 0,
              "ticks": ""
             }
            },
            "type": "parcoords"
           }
          ],
          "pie": [
           {
            "automargin": true,
            "type": "pie"
           }
          ],
          "scatter": [
           {
            "fillpattern": {
             "fillmode": "overlay",
             "size": 10,
             "solidity": 0.2
            },
            "type": "scatter"
           }
          ],
          "scatter3d": [
           {
            "line": {
             "colorbar": {
              "outlinewidth": 0,
              "ticks": ""
             }
            },
            "marker": {
             "colorbar": {
              "outlinewidth": 0,
              "ticks": ""
             }
            },
            "type": "scatter3d"
           }
          ],
          "scattercarpet": [
           {
            "marker": {
             "colorbar": {
              "outlinewidth": 0,
              "ticks": ""
             }
            },
            "type": "scattercarpet"
           }
          ],
          "scattergeo": [
           {
            "marker": {
             "colorbar": {
              "outlinewidth": 0,
              "ticks": ""
             }
            },
            "type": "scattergeo"
           }
          ],
          "scattergl": [
           {
            "marker": {
             "colorbar": {
              "outlinewidth": 0,
              "ticks": ""
             }
            },
            "type": "scattergl"
           }
          ],
          "scattermapbox": [
           {
            "marker": {
             "colorbar": {
              "outlinewidth": 0,
              "ticks": ""
             }
            },
            "type": "scattermapbox"
           }
          ],
          "scatterpolar": [
           {
            "marker": {
             "colorbar": {
              "outlinewidth": 0,
              "ticks": ""
             }
            },
            "type": "scatterpolar"
           }
          ],
          "scatterpolargl": [
           {
            "marker": {
             "colorbar": {
              "outlinewidth": 0,
              "ticks": ""
             }
            },
            "type": "scatterpolargl"
           }
          ],
          "scatterternary": [
           {
            "marker": {
             "colorbar": {
              "outlinewidth": 0,
              "ticks": ""
             }
            },
            "type": "scatterternary"
           }
          ],
          "surface": [
           {
            "colorbar": {
             "outlinewidth": 0,
             "ticks": ""
            },
            "colorscale": [
             [
              0,
              "#0d0887"
             ],
             [
              0.1111111111111111,
              "#46039f"
             ],
             [
              0.2222222222222222,
              "#7201a8"
             ],
             [
              0.3333333333333333,
              "#9c179e"
             ],
             [
              0.4444444444444444,
              "#bd3786"
             ],
             [
              0.5555555555555556,
              "#d8576b"
             ],
             [
              0.6666666666666666,
              "#ed7953"
             ],
             [
              0.7777777777777778,
              "#fb9f3a"
             ],
             [
              0.8888888888888888,
              "#fdca26"
             ],
             [
              1,
              "#f0f921"
             ]
            ],
            "type": "surface"
           }
          ],
          "table": [
           {
            "cells": {
             "fill": {
              "color": "#EBF0F8"
             },
             "line": {
              "color": "white"
             }
            },
            "header": {
             "fill": {
              "color": "#C8D4E3"
             },
             "line": {
              "color": "white"
             }
            },
            "type": "table"
           }
          ]
         },
         "layout": {
          "annotationdefaults": {
           "arrowcolor": "#2a3f5f",
           "arrowhead": 0,
           "arrowwidth": 1
          },
          "autotypenumbers": "strict",
          "coloraxis": {
           "colorbar": {
            "outlinewidth": 0,
            "ticks": ""
           }
          },
          "colorscale": {
           "diverging": [
            [
             0,
             "#8e0152"
            ],
            [
             0.1,
             "#c51b7d"
            ],
            [
             0.2,
             "#de77ae"
            ],
            [
             0.3,
             "#f1b6da"
            ],
            [
             0.4,
             "#fde0ef"
            ],
            [
             0.5,
             "#f7f7f7"
            ],
            [
             0.6,
             "#e6f5d0"
            ],
            [
             0.7,
             "#b8e186"
            ],
            [
             0.8,
             "#7fbc41"
            ],
            [
             0.9,
             "#4d9221"
            ],
            [
             1,
             "#276419"
            ]
           ],
           "sequential": [
            [
             0,
             "#0d0887"
            ],
            [
             0.1111111111111111,
             "#46039f"
            ],
            [
             0.2222222222222222,
             "#7201a8"
            ],
            [
             0.3333333333333333,
             "#9c179e"
            ],
            [
             0.4444444444444444,
             "#bd3786"
            ],
            [
             0.5555555555555556,
             "#d8576b"
            ],
            [
             0.6666666666666666,
             "#ed7953"
            ],
            [
             0.7777777777777778,
             "#fb9f3a"
            ],
            [
             0.8888888888888888,
             "#fdca26"
            ],
            [
             1,
             "#f0f921"
            ]
           ],
           "sequentialminus": [
            [
             0,
             "#0d0887"
            ],
            [
             0.1111111111111111,
             "#46039f"
            ],
            [
             0.2222222222222222,
             "#7201a8"
            ],
            [
             0.3333333333333333,
             "#9c179e"
            ],
            [
             0.4444444444444444,
             "#bd3786"
            ],
            [
             0.5555555555555556,
             "#d8576b"
            ],
            [
             0.6666666666666666,
             "#ed7953"
            ],
            [
             0.7777777777777778,
             "#fb9f3a"
            ],
            [
             0.8888888888888888,
             "#fdca26"
            ],
            [
             1,
             "#f0f921"
            ]
           ]
          },
          "colorway": [
           "#636efa",
           "#EF553B",
           "#00cc96",
           "#ab63fa",
           "#FFA15A",
           "#19d3f3",
           "#FF6692",
           "#B6E880",
           "#FF97FF",
           "#FECB52"
          ],
          "font": {
           "color": "#2a3f5f"
          },
          "geo": {
           "bgcolor": "white",
           "lakecolor": "white",
           "landcolor": "#E5ECF6",
           "showlakes": true,
           "showland": true,
           "subunitcolor": "white"
          },
          "hoverlabel": {
           "align": "left"
          },
          "hovermode": "closest",
          "mapbox": {
           "style": "light"
          },
          "paper_bgcolor": "white",
          "plot_bgcolor": "#E5ECF6",
          "polar": {
           "angularaxis": {
            "gridcolor": "white",
            "linecolor": "white",
            "ticks": ""
           },
           "bgcolor": "#E5ECF6",
           "radialaxis": {
            "gridcolor": "white",
            "linecolor": "white",
            "ticks": ""
           }
          },
          "scene": {
           "xaxis": {
            "backgroundcolor": "#E5ECF6",
            "gridcolor": "white",
            "gridwidth": 2,
            "linecolor": "white",
            "showbackground": true,
            "ticks": "",
            "zerolinecolor": "white"
           },
           "yaxis": {
            "backgroundcolor": "#E5ECF6",
            "gridcolor": "white",
            "gridwidth": 2,
            "linecolor": "white",
            "showbackground": true,
            "ticks": "",
            "zerolinecolor": "white"
           },
           "zaxis": {
            "backgroundcolor": "#E5ECF6",
            "gridcolor": "white",
            "gridwidth": 2,
            "linecolor": "white",
            "showbackground": true,
            "ticks": "",
            "zerolinecolor": "white"
           }
          },
          "shapedefaults": {
           "line": {
            "color": "#2a3f5f"
           }
          },
          "ternary": {
           "aaxis": {
            "gridcolor": "white",
            "linecolor": "white",
            "ticks": ""
           },
           "baxis": {
            "gridcolor": "white",
            "linecolor": "white",
            "ticks": ""
           },
           "bgcolor": "#E5ECF6",
           "caxis": {
            "gridcolor": "white",
            "linecolor": "white",
            "ticks": ""
           }
          },
          "title": {
           "x": 0.05
          },
          "xaxis": {
           "automargin": true,
           "gridcolor": "white",
           "linecolor": "white",
           "ticks": "",
           "title": {
            "standoff": 15
           },
           "zerolinecolor": "white",
           "zerolinewidth": 2
          },
          "yaxis": {
           "automargin": true,
           "gridcolor": "white",
           "linecolor": "white",
           "ticks": "",
           "title": {
            "standoff": 15
           },
           "zerolinecolor": "white",
           "zerolinewidth": 2
          }
         }
        },
        "title": {
         "text": "Win vs Loss per season"
        },
        "width": 1200,
        "xaxis": {
         "anchor": "y",
         "domain": [
          0,
          1
         ],
         "title": {
          "text": "Loss"
         }
        },
        "yaxis": {
         "anchor": "x",
         "domain": [
          0,
          1
         ],
         "title": {
          "text": "Wins"
         }
        }
       }
      }
     },
     "metadata": {},
     "output_type": "display_data"
    }
   ],
   "source": [
    "fig = px.scatter(eloSeason, x=\"loss\", y=\"wins\", color=\"team\",\n",
    "                                  title=\"Win vs Loss per season\",\n",
    "                                  labels={\"wins\": \"Wins\", \"loss\": \"Loss\"},\n",
    "                                  color_discrete_map=colorScale,\n",
    "                                  hover_data=['team','season'])\n",
    "\n",
    "maxWinLoss = eloSeason.loc[eloSeason['winLossRatio'].idxmax()]\n",
    "minWinLoss = eloSeason.loc[eloSeason['winLossRatio'].idxmin()]\n",
    "\n",
    "fig.add_annotation(\n",
    "    x=maxWinLoss[\"loss\"],  \n",
    "    y=maxWinLoss['wins']+2,\n",
    "    text=f\"Highest Win/Loss Ratio:<br>Team: {maxWinLoss['team']}<br>Season: {maxWinLoss['season']}<br>Ratio: {maxWinLoss['winLossRatio']}\",\n",
    "    showarrow=False,   \n",
    "    font=dict(color=\"black\", size=12)\n",
    ")\n",
    "\n",
    "fig.add_annotation(\n",
    "    x=minWinLoss[\"loss\"],  \n",
    "    y=minWinLoss['wins']+4,\n",
    "    text=f\"Lowest Win/Loss Ratio:<br>Team: {minWinLoss['team']}<br>Season: {minWinLoss['season']}<br>Ratio: {minWinLoss['winLossRatio']}\",\n",
    "    showarrow=False,   \n",
    "    font=dict(color=\"black\", size=12)\n",
    ")\n",
    "\n",
    "fig.update_traces(marker=dict(size=10, symbol='x'),\n",
    "                  selector=dict(mode='markers'))\n",
    "\n",
    "fig.update_layout(height=600,width=1200,\n",
    "                  xaxis_title='Loss',\n",
    "                  yaxis_title='Wins',\n",
    "                  legend=dict(title='Team', x=1, y=1)) \n"
   ]
  },
  {
   "cell_type": "code",
   "execution_count": 79,
   "metadata": {},
   "outputs": [
    {
     "data": {
      "application/vnd.plotly.v1+json": {
       "config": {
        "plotlyServerURL": "https://plot.ly"
       },
       "data": [
        {
         "hovertemplate": "team=Chennai Super Kings<br>season=%{x}<br>wins=%{y}<extra></extra>",
         "legendgroup": "Chennai Super Kings",
         "line": {
          "color": "#1f77b4",
          "dash": "solid"
         },
         "marker": {
          "symbol": "circle"
         },
         "mode": "lines",
         "name": "Chennai Super Kings",
         "orientation": "v",
         "showlegend": true,
         "type": "scatter",
         "x": [
          2008,
          2009,
          2010,
          2011,
          2012,
          2013,
          2014,
          2015,
          2018,
          2019,
          2020,
          2021,
          2022,
          2023
         ],
         "xaxis": "x",
         "y": [
          9,
          8,
          9,
          11,
          10,
          12,
          10,
          10,
          11,
          10,
          6,
          11,
          4,
          10
         ],
         "yaxis": "y"
        },
        {
         "hovertemplate": "team=Deccan Chargers<br>season=%{x}<br>wins=%{y}<extra></extra>",
         "legendgroup": "Deccan Chargers",
         "line": {
          "color": "#585858",
          "dash": "solid"
         },
         "marker": {
          "symbol": "circle"
         },
         "mode": "lines",
         "name": "Deccan Chargers",
         "orientation": "v",
         "showlegend": true,
         "type": "scatter",
         "x": [
          2008,
          2009,
          2010,
          2011,
          2012
         ],
         "xaxis": "x",
         "y": [
          2,
          9,
          8,
          6,
          4
         ],
         "yaxis": "y"
        },
        {
         "hovertemplate": "team=Delhi Capitals<br>season=%{x}<br>wins=%{y}<extra></extra>",
         "legendgroup": "Delhi Capitals",
         "line": {
          "color": "#9467bd",
          "dash": "solid"
         },
         "marker": {
          "symbol": "circle"
         },
         "mode": "lines",
         "name": "Delhi Capitals",
         "orientation": "v",
         "showlegend": true,
         "type": "scatter",
         "x": [
          2008,
          2009,
          2010,
          2011,
          2012,
          2013,
          2014,
          2015,
          2016,
          2017,
          2018,
          2019,
          2020,
          2021,
          2022,
          2023
         ],
         "xaxis": "x",
         "y": [
          7,
          10,
          7,
          4,
          11,
          3,
          2,
          5,
          7,
          6,
          5,
          9,
          8,
          9,
          7,
          5
         ],
         "yaxis": "y"
        },
        {
         "hovertemplate": "team=Gujarat Lions<br>season=%{x}<br>wins=%{y}<extra></extra>",
         "legendgroup": "Gujarat Lions",
         "line": {
          "color": "#404040",
          "dash": "solid"
         },
         "marker": {
          "symbol": "circle"
         },
         "mode": "lines",
         "name": "Gujarat Lions",
         "orientation": "v",
         "showlegend": true,
         "type": "scatter",
         "x": [
          2016,
          2017
         ],
         "xaxis": "x",
         "y": [
          9,
          4
         ],
         "yaxis": "y"
        },
        {
         "hovertemplate": "team=Gujarat Titans<br>season=%{x}<br>wins=%{y}<extra></extra>",
         "legendgroup": "Gujarat Titans",
         "line": {
          "color": "#bcbd22",
          "dash": "solid"
         },
         "marker": {
          "symbol": "circle"
         },
         "mode": "lines",
         "name": "Gujarat Titans",
         "orientation": "v",
         "showlegend": true,
         "type": "scatter",
         "x": [
          2022,
          2023
         ],
         "xaxis": "x",
         "y": [
          12,
          11
         ],
         "yaxis": "y"
        },
        {
         "hovertemplate": "team=Kochi Tuskers Kerala<br>season=%{x}<br>wins=%{y}<extra></extra>",
         "legendgroup": "Kochi Tuskers Kerala",
         "line": {
          "color": "#585858",
          "dash": "solid"
         },
         "marker": {
          "symbol": "circle"
         },
         "mode": "lines",
         "name": "Kochi Tuskers Kerala",
         "orientation": "v",
         "showlegend": true,
         "type": "scatter",
         "x": [
          2011
         ],
         "xaxis": "x",
         "y": [
          6
         ],
         "yaxis": "y"
        },
        {
         "hovertemplate": "team=Kolkata Knight Riders<br>season=%{x}<br>wins=%{y}<extra></extra>",
         "legendgroup": "Kolkata Knight Riders",
         "line": {
          "color": "#ff7f0e",
          "dash": "solid"
         },
         "marker": {
          "symbol": "circle"
         },
         "mode": "lines",
         "name": "Kolkata Knight Riders",
         "orientation": "v",
         "showlegend": true,
         "type": "scatter",
         "x": [
          2008,
          2009,
          2010,
          2011,
          2012,
          2013,
          2014,
          2015,
          2016,
          2017,
          2018,
          2019,
          2020,
          2021,
          2022,
          2023
         ],
         "xaxis": "x",
         "y": [
          6,
          3,
          7,
          8,
          12,
          6,
          11,
          7,
          8,
          9,
          9,
          6,
          6,
          9,
          6,
          6
         ],
         "yaxis": "y"
        },
        {
         "hovertemplate": "team=Lucknow Super Giants<br>season=%{x}<br>wins=%{y}<extra></extra>",
         "legendgroup": "Lucknow Super Giants",
         "line": {
          "color": "#17becf",
          "dash": "solid"
         },
         "marker": {
          "symbol": "circle"
         },
         "mode": "lines",
         "name": "Lucknow Super Giants",
         "orientation": "v",
         "showlegend": true,
         "type": "scatter",
         "x": [
          2022,
          2023
         ],
         "xaxis": "x",
         "y": [
          9,
          8
         ],
         "yaxis": "y"
        },
        {
         "hovertemplate": "team=Mumbai Indians<br>season=%{x}<br>wins=%{y}<extra></extra>",
         "legendgroup": "Mumbai Indians",
         "line": {
          "color": "#d62728",
          "dash": "solid"
         },
         "marker": {
          "symbol": "circle"
         },
         "mode": "lines",
         "name": "Mumbai Indians",
         "orientation": "v",
         "showlegend": true,
         "type": "scatter",
         "x": [
          2008,
          2009,
          2010,
          2011,
          2012,
          2013,
          2014,
          2015,
          2016,
          2017,
          2018,
          2019,
          2020,
          2021,
          2022,
          2023
         ],
         "xaxis": "x",
         "y": [
          7,
          5,
          11,
          10,
          10,
          13,
          7,
          10,
          7,
          11,
          6,
          10,
          11,
          7,
          4,
          9
         ],
         "yaxis": "y"
        },
        {
         "hovertemplate": "team=Pune Warriors<br>season=%{x}<br>wins=%{y}<extra></extra>",
         "legendgroup": "Pune Warriors",
         "line": {
          "color": "#888888",
          "dash": "solid"
         },
         "marker": {
          "symbol": "circle"
         },
         "mode": "lines",
         "name": "Pune Warriors",
         "orientation": "v",
         "showlegend": true,
         "type": "scatter",
         "x": [
          2011,
          2012,
          2013
         ],
         "xaxis": "x",
         "y": [
          4,
          4,
          4
         ],
         "yaxis": "y"
        },
        {
         "hovertemplate": "team=Punjab Kings<br>season=%{x}<br>wins=%{y}<extra></extra>",
         "legendgroup": "Punjab Kings",
         "line": {
          "color": "#8c564b",
          "dash": "solid"
         },
         "marker": {
          "symbol": "circle"
         },
         "mode": "lines",
         "name": "Punjab Kings",
         "orientation": "v",
         "showlegend": true,
         "type": "scatter",
         "x": [
          2008,
          2009,
          2010,
          2011,
          2012,
          2013,
          2014,
          2015,
          2016,
          2017,
          2018,
          2019,
          2020,
          2021,
          2022,
          2023
         ],
         "xaxis": "x",
         "y": [
          10,
          7,
          3,
          7,
          8,
          8,
          12,
          2,
          4,
          7,
          6,
          6,
          5,
          6,
          7,
          6
         ],
         "yaxis": "y"
        },
        {
         "hovertemplate": "team=Rajasthan Royals<br>season=%{x}<br>wins=%{y}<extra></extra>",
         "legendgroup": "Rajasthan Royals",
         "line": {
          "color": "#2ca02c",
          "dash": "solid"
         },
         "marker": {
          "symbol": "circle"
         },
         "mode": "lines",
         "name": "Rajasthan Royals",
         "orientation": "v",
         "showlegend": true,
         "type": "scatter",
         "x": [
          2008,
          2009,
          2010,
          2011,
          2012,
          2013,
          2014,
          2015,
          2018,
          2019,
          2020,
          2021,
          2022,
          2023
         ],
         "xaxis": "x",
         "y": [
          13,
          5,
          6,
          6,
          7,
          11,
          6,
          7,
          7,
          5,
          6,
          5,
          10,
          7
         ],
         "yaxis": "y"
        },
        {
         "hovertemplate": "team=Rising Pune Supergiants<br>season=%{x}<br>wins=%{y}<extra></extra>",
         "legendgroup": "Rising Pune Supergiants",
         "line": {
          "color": "#707070",
          "dash": "solid"
         },
         "marker": {
          "symbol": "circle"
         },
         "mode": "lines",
         "name": "Rising Pune Supergiants",
         "orientation": "v",
         "showlegend": true,
         "type": "scatter",
         "x": [
          2016,
          2017
         ],
         "xaxis": "x",
         "y": [
          5,
          10
         ],
         "yaxis": "y"
        },
        {
         "hovertemplate": "team=Royal Challengers Bangalore<br>season=%{x}<br>wins=%{y}<extra></extra>",
         "legendgroup": "Royal Challengers Bangalore",
         "line": {
          "color": "#e377c2",
          "dash": "solid"
         },
         "marker": {
          "symbol": "circle"
         },
         "mode": "lines",
         "name": "Royal Challengers Bangalore",
         "orientation": "v",
         "showlegend": true,
         "type": "scatter",
         "x": [
          2008,
          2009,
          2010,
          2011,
          2012,
          2013,
          2014,
          2015,
          2016,
          2017,
          2018,
          2019,
          2020,
          2021,
          2022,
          2023
         ],
         "xaxis": "x",
         "y": [
          4,
          9,
          8,
          10,
          8,
          8,
          5,
          8,
          9,
          3,
          6,
          5,
          6,
          9,
          9,
          7
         ],
         "yaxis": "y"
        },
        {
         "hovertemplate": "team=Sunrisers Hyderabad<br>season=%{x}<br>wins=%{y}<extra></extra>",
         "legendgroup": "Sunrisers Hyderabad",
         "line": {
          "color": "#7f7f7f",
          "dash": "solid"
         },
         "marker": {
          "symbol": "circle"
         },
         "mode": "lines",
         "name": "Sunrisers Hyderabad",
         "orientation": "v",
         "showlegend": true,
         "type": "scatter",
         "x": [
          2013,
          2014,
          2015,
          2016,
          2017,
          2018,
          2019,
          2020,
          2021,
          2022,
          2023
         ],
         "xaxis": "x",
         "y": [
          9,
          6,
          7,
          11,
          8,
          10,
          6,
          8,
          3,
          6,
          4
         ],
         "yaxis": "y"
        }
       ],
       "layout": {
        "annotations": [
         {
          "font": {
           "color": "black",
           "size": 12
          },
          "showarrow": false,
          "text": "Top Elo Rating:<br>Team: Chennai Super Kings<br>Season: 2014<br>Elo: 1139.776",
          "x": 1,
          "xanchor": "right",
          "xref": "paper",
          "y": 1,
          "yanchor": "top",
          "yref": "paper"
         },
         {
          "font": {
           "color": "black",
           "size": 12
          },
          "showarrow": false,
          "text": "Worst Elo Rating:<br>Team: Deccan Chargers<br>Season: 2010<br>Elo: 887.053",
          "x": 0.2,
          "xanchor": "right",
          "xref": "paper",
          "y": 1,
          "yanchor": "top",
          "yref": "paper"
         }
        ],
        "height": 600,
        "legend": {
         "title": {
          "text": "team"
         },
         "tracegroupgap": 0
        },
        "template": {
         "data": {
          "bar": [
           {
            "error_x": {
             "color": "#2a3f5f"
            },
            "error_y": {
             "color": "#2a3f5f"
            },
            "marker": {
             "line": {
              "color": "#E5ECF6",
              "width": 0.5
             },
             "pattern": {
              "fillmode": "overlay",
              "size": 10,
              "solidity": 0.2
             }
            },
            "type": "bar"
           }
          ],
          "barpolar": [
           {
            "marker": {
             "line": {
              "color": "#E5ECF6",
              "width": 0.5
             },
             "pattern": {
              "fillmode": "overlay",
              "size": 10,
              "solidity": 0.2
             }
            },
            "type": "barpolar"
           }
          ],
          "carpet": [
           {
            "aaxis": {
             "endlinecolor": "#2a3f5f",
             "gridcolor": "white",
             "linecolor": "white",
             "minorgridcolor": "white",
             "startlinecolor": "#2a3f5f"
            },
            "baxis": {
             "endlinecolor": "#2a3f5f",
             "gridcolor": "white",
             "linecolor": "white",
             "minorgridcolor": "white",
             "startlinecolor": "#2a3f5f"
            },
            "type": "carpet"
           }
          ],
          "choropleth": [
           {
            "colorbar": {
             "outlinewidth": 0,
             "ticks": ""
            },
            "type": "choropleth"
           }
          ],
          "contour": [
           {
            "colorbar": {
             "outlinewidth": 0,
             "ticks": ""
            },
            "colorscale": [
             [
              0,
              "#0d0887"
             ],
             [
              0.1111111111111111,
              "#46039f"
             ],
             [
              0.2222222222222222,
              "#7201a8"
             ],
             [
              0.3333333333333333,
              "#9c179e"
             ],
             [
              0.4444444444444444,
              "#bd3786"
             ],
             [
              0.5555555555555556,
              "#d8576b"
             ],
             [
              0.6666666666666666,
              "#ed7953"
             ],
             [
              0.7777777777777778,
              "#fb9f3a"
             ],
             [
              0.8888888888888888,
              "#fdca26"
             ],
             [
              1,
              "#f0f921"
             ]
            ],
            "type": "contour"
           }
          ],
          "contourcarpet": [
           {
            "colorbar": {
             "outlinewidth": 0,
             "ticks": ""
            },
            "type": "contourcarpet"
           }
          ],
          "heatmap": [
           {
            "colorbar": {
             "outlinewidth": 0,
             "ticks": ""
            },
            "colorscale": [
             [
              0,
              "#0d0887"
             ],
             [
              0.1111111111111111,
              "#46039f"
             ],
             [
              0.2222222222222222,
              "#7201a8"
             ],
             [
              0.3333333333333333,
              "#9c179e"
             ],
             [
              0.4444444444444444,
              "#bd3786"
             ],
             [
              0.5555555555555556,
              "#d8576b"
             ],
             [
              0.6666666666666666,
              "#ed7953"
             ],
             [
              0.7777777777777778,
              "#fb9f3a"
             ],
             [
              0.8888888888888888,
              "#fdca26"
             ],
             [
              1,
              "#f0f921"
             ]
            ],
            "type": "heatmap"
           }
          ],
          "heatmapgl": [
           {
            "colorbar": {
             "outlinewidth": 0,
             "ticks": ""
            },
            "colorscale": [
             [
              0,
              "#0d0887"
             ],
             [
              0.1111111111111111,
              "#46039f"
             ],
             [
              0.2222222222222222,
              "#7201a8"
             ],
             [
              0.3333333333333333,
              "#9c179e"
             ],
             [
              0.4444444444444444,
              "#bd3786"
             ],
             [
              0.5555555555555556,
              "#d8576b"
             ],
             [
              0.6666666666666666,
              "#ed7953"
             ],
             [
              0.7777777777777778,
              "#fb9f3a"
             ],
             [
              0.8888888888888888,
              "#fdca26"
             ],
             [
              1,
              "#f0f921"
             ]
            ],
            "type": "heatmapgl"
           }
          ],
          "histogram": [
           {
            "marker": {
             "pattern": {
              "fillmode": "overlay",
              "size": 10,
              "solidity": 0.2
             }
            },
            "type": "histogram"
           }
          ],
          "histogram2d": [
           {
            "colorbar": {
             "outlinewidth": 0,
             "ticks": ""
            },
            "colorscale": [
             [
              0,
              "#0d0887"
             ],
             [
              0.1111111111111111,
              "#46039f"
             ],
             [
              0.2222222222222222,
              "#7201a8"
             ],
             [
              0.3333333333333333,
              "#9c179e"
             ],
             [
              0.4444444444444444,
              "#bd3786"
             ],
             [
              0.5555555555555556,
              "#d8576b"
             ],
             [
              0.6666666666666666,
              "#ed7953"
             ],
             [
              0.7777777777777778,
              "#fb9f3a"
             ],
             [
              0.8888888888888888,
              "#fdca26"
             ],
             [
              1,
              "#f0f921"
             ]
            ],
            "type": "histogram2d"
           }
          ],
          "histogram2dcontour": [
           {
            "colorbar": {
             "outlinewidth": 0,
             "ticks": ""
            },
            "colorscale": [
             [
              0,
              "#0d0887"
             ],
             [
              0.1111111111111111,
              "#46039f"
             ],
             [
              0.2222222222222222,
              "#7201a8"
             ],
             [
              0.3333333333333333,
              "#9c179e"
             ],
             [
              0.4444444444444444,
              "#bd3786"
             ],
             [
              0.5555555555555556,
              "#d8576b"
             ],
             [
              0.6666666666666666,
              "#ed7953"
             ],
             [
              0.7777777777777778,
              "#fb9f3a"
             ],
             [
              0.8888888888888888,
              "#fdca26"
             ],
             [
              1,
              "#f0f921"
             ]
            ],
            "type": "histogram2dcontour"
           }
          ],
          "mesh3d": [
           {
            "colorbar": {
             "outlinewidth": 0,
             "ticks": ""
            },
            "type": "mesh3d"
           }
          ],
          "parcoords": [
           {
            "line": {
             "colorbar": {
              "outlinewidth": 0,
              "ticks": ""
             }
            },
            "type": "parcoords"
           }
          ],
          "pie": [
           {
            "automargin": true,
            "type": "pie"
           }
          ],
          "scatter": [
           {
            "fillpattern": {
             "fillmode": "overlay",
             "size": 10,
             "solidity": 0.2
            },
            "type": "scatter"
           }
          ],
          "scatter3d": [
           {
            "line": {
             "colorbar": {
              "outlinewidth": 0,
              "ticks": ""
             }
            },
            "marker": {
             "colorbar": {
              "outlinewidth": 0,
              "ticks": ""
             }
            },
            "type": "scatter3d"
           }
          ],
          "scattercarpet": [
           {
            "marker": {
             "colorbar": {
              "outlinewidth": 0,
              "ticks": ""
             }
            },
            "type": "scattercarpet"
           }
          ],
          "scattergeo": [
           {
            "marker": {
             "colorbar": {
              "outlinewidth": 0,
              "ticks": ""
             }
            },
            "type": "scattergeo"
           }
          ],
          "scattergl": [
           {
            "marker": {
             "colorbar": {
              "outlinewidth": 0,
              "ticks": ""
             }
            },
            "type": "scattergl"
           }
          ],
          "scattermapbox": [
           {
            "marker": {
             "colorbar": {
              "outlinewidth": 0,
              "ticks": ""
             }
            },
            "type": "scattermapbox"
           }
          ],
          "scatterpolar": [
           {
            "marker": {
             "colorbar": {
              "outlinewidth": 0,
              "ticks": ""
             }
            },
            "type": "scatterpolar"
           }
          ],
          "scatterpolargl": [
           {
            "marker": {
             "colorbar": {
              "outlinewidth": 0,
              "ticks": ""
             }
            },
            "type": "scatterpolargl"
           }
          ],
          "scatterternary": [
           {
            "marker": {
             "colorbar": {
              "outlinewidth": 0,
              "ticks": ""
             }
            },
            "type": "scatterternary"
           }
          ],
          "surface": [
           {
            "colorbar": {
             "outlinewidth": 0,
             "ticks": ""
            },
            "colorscale": [
             [
              0,
              "#0d0887"
             ],
             [
              0.1111111111111111,
              "#46039f"
             ],
             [
              0.2222222222222222,
              "#7201a8"
             ],
             [
              0.3333333333333333,
              "#9c179e"
             ],
             [
              0.4444444444444444,
              "#bd3786"
             ],
             [
              0.5555555555555556,
              "#d8576b"
             ],
             [
              0.6666666666666666,
              "#ed7953"
             ],
             [
              0.7777777777777778,
              "#fb9f3a"
             ],
             [
              0.8888888888888888,
              "#fdca26"
             ],
             [
              1,
              "#f0f921"
             ]
            ],
            "type": "surface"
           }
          ],
          "table": [
           {
            "cells": {
             "fill": {
              "color": "#EBF0F8"
             },
             "line": {
              "color": "white"
             }
            },
            "header": {
             "fill": {
              "color": "#C8D4E3"
             },
             "line": {
              "color": "white"
             }
            },
            "type": "table"
           }
          ]
         },
         "layout": {
          "annotationdefaults": {
           "arrowcolor": "#2a3f5f",
           "arrowhead": 0,
           "arrowwidth": 1
          },
          "autotypenumbers": "strict",
          "coloraxis": {
           "colorbar": {
            "outlinewidth": 0,
            "ticks": ""
           }
          },
          "colorscale": {
           "diverging": [
            [
             0,
             "#8e0152"
            ],
            [
             0.1,
             "#c51b7d"
            ],
            [
             0.2,
             "#de77ae"
            ],
            [
             0.3,
             "#f1b6da"
            ],
            [
             0.4,
             "#fde0ef"
            ],
            [
             0.5,
             "#f7f7f7"
            ],
            [
             0.6,
             "#e6f5d0"
            ],
            [
             0.7,
             "#b8e186"
            ],
            [
             0.8,
             "#7fbc41"
            ],
            [
             0.9,
             "#4d9221"
            ],
            [
             1,
             "#276419"
            ]
           ],
           "sequential": [
            [
             0,
             "#0d0887"
            ],
            [
             0.1111111111111111,
             "#46039f"
            ],
            [
             0.2222222222222222,
             "#7201a8"
            ],
            [
             0.3333333333333333,
             "#9c179e"
            ],
            [
             0.4444444444444444,
             "#bd3786"
            ],
            [
             0.5555555555555556,
             "#d8576b"
            ],
            [
             0.6666666666666666,
             "#ed7953"
            ],
            [
             0.7777777777777778,
             "#fb9f3a"
            ],
            [
             0.8888888888888888,
             "#fdca26"
            ],
            [
             1,
             "#f0f921"
            ]
           ],
           "sequentialminus": [
            [
             0,
             "#0d0887"
            ],
            [
             0.1111111111111111,
             "#46039f"
            ],
            [
             0.2222222222222222,
             "#7201a8"
            ],
            [
             0.3333333333333333,
             "#9c179e"
            ],
            [
             0.4444444444444444,
             "#bd3786"
            ],
            [
             0.5555555555555556,
             "#d8576b"
            ],
            [
             0.6666666666666666,
             "#ed7953"
            ],
            [
             0.7777777777777778,
             "#fb9f3a"
            ],
            [
             0.8888888888888888,
             "#fdca26"
            ],
            [
             1,
             "#f0f921"
            ]
           ]
          },
          "colorway": [
           "#636efa",
           "#EF553B",
           "#00cc96",
           "#ab63fa",
           "#FFA15A",
           "#19d3f3",
           "#FF6692",
           "#B6E880",
           "#FF97FF",
           "#FECB52"
          ],
          "font": {
           "color": "#2a3f5f"
          },
          "geo": {
           "bgcolor": "white",
           "lakecolor": "white",
           "landcolor": "#E5ECF6",
           "showlakes": true,
           "showland": true,
           "subunitcolor": "white"
          },
          "hoverlabel": {
           "align": "left"
          },
          "hovermode": "closest",
          "mapbox": {
           "style": "light"
          },
          "paper_bgcolor": "white",
          "plot_bgcolor": "#E5ECF6",
          "polar": {
           "angularaxis": {
            "gridcolor": "white",
            "linecolor": "white",
            "ticks": ""
           },
           "bgcolor": "#E5ECF6",
           "radialaxis": {
            "gridcolor": "white",
            "linecolor": "white",
            "ticks": ""
           }
          },
          "scene": {
           "xaxis": {
            "backgroundcolor": "#E5ECF6",
            "gridcolor": "white",
            "gridwidth": 2,
            "linecolor": "white",
            "showbackground": true,
            "ticks": "",
            "zerolinecolor": "white"
           },
           "yaxis": {
            "backgroundcolor": "#E5ECF6",
            "gridcolor": "white",
            "gridwidth": 2,
            "linecolor": "white",
            "showbackground": true,
            "ticks": "",
            "zerolinecolor": "white"
           },
           "zaxis": {
            "backgroundcolor": "#E5ECF6",
            "gridcolor": "white",
            "gridwidth": 2,
            "linecolor": "white",
            "showbackground": true,
            "ticks": "",
            "zerolinecolor": "white"
           }
          },
          "shapedefaults": {
           "line": {
            "color": "#2a3f5f"
           }
          },
          "ternary": {
           "aaxis": {
            "gridcolor": "white",
            "linecolor": "white",
            "ticks": ""
           },
           "baxis": {
            "gridcolor": "white",
            "linecolor": "white",
            "ticks": ""
           },
           "bgcolor": "#E5ECF6",
           "caxis": {
            "gridcolor": "white",
            "linecolor": "white",
            "ticks": ""
           }
          },
          "title": {
           "x": 0.05
          },
          "xaxis": {
           "automargin": true,
           "gridcolor": "white",
           "linecolor": "white",
           "ticks": "",
           "title": {
            "standoff": 15
           },
           "zerolinecolor": "white",
           "zerolinewidth": 2
          },
          "yaxis": {
           "automargin": true,
           "gridcolor": "white",
           "linecolor": "white",
           "ticks": "",
           "title": {
            "standoff": 15
           },
           "zerolinecolor": "white",
           "zerolinewidth": 2
          }
         }
        },
        "title": {
         "text": "Wins Over Time per Team"
        },
        "width": 1200,
        "xaxis": {
         "anchor": "y",
         "domain": [
          0,
          1
         ],
         "title": {
          "text": "season"
         }
        },
        "yaxis": {
         "anchor": "x",
         "domain": [
          0,
          1
         ],
         "title": {
          "text": "wins"
         }
        }
       }
      }
     },
     "metadata": {},
     "output_type": "display_data"
    }
   ],
   "source": [
    "fig = px.line(eloSeason, x=\"season\", y=\"wins\", color=\"team\",\n",
    "                           title=\"Wins Over Time per Team\",\n",
    "                           labels={\"value\": \"Number of Matches\", \"variable\": \"Match Outcome\"},\n",
    "                           color_discrete_map=colorScale)\n",
    "\n",
    "maxElo = eloSeason.loc[eloSeason['eloRating'].idxmax()]\n",
    "minElo = eloSeason.loc[eloSeason['eloRating'].idxmin()]\n",
    "\n",
    "fig.add_annotation(\n",
    "    x=1,  \n",
    "    y=1,\n",
    "    text=f\"Top Elo Rating:<br>Team: {maxElo['team']}<br>Season: {maxElo['season']}<br>Elo: {maxElo['eloRating']}\",\n",
    "    showarrow=False,\n",
    "    xref=\"paper\",\n",
    "    yref=\"paper\",  \n",
    "    xanchor='right',  \n",
    "    yanchor='top',    \n",
    "    font=dict(color=\"black\", size=12)\n",
    ")\n",
    "\n",
    "fig.add_annotation(\n",
    "    x=0.2,  \n",
    "    y=1,\n",
    "    text=f\"Worst Elo Rating:<br>Team: {minElo['team']}<br>Season: {minElo['season']}<br>Elo: {minElo['eloRating']}\",\n",
    "    showarrow=False,\n",
    "    xref=\"paper\",\n",
    "    yref=\"paper\",  \n",
    "    xanchor='right',  \n",
    "    yanchor='top',    \n",
    "    font=dict(color=\"black\", size=12)\n",
    ")\n",
    "\n",
    "fig.update_layout(height=600, width=1200)\n",
    "fig.show()\n"
   ]
  },
  {
   "cell_type": "code",
   "execution_count": 72,
   "metadata": {},
   "outputs": [
    {
     "data": {
      "application/vnd.plotly.v1+json": {
       "config": {
        "plotlyServerURL": "https://plot.ly"
       },
       "data": [
        {
         "alignmentgroup": "True",
         "hovertemplate": "WinOrLoss=wins<br>season=%{x}<br>Count=%{y}<extra></extra>",
         "legendgroup": "wins",
         "marker": {
          "color": "#636efa"
         },
         "name": "wins",
         "notched": false,
         "offsetgroup": "wins",
         "orientation": "v",
         "showlegend": true,
         "type": "box",
         "x": [
          2008,
          2009,
          2010,
          2011,
          2012,
          2013,
          2014,
          2015,
          2018,
          2019,
          2020,
          2021,
          2022,
          2023,
          2008,
          2009,
          2010,
          2011,
          2012,
          2008,
          2009,
          2010,
          2011,
          2012,
          2013,
          2014,
          2015,
          2016,
          2017,
          2018,
          2019,
          2020,
          2021,
          2022,
          2023,
          2016,
          2017,
          2022,
          2023,
          2011,
          2008,
          2009,
          2010,
          2011,
          2012,
          2013,
          2014,
          2015,
          2016,
          2017,
          2018,
          2019,
          2020,
          2021,
          2022,
          2023,
          2022,
          2023,
          2008,
          2009,
          2010,
          2011,
          2012,
          2013,
          2014,
          2015,
          2016,
          2017,
          2018,
          2019,
          2020,
          2021,
          2022,
          2023,
          2011,
          2012,
          2013,
          2008,
          2009,
          2010,
          2011,
          2012,
          2013,
          2014,
          2015,
          2016,
          2017,
          2018,
          2019,
          2020,
          2021,
          2022,
          2023,
          2008,
          2009,
          2010,
          2011,
          2012,
          2013,
          2014,
          2015,
          2018,
          2019,
          2020,
          2021,
          2022,
          2023,
          2016,
          2017,
          2008,
          2009,
          2010,
          2011,
          2012,
          2013,
          2014,
          2015,
          2016,
          2017,
          2018,
          2019,
          2020,
          2021,
          2022,
          2023,
          2013,
          2014,
          2015,
          2016,
          2017,
          2018,
          2019,
          2020,
          2021,
          2022,
          2023
         ],
         "x0": " ",
         "xaxis": "x",
         "y": [
          9,
          8,
          9,
          11,
          10,
          12,
          10,
          10,
          11,
          10,
          6,
          11,
          4,
          10,
          2,
          9,
          8,
          6,
          4,
          7,
          10,
          7,
          4,
          11,
          3,
          2,
          5,
          7,
          6,
          5,
          9,
          8,
          9,
          7,
          5,
          9,
          4,
          12,
          11,
          6,
          6,
          3,
          7,
          8,
          12,
          6,
          11,
          7,
          8,
          9,
          9,
          6,
          6,
          9,
          6,
          6,
          9,
          8,
          7,
          5,
          11,
          10,
          10,
          13,
          7,
          10,
          7,
          11,
          6,
          10,
          11,
          7,
          4,
          9,
          4,
          4,
          4,
          10,
          7,
          3,
          7,
          8,
          8,
          12,
          2,
          4,
          7,
          6,
          6,
          5,
          6,
          7,
          6,
          13,
          5,
          6,
          6,
          7,
          11,
          6,
          7,
          7,
          5,
          6,
          5,
          10,
          7,
          5,
          10,
          4,
          9,
          8,
          10,
          8,
          8,
          5,
          8,
          9,
          3,
          6,
          5,
          6,
          9,
          9,
          7,
          9,
          6,
          7,
          11,
          8,
          10,
          6,
          8,
          3,
          6,
          4
         ],
         "y0": " ",
         "yaxis": "y"
        },
        {
         "alignmentgroup": "True",
         "hovertemplate": "WinOrLoss=loss<br>season=%{x}<br>Count=%{y}<extra></extra>",
         "legendgroup": "loss",
         "marker": {
          "color": "#EF553B"
         },
         "name": "loss",
         "notched": false,
         "offsetgroup": "loss",
         "orientation": "v",
         "showlegend": true,
         "type": "box",
         "x": [
          2008,
          2009,
          2010,
          2011,
          2012,
          2013,
          2014,
          2015,
          2018,
          2019,
          2020,
          2021,
          2022,
          2023,
          2008,
          2009,
          2010,
          2011,
          2012,
          2008,
          2009,
          2010,
          2011,
          2012,
          2013,
          2014,
          2015,
          2016,
          2017,
          2018,
          2019,
          2020,
          2021,
          2022,
          2023,
          2016,
          2017,
          2022,
          2023,
          2011,
          2008,
          2009,
          2010,
          2011,
          2012,
          2013,
          2014,
          2015,
          2016,
          2017,
          2018,
          2019,
          2020,
          2021,
          2022,
          2023,
          2022,
          2023,
          2008,
          2009,
          2010,
          2011,
          2012,
          2013,
          2014,
          2015,
          2016,
          2017,
          2018,
          2019,
          2020,
          2021,
          2022,
          2023,
          2011,
          2012,
          2013,
          2008,
          2009,
          2010,
          2011,
          2012,
          2013,
          2014,
          2015,
          2016,
          2017,
          2018,
          2019,
          2020,
          2021,
          2022,
          2023,
          2008,
          2009,
          2010,
          2011,
          2012,
          2013,
          2014,
          2015,
          2018,
          2019,
          2020,
          2021,
          2022,
          2023,
          2016,
          2017,
          2008,
          2009,
          2010,
          2011,
          2012,
          2013,
          2014,
          2015,
          2016,
          2017,
          2018,
          2019,
          2020,
          2021,
          2022,
          2023,
          2013,
          2014,
          2015,
          2016,
          2017,
          2018,
          2019,
          2020,
          2021,
          2022,
          2023
         ],
         "x0": " ",
         "xaxis": "x",
         "y": [
          7,
          6,
          6,
          5,
          8,
          6,
          6,
          7,
          5,
          7,
          8,
          5,
          10,
          6,
          12,
          7,
          8,
          8,
          11,
          7,
          5,
          7,
          10,
          7,
          12,
          12,
          9,
          7,
          8,
          9,
          6,
          8,
          6,
          7,
          9,
          7,
          9,
          4,
          6,
          8,
          7,
          9,
          7,
          7,
          5,
          10,
          4,
          6,
          7,
          7,
          7,
          7,
          7,
          8,
          8,
          8,
          6,
          7,
          7,
          8,
          5,
          6,
          7,
          6,
          8,
          6,
          7,
          5,
          8,
          5,
          3,
          7,
          10,
          7,
          10,
          12,
          12,
          5,
          7,
          10,
          7,
          8,
          8,
          5,
          11,
          10,
          7,
          8,
          8,
          7,
          8,
          7,
          8,
          3,
          7,
          8,
          7,
          9,
          7,
          7,
          6,
          8,
          9,
          8,
          9,
          7,
          7,
          9,
          6,
          10,
          7,
          8,
          6,
          7,
          6,
          9,
          8,
          7,
          10,
          8,
          9,
          8,
          6,
          7,
          7,
          7,
          8,
          7,
          6,
          6,
          7,
          8,
          7,
          10,
          8,
          10
         ],
         "y0": " ",
         "yaxis": "y"
        }
       ],
       "layout": {
        "boxmode": "group",
        "height": 600,
        "legend": {
         "title": {
          "text": "WinOrLoss"
         },
         "tracegroupgap": 0
        },
        "template": {
         "data": {
          "bar": [
           {
            "error_x": {
             "color": "#2a3f5f"
            },
            "error_y": {
             "color": "#2a3f5f"
            },
            "marker": {
             "line": {
              "color": "#E5ECF6",
              "width": 0.5
             },
             "pattern": {
              "fillmode": "overlay",
              "size": 10,
              "solidity": 0.2
             }
            },
            "type": "bar"
           }
          ],
          "barpolar": [
           {
            "marker": {
             "line": {
              "color": "#E5ECF6",
              "width": 0.5
             },
             "pattern": {
              "fillmode": "overlay",
              "size": 10,
              "solidity": 0.2
             }
            },
            "type": "barpolar"
           }
          ],
          "carpet": [
           {
            "aaxis": {
             "endlinecolor": "#2a3f5f",
             "gridcolor": "white",
             "linecolor": "white",
             "minorgridcolor": "white",
             "startlinecolor": "#2a3f5f"
            },
            "baxis": {
             "endlinecolor": "#2a3f5f",
             "gridcolor": "white",
             "linecolor": "white",
             "minorgridcolor": "white",
             "startlinecolor": "#2a3f5f"
            },
            "type": "carpet"
           }
          ],
          "choropleth": [
           {
            "colorbar": {
             "outlinewidth": 0,
             "ticks": ""
            },
            "type": "choropleth"
           }
          ],
          "contour": [
           {
            "colorbar": {
             "outlinewidth": 0,
             "ticks": ""
            },
            "colorscale": [
             [
              0,
              "#0d0887"
             ],
             [
              0.1111111111111111,
              "#46039f"
             ],
             [
              0.2222222222222222,
              "#7201a8"
             ],
             [
              0.3333333333333333,
              "#9c179e"
             ],
             [
              0.4444444444444444,
              "#bd3786"
             ],
             [
              0.5555555555555556,
              "#d8576b"
             ],
             [
              0.6666666666666666,
              "#ed7953"
             ],
             [
              0.7777777777777778,
              "#fb9f3a"
             ],
             [
              0.8888888888888888,
              "#fdca26"
             ],
             [
              1,
              "#f0f921"
             ]
            ],
            "type": "contour"
           }
          ],
          "contourcarpet": [
           {
            "colorbar": {
             "outlinewidth": 0,
             "ticks": ""
            },
            "type": "contourcarpet"
           }
          ],
          "heatmap": [
           {
            "colorbar": {
             "outlinewidth": 0,
             "ticks": ""
            },
            "colorscale": [
             [
              0,
              "#0d0887"
             ],
             [
              0.1111111111111111,
              "#46039f"
             ],
             [
              0.2222222222222222,
              "#7201a8"
             ],
             [
              0.3333333333333333,
              "#9c179e"
             ],
             [
              0.4444444444444444,
              "#bd3786"
             ],
             [
              0.5555555555555556,
              "#d8576b"
             ],
             [
              0.6666666666666666,
              "#ed7953"
             ],
             [
              0.7777777777777778,
              "#fb9f3a"
             ],
             [
              0.8888888888888888,
              "#fdca26"
             ],
             [
              1,
              "#f0f921"
             ]
            ],
            "type": "heatmap"
           }
          ],
          "heatmapgl": [
           {
            "colorbar": {
             "outlinewidth": 0,
             "ticks": ""
            },
            "colorscale": [
             [
              0,
              "#0d0887"
             ],
             [
              0.1111111111111111,
              "#46039f"
             ],
             [
              0.2222222222222222,
              "#7201a8"
             ],
             [
              0.3333333333333333,
              "#9c179e"
             ],
             [
              0.4444444444444444,
              "#bd3786"
             ],
             [
              0.5555555555555556,
              "#d8576b"
             ],
             [
              0.6666666666666666,
              "#ed7953"
             ],
             [
              0.7777777777777778,
              "#fb9f3a"
             ],
             [
              0.8888888888888888,
              "#fdca26"
             ],
             [
              1,
              "#f0f921"
             ]
            ],
            "type": "heatmapgl"
           }
          ],
          "histogram": [
           {
            "marker": {
             "pattern": {
              "fillmode": "overlay",
              "size": 10,
              "solidity": 0.2
             }
            },
            "type": "histogram"
           }
          ],
          "histogram2d": [
           {
            "colorbar": {
             "outlinewidth": 0,
             "ticks": ""
            },
            "colorscale": [
             [
              0,
              "#0d0887"
             ],
             [
              0.1111111111111111,
              "#46039f"
             ],
             [
              0.2222222222222222,
              "#7201a8"
             ],
             [
              0.3333333333333333,
              "#9c179e"
             ],
             [
              0.4444444444444444,
              "#bd3786"
             ],
             [
              0.5555555555555556,
              "#d8576b"
             ],
             [
              0.6666666666666666,
              "#ed7953"
             ],
             [
              0.7777777777777778,
              "#fb9f3a"
             ],
             [
              0.8888888888888888,
              "#fdca26"
             ],
             [
              1,
              "#f0f921"
             ]
            ],
            "type": "histogram2d"
           }
          ],
          "histogram2dcontour": [
           {
            "colorbar": {
             "outlinewidth": 0,
             "ticks": ""
            },
            "colorscale": [
             [
              0,
              "#0d0887"
             ],
             [
              0.1111111111111111,
              "#46039f"
             ],
             [
              0.2222222222222222,
              "#7201a8"
             ],
             [
              0.3333333333333333,
              "#9c179e"
             ],
             [
              0.4444444444444444,
              "#bd3786"
             ],
             [
              0.5555555555555556,
              "#d8576b"
             ],
             [
              0.6666666666666666,
              "#ed7953"
             ],
             [
              0.7777777777777778,
              "#fb9f3a"
             ],
             [
              0.8888888888888888,
              "#fdca26"
             ],
             [
              1,
              "#f0f921"
             ]
            ],
            "type": "histogram2dcontour"
           }
          ],
          "mesh3d": [
           {
            "colorbar": {
             "outlinewidth": 0,
             "ticks": ""
            },
            "type": "mesh3d"
           }
          ],
          "parcoords": [
           {
            "line": {
             "colorbar": {
              "outlinewidth": 0,
              "ticks": ""
             }
            },
            "type": "parcoords"
           }
          ],
          "pie": [
           {
            "automargin": true,
            "type": "pie"
           }
          ],
          "scatter": [
           {
            "fillpattern": {
             "fillmode": "overlay",
             "size": 10,
             "solidity": 0.2
            },
            "type": "scatter"
           }
          ],
          "scatter3d": [
           {
            "line": {
             "colorbar": {
              "outlinewidth": 0,
              "ticks": ""
             }
            },
            "marker": {
             "colorbar": {
              "outlinewidth": 0,
              "ticks": ""
             }
            },
            "type": "scatter3d"
           }
          ],
          "scattercarpet": [
           {
            "marker": {
             "colorbar": {
              "outlinewidth": 0,
              "ticks": ""
             }
            },
            "type": "scattercarpet"
           }
          ],
          "scattergeo": [
           {
            "marker": {
             "colorbar": {
              "outlinewidth": 0,
              "ticks": ""
             }
            },
            "type": "scattergeo"
           }
          ],
          "scattergl": [
           {
            "marker": {
             "colorbar": {
              "outlinewidth": 0,
              "ticks": ""
             }
            },
            "type": "scattergl"
           }
          ],
          "scattermapbox": [
           {
            "marker": {
             "colorbar": {
              "outlinewidth": 0,
              "ticks": ""
             }
            },
            "type": "scattermapbox"
           }
          ],
          "scatterpolar": [
           {
            "marker": {
             "colorbar": {
              "outlinewidth": 0,
              "ticks": ""
             }
            },
            "type": "scatterpolar"
           }
          ],
          "scatterpolargl": [
           {
            "marker": {
             "colorbar": {
              "outlinewidth": 0,
              "ticks": ""
             }
            },
            "type": "scatterpolargl"
           }
          ],
          "scatterternary": [
           {
            "marker": {
             "colorbar": {
              "outlinewidth": 0,
              "ticks": ""
             }
            },
            "type": "scatterternary"
           }
          ],
          "surface": [
           {
            "colorbar": {
             "outlinewidth": 0,
             "ticks": ""
            },
            "colorscale": [
             [
              0,
              "#0d0887"
             ],
             [
              0.1111111111111111,
              "#46039f"
             ],
             [
              0.2222222222222222,
              "#7201a8"
             ],
             [
              0.3333333333333333,
              "#9c179e"
             ],
             [
              0.4444444444444444,
              "#bd3786"
             ],
             [
              0.5555555555555556,
              "#d8576b"
             ],
             [
              0.6666666666666666,
              "#ed7953"
             ],
             [
              0.7777777777777778,
              "#fb9f3a"
             ],
             [
              0.8888888888888888,
              "#fdca26"
             ],
             [
              1,
              "#f0f921"
             ]
            ],
            "type": "surface"
           }
          ],
          "table": [
           {
            "cells": {
             "fill": {
              "color": "#EBF0F8"
             },
             "line": {
              "color": "white"
             }
            },
            "header": {
             "fill": {
              "color": "#C8D4E3"
             },
             "line": {
              "color": "white"
             }
            },
            "type": "table"
           }
          ]
         },
         "layout": {
          "annotationdefaults": {
           "arrowcolor": "#2a3f5f",
           "arrowhead": 0,
           "arrowwidth": 1
          },
          "autotypenumbers": "strict",
          "coloraxis": {
           "colorbar": {
            "outlinewidth": 0,
            "ticks": ""
           }
          },
          "colorscale": {
           "diverging": [
            [
             0,
             "#8e0152"
            ],
            [
             0.1,
             "#c51b7d"
            ],
            [
             0.2,
             "#de77ae"
            ],
            [
             0.3,
             "#f1b6da"
            ],
            [
             0.4,
             "#fde0ef"
            ],
            [
             0.5,
             "#f7f7f7"
            ],
            [
             0.6,
             "#e6f5d0"
            ],
            [
             0.7,
             "#b8e186"
            ],
            [
             0.8,
             "#7fbc41"
            ],
            [
             0.9,
             "#4d9221"
            ],
            [
             1,
             "#276419"
            ]
           ],
           "sequential": [
            [
             0,
             "#0d0887"
            ],
            [
             0.1111111111111111,
             "#46039f"
            ],
            [
             0.2222222222222222,
             "#7201a8"
            ],
            [
             0.3333333333333333,
             "#9c179e"
            ],
            [
             0.4444444444444444,
             "#bd3786"
            ],
            [
             0.5555555555555556,
             "#d8576b"
            ],
            [
             0.6666666666666666,
             "#ed7953"
            ],
            [
             0.7777777777777778,
             "#fb9f3a"
            ],
            [
             0.8888888888888888,
             "#fdca26"
            ],
            [
             1,
             "#f0f921"
            ]
           ],
           "sequentialminus": [
            [
             0,
             "#0d0887"
            ],
            [
             0.1111111111111111,
             "#46039f"
            ],
            [
             0.2222222222222222,
             "#7201a8"
            ],
            [
             0.3333333333333333,
             "#9c179e"
            ],
            [
             0.4444444444444444,
             "#bd3786"
            ],
            [
             0.5555555555555556,
             "#d8576b"
            ],
            [
             0.6666666666666666,
             "#ed7953"
            ],
            [
             0.7777777777777778,
             "#fb9f3a"
            ],
            [
             0.8888888888888888,
             "#fdca26"
            ],
            [
             1,
             "#f0f921"
            ]
           ]
          },
          "colorway": [
           "#636efa",
           "#EF553B",
           "#00cc96",
           "#ab63fa",
           "#FFA15A",
           "#19d3f3",
           "#FF6692",
           "#B6E880",
           "#FF97FF",
           "#FECB52"
          ],
          "font": {
           "color": "#2a3f5f"
          },
          "geo": {
           "bgcolor": "white",
           "lakecolor": "white",
           "landcolor": "#E5ECF6",
           "showlakes": true,
           "showland": true,
           "subunitcolor": "white"
          },
          "hoverlabel": {
           "align": "left"
          },
          "hovermode": "closest",
          "mapbox": {
           "style": "light"
          },
          "paper_bgcolor": "white",
          "plot_bgcolor": "#E5ECF6",
          "polar": {
           "angularaxis": {
            "gridcolor": "white",
            "linecolor": "white",
            "ticks": ""
           },
           "bgcolor": "#E5ECF6",
           "radialaxis": {
            "gridcolor": "white",
            "linecolor": "white",
            "ticks": ""
           }
          },
          "scene": {
           "xaxis": {
            "backgroundcolor": "#E5ECF6",
            "gridcolor": "white",
            "gridwidth": 2,
            "linecolor": "white",
            "showbackground": true,
            "ticks": "",
            "zerolinecolor": "white"
           },
           "yaxis": {
            "backgroundcolor": "#E5ECF6",
            "gridcolor": "white",
            "gridwidth": 2,
            "linecolor": "white",
            "showbackground": true,
            "ticks": "",
            "zerolinecolor": "white"
           },
           "zaxis": {
            "backgroundcolor": "#E5ECF6",
            "gridcolor": "white",
            "gridwidth": 2,
            "linecolor": "white",
            "showbackground": true,
            "ticks": "",
            "zerolinecolor": "white"
           }
          },
          "shapedefaults": {
           "line": {
            "color": "#2a3f5f"
           }
          },
          "ternary": {
           "aaxis": {
            "gridcolor": "white",
            "linecolor": "white",
            "ticks": ""
           },
           "baxis": {
            "gridcolor": "white",
            "linecolor": "white",
            "ticks": ""
           },
           "bgcolor": "#E5ECF6",
           "caxis": {
            "gridcolor": "white",
            "linecolor": "white",
            "ticks": ""
           }
          },
          "title": {
           "x": 0.05
          },
          "xaxis": {
           "automargin": true,
           "gridcolor": "white",
           "linecolor": "white",
           "ticks": "",
           "title": {
            "standoff": 15
           },
           "zerolinecolor": "white",
           "zerolinewidth": 2
          },
          "yaxis": {
           "automargin": true,
           "gridcolor": "white",
           "linecolor": "white",
           "ticks": "",
           "title": {
            "standoff": 15
           },
           "zerolinecolor": "white",
           "zerolinewidth": 2
          }
         }
        },
        "title": {
         "text": "Boxplot of Wins and Losses per Season"
        },
        "width": 1200,
        "xaxis": {
         "anchor": "y",
         "domain": [
          0,
          1
         ],
         "title": {
          "text": "season"
         }
        },
        "yaxis": {
         "anchor": "x",
         "domain": [
          0,
          1
         ],
         "title": {
          "text": "Count"
         }
        }
       }
      }
     },
     "metadata": {},
     "output_type": "display_data"
    }
   ],
   "source": [
    "long_format = pd.melt(eloSeason, id_vars=['season', 'team'], value_vars=['wins', 'loss'],\n",
    "                      var_name='WinOrLoss', value_name='Count')\n",
    "\n",
    "# Create the boxplot\n",
    "fig = px.box(long_format, x='season', y='Count', color='WinOrLoss',\n",
    "             title='Boxplot of Wins and Losses per Season')\n",
    "\n",
    "fig.update_layout(height=600, width=1200)\n",
    "fig.show()"
   ]
  },
  {
   "cell_type": "markdown",
   "metadata": {},
   "source": [
    "## IPL Match By Match Analysis"
   ]
  },
  {
   "cell_type": "code",
   "execution_count": 73,
   "metadata": {},
   "outputs": [],
   "source": [
    "df = pd.read_csv('iplMatchByMatchElo.csv')"
   ]
  },
  {
   "cell_type": "code",
   "execution_count": 74,
   "metadata": {},
   "outputs": [
    {
     "data": {
      "text/html": [
       "<div>\n",
       "<style scoped>\n",
       "    .dataframe tbody tr th:only-of-type {\n",
       "        vertical-align: middle;\n",
       "    }\n",
       "\n",
       "    .dataframe tbody tr th {\n",
       "        vertical-align: top;\n",
       "    }\n",
       "\n",
       "    .dataframe thead th {\n",
       "        text-align: right;\n",
       "    }\n",
       "</style>\n",
       "<table border=\"1\" class=\"dataframe\">\n",
       "  <thead>\n",
       "    <tr style=\"text-align: right;\">\n",
       "      <th></th>\n",
       "      <th>matchNo</th>\n",
       "      <th>team</th>\n",
       "      <th>eloRating</th>\n",
       "      <th>season</th>\n",
       "    </tr>\n",
       "  </thead>\n",
       "  <tbody>\n",
       "    <tr>\n",
       "      <th>0</th>\n",
       "      <td>1</td>\n",
       "      <td>Chennai Super Kings</td>\n",
       "      <td>1015.000</td>\n",
       "      <td>2023</td>\n",
       "    </tr>\n",
       "    <tr>\n",
       "      <th>1</th>\n",
       "      <td>1</td>\n",
       "      <td>Kolkata Knight Riders</td>\n",
       "      <td>985.000</td>\n",
       "      <td>2023</td>\n",
       "    </tr>\n",
       "    <tr>\n",
       "      <th>2</th>\n",
       "      <td>2</td>\n",
       "      <td>Chennai Super Kings</td>\n",
       "      <td>1029.353</td>\n",
       "      <td>2009</td>\n",
       "    </tr>\n",
       "    <tr>\n",
       "      <th>3</th>\n",
       "      <td>1</td>\n",
       "      <td>Rajasthan Royals</td>\n",
       "      <td>985.647</td>\n",
       "      <td>2009</td>\n",
       "    </tr>\n",
       "    <tr>\n",
       "      <th>4</th>\n",
       "      <td>1</td>\n",
       "      <td>Mumbai Indians</td>\n",
       "      <td>1000.000</td>\n",
       "      <td>2021</td>\n",
       "    </tr>\n",
       "    <tr>\n",
       "      <th>...</th>\n",
       "      <td>...</td>\n",
       "      <td>...</td>\n",
       "      <td>...</td>\n",
       "      <td>...</td>\n",
       "    </tr>\n",
       "    <tr>\n",
       "      <th>2043</th>\n",
       "      <td>237</td>\n",
       "      <td>Kolkata Knight Riders</td>\n",
       "      <td>944.597</td>\n",
       "      <td>2019</td>\n",
       "    </tr>\n",
       "    <tr>\n",
       "      <th>2044</th>\n",
       "      <td>224</td>\n",
       "      <td>Chennai Super Kings</td>\n",
       "      <td>1139.050</td>\n",
       "      <td>2013</td>\n",
       "    </tr>\n",
       "    <tr>\n",
       "      <th>2045</th>\n",
       "      <td>240</td>\n",
       "      <td>Royal Challengers Bangalore</td>\n",
       "      <td>1116.023</td>\n",
       "      <td>2013</td>\n",
       "    </tr>\n",
       "    <tr>\n",
       "      <th>2046</th>\n",
       "      <td>238</td>\n",
       "      <td>Delhi Capitals</td>\n",
       "      <td>996.838</td>\n",
       "      <td>2018</td>\n",
       "    </tr>\n",
       "    <tr>\n",
       "      <th>2047</th>\n",
       "      <td>166</td>\n",
       "      <td>Sunrisers Hyderabad</td>\n",
       "      <td>901.560</td>\n",
       "      <td>2018</td>\n",
       "    </tr>\n",
       "  </tbody>\n",
       "</table>\n",
       "<p>2048 rows × 4 columns</p>\n",
       "</div>"
      ],
      "text/plain": [
       "      matchNo                         team  eloRating  season\n",
       "0           1          Chennai Super Kings   1015.000    2023\n",
       "1           1        Kolkata Knight Riders    985.000    2023\n",
       "2           2          Chennai Super Kings   1029.353    2009\n",
       "3           1             Rajasthan Royals    985.647    2009\n",
       "4           1               Mumbai Indians   1000.000    2021\n",
       "...       ...                          ...        ...     ...\n",
       "2043      237        Kolkata Knight Riders    944.597    2019\n",
       "2044      224          Chennai Super Kings   1139.050    2013\n",
       "2045      240  Royal Challengers Bangalore   1116.023    2013\n",
       "2046      238               Delhi Capitals    996.838    2018\n",
       "2047      166          Sunrisers Hyderabad    901.560    2018\n",
       "\n",
       "[2048 rows x 4 columns]"
      ]
     },
     "execution_count": 74,
     "metadata": {},
     "output_type": "execute_result"
    }
   ],
   "source": [
    "df"
   ]
  },
  {
   "cell_type": "code",
   "execution_count": 75,
   "metadata": {},
   "outputs": [],
   "source": [
    "teams = list(df.team.unique())\n",
    "\n",
    "inactiveTeams = ['Gujarat Lions','Deccan Chargers','Kochi Tuskers Kerala','Rising Pune Supergiants','Pune Warriors']\n",
    "grayCodes = ['#404040','#585858','#585858','#707070','#888888','#A0A0A0']\n",
    "\n",
    "colorScale = zip(inactiveTeams,grayCodes)\n",
    "colorScale = dict(colorScale)\n",
    "\n",
    "color_scale = {\n",
    "    'Team1': '#1f77b4', 'Team2': '#ff7f0e', 'Team3': '#2ca02c',\n",
    "    'Team4': '#d62728', 'Team5': '#9467bd', 'Team6': '#8c564b',\n",
    "    'Team7': '#e377c2', 'Team8': '#7f7f7f', 'Team9': '#bcbd22',\n",
    "    'Team10': '#17becf', 'Team11': '#1f77b4', 'Team12': '#ff7f0e',\n",
    "}\n",
    "\n",
    "\n",
    "colors = list(color_scale.values())\n",
    "count = 0\n",
    "for team in teams:\n",
    "    if team not in inactiveTeams:\n",
    "        colorScale[team] = colors[count]\n",
    "        count +=1"
   ]
  },
  {
   "cell_type": "code",
   "execution_count": 76,
   "metadata": {},
   "outputs": [
    {
     "data": {
      "application/vnd.plotly.v1+json": {
       "config": {
        "plotlyServerURL": "https://plot.ly"
       },
       "data": [
        {
         "hovertemplate": "team=Chennai Super Kings<br>Match Number=%{x}<br>eloRating=%{y}<extra></extra>",
         "legendgroup": "Chennai Super Kings",
         "line": {
          "color": "#1f77b4",
          "dash": "solid"
         },
         "marker": {
          "symbol": "circle"
         },
         "mode": "lines",
         "name": "Chennai Super Kings",
         "showlegend": true,
         "type": "scattergl",
         "x": [
          1,
          2,
          3,
          4,
          5,
          6,
          7,
          8,
          9,
          10,
          11,
          12,
          13,
          14,
          15,
          16,
          17,
          18,
          19,
          20,
          21,
          22,
          23,
          24,
          25,
          26,
          27,
          28,
          29,
          30,
          31,
          32,
          33,
          34,
          35,
          36,
          37,
          38,
          39,
          40,
          41,
          42,
          43,
          44,
          45,
          46,
          47,
          48,
          49,
          50,
          51,
          52,
          53,
          54,
          55,
          56,
          57,
          58,
          59,
          60,
          61,
          62,
          63,
          64,
          65,
          66,
          67,
          68,
          69,
          70,
          71,
          72,
          73,
          74,
          75,
          76,
          77,
          78,
          79,
          80,
          81,
          82,
          83,
          84,
          85,
          86,
          87,
          88,
          89,
          90,
          91,
          92,
          93,
          94,
          95,
          96,
          97,
          98,
          99,
          100,
          101,
          102,
          103,
          104,
          105,
          106,
          107,
          108,
          109,
          110,
          111,
          112,
          113,
          114,
          115,
          116,
          117,
          118,
          119,
          120,
          121,
          122,
          123,
          124,
          125,
          126,
          127,
          128,
          129,
          130,
          131,
          132,
          133,
          134,
          135,
          136,
          137,
          138,
          139,
          140,
          141,
          142,
          143,
          144,
          145,
          146,
          147,
          148,
          149,
          150,
          151,
          152,
          153,
          154,
          155,
          156,
          157,
          158,
          159,
          160,
          161,
          162,
          163,
          164,
          165,
          166,
          167,
          168,
          169,
          170,
          171,
          172,
          173,
          174,
          175,
          176,
          177,
          178,
          179,
          180,
          181,
          182,
          183,
          184,
          185,
          186,
          187,
          188,
          189,
          190,
          191,
          192,
          193,
          194,
          195,
          196,
          197,
          198,
          199,
          200,
          201,
          202,
          203,
          204,
          205,
          206,
          207,
          208,
          209,
          210,
          211,
          212,
          213,
          214,
          215,
          216,
          217,
          218,
          219,
          220,
          221,
          222,
          223,
          224
         ],
         "xaxis": "x",
         "y": [
          1015,
          1029.353,
          1029.353,
          1045.786,
          1045.786,
          1020.726,
          1005.479,
          1023.229,
          1038.532,
          1038.532,
          1038.532,
          1038.532,
          1055.648,
          1033.316,
          1009.376,
          1009.376,
          1009.376,
          993.451,
          993.451,
          1008.507,
          1008.507,
          1006.037,
          990.693,
          990.693,
          976.714,
          999.075,
          1014.962,
          1014.962,
          1034.853,
          1012.528,
          990.604,
          1011.355,
          1025.959,
          1025.959,
          1025.959,
          1044.006,
          1060.382,
          1060.382,
          1060.382,
          1081.026,
          1050.313,
          1050.313,
          1067.127,
          1082.208,
          1096.621,
          1112.044,
          1112.044,
          1127.752,
          1097.522,
          1097.522,
          1110.609,
          1121.322,
          1121.322,
          1121.322,
          1121.322,
          1121.322,
          1121.322,
          1132.829,
          1102.966,
          1102.966,
          1081.057,
          1081.057,
          1081.057,
          1096.08,
          1096.08,
          1117.597,
          1117.597,
          1130.899,
          1130.899,
          1130.899,
          1130.899,
          1130.899,
          1101.745,
          1116.024,
          1116.024,
          1116.024,
          1116.024,
          1129.772,
          1129.772,
          1129.772,
          1129.772,
          1129.772,
          1141.736,
          1141.736,
          1141.736,
          1154.351,
          1165.747,
          1165.747,
          1177.985,
          1143.804,
          1143.804,
          1143.804,
          1143.804,
          1116.476,
          1089.948,
          1089.948,
          1089.948,
          1104.343,
          1076.1,
          1052.669,
          1052.669,
          1029.689,
          1029.689,
          1029.689,
          1005.142,
          1005.142,
          1020.035,
          997.391,
          1027.441,
          1027.441,
          1004.785,
          988.359,
          988.359,
          988.359,
          988.359,
          988.359,
          973.036,
          973.036,
          973.036,
          973.036,
          996.116,
          1011.013,
          1011.013,
          1011.013,
          1042.84,
          1057.868,
          1057.868,
          1057.868,
          1043.132,
          1024.863,
          1040.912,
          1040.912,
          1063.806,
          1063.806,
          1038.084,
          1053.808,
          1053.808,
          1067.625,
          1067.625,
          1090.46,
          1090.46,
          1066.072,
          1066.072,
          1081.713,
          1081.713,
          1081.713,
          1102.32,
          1102.32,
          1123.265,
          1123.265,
          1132.478,
          1143.756,
          1156.021,
          1166.426,
          1134.688,
          1134.688,
          1134.688,
          1134.688,
          1134.688,
          1134.688,
          1106.661,
          1081.256,
          1081.256,
          1065.937,
          1065.937,
          1075.585,
          1052.148,
          1037.199,
          1037.199,
          1051.248,
          1051.248,
          1051.248,
          1051.248,
          1051.248,
          1051.248,
          1051.248,
          1065.415,
          1043.094,
          1028.599,
          1028.599,
          1010.479,
          1032.572,
          1011.149,
          1011.149,
          1025.885,
          1041.604,
          1041.604,
          1041.604,
          1041.604,
          1041.604,
          1041.604,
          1041.604,
          1057.423,
          1057.423,
          1057.423,
          1057.423,
          1057.423,
          1079.121,
          1079.121,
          1093.734,
          1093.734,
          1111.117,
          1086.565,
          1086.565,
          1086.565,
          1086.565,
          1097.227,
          1111.196,
          1111.196,
          1080.453,
          1080.453,
          1091.313,
          1103.36,
          1103.36,
          1116.321,
          1127.404,
          1137.025,
          1108.429,
          1127.09,
          1139.776,
          1139.776,
          1139.776,
          1123.721,
          1139.05
         ],
         "yaxis": "y"
        },
        {
         "hovertemplate": "team=Kolkata Knight Riders<br>Match Number=%{x}<br>eloRating=%{y}<extra></extra>",
         "legendgroup": "Kolkata Knight Riders",
         "line": {
          "color": "#ff7f0e",
          "dash": "solid"
         },
         "marker": {
          "symbol": "circle"
         },
         "mode": "lines",
         "name": "Kolkata Knight Riders",
         "showlegend": true,
         "type": "scattergl",
         "x": [
          1,
          2,
          3,
          4,
          5,
          6,
          7,
          8,
          9,
          10,
          11,
          12,
          13,
          14,
          15,
          16,
          17,
          18,
          19,
          20,
          21,
          22,
          23,
          24,
          25,
          26,
          27,
          28,
          29,
          30,
          31,
          32,
          33,
          34,
          35,
          36,
          37,
          38,
          39,
          40,
          41,
          42,
          43,
          44,
          45,
          46,
          47,
          48,
          49,
          50,
          51,
          52,
          53,
          54,
          55,
          56,
          57,
          58,
          59,
          60,
          61,
          62,
          63,
          64,
          65,
          66,
          67,
          68,
          69,
          70,
          71,
          72,
          73,
          74,
          75,
          76,
          77,
          78,
          79,
          80,
          81,
          82,
          83,
          84,
          85,
          86,
          87,
          88,
          89,
          90,
          91,
          92,
          93,
          94,
          95,
          96,
          97,
          98,
          99,
          100,
          101,
          102,
          103,
          104,
          105,
          106,
          107,
          108,
          109,
          110,
          111,
          112,
          113,
          114,
          115,
          116,
          117,
          118,
          119,
          120,
          121,
          122,
          123,
          124,
          125,
          126,
          127,
          128,
          129,
          130,
          131,
          132,
          133,
          134,
          135,
          136,
          137,
          138,
          139,
          140,
          141,
          142,
          143,
          144,
          145,
          146,
          147,
          148,
          149,
          150,
          151,
          152,
          153,
          154,
          155,
          156,
          157,
          158,
          159,
          160,
          161,
          162,
          163,
          164,
          165,
          166,
          167,
          168,
          169,
          170,
          171,
          172,
          173,
          174,
          175,
          176,
          177,
          178,
          179,
          180,
          181,
          182,
          183,
          184,
          185,
          186,
          187,
          188,
          189,
          190,
          191,
          192,
          193,
          194,
          195,
          196,
          197,
          198,
          199,
          200,
          201,
          202,
          203,
          204,
          205,
          206,
          207,
          208,
          209,
          210,
          211,
          212,
          213,
          214,
          215,
          216,
          217,
          218,
          219,
          220,
          221,
          222,
          223,
          224,
          225,
          226,
          227,
          228,
          229,
          230,
          231,
          232,
          233,
          234,
          235,
          236,
          237
         ],
         "xaxis": "x",
         "y": [
          985,
          985,
          984.407,
          984.407,
          984.407,
          999.259,
          999.259,
          975.916,
          975.916,
          999.188,
          999.188,
          999.188,
          1014.21,
          1032.006,
          1017.926,
          1017.926,
          995.565,
          1019.643,
          1003.756,
          1003.756,
          989.816,
          989.816,
          975.256,
          975.256,
          998.189,
          998.189,
          982.529,
          982.529,
          982.529,
          982.529,
          982.529,
          982.529,
          982.529,
          1000.406,
          984.676,
          1006.857,
          1006.857,
          1006.857,
          984.571,
          1000.497,
          1000.497,
          1000.497,
          1015.903,
          1037.738,
          1037.738,
          1014.444,
          1014.444,
          1030.681,
          1046.193,
          1063.735,
          1077,
          1090.928,
          1090.928,
          1105.758,
          1116.366,
          1116.366,
          1116.366,
          1128.446,
          1112.738,
          1112.738,
          1124.412,
          1134.98,
          1134.98,
          1146.149,
          1146.149,
          1146.149,
          1146.149,
          1168.058,
          1168.058,
          1168.058,
          1177.187,
          1145.639,
          1155.872,
          1155.872,
          1155.872,
          1122.49,
          1100.973,
          1070.481,
          1070.481,
          1070.481,
          1070.481,
          1070.481,
          1045.005,
          1045.005,
          1045.005,
          1045.005,
          1019.688,
          995.308,
          995.308,
          972.708,
          972.708,
          972.708,
          972.708,
          957.698,
          957.698,
          957.698,
          957.698,
          957.698,
          939.279,
          939.279,
          960.927,
          983.413,
          983.413,
          999.096,
          999.457,
          999.457,
          999.457,
          1014.405,
          1014.405,
          998.665,
          998.665,
          998.665,
          998.665,
          971.19,
          952.106,
          980.349,
          965.328,
          949.294,
          949.294,
          949.294,
          973.841,
          973.841,
          996.485,
          996.485,
          974.494,
          1001.316,
          1001.316,
          1018.672,
          1018.672,
          1018.672,
          1032.726,
          1032.726,
          1032.726,
          1032.726,
          1049.093,
          1049.093,
          1049.093,
          1047.04,
          1064.142,
          1078.082,
          1050.602,
          1065.211,
          1042.476,
          1026.986,
          1008.565,
          990.377,
          1014.414,
          1014.414,
          1037.465,
          1014.63,
          1014.63,
          1014.63,
          1030.239,
          1044.168,
          1028.55,
          1028.55,
          1002.934,
          987.096,
          987.096,
          987.096,
          972.628,
          972.628,
          987.664,
          987.664,
          1002.019,
          989.754,
          974.427,
          964.022,
          964.022,
          964.022,
          942.526,
          927.16,
          909.453,
          898.382,
          881.042,
          866.847,
          866.847,
          866.847,
          857.199,
          857.199,
          885.927,
          885.927,
          916.37,
          903.928,
          932.679,
          932.679,
          932.679,
          961.463,
          961.463,
          977.449,
          960.076,
          960.076,
          987.309,
          987.309,
          987.309,
          987.309,
          969.884,
          955.289,
          955.289,
          981.374,
          959.504,
          959.504,
          959.504,
          943.967,
          943.967,
          932.151,
          932.151,
          932.151,
          932.151,
          957.446,
          957.446,
          957.568,
          957.568,
          980.119,
          962.888,
          962.888,
          947.865,
          963.115,
          963.115,
          963.115,
          963.115,
          949.244,
          975.565,
          975.565,
          958.036,
          958.036,
          942.422,
          927.695,
          914.721,
          914.721,
          902.69,
          933.433,
          959.976,
          959.976,
          959.976,
          944.597,
          944.597
         ],
         "yaxis": "y"
        },
        {
         "hovertemplate": "team=Rajasthan Royals<br>Match Number=%{x}<br>eloRating=%{y}<extra></extra>",
         "legendgroup": "Rajasthan Royals",
         "line": {
          "color": "#2ca02c",
          "dash": "solid"
         },
         "marker": {
          "symbol": "circle"
         },
         "mode": "lines",
         "name": "Rajasthan Royals",
         "showlegend": true,
         "type": "scattergl",
         "x": [
          1,
          2,
          3,
          4,
          5,
          6,
          7,
          8,
          9,
          10,
          11,
          12,
          13,
          14,
          15,
          16,
          17,
          18,
          19,
          20,
          21,
          22,
          23,
          24,
          25,
          26,
          27,
          28,
          29,
          30,
          31,
          32,
          33,
          34,
          35,
          36,
          37,
          38,
          39,
          40,
          41,
          42,
          43,
          44,
          45,
          46,
          47,
          48,
          49,
          50,
          51,
          52,
          53,
          54,
          55,
          56,
          57,
          58,
          59,
          60,
          61,
          62,
          63,
          64,
          65,
          66,
          67,
          68,
          69,
          70,
          71,
          72,
          73,
          74,
          75,
          76,
          77,
          78,
          79,
          80,
          81,
          82,
          83,
          84,
          85,
          86,
          87,
          88,
          89,
          90,
          91,
          92,
          93,
          94,
          95,
          96,
          97,
          98,
          99,
          100,
          101,
          102,
          103,
          104,
          105,
          106,
          107,
          108,
          109,
          110,
          111,
          112,
          113,
          114,
          115,
          116,
          117,
          118,
          119,
          120,
          121,
          122,
          123,
          124,
          125,
          126,
          127,
          128,
          129,
          130,
          131,
          132,
          133,
          134,
          135,
          136,
          137,
          138,
          139,
          140,
          141,
          142,
          143,
          144,
          145,
          146,
          147,
          148,
          149,
          150,
          151,
          152,
          153,
          154,
          155,
          156,
          157,
          158,
          159,
          160,
          161,
          162,
          163,
          164,
          165,
          166,
          167,
          168,
          169,
          170,
          171,
          172,
          173,
          174,
          175,
          176,
          177,
          178,
          179,
          180,
          181,
          182,
          183,
          184,
          185,
          186,
          187,
          188,
          189,
          190,
          191,
          192,
          193,
          194,
          195,
          196,
          197,
          198,
          199,
          200,
          201,
          202,
          203,
          204,
          205,
          206
         ],
         "xaxis": "x",
         "y": [
          985.647,
          971.266,
          971.266,
          971.266,
          971.859,
          955.929,
          980.989,
          980.989,
          966.137,
          988.08,
          970.964,
          995.493,
          995.493,
          995.493,
          995.493,
          1009.812,
          994.284,
          994.284,
          994.284,
          1016.609,
          991.929,
          991.929,
          973.882,
          973.882,
          973.882,
          973.882,
          958.782,
          958.782,
          941.947,
          966.967,
          966.967,
          989.253,
          989.253,
          1009.902,
          1009.902,
          994.496,
          977.682,
          960.723,
          960.723,
          943.236,
          943.236,
          943.236,
          943.236,
          964.992,
          964.992,
          942.309,
          942.309,
          957.5,
          957.5,
          972.266,
          972.266,
          959.179,
          959.179,
          944.174,
          958.355,
          940.863,
          919.149,
          919.149,
          919.149,
          904.48,
          885.94,
          885.94,
          885.94,
          885.94,
          907.658,
          907.658,
          898.529,
          898.529,
          929.021,
          943.121,
          943.121,
          943.121,
          943.121,
          959.123,
          959.123,
          959.123,
          988.277,
          988.277,
          973.674,
          973.674,
          997.574,
          983.413,
          1005.491,
          1005.491,
          1005.491,
          1005.491,
          1023.45,
          1023.45,
          1023.45,
          1023.45,
          1023.45,
          1023.45,
          1011.212,
          1011.212,
          996.246,
          996.246,
          996.246,
          1013.611,
          998.768,
          1025.296,
          1025.296,
          1025.296,
          1000.509,
          1023.489,
          1038.86,
          1038.86,
          1052.905,
          1067.541,
          1067.541,
          1083.967,
          1097.955,
          1097.955,
          1071.133,
          1071.133,
          1086.456,
          1086.456,
          1071.146,
          1045.543,
          1045.543,
          1021.229,
          1021.229,
          1021.229,
          1037.326,
          1037.326,
          1037.326,
          1013.3,
          1015.353,
          1031.556,
          1049.2,
          1033.151,
          1048.813,
          1043.613,
          1043.613,
          1043.613,
          1043.613,
          1043.613,
          1043.613,
          1028.742,
          1028.742,
          1028.742,
          1028.742,
          1013.133,
          1013.133,
          989.106,
          989.106,
          973.465,
          973.465,
          958.429,
          943.397,
          943.397,
          959.043,
          942.174,
          967.165,
          984.872,
          999.067,
          1014.079,
          998.337,
          998.337,
          998.337,
          1023.354,
          1023.354,
          1023.354,
          1040.727,
          1040.727,
          1062.549,
          1076.845,
          1091.678,
          1064.445,
          1038.36,
          1038.36,
          1053.897,
          1025.199,
          1005.037,
          990.301,
          974.099,
          1002.129,
          979.578,
          959.284,
          959.284,
          959.284,
          944.321,
          959.974,
          984.069,
          984.069,
          984.069,
          967.88,
          952.061,
          980.005,
          980.005,
          1002.012,
          1002.012,
          1025.986,
          1048.239,
          1061.278,
          1061.278,
          1073.309,
          1059.34,
          1033.863,
          1033.863,
          1033.863,
          1017.833,
          995.165,
          995.165,
          995.165,
          976.936,
          976.936
         ],
         "yaxis": "y"
        },
        {
         "hovertemplate": "team=Mumbai Indians<br>Match Number=%{x}<br>eloRating=%{y}<extra></extra>",
         "legendgroup": "Mumbai Indians",
         "line": {
          "color": "#d62728",
          "dash": "solid"
         },
         "marker": {
          "symbol": "circle"
         },
         "mode": "lines",
         "name": "Mumbai Indians",
         "showlegend": true,
         "type": "scattergl",
         "x": [
          1,
          2,
          3,
          4,
          5,
          6,
          7,
          8,
          9,
          10,
          11,
          12,
          13,
          14,
          15,
          16,
          17,
          18,
          19,
          20,
          21,
          22,
          23,
          24,
          25,
          26,
          27,
          28,
          29,
          30,
          31,
          32,
          33,
          34,
          35,
          36,
          37,
          38,
          39,
          40,
          41,
          42,
          43,
          44,
          45,
          46,
          47,
          48,
          49,
          50,
          51,
          52,
          53,
          54,
          55,
          56,
          57,
          58,
          59,
          60,
          61,
          62,
          63,
          64,
          65,
          66,
          67,
          68,
          69,
          70,
          71,
          72,
          73,
          74,
          75,
          76,
          77,
          78,
          79,
          80,
          81,
          82,
          83,
          84,
          85,
          86,
          87,
          88,
          89,
          90,
          91,
          92,
          93,
          94,
          95,
          96,
          97,
          98,
          99,
          100,
          101,
          102,
          103,
          104,
          105,
          106,
          107,
          108,
          109,
          110,
          111,
          112,
          113,
          114,
          115,
          116,
          117,
          118,
          119,
          120,
          121,
          122,
          123,
          124,
          125,
          126,
          127,
          128,
          129,
          130,
          131,
          132,
          133,
          134,
          135,
          136,
          137,
          138,
          139,
          140,
          141,
          142,
          143,
          144,
          145,
          146,
          147,
          148,
          149,
          150,
          151,
          152,
          153,
          154,
          155,
          156,
          157,
          158,
          159,
          160,
          161,
          162,
          163,
          164,
          165,
          166,
          167,
          168,
          169,
          170,
          171,
          172,
          173,
          174,
          175,
          176,
          177,
          178,
          179,
          180,
          181,
          182,
          183,
          184,
          185,
          186,
          187,
          188,
          189,
          190,
          191,
          192,
          193,
          194,
          195,
          196,
          197,
          198,
          199,
          200,
          201,
          202,
          203,
          204,
          205,
          206,
          207,
          208,
          209,
          210,
          211,
          212,
          213,
          214,
          215,
          216,
          217,
          218,
          219,
          220,
          221,
          222,
          223,
          224,
          225,
          226,
          227,
          228,
          229,
          230,
          231,
          232,
          233,
          234,
          235,
          236,
          237,
          238,
          239,
          240,
          241,
          242,
          243,
          244,
          245,
          246,
          247
         ],
         "xaxis": "x",
         "y": [
          1000,
          1000,
          985,
          966.723,
          950.29,
          950.29,
          950.29,
          966.22,
          948.47,
          931.415,
          956.136,
          940.628,
          963.971,
          987.911,
          1010.123,
          987.927,
          1003.852,
          1003.852,
          1021.531,
          1021.531,
          997.57,
          1013.098,
          1013.098,
          1013.067,
          993.176,
          979.006,
          1000.93,
          1015.89,
          1015.89,
          1015.89,
          1015.89,
          1015.89,
          1015.89,
          1015.89,
          1000.204,
          1030.917,
          1047.876,
          1047.876,
          1026.041,
          1026.041,
          1026.041,
          1026.041,
          1042.552,
          1042.552,
          1042.552,
          1027.04,
          999.032,
          984.202,
          984.202,
          984.202,
          984.202,
          1002.477,
          979.315,
          979.315,
          996.908,
          996.908,
          996.908,
          996.908,
          996.908,
          1014.041,
          1014.041,
          1028.71,
          1045.591,
          1045.591,
          1045.591,
          1020.067,
          1020.067,
          1020.067,
          1004.829,
          977.866,
          977.866,
          992.743,
          977.72,
          959.905,
          976.801,
          998.294,
          1012.184,
          1012.184,
          1012.184,
          1012.184,
          990.524,
          990.524,
          966.366,
          950.364,
          975.681,
          975.681,
          975.681,
          997.476,
          1012.079,
          996.019,
          996.019,
          996.019,
          996.019,
          996.019,
          1018.036,
          1018.036,
          1018.036,
          996.173,
          996.173,
          996.173,
          996.173,
          1016.85,
          994.504,
          994.504,
          994.504,
          994.504,
          994.504,
          1010.304,
          1010.304,
          1010.304,
          1010.304,
          1037.632,
          1054.999,
          1074.083,
          1074.083,
          1074.083,
          1074.083,
          1068.556,
          1038.506,
          1060.497,
          1046.509,
          1046.509,
          1046.509,
          1046.509,
          1063.16,
          1079.28,
          1079.28,
          1094.59,
          1108.362,
          1108.362,
          1108.362,
          1076.535,
          1090.182,
          1090.182,
          1063.983,
          1078.719,
          1078.719,
          1048.495,
          1032.833,
          1032.833,
          1054.877,
          1039.153,
          1039.153,
          1039.153,
          1054.467,
          1072.888,
          1047.015,
          1023.381,
          1023.381,
          1005.385,
          1005.385,
          991.456,
          991.456,
          1005.782,
          1005.782,
          1005.782,
          1020.019,
          1020.019,
          1020.019,
          999.412,
          999.412,
          999.412,
          999.412,
          1013.88,
          1013.88,
          1013.88,
          1013.88,
          1030.749,
          1005.758,
          982.168,
          997.495,
          1015.704,
          1017.311,
          1017.311,
          1038.141,
          1038.141,
          1038.141,
          1032.232,
          1015.288,
          1038.725,
          1054.503,
          1066.945,
          1038.194,
          1054.627,
          1073.875,
          1073.875,
          1073.875,
          1073.875,
          1089.131,
          1102.767,
          1102.767,
          1072.968,
          1058.135,
          1058.135,
          1058.135,
          1058.135,
          1032.283,
          1049.708,
          1049.708,
          1027.002,
          1027.002,
          1012.874,
          989.556,
          1014.067,
          991.999,
          991.999,
          1007.808,
          1029.231,
          1045.87,
          1022.378,
          1042.54,
          1026.821,
          1026.821,
          1012.327,
          1012.327,
          1034.529,
          1034.529,
          1019.6,
          1019.6,
          1019.6,
          1019.6,
          1019.6,
          1019.6,
          1002.348,
          1002.348,
          1002.348,
          1002.348,
          1002.348,
          1002.348,
          1018.708,
          1018.708,
          1018.708,
          1036.237,
          1036.237,
          1036.237,
          1036.237,
          1036.237,
          1050.964,
          1050.964,
          1026.803,
          1026.803,
          1041.721,
          1041.721,
          1041.721,
          1041.721,
          1041.721,
          1057.1
         ],
         "yaxis": "y"
        },
        {
         "hovertemplate": "team=Delhi Capitals<br>Match Number=%{x}<br>eloRating=%{y}<extra></extra>",
         "legendgroup": "Delhi Capitals",
         "line": {
          "color": "#9467bd",
          "dash": "solid"
         },
         "marker": {
          "symbol": "circle"
         },
         "mode": "lines",
         "name": "Delhi Capitals",
         "showlegend": true,
         "type": "scattergl",
         "x": [
          1,
          2,
          3,
          4,
          5,
          6,
          7,
          8,
          9,
          10,
          11,
          12,
          13,
          14,
          15,
          16,
          17,
          18,
          19,
          20,
          21,
          22,
          23,
          24,
          25,
          26,
          27,
          28,
          29,
          30,
          31,
          32,
          33,
          34,
          35,
          36,
          37,
          38,
          39,
          40,
          41,
          42,
          43,
          44,
          45,
          46,
          47,
          48,
          49,
          50,
          51,
          52,
          53,
          54,
          55,
          56,
          57,
          58,
          59,
          60,
          61,
          62,
          63,
          64,
          65,
          66,
          67,
          68,
          69,
          70,
          71,
          72,
          73,
          74,
          75,
          76,
          77,
          78,
          79,
          80,
          81,
          82,
          83,
          84,
          85,
          86,
          87,
          88,
          89,
          90,
          91,
          92,
          93,
          94,
          95,
          96,
          97,
          98,
          99,
          100,
          101,
          102,
          103,
          104,
          105,
          106,
          107,
          108,
          109,
          110,
          111,
          112,
          113,
          114,
          115,
          116,
          117,
          118,
          119,
          120,
          121,
          122,
          123,
          124,
          125,
          126,
          127,
          128,
          129,
          130,
          131,
          132,
          133,
          134,
          135,
          136,
          137,
          138,
          139,
          140,
          141,
          142,
          143,
          144,
          145,
          146,
          147,
          148,
          149,
          150,
          151,
          152,
          153,
          154,
          155,
          156,
          157,
          158,
          159,
          160,
          161,
          162,
          163,
          164,
          165,
          166,
          167,
          168,
          169,
          170,
          171,
          172,
          173,
          174,
          175,
          176,
          177,
          178,
          179,
          180,
          181,
          182,
          183,
          184,
          185,
          186,
          187,
          188,
          189,
          190,
          191,
          192,
          193,
          194,
          195,
          196,
          197,
          198,
          199,
          200,
          201,
          202,
          203,
          204,
          205,
          206,
          207,
          208,
          209,
          210,
          211,
          212,
          213,
          214,
          215,
          216,
          217,
          218,
          219,
          220,
          221,
          222,
          223,
          224,
          225,
          226,
          227,
          228,
          229,
          230,
          231,
          232,
          233,
          234,
          235,
          236,
          237,
          238
         ],
         "xaxis": "x",
         "y": [
          1000,
          1000,
          1000,
          1015,
          1015,
          1015,
          1015,
          1015,
          1030.247,
          1014.944,
          1014.944,
          1014.944,
          1037.276,
          1037.276,
          1037.276,
          1037.276,
          1053.332,
          1053.332,
          1067.412,
          1043.334,
          1021.164,
          1036.445,
          1036.445,
          1036.445,
          1013.505,
          1014.227,
          1014.227,
          1014.227,
          1014.227,
          1031.062,
          1006.042,
          990.116,
          990.116,
          990.116,
          990.116,
          1004.618,
          1004.618,
          1022.105,
          997.997,
          997.997,
          997.997,
          982.508,
          982.508,
          968.095,
          968.095,
          954.167,
          954.167,
          935.892,
          921.791,
          921.791,
          906.233,
          906.233,
          906.233,
          929.886,
          929.886,
          948.426,
          963.805,
          952.298,
          952.298,
          952.298,
          930.804,
          915.862,
          894.144,
          878.585,
          905.548,
          888.652,
          888.652,
          874.762,
          908.144,
          908.144,
          908.144,
          894.044,
          917.232,
          917.232,
          941.39,
          925.757,
          949.876,
          949.876,
          972.476,
          972.476,
          972.476,
          972.476,
          987.486,
          1003.546,
          1017.619,
          1017.02,
          1031.181,
          1031.181,
          1009.164,
          1009.164,
          985.586,
          985.586,
          985.586,
          985.586,
          1007.449,
          1007.449,
          1007.449,
          1007.088,
          1007.088,
          994.473,
          983.077,
          998.098,
          998.098,
          1017.247,
          1017.247,
          1017.247,
          1032.09,
          1032.09,
          1032.09,
          1032.09,
          1016.719,
          1002.674,
          1002.674,
          987.781,
          987.781,
          971.13,
          971.13,
          971.13,
          996.733,
          982.679,
          968.907,
          968.907,
          952.54,
          952.54,
          952.54,
          936.443,
          954.615,
          939.587,
          962.225,
          948.578,
          948.578,
          948.578,
          948.578,
          932.375,
          932.375,
          932.375,
          919.168,
          919.168,
          919.168,
          942.763,
          928.946,
          928.946,
          928.946,
          928.946,
          928.946,
          950.97,
          950.97,
          975.844,
          961.518,
          961.518,
          943.362,
          943.362,
          928.29,
          928.29,
          928.29,
          928.29,
          928.29,
          953.906,
          953.906,
          969.767,
          954.259,
          970.089,
          970.089,
          958.811,
          937.981,
          959.477,
          944.874,
          962.214,
          986.937,
          1014.964,
          1010.38,
          1035.785,
          1035.785,
          1035.785,
          1035.785,
          1019.714,
          990.986,
          990.986,
          975.554,
          975.554,
          959.121,
          943.748,
          930.591,
          916.542,
          946.341,
          931.12,
          931.12,
          931.12,
          931.12,
          954.693,
          954.693,
          978.011,
          978.011,
          1000.079,
          1000.079,
          1000.079,
          984.572,
          1008.064,
          1008.064,
          1026.371,
          1001.076,
          1028.647,
          1051.203,
          1051.203,
          1066.226,
          1066.226,
          1066.226,
          1051.987,
          1051.987,
          1067.633,
          1067.633,
          1067.633,
          1084.885,
          1084.885,
          1084.885,
          1084.885,
          1062.951,
          1036.63,
          1014.988,
          1014.988,
          992.981,
          992.981,
          992.981,
          976.544,
          976.544,
          976.544,
          976.544,
          961.698,
          961.698,
          961.698,
          987.175,
          971.2,
          993.868,
          993.868,
          981.182,
          981.182,
          996.838,
          996.838
         ],
         "yaxis": "y"
        },
        {
         "hovertemplate": "team=Punjab Kings<br>Match Number=%{x}<br>eloRating=%{y}<extra></extra>",
         "legendgroup": "Punjab Kings",
         "line": {
          "color": "#8c564b",
          "dash": "solid"
         },
         "marker": {
          "symbol": "circle"
         },
         "mode": "lines",
         "name": "Punjab Kings",
         "showlegend": true,
         "type": "scattergl",
         "x": [
          1,
          2,
          3,
          4,
          5,
          6,
          7,
          8,
          9,
          10,
          11,
          12,
          13,
          14,
          15,
          16,
          17,
          18,
          19,
          20,
          21,
          22,
          23,
          24,
          25,
          26,
          27,
          28,
          29,
          30,
          31,
          32,
          33,
          34,
          35,
          36,
          37,
          38,
          39,
          40,
          41,
          42,
          43,
          44,
          45,
          46,
          47,
          48,
          49,
          50,
          51,
          52,
          53,
          54,
          55,
          56,
          57,
          58,
          59,
          60,
          61,
          62,
          63,
          64,
          65,
          66,
          67,
          68,
          69,
          70,
          71,
          72,
          73,
          74,
          75,
          76,
          77,
          78,
          79,
          80,
          81,
          82,
          83,
          84,
          85,
          86,
          87,
          88,
          89,
          90,
          91,
          92,
          93,
          94,
          95,
          96,
          97,
          98,
          99,
          100,
          101,
          102,
          103,
          104,
          105,
          106,
          107,
          108,
          109,
          110,
          111,
          112,
          113,
          114,
          115,
          116,
          117,
          118,
          119,
          120,
          121,
          122,
          123,
          124,
          125,
          126,
          127,
          128,
          129,
          130,
          131,
          132,
          133,
          134,
          135,
          136,
          137,
          138,
          139,
          140,
          141,
          142,
          143,
          144,
          145,
          146,
          147,
          148,
          149,
          150,
          151,
          152,
          153,
          154,
          155,
          156,
          157,
          158,
          159,
          160,
          161,
          162,
          163,
          164,
          165,
          166,
          167,
          168,
          169,
          170,
          171,
          172,
          173,
          174,
          175,
          176,
          177,
          178,
          179,
          180,
          181,
          182,
          183,
          184,
          185,
          186,
          187,
          188,
          189,
          190,
          191,
          192,
          193,
          194,
          195,
          196,
          197,
          198,
          199,
          200,
          201,
          202,
          203,
          204,
          205,
          206,
          207,
          208,
          209,
          210,
          211,
          212,
          213,
          214,
          215,
          216,
          217,
          218,
          219,
          220,
          221,
          222,
          223,
          224,
          225,
          226,
          227,
          228,
          229,
          230,
          231,
          232
         ],
         "xaxis": "x",
         "y": [
          1000,
          1015,
          1033.277,
          1033.277,
          1033.277,
          1033.277,
          1033.277,
          1010.005,
          1010.005,
          1010.005,
          1010.005,
          994.758,
          979.702,
          965.383,
          967.853,
          967.853,
          951.797,
          951.797,
          951.797,
          975.758,
          975.758,
          957.962,
          941.127,
          923.621,
          949.64,
          933.778,
          958.458,
          958.458,
          958.458,
          958.458,
          983.487,
          983.487,
          983.487,
          983.487,
          983.487,
          999.217,
          999.217,
          978.573,
          978.573,
          978.573,
          964.071,
          941.981,
          941.981,
          941.981,
          941.981,
          941.981,
          941.981,
          928.716,
          918.108,
          940.791,
          956.734,
          956.734,
          970.835,
          958.755,
          958.755,
          947.081,
          970.243,
          970.243,
          959.074,
          974.079,
          974.079,
          974.079,
          974.079,
          957.198,
          957.198,
          957.198,
          941.819,
          941.819,
          926.293,
          926.293,
          947.787,
          932.137,
          947.079,
          972.603,
          988.162,
          988.162,
          988.162,
          988.162,
          988.162,
          972.865,
          972.865,
          972.865,
          972.865,
          972.865,
          972.865,
          998.341,
          998.341,
          998.341,
          998.341,
          974.222,
          974.222,
          958.898,
          976.652,
          976.652,
          976.652,
          999.507,
          985.228,
          985.228,
          985.228,
          1003.647,
          1003.647,
          989.899,
          989.899,
          989.899,
          989.899,
          989.899,
          989.899,
          989.899,
          989.899,
          989.899,
          989.899,
          975.504,
          975.504,
          975.504,
          975.504,
          981.031,
          981.031,
          1003.687,
          1003.687,
          1003.687,
          1003.687,
          981.421,
          981.421,
          981.421,
          981.421,
          981.421,
          966.417,
          990.443,
          990.443,
          972.799,
          956.356,
          956.356,
          956.356,
          956.356,
          956.356,
          956.356,
          961.556,
          987.278,
          987.278,
          987.278,
          964.227,
          942.203,
          942.203,
          966.23,
          948.878,
          972.182,
          972.182,
          988.103,
          988.103,
          973.866,
          973.866,
          958.005,
          958.005,
          973.513,
          957.683,
          957.683,
          972.715,
          972.715,
          958.36,
          942.714,
          942.714,
          966.304,
          948.095,
          932.627,
          964.365,
          948.645,
          948.645,
          933.897,
          938.481,
          967.287,
          952.33,
          952.33,
          952.33,
          952.33,
          952.33,
          981.553,
          1007.114,
          1007.114,
          1007.114,
          989.865,
          974.609,
          960.973,
          986.33,
          969.99,
          984.919,
          1009.557,
          1009.557,
          1009.557,
          1024.911,
          1047.232,
          1061.36,
          1079.48,
          1079.48,
          1094.987,
          1106.803,
          1124.994,
          1124.994,
          1124.994,
          1124.994,
          1139.488,
          1111.917,
          1121.901,
          1093.871,
          1068.986,
          1068.986,
          1083.86,
          1098.099,
          1098.099,
          1098.099,
          1098.099,
          1070.155,
          1070.155,
          1070.155,
          1055.542,
          1071.979,
          1048.005,
          1030.622,
          1055.174,
          1068.148,
          1068.148,
          1068.148,
          1082.994,
          1060.704,
          1075.034,
          1051.436,
          1024.893,
          1009.975,
          1009.975,
          1026.005,
          1026.005,
          1026.005,
          1044.234
         ],
         "yaxis": "y"
        },
        {
         "hovertemplate": "team=Kochi Tuskers Kerala<br>Match Number=%{x}<br>eloRating=%{y}<extra></extra>",
         "legendgroup": "Kochi Tuskers Kerala",
         "line": {
          "color": "#585858",
          "dash": "solid"
         },
         "marker": {
          "symbol": "circle"
         },
         "mode": "lines",
         "name": "Kochi Tuskers Kerala",
         "showlegend": true,
         "type": "scattergl",
         "x": [
          1,
          2,
          3,
          4,
          5,
          6,
          7,
          8,
          9,
          10,
          11,
          12,
          13,
          14
         ],
         "xaxis": "x",
         "y": [
          1014.381,
          1014.381,
          1014.381,
          1028.36,
          1042.3,
          1042.3,
          1042.3,
          1042.3,
          1018.4,
          991.149,
          991.149,
          975.623,
          975.623,
          962.662
         ],
         "yaxis": "y"
        },
        {
         "hovertemplate": "team=Royal Challengers Bangalore<br>Match Number=%{x}<br>eloRating=%{y}<extra></extra>",
         "legendgroup": "Royal Challengers Bangalore",
         "line": {
          "color": "#e377c2",
          "dash": "solid"
         },
         "marker": {
          "symbol": "circle"
         },
         "mode": "lines",
         "name": "Royal Challengers Bangalore",
         "showlegend": true,
         "type": "scattergl",
         "x": [
          1,
          2,
          3,
          4,
          5,
          6,
          7,
          8,
          9,
          10,
          11,
          12,
          13,
          14,
          15,
          16,
          17,
          18,
          19,
          20,
          21,
          22,
          23,
          24,
          25,
          26,
          27,
          28,
          29,
          30,
          31,
          32,
          33,
          34,
          35,
          36,
          37,
          38,
          39,
          40,
          41,
          42,
          43,
          44,
          45,
          46,
          47,
          48,
          49,
          50,
          51,
          52,
          53,
          54,
          55,
          56,
          57,
          58,
          59,
          60,
          61,
          62,
          63,
          64,
          65,
          66,
          67,
          68,
          69,
          70,
          71,
          72,
          73,
          74,
          75,
          76,
          77,
          78,
          79,
          80,
          81,
          82,
          83,
          84,
          85,
          86,
          87,
          88,
          89,
          90,
          91,
          92,
          93,
          94,
          95,
          96,
          97,
          98,
          99,
          100,
          101,
          102,
          103,
          104,
          105,
          106,
          107,
          108,
          109,
          110,
          111,
          112,
          113,
          114,
          115,
          116,
          117,
          118,
          119,
          120,
          121,
          122,
          123,
          124,
          125,
          126,
          127,
          128,
          129,
          130,
          131,
          132,
          133,
          134,
          135,
          136,
          137,
          138,
          139,
          140,
          141,
          142,
          143,
          144,
          145,
          146,
          147,
          148,
          149,
          150,
          151,
          152,
          153,
          154,
          155,
          156,
          157,
          158,
          159,
          160,
          161,
          162,
          163,
          164,
          165,
          166,
          167,
          168,
          169,
          170,
          171,
          172,
          173,
          174,
          175,
          176,
          177,
          178,
          179,
          180,
          181,
          182,
          183,
          184,
          185,
          186,
          187,
          188,
          189,
          190,
          191,
          192,
          193,
          194,
          195,
          196,
          197,
          198,
          199,
          200,
          201,
          202,
          203,
          204,
          205,
          206,
          207,
          208,
          209,
          210,
          211,
          212,
          213,
          214,
          215,
          216,
          217,
          218,
          219,
          220,
          221,
          222,
          223,
          224,
          225,
          226,
          227,
          228,
          229,
          230,
          231,
          232,
          233,
          234,
          235,
          236,
          237,
          238,
          239,
          240
         ],
         "xaxis": "x",
         "y": [
          1000,
          1000,
          1015,
          990.279,
          971.817,
          971.817,
          994.013,
          994.013,
          1015.479,
          1015.479,
          1015.479,
          1015.479,
          1015.479,
          1031.514,
          1005.495,
          1027.665,
          1012.384,
          1012.415,
          1026.585,
          1026.585,
          1003.652,
          982.901,
          998.561,
          998.561,
          998.561,
          998.561,
          980.339,
          980.339,
          963.963,
          979.981,
          979.981,
          979.981,
          979.981,
          1003.275,
          1003.275,
          1003.275,
          985.733,
          985.733,
          962.667,
          962.667,
          962.667,
          946.724,
          931.533,
          931.533,
          931.533,
          931.533,
          961.763,
          946.476,
          935.908,
          935.908,
          935.908,
          935.908,
          925.195,
          911.014,
          932.728,
          932.728,
          932.728,
          932.728,
          932.728,
          948.378,
          948.378,
          948.378,
          948.378,
          948.378,
          948.378,
          979.926,
          1002.777,
          1002.777,
          981.284,
          996.581,
          996.581,
          996.581,
          983.279,
          1004.939,
          1026.587,
          1026.587,
          1026.587,
          1026.587,
          1026.587,
          1026.587,
          1003.732,
          1004.331,
          1004.331,
          981.845,
          981.845,
          981.845,
          969.881,
          984.847,
          999.243,
          983.56,
          983.56,
          968.539,
          950.206,
          950.206,
          932.841,
          955.948,
          955.948,
          955.948,
          941.35,
          957.384,
          957.384,
          957.384,
          942.748,
          928.169,
          928.169,
          928.169,
          928.169,
          928.169,
          928.169,
          928.169,
          955.107,
          937.751,
          920.535,
          943.856,
          969.411,
          993.725,
          993.725,
          978.828,
          978.828,
          978.828,
          1005.027,
          1005.027,
          1005.027,
          1005.027,
          1035.251,
          1035.251,
          1051.694,
          1073.276,
          1091.545,
          1091.545,
          1091.545,
          1091.545,
          1068.651,
          1083.066,
          1055.265,
          1068.472,
          1046.428,
          1046.428,
          1031.114,
          1046.604,
          1046.604,
          1061.475,
          1037.438,
          1037.438,
          1012.982,
          1012.982,
          1012.982,
          1012.982,
          1012.982,
          1037.37,
          1012.496,
          1012.496,
          1012.496,
          1029.848,
          1029.848,
          1045.466,
          1045.466,
          1024.521,
          1024.521,
          1024.521,
          1024.521,
          1039.887,
          1055.607,
          1055.607,
          1070.21,
          1070.21,
          1070.21,
          1085.736,
          1102.68,
          1073.874,
          1089.193,
          1104.935,
          1121.006,
          1121.006,
          1141.826,
          1156.775,
          1156.775,
          1125.628,
          1096.405,
          1067.621,
          1067.621,
          1080.778,
          1080.778,
          1055.217,
          1055.217,
          1072.466,
          1050.644,
          1066.984,
          1066.984,
          1042.346,
          1042.346,
          1042.346,
          1042.346,
          1054.801,
          1069.296,
          1044.785,
          1044.785,
          1058.927,
          1058.927,
          1075.284,
          1057.093,
          1057.093,
          1057.093,
          1073.295,
          1073.295,
          1050.739,
          1050.739,
          1028.537,
          1045.768,
          1045.768,
          1066.062,
          1051.188,
          1051.188,
          1051.188,
          1051.188,
          1051.188,
          1051.188,
          1051.188,
          1051.188,
          1051.188,
          1073.122,
          1086.993,
          1065.295,
          1065.295,
          1043.042,
          1043.042,
          1065.332,
          1065.332,
          1065.332,
          1058.065,
          1074.04,
          1074.04,
          1086.701,
          1115.297,
          1115.297,
          1115.297,
          1115.297,
          1115.297,
          1131.352,
          1116.023
         ],
         "yaxis": "y"
        },
        {
         "hovertemplate": "team=Sunrisers Hyderabad<br>Match Number=%{x}<br>eloRating=%{y}<extra></extra>",
         "legendgroup": "Sunrisers Hyderabad",
         "line": {
          "color": "#7f7f7f",
          "dash": "solid"
         },
         "marker": {
          "symbol": "circle"
         },
         "mode": "lines",
         "name": "Sunrisers Hyderabad",
         "showlegend": true,
         "type": "scattergl",
         "x": [
          1,
          2,
          3,
          4,
          5,
          6,
          7,
          8,
          9,
          10,
          11,
          12,
          13,
          14,
          15,
          16,
          17,
          18,
          19,
          20,
          21,
          22,
          23,
          24,
          25,
          26,
          27,
          28,
          29,
          30,
          31,
          32,
          33,
          34,
          35,
          36,
          37,
          38,
          39,
          40,
          41,
          42,
          43,
          44,
          45,
          46,
          47,
          48,
          49,
          50,
          51,
          52,
          53,
          54,
          55,
          56,
          57,
          58,
          59,
          60,
          61,
          62,
          63,
          64,
          65,
          66,
          67,
          68,
          69,
          70,
          71,
          72,
          73,
          74,
          75,
          76,
          77,
          78,
          79,
          80,
          81,
          82,
          83,
          84,
          85,
          86,
          87,
          88,
          89,
          90,
          91,
          92,
          93,
          94,
          95,
          96,
          97,
          98,
          99,
          100,
          101,
          102,
          103,
          104,
          105,
          106,
          107,
          108,
          109,
          110,
          111,
          112,
          113,
          114,
          115,
          116,
          117,
          118,
          119,
          120,
          121,
          122,
          123,
          124,
          125,
          126,
          127,
          128,
          129,
          130,
          131,
          132,
          133,
          134,
          135,
          136,
          137,
          138,
          139,
          140,
          141,
          142,
          143,
          144,
          145,
          146,
          147,
          148,
          149,
          150,
          151,
          152,
          153,
          154,
          155,
          156,
          157,
          158,
          159,
          160,
          161,
          162,
          163,
          164,
          165,
          166
         ],
         "xaxis": "x",
         "y": [
          1000,
          1017.055,
          1035.517,
          1035.517,
          1051.025,
          1026.496,
          1004.284,
          1004.284,
          1019.531,
          998.065,
          998.065,
          1013.409,
          1030.244,
          1030.244,
          1030.244,
          1029.522,
          1029.522,
          1047.744,
          1022.715,
          1022.715,
          1022.715,
          1000.534,
          1000.534,
          979.885,
          979.885,
          979.885,
          964.804,
          964.804,
          948.293,
          948.293,
          932.056,
          955.122,
          955.122,
          955.122,
          970.409,
          970.409,
          970.409,
          946.756,
          929.623,
          929.623,
          945.149,
          975.012,
          975.012,
          960.135,
          960.135,
          960.135,
          949.902,
          949.902,
          949.902,
          949.902,
          949.902,
          926.714,
          926.714,
          926.714,
          942.347,
          966.727,
          982.051,
          982.051,
          982.051,
          982.051,
          982.051,
          967.978,
          946.33,
          969.908,
          969.908,
          951.949,
          969.091,
          954.125,
          975.906,
          998.252,
          983.304,
          964.155,
          964.155,
          991.63,
          974.263,
          956.483,
          956.483,
          940.485,
          965.272,
          965.272,
          979.87,
          994.891,
          994.891,
          994.891,
          994.891,
          978.771,
          955.45,
          955.45,
          955.45,
          941.51,
          941.51,
          968.99,
          954.575,
          939.966,
          967.767,
          967.767,
          967.767,
          967.767,
          993.64,
          993.64,
          993.64,
          993.64,
          1011.796,
          1011.796,
          1011.796,
          1028.206,
          1028.206,
          1028.206,
          1043.674,
          1042.067,
          1056.815,
          1056.815,
          1071.772,
          1071.772,
          1071.772,
          1071.772,
          1071.772,
          1087.204,
          1087.204,
          1056.761,
          1040.983,
          1040.983,
          1056.356,
          1056.356,
          1056.356,
          1030.999,
          1046.22,
          1031.924,
          1017.757,
          1002.403,
          1025.109,
          1025.109,
          1046.979,
          1024.886,
          1024.886,
          1010.744,
          994.935,
          978.578,
          960.271,
          960.271,
          960.271,
          960.149,
          960.149,
          960.149,
          960.149,
          975.112,
          959.466,
          943.813,
          943.813,
          943.813,
          943.813,
          943.813,
          943.813,
          943.813,
          943.813,
          959.427,
          959.427,
          959.427,
          945.097,
          945.097,
          933.05,
          940.317,
          927.656,
          918.035,
          901.56,
          901.56
         ],
         "yaxis": "y"
        },
        {
         "hovertemplate": "team=Gujarat Titans<br>Match Number=%{x}<br>eloRating=%{y}<extra></extra>",
         "legendgroup": "Gujarat Titans",
         "line": {
          "color": "#bcbd22",
          "dash": "solid"
         },
         "marker": {
          "symbol": "circle"
         },
         "mode": "lines",
         "name": "Gujarat Titans",
         "showlegend": true,
         "type": "scattergl",
         "x": [
          1,
          2,
          3,
          4,
          5,
          6,
          7,
          8,
          9,
          10,
          11,
          12,
          13,
          14,
          15,
          16,
          17,
          18,
          19,
          20,
          21,
          22,
          23,
          24,
          25,
          26,
          27,
          28,
          29,
          30,
          31,
          32,
          33
         ],
         "xaxis": "x",
         "y": [
          1000,
          1000,
          1000,
          1000,
          1000,
          985.04,
          985.04,
          1013.048,
          1013.048,
          1013.048,
          1013.048,
          997.248,
          1012.988,
          1030.768,
          1030.768,
          1030.768,
          1030.768,
          1030.768,
          1045.84,
          1045.84,
          1021.117,
          1021.117,
          1021.117,
          1021.117,
          1036.168,
          1036.168,
          1051.097,
          1051.097,
          1067.286,
          1085.13,
          1085.13,
          1066.469,
          1084.687
         ],
         "yaxis": "y"
        },
        {
         "hovertemplate": "team=Rising Pune Supergiants<br>Match Number=%{x}<br>eloRating=%{y}<extra></extra>",
         "legendgroup": "Rising Pune Supergiants",
         "line": {
          "color": "#707070",
          "dash": "solid"
         },
         "marker": {
          "symbol": "circle"
         },
         "mode": "lines",
         "name": "Rising Pune Supergiants",
         "showlegend": true,
         "type": "scattergl",
         "x": [
          1,
          2,
          3,
          4,
          5,
          6,
          7,
          8,
          9,
          10,
          11,
          12,
          13,
          14,
          15,
          16,
          17,
          18,
          19,
          20,
          21,
          22,
          23,
          24,
          25,
          26,
          27,
          28,
          29,
          30
         ],
         "xaxis": "x",
         "y": [
          985,
          985,
          1007.94,
          1007.94,
          1007.94,
          1007.94,
          1007.94,
          1007.94,
          1007.94,
          987.263,
          987.263,
          964.156,
          964.156,
          964.156,
          986.422,
          1003.638,
          981.33,
          996.334,
          996.334,
          979.232,
          993.533,
          977.612,
          977.612,
          977.612,
          977.612,
          977.612,
          1001.773,
          979.914,
          996.389,
          980.733
         ],
         "yaxis": "y"
        },
        {
         "hovertemplate": "team=Pune Warriors<br>Match Number=%{x}<br>eloRating=%{y}<extra></extra>",
         "legendgroup": "Pune Warriors",
         "line": {
          "color": "#888888",
          "dash": "solid"
         },
         "marker": {
          "symbol": "circle"
         },
         "mode": "lines",
         "name": "Pune Warriors",
         "showlegend": true,
         "type": "scattergl",
         "x": [
          1,
          2,
          3,
          4,
          5,
          6,
          7,
          8,
          9,
          10,
          11,
          12,
          13,
          14,
          15,
          16,
          17,
          18,
          19,
          20,
          21,
          22,
          23,
          24,
          25,
          26,
          27,
          28,
          29,
          30,
          31,
          32,
          33,
          34,
          35,
          36,
          37,
          38,
          39,
          40,
          41,
          42,
          43,
          44,
          45,
          46
         ],
         "xaxis": "x",
         "y": [
          1000,
          978.057,
          963.357,
          963.357,
          945.678,
          929.643,
          945.505,
          927.628,
          949.718,
          973.826,
          973.826,
          952.07,
          937.304,
          919.711,
          919.711,
          919.711,
          919.711,
          919.711,
          901.957,
          901.957,
          901.957,
          884.815,
          870.419,
          904.6,
          904.6,
          904.6,
          904.6,
          886.428,
          913.679,
          913.679,
          913.679,
          913.679,
          913.679,
          913.679,
          913.679,
          913.679,
          904.466,
          904.466,
          904.466,
          892.011,
          920.709,
          910.725,
          910.725,
          910.725,
          900.063,
          900.063
         ],
         "yaxis": "y"
        },
        {
         "hovertemplate": "team=Deccan Chargers<br>Match Number=%{x}<br>eloRating=%{y}<extra></extra>",
         "legendgroup": "Deccan Chargers",
         "line": {
          "color": "#585858",
          "dash": "solid"
         },
         "marker": {
          "symbol": "circle"
         },
         "mode": "lines",
         "name": "Deccan Chargers",
         "showlegend": true,
         "type": "scattergl",
         "x": [
          1,
          2,
          3,
          4,
          5,
          6,
          7,
          8,
          9,
          10,
          11,
          12,
          13,
          14,
          15,
          16,
          17,
          18,
          19,
          20,
          21,
          22,
          23,
          24,
          25,
          26,
          27,
          28,
          29,
          30,
          31,
          32,
          33,
          34,
          35,
          36,
          37,
          38,
          39,
          40,
          41,
          42,
          43,
          44,
          45,
          46,
          47,
          48,
          49,
          50,
          51,
          52,
          53,
          54,
          55,
          56,
          57,
          58,
          59,
          60,
          61,
          62,
          63,
          64,
          65,
          66,
          67,
          68,
          69,
          70,
          71,
          72,
          73,
          74,
          75
         ],
         "xaxis": "x",
         "y": [
          1000,
          985,
          999.7,
          999.7,
          999.7,
          984.678,
          984.678,
          1002.184,
          1002.184,
          1002.184,
          987.58,
          987.58,
          987.58,
          971.562,
          986.662,
          986.662,
          986.662,
          1002.151,
          1002.151,
          1002.151,
          1019.643,
          1019.643,
          1019.643,
          1019.643,
          1019.643,
          1019.643,
          1019.643,
          1019.643,
          1019.643,
          997.565,
          997.565,
          997.565,
          1015.898,
          1015.898,
          1015.898,
          1039.329,
          1039.329,
          1039.329,
          1039.329,
          1039.329,
          1053.908,
          1026.97,
          1003.89,
          1003.89,
          982.308,
          982.308,
          982.308,
          958.713,
          983.169,
          1006.803,
          983.499,
          999.337,
          999.337,
          984.325,
          984.325,
          984.325,
          984.325,
          968.339,
          953.41,
          979.262,
          993.857,
          970.284,
          970.284,
          953.645,
          953.645,
          953.645,
          953.645,
          938.395,
          938.395,
          938.395,
          922.035,
          908.996,
          908.996,
          898.136,
          887.053
         ],
         "yaxis": "y"
        },
        {
         "hovertemplate": "team=Lucknow Super Giants<br>Match Number=%{x}<br>eloRating=%{y}<extra></extra>",
         "legendgroup": "Lucknow Super Giants",
         "line": {
          "color": "#17becf",
          "dash": "solid"
         },
         "marker": {
          "symbol": "circle"
         },
         "mode": "lines",
         "name": "Lucknow Super Giants",
         "showlegend": true,
         "type": "scattergl",
         "x": [
          1,
          2,
          3,
          4,
          5,
          6,
          7,
          8,
          9,
          10,
          11,
          12,
          13,
          14,
          15,
          16,
          17,
          18,
          19,
          20,
          21,
          22,
          23,
          24,
          25,
          26,
          27,
          28,
          29,
          30
         ],
         "xaxis": "x",
         "y": [
          1000,
          1015.686,
          1000.263,
          1015.821,
          1033.636,
          1011.988,
          1026.954,
          1042.952,
          1042.952,
          1042.952,
          1017.397,
          1017.397,
          1040.132,
          1058.32,
          1076.316,
          1076.316,
          1087.387,
          1062.37,
          1041.55,
          1022.302,
          1022.302,
          1007.251,
          1032.136,
          1008.041,
          1008.041,
          1029.683,
          1011.839,
          1035.437,
          1035.437,
          1017.219
         ],
         "yaxis": "y"
        },
        {
         "hovertemplate": "team=Gujarat Lions<br>Match Number=%{x}<br>eloRating=%{y}<extra></extra>",
         "legendgroup": "Gujarat Lions",
         "line": {
          "color": "#404040",
          "dash": "solid"
         },
         "marker": {
          "symbol": "circle"
         },
         "mode": "lines",
         "name": "Gujarat Lions",
         "showlegend": true,
         "type": "scattergl",
         "x": [
          1,
          2,
          3,
          4,
          5,
          6,
          7,
          8,
          9,
          10,
          11,
          12,
          13,
          14,
          15,
          16,
          17,
          18,
          19,
          20,
          21,
          22,
          23,
          24,
          25,
          26,
          27,
          28,
          29,
          30
         ],
         "xaxis": "x",
         "y": [
          1000,
          1014.56,
          1014.56,
          1014.56,
          1014.56,
          1014.56,
          1014.56,
          1014.56,
          1014.56,
          1029.798,
          1029.798,
          1006.947,
          985.152,
          985.152,
          963.371,
          963.371,
          963.371,
          963.371,
          985.679,
          963.041,
          948.74,
          932.33,
          932.33,
          938.239,
          938.239,
          969.386,
          969.386,
          969.386,
          991.245,
          991.245
         ],
         "yaxis": "y"
        }
       ],
       "layout": {
        "legend": {
         "title": {
          "text": "team"
         },
         "tracegroupgap": 0
        },
        "template": {
         "data": {
          "bar": [
           {
            "error_x": {
             "color": "#2a3f5f"
            },
            "error_y": {
             "color": "#2a3f5f"
            },
            "marker": {
             "line": {
              "color": "#E5ECF6",
              "width": 0.5
             },
             "pattern": {
              "fillmode": "overlay",
              "size": 10,
              "solidity": 0.2
             }
            },
            "type": "bar"
           }
          ],
          "barpolar": [
           {
            "marker": {
             "line": {
              "color": "#E5ECF6",
              "width": 0.5
             },
             "pattern": {
              "fillmode": "overlay",
              "size": 10,
              "solidity": 0.2
             }
            },
            "type": "barpolar"
           }
          ],
          "carpet": [
           {
            "aaxis": {
             "endlinecolor": "#2a3f5f",
             "gridcolor": "white",
             "linecolor": "white",
             "minorgridcolor": "white",
             "startlinecolor": "#2a3f5f"
            },
            "baxis": {
             "endlinecolor": "#2a3f5f",
             "gridcolor": "white",
             "linecolor": "white",
             "minorgridcolor": "white",
             "startlinecolor": "#2a3f5f"
            },
            "type": "carpet"
           }
          ],
          "choropleth": [
           {
            "colorbar": {
             "outlinewidth": 0,
             "ticks": ""
            },
            "type": "choropleth"
           }
          ],
          "contour": [
           {
            "colorbar": {
             "outlinewidth": 0,
             "ticks": ""
            },
            "colorscale": [
             [
              0,
              "#0d0887"
             ],
             [
              0.1111111111111111,
              "#46039f"
             ],
             [
              0.2222222222222222,
              "#7201a8"
             ],
             [
              0.3333333333333333,
              "#9c179e"
             ],
             [
              0.4444444444444444,
              "#bd3786"
             ],
             [
              0.5555555555555556,
              "#d8576b"
             ],
             [
              0.6666666666666666,
              "#ed7953"
             ],
             [
              0.7777777777777778,
              "#fb9f3a"
             ],
             [
              0.8888888888888888,
              "#fdca26"
             ],
             [
              1,
              "#f0f921"
             ]
            ],
            "type": "contour"
           }
          ],
          "contourcarpet": [
           {
            "colorbar": {
             "outlinewidth": 0,
             "ticks": ""
            },
            "type": "contourcarpet"
           }
          ],
          "heatmap": [
           {
            "colorbar": {
             "outlinewidth": 0,
             "ticks": ""
            },
            "colorscale": [
             [
              0,
              "#0d0887"
             ],
             [
              0.1111111111111111,
              "#46039f"
             ],
             [
              0.2222222222222222,
              "#7201a8"
             ],
             [
              0.3333333333333333,
              "#9c179e"
             ],
             [
              0.4444444444444444,
              "#bd3786"
             ],
             [
              0.5555555555555556,
              "#d8576b"
             ],
             [
              0.6666666666666666,
              "#ed7953"
             ],
             [
              0.7777777777777778,
              "#fb9f3a"
             ],
             [
              0.8888888888888888,
              "#fdca26"
             ],
             [
              1,
              "#f0f921"
             ]
            ],
            "type": "heatmap"
           }
          ],
          "heatmapgl": [
           {
            "colorbar": {
             "outlinewidth": 0,
             "ticks": ""
            },
            "colorscale": [
             [
              0,
              "#0d0887"
             ],
             [
              0.1111111111111111,
              "#46039f"
             ],
             [
              0.2222222222222222,
              "#7201a8"
             ],
             [
              0.3333333333333333,
              "#9c179e"
             ],
             [
              0.4444444444444444,
              "#bd3786"
             ],
             [
              0.5555555555555556,
              "#d8576b"
             ],
             [
              0.6666666666666666,
              "#ed7953"
             ],
             [
              0.7777777777777778,
              "#fb9f3a"
             ],
             [
              0.8888888888888888,
              "#fdca26"
             ],
             [
              1,
              "#f0f921"
             ]
            ],
            "type": "heatmapgl"
           }
          ],
          "histogram": [
           {
            "marker": {
             "pattern": {
              "fillmode": "overlay",
              "size": 10,
              "solidity": 0.2
             }
            },
            "type": "histogram"
           }
          ],
          "histogram2d": [
           {
            "colorbar": {
             "outlinewidth": 0,
             "ticks": ""
            },
            "colorscale": [
             [
              0,
              "#0d0887"
             ],
             [
              0.1111111111111111,
              "#46039f"
             ],
             [
              0.2222222222222222,
              "#7201a8"
             ],
             [
              0.3333333333333333,
              "#9c179e"
             ],
             [
              0.4444444444444444,
              "#bd3786"
             ],
             [
              0.5555555555555556,
              "#d8576b"
             ],
             [
              0.6666666666666666,
              "#ed7953"
             ],
             [
              0.7777777777777778,
              "#fb9f3a"
             ],
             [
              0.8888888888888888,
              "#fdca26"
             ],
             [
              1,
              "#f0f921"
             ]
            ],
            "type": "histogram2d"
           }
          ],
          "histogram2dcontour": [
           {
            "colorbar": {
             "outlinewidth": 0,
             "ticks": ""
            },
            "colorscale": [
             [
              0,
              "#0d0887"
             ],
             [
              0.1111111111111111,
              "#46039f"
             ],
             [
              0.2222222222222222,
              "#7201a8"
             ],
             [
              0.3333333333333333,
              "#9c179e"
             ],
             [
              0.4444444444444444,
              "#bd3786"
             ],
             [
              0.5555555555555556,
              "#d8576b"
             ],
             [
              0.6666666666666666,
              "#ed7953"
             ],
             [
              0.7777777777777778,
              "#fb9f3a"
             ],
             [
              0.8888888888888888,
              "#fdca26"
             ],
             [
              1,
              "#f0f921"
             ]
            ],
            "type": "histogram2dcontour"
           }
          ],
          "mesh3d": [
           {
            "colorbar": {
             "outlinewidth": 0,
             "ticks": ""
            },
            "type": "mesh3d"
           }
          ],
          "parcoords": [
           {
            "line": {
             "colorbar": {
              "outlinewidth": 0,
              "ticks": ""
             }
            },
            "type": "parcoords"
           }
          ],
          "pie": [
           {
            "automargin": true,
            "type": "pie"
           }
          ],
          "scatter": [
           {
            "fillpattern": {
             "fillmode": "overlay",
             "size": 10,
             "solidity": 0.2
            },
            "type": "scatter"
           }
          ],
          "scatter3d": [
           {
            "line": {
             "colorbar": {
              "outlinewidth": 0,
              "ticks": ""
             }
            },
            "marker": {
             "colorbar": {
              "outlinewidth": 0,
              "ticks": ""
             }
            },
            "type": "scatter3d"
           }
          ],
          "scattercarpet": [
           {
            "marker": {
             "colorbar": {
              "outlinewidth": 0,
              "ticks": ""
             }
            },
            "type": "scattercarpet"
           }
          ],
          "scattergeo": [
           {
            "marker": {
             "colorbar": {
              "outlinewidth": 0,
              "ticks": ""
             }
            },
            "type": "scattergeo"
           }
          ],
          "scattergl": [
           {
            "marker": {
             "colorbar": {
              "outlinewidth": 0,
              "ticks": ""
             }
            },
            "type": "scattergl"
           }
          ],
          "scattermapbox": [
           {
            "marker": {
             "colorbar": {
              "outlinewidth": 0,
              "ticks": ""
             }
            },
            "type": "scattermapbox"
           }
          ],
          "scatterpolar": [
           {
            "marker": {
             "colorbar": {
              "outlinewidth": 0,
              "ticks": ""
             }
            },
            "type": "scatterpolar"
           }
          ],
          "scatterpolargl": [
           {
            "marker": {
             "colorbar": {
              "outlinewidth": 0,
              "ticks": ""
             }
            },
            "type": "scatterpolargl"
           }
          ],
          "scatterternary": [
           {
            "marker": {
             "colorbar": {
              "outlinewidth": 0,
              "ticks": ""
             }
            },
            "type": "scatterternary"
           }
          ],
          "surface": [
           {
            "colorbar": {
             "outlinewidth": 0,
             "ticks": ""
            },
            "colorscale": [
             [
              0,
              "#0d0887"
             ],
             [
              0.1111111111111111,
              "#46039f"
             ],
             [
              0.2222222222222222,
              "#7201a8"
             ],
             [
              0.3333333333333333,
              "#9c179e"
             ],
             [
              0.4444444444444444,
              "#bd3786"
             ],
             [
              0.5555555555555556,
              "#d8576b"
             ],
             [
              0.6666666666666666,
              "#ed7953"
             ],
             [
              0.7777777777777778,
              "#fb9f3a"
             ],
             [
              0.8888888888888888,
              "#fdca26"
             ],
             [
              1,
              "#f0f921"
             ]
            ],
            "type": "surface"
           }
          ],
          "table": [
           {
            "cells": {
             "fill": {
              "color": "#EBF0F8"
             },
             "line": {
              "color": "white"
             }
            },
            "header": {
             "fill": {
              "color": "#C8D4E3"
             },
             "line": {
              "color": "white"
             }
            },
            "type": "table"
           }
          ]
         },
         "layout": {
          "annotationdefaults": {
           "arrowcolor": "#2a3f5f",
           "arrowhead": 0,
           "arrowwidth": 1
          },
          "autotypenumbers": "strict",
          "coloraxis": {
           "colorbar": {
            "outlinewidth": 0,
            "ticks": ""
           }
          },
          "colorscale": {
           "diverging": [
            [
             0,
             "#8e0152"
            ],
            [
             0.1,
             "#c51b7d"
            ],
            [
             0.2,
             "#de77ae"
            ],
            [
             0.3,
             "#f1b6da"
            ],
            [
             0.4,
             "#fde0ef"
            ],
            [
             0.5,
             "#f7f7f7"
            ],
            [
             0.6,
             "#e6f5d0"
            ],
            [
             0.7,
             "#b8e186"
            ],
            [
             0.8,
             "#7fbc41"
            ],
            [
             0.9,
             "#4d9221"
            ],
            [
             1,
             "#276419"
            ]
           ],
           "sequential": [
            [
             0,
             "#0d0887"
            ],
            [
             0.1111111111111111,
             "#46039f"
            ],
            [
             0.2222222222222222,
             "#7201a8"
            ],
            [
             0.3333333333333333,
             "#9c179e"
            ],
            [
             0.4444444444444444,
             "#bd3786"
            ],
            [
             0.5555555555555556,
             "#d8576b"
            ],
            [
             0.6666666666666666,
             "#ed7953"
            ],
            [
             0.7777777777777778,
             "#fb9f3a"
            ],
            [
             0.8888888888888888,
             "#fdca26"
            ],
            [
             1,
             "#f0f921"
            ]
           ],
           "sequentialminus": [
            [
             0,
             "#0d0887"
            ],
            [
             0.1111111111111111,
             "#46039f"
            ],
            [
             0.2222222222222222,
             "#7201a8"
            ],
            [
             0.3333333333333333,
             "#9c179e"
            ],
            [
             0.4444444444444444,
             "#bd3786"
            ],
            [
             0.5555555555555556,
             "#d8576b"
            ],
            [
             0.6666666666666666,
             "#ed7953"
            ],
            [
             0.7777777777777778,
             "#fb9f3a"
            ],
            [
             0.8888888888888888,
             "#fdca26"
            ],
            [
             1,
             "#f0f921"
            ]
           ]
          },
          "colorway": [
           "#636efa",
           "#EF553B",
           "#00cc96",
           "#ab63fa",
           "#FFA15A",
           "#19d3f3",
           "#FF6692",
           "#B6E880",
           "#FF97FF",
           "#FECB52"
          ],
          "font": {
           "color": "#2a3f5f"
          },
          "geo": {
           "bgcolor": "white",
           "lakecolor": "white",
           "landcolor": "#E5ECF6",
           "showlakes": true,
           "showland": true,
           "subunitcolor": "white"
          },
          "hoverlabel": {
           "align": "left"
          },
          "hovermode": "closest",
          "mapbox": {
           "style": "light"
          },
          "paper_bgcolor": "white",
          "plot_bgcolor": "#E5ECF6",
          "polar": {
           "angularaxis": {
            "gridcolor": "white",
            "linecolor": "white",
            "ticks": ""
           },
           "bgcolor": "#E5ECF6",
           "radialaxis": {
            "gridcolor": "white",
            "linecolor": "white",
            "ticks": ""
           }
          },
          "scene": {
           "xaxis": {
            "backgroundcolor": "#E5ECF6",
            "gridcolor": "white",
            "gridwidth": 2,
            "linecolor": "white",
            "showbackground": true,
            "ticks": "",
            "zerolinecolor": "white"
           },
           "yaxis": {
            "backgroundcolor": "#E5ECF6",
            "gridcolor": "white",
            "gridwidth": 2,
            "linecolor": "white",
            "showbackground": true,
            "ticks": "",
            "zerolinecolor": "white"
           },
           "zaxis": {
            "backgroundcolor": "#E5ECF6",
            "gridcolor": "white",
            "gridwidth": 2,
            "linecolor": "white",
            "showbackground": true,
            "ticks": "",
            "zerolinecolor": "white"
           }
          },
          "shapedefaults": {
           "line": {
            "color": "#2a3f5f"
           }
          },
          "ternary": {
           "aaxis": {
            "gridcolor": "white",
            "linecolor": "white",
            "ticks": ""
           },
           "baxis": {
            "gridcolor": "white",
            "linecolor": "white",
            "ticks": ""
           },
           "bgcolor": "#E5ECF6",
           "caxis": {
            "gridcolor": "white",
            "linecolor": "white",
            "ticks": ""
           }
          },
          "title": {
           "x": 0.05
          },
          "xaxis": {
           "automargin": true,
           "gridcolor": "white",
           "linecolor": "white",
           "ticks": "",
           "title": {
            "standoff": 15
           },
           "zerolinecolor": "white",
           "zerolinewidth": 2
          },
          "yaxis": {
           "automargin": true,
           "gridcolor": "white",
           "linecolor": "white",
           "ticks": "",
           "title": {
            "standoff": 15
           },
           "zerolinecolor": "white",
           "zerolinewidth": 2
          }
         }
        },
        "title": {
         "text": "Elo Ratings of Cricket Teams Over Matches"
        },
        "xaxis": {
         "anchor": "y",
         "domain": [
          0,
          1
         ],
         "title": {
          "text": "Match Number"
         }
        },
        "yaxis": {
         "anchor": "x",
         "domain": [
          0,
          1
         ],
         "title": {
          "text": "eloRating"
         }
        }
       }
      }
     },
     "metadata": {},
     "output_type": "display_data"
    }
   ],
   "source": [
    "lineFig = px.line(df, x=\"matchNo\", y=\"eloRating\", color=\"team\", \n",
    "              title=\"Elo Ratings of Cricket Teams Over Matches\",\n",
    "              labels={\"matchNo\": \"Match Number\", \"rating\": \"Elo Rating\"},\n",
    "              color_discrete_map=colorScale)\n",
    "\n",
    "lineFig.show()"
   ]
  },
  {
   "cell_type": "code",
   "execution_count": 77,
   "metadata": {},
   "outputs": [
    {
     "data": {
      "application/vnd.plotly.v1+json": {
       "config": {
        "plotlyServerURL": "https://plot.ly"
       },
       "data": [
        {
         "mode": "lines",
         "name": "Chennai Super Kings",
         "type": "scatter",
         "x": [
          1,
          2,
          3,
          4,
          5,
          6,
          7,
          8,
          9,
          10,
          11,
          12,
          13,
          14,
          15,
          16,
          17,
          18,
          19,
          20,
          21,
          22,
          23,
          24,
          25,
          26,
          27,
          28,
          29,
          30,
          31,
          32,
          33,
          34,
          35,
          36,
          37,
          38,
          39,
          40,
          41,
          42,
          43,
          44,
          45,
          46,
          47,
          48,
          49,
          50,
          51,
          52,
          53,
          54,
          55,
          56,
          57,
          58,
          59,
          60,
          61,
          62,
          63,
          64,
          65,
          66,
          67,
          68,
          69,
          70,
          71,
          72,
          73,
          74,
          75,
          76,
          77,
          78,
          79,
          80,
          81,
          82,
          83,
          84,
          85,
          86,
          87,
          88,
          89,
          90,
          91,
          92,
          93,
          94,
          95,
          96,
          97,
          98,
          99,
          100,
          101,
          102,
          103,
          104,
          105,
          106,
          107,
          108,
          109,
          110,
          111,
          112,
          113,
          114,
          115,
          116,
          117,
          118,
          119,
          120,
          121,
          122,
          123,
          124,
          125,
          126,
          127,
          128,
          129,
          130,
          131,
          132,
          133,
          134,
          135,
          136,
          137,
          138,
          139,
          140,
          141,
          142,
          143,
          144,
          145,
          146,
          147,
          148,
          149,
          150,
          151,
          152,
          153,
          154,
          155,
          156,
          157,
          158,
          159,
          160,
          161,
          162,
          163,
          164,
          165,
          166,
          167,
          168,
          169,
          170,
          171,
          172,
          173,
          174,
          175,
          176,
          177,
          178,
          179,
          180,
          181,
          182,
          183,
          184,
          185,
          186,
          187,
          188,
          189,
          190,
          191,
          192,
          193,
          194,
          195,
          196,
          197,
          198,
          199,
          200,
          201,
          202,
          203,
          204,
          205,
          206,
          207,
          208,
          209,
          210,
          211,
          212,
          213,
          214,
          215,
          216,
          217,
          218,
          219,
          220,
          221,
          222,
          223,
          224
         ],
         "xaxis": "x",
         "y": [
          1015,
          1029.353,
          1029.353,
          1045.786,
          1045.786,
          1020.726,
          1005.479,
          1023.229,
          1038.532,
          1038.532,
          1038.532,
          1038.532,
          1055.648,
          1033.316,
          1009.376,
          1009.376,
          1009.376,
          993.451,
          993.451,
          1008.507,
          1008.507,
          1006.037,
          990.693,
          990.693,
          976.714,
          999.075,
          1014.962,
          1014.962,
          1034.853,
          1012.528,
          990.604,
          1011.355,
          1025.959,
          1025.959,
          1025.959,
          1044.006,
          1060.382,
          1060.382,
          1060.382,
          1081.026,
          1050.313,
          1050.313,
          1067.127,
          1082.208,
          1096.621,
          1112.044,
          1112.044,
          1127.752,
          1097.522,
          1097.522,
          1110.609,
          1121.322,
          1121.322,
          1121.322,
          1121.322,
          1121.322,
          1121.322,
          1132.829,
          1102.966,
          1102.966,
          1081.057,
          1081.057,
          1081.057,
          1096.08,
          1096.08,
          1117.597,
          1117.597,
          1130.899,
          1130.899,
          1130.899,
          1130.899,
          1130.899,
          1101.745,
          1116.024,
          1116.024,
          1116.024,
          1116.024,
          1129.772,
          1129.772,
          1129.772,
          1129.772,
          1129.772,
          1141.736,
          1141.736,
          1141.736,
          1154.351,
          1165.747,
          1165.747,
          1177.985,
          1143.804,
          1143.804,
          1143.804,
          1143.804,
          1116.476,
          1089.948,
          1089.948,
          1089.948,
          1104.343,
          1076.1,
          1052.669,
          1052.669,
          1029.689,
          1029.689,
          1029.689,
          1005.142,
          1005.142,
          1020.035,
          997.391,
          1027.441,
          1027.441,
          1004.785,
          988.359,
          988.359,
          988.359,
          988.359,
          988.359,
          973.036,
          973.036,
          973.036,
          973.036,
          996.116,
          1011.013,
          1011.013,
          1011.013,
          1042.84,
          1057.868,
          1057.868,
          1057.868,
          1043.132,
          1024.863,
          1040.912,
          1040.912,
          1063.806,
          1063.806,
          1038.084,
          1053.808,
          1053.808,
          1067.625,
          1067.625,
          1090.46,
          1090.46,
          1066.072,
          1066.072,
          1081.713,
          1081.713,
          1081.713,
          1102.32,
          1102.32,
          1123.265,
          1123.265,
          1132.478,
          1143.756,
          1156.021,
          1166.426,
          1134.688,
          1134.688,
          1134.688,
          1134.688,
          1134.688,
          1134.688,
          1106.661,
          1081.256,
          1081.256,
          1065.937,
          1065.937,
          1075.585,
          1052.148,
          1037.199,
          1037.199,
          1051.248,
          1051.248,
          1051.248,
          1051.248,
          1051.248,
          1051.248,
          1051.248,
          1065.415,
          1043.094,
          1028.599,
          1028.599,
          1010.479,
          1032.572,
          1011.149,
          1011.149,
          1025.885,
          1041.604,
          1041.604,
          1041.604,
          1041.604,
          1041.604,
          1041.604,
          1041.604,
          1057.423,
          1057.423,
          1057.423,
          1057.423,
          1057.423,
          1079.121,
          1079.121,
          1093.734,
          1093.734,
          1111.117,
          1086.565,
          1086.565,
          1086.565,
          1086.565,
          1097.227,
          1111.196,
          1111.196,
          1080.453,
          1080.453,
          1091.313,
          1103.36,
          1103.36,
          1116.321,
          1127.404,
          1137.025,
          1108.429,
          1127.09,
          1139.776,
          1139.776,
          1139.776,
          1123.721,
          1139.05
         ],
         "yaxis": "y"
        },
        {
         "mode": "lines",
         "name": "Kolkata Knight Riders",
         "type": "scatter",
         "x": [
          1,
          2,
          3,
          4,
          5,
          6,
          7,
          8,
          9,
          10,
          11,
          12,
          13,
          14,
          15,
          16,
          17,
          18,
          19,
          20,
          21,
          22,
          23,
          24,
          25,
          26,
          27,
          28,
          29,
          30,
          31,
          32,
          33,
          34,
          35,
          36,
          37,
          38,
          39,
          40,
          41,
          42,
          43,
          44,
          45,
          46,
          47,
          48,
          49,
          50,
          51,
          52,
          53,
          54,
          55,
          56,
          57,
          58,
          59,
          60,
          61,
          62,
          63,
          64,
          65,
          66,
          67,
          68,
          69,
          70,
          71,
          72,
          73,
          74,
          75,
          76,
          77,
          78,
          79,
          80,
          81,
          82,
          83,
          84,
          85,
          86,
          87,
          88,
          89,
          90,
          91,
          92,
          93,
          94,
          95,
          96,
          97,
          98,
          99,
          100,
          101,
          102,
          103,
          104,
          105,
          106,
          107,
          108,
          109,
          110,
          111,
          112,
          113,
          114,
          115,
          116,
          117,
          118,
          119,
          120,
          121,
          122,
          123,
          124,
          125,
          126,
          127,
          128,
          129,
          130,
          131,
          132,
          133,
          134,
          135,
          136,
          137,
          138,
          139,
          140,
          141,
          142,
          143,
          144,
          145,
          146,
          147,
          148,
          149,
          150,
          151,
          152,
          153,
          154,
          155,
          156,
          157,
          158,
          159,
          160,
          161,
          162,
          163,
          164,
          165,
          166,
          167,
          168,
          169,
          170,
          171,
          172,
          173,
          174,
          175,
          176,
          177,
          178,
          179,
          180,
          181,
          182,
          183,
          184,
          185,
          186,
          187,
          188,
          189,
          190,
          191,
          192,
          193,
          194,
          195,
          196,
          197,
          198,
          199,
          200,
          201,
          202,
          203,
          204,
          205,
          206,
          207,
          208,
          209,
          210,
          211,
          212,
          213,
          214,
          215,
          216,
          217,
          218,
          219,
          220,
          221,
          222,
          223,
          224,
          225,
          226,
          227,
          228,
          229,
          230,
          231,
          232,
          233,
          234,
          235,
          236,
          237
         ],
         "xaxis": "x2",
         "y": [
          985,
          985,
          984.407,
          984.407,
          984.407,
          999.259,
          999.259,
          975.916,
          975.916,
          999.188,
          999.188,
          999.188,
          1014.21,
          1032.006,
          1017.926,
          1017.926,
          995.565,
          1019.643,
          1003.756,
          1003.756,
          989.816,
          989.816,
          975.256,
          975.256,
          998.189,
          998.189,
          982.529,
          982.529,
          982.529,
          982.529,
          982.529,
          982.529,
          982.529,
          1000.406,
          984.676,
          1006.857,
          1006.857,
          1006.857,
          984.571,
          1000.497,
          1000.497,
          1000.497,
          1015.903,
          1037.738,
          1037.738,
          1014.444,
          1014.444,
          1030.681,
          1046.193,
          1063.735,
          1077,
          1090.928,
          1090.928,
          1105.758,
          1116.366,
          1116.366,
          1116.366,
          1128.446,
          1112.738,
          1112.738,
          1124.412,
          1134.98,
          1134.98,
          1146.149,
          1146.149,
          1146.149,
          1146.149,
          1168.058,
          1168.058,
          1168.058,
          1177.187,
          1145.639,
          1155.872,
          1155.872,
          1155.872,
          1122.49,
          1100.973,
          1070.481,
          1070.481,
          1070.481,
          1070.481,
          1070.481,
          1045.005,
          1045.005,
          1045.005,
          1045.005,
          1019.688,
          995.308,
          995.308,
          972.708,
          972.708,
          972.708,
          972.708,
          957.698,
          957.698,
          957.698,
          957.698,
          957.698,
          939.279,
          939.279,
          960.927,
          983.413,
          983.413,
          999.096,
          999.457,
          999.457,
          999.457,
          1014.405,
          1014.405,
          998.665,
          998.665,
          998.665,
          998.665,
          971.19,
          952.106,
          980.349,
          965.328,
          949.294,
          949.294,
          949.294,
          973.841,
          973.841,
          996.485,
          996.485,
          974.494,
          1001.316,
          1001.316,
          1018.672,
          1018.672,
          1018.672,
          1032.726,
          1032.726,
          1032.726,
          1032.726,
          1049.093,
          1049.093,
          1049.093,
          1047.04,
          1064.142,
          1078.082,
          1050.602,
          1065.211,
          1042.476,
          1026.986,
          1008.565,
          990.377,
          1014.414,
          1014.414,
          1037.465,
          1014.63,
          1014.63,
          1014.63,
          1030.239,
          1044.168,
          1028.55,
          1028.55,
          1002.934,
          987.096,
          987.096,
          987.096,
          972.628,
          972.628,
          987.664,
          987.664,
          1002.019,
          989.754,
          974.427,
          964.022,
          964.022,
          964.022,
          942.526,
          927.16,
          909.453,
          898.382,
          881.042,
          866.847,
          866.847,
          866.847,
          857.199,
          857.199,
          885.927,
          885.927,
          916.37,
          903.928,
          932.679,
          932.679,
          932.679,
          961.463,
          961.463,
          977.449,
          960.076,
          960.076,
          987.309,
          987.309,
          987.309,
          987.309,
          969.884,
          955.289,
          955.289,
          981.374,
          959.504,
          959.504,
          959.504,
          943.967,
          943.967,
          932.151,
          932.151,
          932.151,
          932.151,
          957.446,
          957.446,
          957.568,
          957.568,
          980.119,
          962.888,
          962.888,
          947.865,
          963.115,
          963.115,
          963.115,
          963.115,
          949.244,
          975.565,
          975.565,
          958.036,
          958.036,
          942.422,
          927.695,
          914.721,
          914.721,
          902.69,
          933.433,
          959.976,
          959.976,
          959.976,
          944.597,
          944.597
         ],
         "yaxis": "y2"
        },
        {
         "mode": "lines",
         "name": "Rajasthan Royals",
         "type": "scatter",
         "x": [
          1,
          2,
          3,
          4,
          5,
          6,
          7,
          8,
          9,
          10,
          11,
          12,
          13,
          14,
          15,
          16,
          17,
          18,
          19,
          20,
          21,
          22,
          23,
          24,
          25,
          26,
          27,
          28,
          29,
          30,
          31,
          32,
          33,
          34,
          35,
          36,
          37,
          38,
          39,
          40,
          41,
          42,
          43,
          44,
          45,
          46,
          47,
          48,
          49,
          50,
          51,
          52,
          53,
          54,
          55,
          56,
          57,
          58,
          59,
          60,
          61,
          62,
          63,
          64,
          65,
          66,
          67,
          68,
          69,
          70,
          71,
          72,
          73,
          74,
          75,
          76,
          77,
          78,
          79,
          80,
          81,
          82,
          83,
          84,
          85,
          86,
          87,
          88,
          89,
          90,
          91,
          92,
          93,
          94,
          95,
          96,
          97,
          98,
          99,
          100,
          101,
          102,
          103,
          104,
          105,
          106,
          107,
          108,
          109,
          110,
          111,
          112,
          113,
          114,
          115,
          116,
          117,
          118,
          119,
          120,
          121,
          122,
          123,
          124,
          125,
          126,
          127,
          128,
          129,
          130,
          131,
          132,
          133,
          134,
          135,
          136,
          137,
          138,
          139,
          140,
          141,
          142,
          143,
          144,
          145,
          146,
          147,
          148,
          149,
          150,
          151,
          152,
          153,
          154,
          155,
          156,
          157,
          158,
          159,
          160,
          161,
          162,
          163,
          164,
          165,
          166,
          167,
          168,
          169,
          170,
          171,
          172,
          173,
          174,
          175,
          176,
          177,
          178,
          179,
          180,
          181,
          182,
          183,
          184,
          185,
          186,
          187,
          188,
          189,
          190,
          191,
          192,
          193,
          194,
          195,
          196,
          197,
          198,
          199,
          200,
          201,
          202,
          203,
          204,
          205,
          206
         ],
         "xaxis": "x3",
         "y": [
          985.647,
          971.266,
          971.266,
          971.266,
          971.859,
          955.929,
          980.989,
          980.989,
          966.137,
          988.08,
          970.964,
          995.493,
          995.493,
          995.493,
          995.493,
          1009.812,
          994.284,
          994.284,
          994.284,
          1016.609,
          991.929,
          991.929,
          973.882,
          973.882,
          973.882,
          973.882,
          958.782,
          958.782,
          941.947,
          966.967,
          966.967,
          989.253,
          989.253,
          1009.902,
          1009.902,
          994.496,
          977.682,
          960.723,
          960.723,
          943.236,
          943.236,
          943.236,
          943.236,
          964.992,
          964.992,
          942.309,
          942.309,
          957.5,
          957.5,
          972.266,
          972.266,
          959.179,
          959.179,
          944.174,
          958.355,
          940.863,
          919.149,
          919.149,
          919.149,
          904.48,
          885.94,
          885.94,
          885.94,
          885.94,
          907.658,
          907.658,
          898.529,
          898.529,
          929.021,
          943.121,
          943.121,
          943.121,
          943.121,
          959.123,
          959.123,
          959.123,
          988.277,
          988.277,
          973.674,
          973.674,
          997.574,
          983.413,
          1005.491,
          1005.491,
          1005.491,
          1005.491,
          1023.45,
          1023.45,
          1023.45,
          1023.45,
          1023.45,
          1023.45,
          1011.212,
          1011.212,
          996.246,
          996.246,
          996.246,
          1013.611,
          998.768,
          1025.296,
          1025.296,
          1025.296,
          1000.509,
          1023.489,
          1038.86,
          1038.86,
          1052.905,
          1067.541,
          1067.541,
          1083.967,
          1097.955,
          1097.955,
          1071.133,
          1071.133,
          1086.456,
          1086.456,
          1071.146,
          1045.543,
          1045.543,
          1021.229,
          1021.229,
          1021.229,
          1037.326,
          1037.326,
          1037.326,
          1013.3,
          1015.353,
          1031.556,
          1049.2,
          1033.151,
          1048.813,
          1043.613,
          1043.613,
          1043.613,
          1043.613,
          1043.613,
          1043.613,
          1028.742,
          1028.742,
          1028.742,
          1028.742,
          1013.133,
          1013.133,
          989.106,
          989.106,
          973.465,
          973.465,
          958.429,
          943.397,
          943.397,
          959.043,
          942.174,
          967.165,
          984.872,
          999.067,
          1014.079,
          998.337,
          998.337,
          998.337,
          1023.354,
          1023.354,
          1023.354,
          1040.727,
          1040.727,
          1062.549,
          1076.845,
          1091.678,
          1064.445,
          1038.36,
          1038.36,
          1053.897,
          1025.199,
          1005.037,
          990.301,
          974.099,
          1002.129,
          979.578,
          959.284,
          959.284,
          959.284,
          944.321,
          959.974,
          984.069,
          984.069,
          984.069,
          967.88,
          952.061,
          980.005,
          980.005,
          1002.012,
          1002.012,
          1025.986,
          1048.239,
          1061.278,
          1061.278,
          1073.309,
          1059.34,
          1033.863,
          1033.863,
          1033.863,
          1017.833,
          995.165,
          995.165,
          995.165,
          976.936,
          976.936
         ],
         "yaxis": "y3"
        },
        {
         "mode": "lines",
         "name": "Mumbai Indians",
         "type": "scatter",
         "x": [
          1,
          2,
          3,
          4,
          5,
          6,
          7,
          8,
          9,
          10,
          11,
          12,
          13,
          14,
          15,
          16,
          17,
          18,
          19,
          20,
          21,
          22,
          23,
          24,
          25,
          26,
          27,
          28,
          29,
          30,
          31,
          32,
          33,
          34,
          35,
          36,
          37,
          38,
          39,
          40,
          41,
          42,
          43,
          44,
          45,
          46,
          47,
          48,
          49,
          50,
          51,
          52,
          53,
          54,
          55,
          56,
          57,
          58,
          59,
          60,
          61,
          62,
          63,
          64,
          65,
          66,
          67,
          68,
          69,
          70,
          71,
          72,
          73,
          74,
          75,
          76,
          77,
          78,
          79,
          80,
          81,
          82,
          83,
          84,
          85,
          86,
          87,
          88,
          89,
          90,
          91,
          92,
          93,
          94,
          95,
          96,
          97,
          98,
          99,
          100,
          101,
          102,
          103,
          104,
          105,
          106,
          107,
          108,
          109,
          110,
          111,
          112,
          113,
          114,
          115,
          116,
          117,
          118,
          119,
          120,
          121,
          122,
          123,
          124,
          125,
          126,
          127,
          128,
          129,
          130,
          131,
          132,
          133,
          134,
          135,
          136,
          137,
          138,
          139,
          140,
          141,
          142,
          143,
          144,
          145,
          146,
          147,
          148,
          149,
          150,
          151,
          152,
          153,
          154,
          155,
          156,
          157,
          158,
          159,
          160,
          161,
          162,
          163,
          164,
          165,
          166,
          167,
          168,
          169,
          170,
          171,
          172,
          173,
          174,
          175,
          176,
          177,
          178,
          179,
          180,
          181,
          182,
          183,
          184,
          185,
          186,
          187,
          188,
          189,
          190,
          191,
          192,
          193,
          194,
          195,
          196,
          197,
          198,
          199,
          200,
          201,
          202,
          203,
          204,
          205,
          206,
          207,
          208,
          209,
          210,
          211,
          212,
          213,
          214,
          215,
          216,
          217,
          218,
          219,
          220,
          221,
          222,
          223,
          224,
          225,
          226,
          227,
          228,
          229,
          230,
          231,
          232,
          233,
          234,
          235,
          236,
          237,
          238,
          239,
          240,
          241,
          242,
          243,
          244,
          245,
          246,
          247
         ],
         "xaxis": "x4",
         "y": [
          1000,
          1000,
          985,
          966.723,
          950.29,
          950.29,
          950.29,
          966.22,
          948.47,
          931.415,
          956.136,
          940.628,
          963.971,
          987.911,
          1010.123,
          987.927,
          1003.852,
          1003.852,
          1021.531,
          1021.531,
          997.57,
          1013.098,
          1013.098,
          1013.067,
          993.176,
          979.006,
          1000.93,
          1015.89,
          1015.89,
          1015.89,
          1015.89,
          1015.89,
          1015.89,
          1015.89,
          1000.204,
          1030.917,
          1047.876,
          1047.876,
          1026.041,
          1026.041,
          1026.041,
          1026.041,
          1042.552,
          1042.552,
          1042.552,
          1027.04,
          999.032,
          984.202,
          984.202,
          984.202,
          984.202,
          1002.477,
          979.315,
          979.315,
          996.908,
          996.908,
          996.908,
          996.908,
          996.908,
          1014.041,
          1014.041,
          1028.71,
          1045.591,
          1045.591,
          1045.591,
          1020.067,
          1020.067,
          1020.067,
          1004.829,
          977.866,
          977.866,
          992.743,
          977.72,
          959.905,
          976.801,
          998.294,
          1012.184,
          1012.184,
          1012.184,
          1012.184,
          990.524,
          990.524,
          966.366,
          950.364,
          975.681,
          975.681,
          975.681,
          997.476,
          1012.079,
          996.019,
          996.019,
          996.019,
          996.019,
          996.019,
          1018.036,
          1018.036,
          1018.036,
          996.173,
          996.173,
          996.173,
          996.173,
          1016.85,
          994.504,
          994.504,
          994.504,
          994.504,
          994.504,
          1010.304,
          1010.304,
          1010.304,
          1010.304,
          1037.632,
          1054.999,
          1074.083,
          1074.083,
          1074.083,
          1074.083,
          1068.556,
          1038.506,
          1060.497,
          1046.509,
          1046.509,
          1046.509,
          1046.509,
          1063.16,
          1079.28,
          1079.28,
          1094.59,
          1108.362,
          1108.362,
          1108.362,
          1076.535,
          1090.182,
          1090.182,
          1063.983,
          1078.719,
          1078.719,
          1048.495,
          1032.833,
          1032.833,
          1054.877,
          1039.153,
          1039.153,
          1039.153,
          1054.467,
          1072.888,
          1047.015,
          1023.381,
          1023.381,
          1005.385,
          1005.385,
          991.456,
          991.456,
          1005.782,
          1005.782,
          1005.782,
          1020.019,
          1020.019,
          1020.019,
          999.412,
          999.412,
          999.412,
          999.412,
          1013.88,
          1013.88,
          1013.88,
          1013.88,
          1030.749,
          1005.758,
          982.168,
          997.495,
          1015.704,
          1017.311,
          1017.311,
          1038.141,
          1038.141,
          1038.141,
          1032.232,
          1015.288,
          1038.725,
          1054.503,
          1066.945,
          1038.194,
          1054.627,
          1073.875,
          1073.875,
          1073.875,
          1073.875,
          1089.131,
          1102.767,
          1102.767,
          1072.968,
          1058.135,
          1058.135,
          1058.135,
          1058.135,
          1032.283,
          1049.708,
          1049.708,
          1027.002,
          1027.002,
          1012.874,
          989.556,
          1014.067,
          991.999,
          991.999,
          1007.808,
          1029.231,
          1045.87,
          1022.378,
          1042.54,
          1026.821,
          1026.821,
          1012.327,
          1012.327,
          1034.529,
          1034.529,
          1019.6,
          1019.6,
          1019.6,
          1019.6,
          1019.6,
          1019.6,
          1002.348,
          1002.348,
          1002.348,
          1002.348,
          1002.348,
          1002.348,
          1018.708,
          1018.708,
          1018.708,
          1036.237,
          1036.237,
          1036.237,
          1036.237,
          1036.237,
          1050.964,
          1050.964,
          1026.803,
          1026.803,
          1041.721,
          1041.721,
          1041.721,
          1041.721,
          1041.721,
          1057.1
         ],
         "yaxis": "y4"
        },
        {
         "mode": "lines",
         "name": "Delhi Capitals",
         "type": "scatter",
         "x": [
          1,
          2,
          3,
          4,
          5,
          6,
          7,
          8,
          9,
          10,
          11,
          12,
          13,
          14,
          15,
          16,
          17,
          18,
          19,
          20,
          21,
          22,
          23,
          24,
          25,
          26,
          27,
          28,
          29,
          30,
          31,
          32,
          33,
          34,
          35,
          36,
          37,
          38,
          39,
          40,
          41,
          42,
          43,
          44,
          45,
          46,
          47,
          48,
          49,
          50,
          51,
          52,
          53,
          54,
          55,
          56,
          57,
          58,
          59,
          60,
          61,
          62,
          63,
          64,
          65,
          66,
          67,
          68,
          69,
          70,
          71,
          72,
          73,
          74,
          75,
          76,
          77,
          78,
          79,
          80,
          81,
          82,
          83,
          84,
          85,
          86,
          87,
          88,
          89,
          90,
          91,
          92,
          93,
          94,
          95,
          96,
          97,
          98,
          99,
          100,
          101,
          102,
          103,
          104,
          105,
          106,
          107,
          108,
          109,
          110,
          111,
          112,
          113,
          114,
          115,
          116,
          117,
          118,
          119,
          120,
          121,
          122,
          123,
          124,
          125,
          126,
          127,
          128,
          129,
          130,
          131,
          132,
          133,
          134,
          135,
          136,
          137,
          138,
          139,
          140,
          141,
          142,
          143,
          144,
          145,
          146,
          147,
          148,
          149,
          150,
          151,
          152,
          153,
          154,
          155,
          156,
          157,
          158,
          159,
          160,
          161,
          162,
          163,
          164,
          165,
          166,
          167,
          168,
          169,
          170,
          171,
          172,
          173,
          174,
          175,
          176,
          177,
          178,
          179,
          180,
          181,
          182,
          183,
          184,
          185,
          186,
          187,
          188,
          189,
          190,
          191,
          192,
          193,
          194,
          195,
          196,
          197,
          198,
          199,
          200,
          201,
          202,
          203,
          204,
          205,
          206,
          207,
          208,
          209,
          210,
          211,
          212,
          213,
          214,
          215,
          216,
          217,
          218,
          219,
          220,
          221,
          222,
          223,
          224,
          225,
          226,
          227,
          228,
          229,
          230,
          231,
          232,
          233,
          234,
          235,
          236,
          237,
          238
         ],
         "xaxis": "x5",
         "y": [
          1000,
          1000,
          1000,
          1015,
          1015,
          1015,
          1015,
          1015,
          1030.247,
          1014.944,
          1014.944,
          1014.944,
          1037.276,
          1037.276,
          1037.276,
          1037.276,
          1053.332,
          1053.332,
          1067.412,
          1043.334,
          1021.164,
          1036.445,
          1036.445,
          1036.445,
          1013.505,
          1014.227,
          1014.227,
          1014.227,
          1014.227,
          1031.062,
          1006.042,
          990.116,
          990.116,
          990.116,
          990.116,
          1004.618,
          1004.618,
          1022.105,
          997.997,
          997.997,
          997.997,
          982.508,
          982.508,
          968.095,
          968.095,
          954.167,
          954.167,
          935.892,
          921.791,
          921.791,
          906.233,
          906.233,
          906.233,
          929.886,
          929.886,
          948.426,
          963.805,
          952.298,
          952.298,
          952.298,
          930.804,
          915.862,
          894.144,
          878.585,
          905.548,
          888.652,
          888.652,
          874.762,
          908.144,
          908.144,
          908.144,
          894.044,
          917.232,
          917.232,
          941.39,
          925.757,
          949.876,
          949.876,
          972.476,
          972.476,
          972.476,
          972.476,
          987.486,
          1003.546,
          1017.619,
          1017.02,
          1031.181,
          1031.181,
          1009.164,
          1009.164,
          985.586,
          985.586,
          985.586,
          985.586,
          1007.449,
          1007.449,
          1007.449,
          1007.088,
          1007.088,
          994.473,
          983.077,
          998.098,
          998.098,
          1017.247,
          1017.247,
          1017.247,
          1032.09,
          1032.09,
          1032.09,
          1032.09,
          1016.719,
          1002.674,
          1002.674,
          987.781,
          987.781,
          971.13,
          971.13,
          971.13,
          996.733,
          982.679,
          968.907,
          968.907,
          952.54,
          952.54,
          952.54,
          936.443,
          954.615,
          939.587,
          962.225,
          948.578,
          948.578,
          948.578,
          948.578,
          932.375,
          932.375,
          932.375,
          919.168,
          919.168,
          919.168,
          942.763,
          928.946,
          928.946,
          928.946,
          928.946,
          928.946,
          950.97,
          950.97,
          975.844,
          961.518,
          961.518,
          943.362,
          943.362,
          928.29,
          928.29,
          928.29,
          928.29,
          928.29,
          953.906,
          953.906,
          969.767,
          954.259,
          970.089,
          970.089,
          958.811,
          937.981,
          959.477,
          944.874,
          962.214,
          986.937,
          1014.964,
          1010.38,
          1035.785,
          1035.785,
          1035.785,
          1035.785,
          1019.714,
          990.986,
          990.986,
          975.554,
          975.554,
          959.121,
          943.748,
          930.591,
          916.542,
          946.341,
          931.12,
          931.12,
          931.12,
          931.12,
          954.693,
          954.693,
          978.011,
          978.011,
          1000.079,
          1000.079,
          1000.079,
          984.572,
          1008.064,
          1008.064,
          1026.371,
          1001.076,
          1028.647,
          1051.203,
          1051.203,
          1066.226,
          1066.226,
          1066.226,
          1051.987,
          1051.987,
          1067.633,
          1067.633,
          1067.633,
          1084.885,
          1084.885,
          1084.885,
          1084.885,
          1062.951,
          1036.63,
          1014.988,
          1014.988,
          992.981,
          992.981,
          992.981,
          976.544,
          976.544,
          976.544,
          976.544,
          961.698,
          961.698,
          961.698,
          987.175,
          971.2,
          993.868,
          993.868,
          981.182,
          981.182,
          996.838,
          996.838
         ],
         "yaxis": "y5"
        },
        {
         "mode": "lines",
         "name": "Punjab Kings",
         "type": "scatter",
         "x": [
          1,
          2,
          3,
          4,
          5,
          6,
          7,
          8,
          9,
          10,
          11,
          12,
          13,
          14,
          15,
          16,
          17,
          18,
          19,
          20,
          21,
          22,
          23,
          24,
          25,
          26,
          27,
          28,
          29,
          30,
          31,
          32,
          33,
          34,
          35,
          36,
          37,
          38,
          39,
          40,
          41,
          42,
          43,
          44,
          45,
          46,
          47,
          48,
          49,
          50,
          51,
          52,
          53,
          54,
          55,
          56,
          57,
          58,
          59,
          60,
          61,
          62,
          63,
          64,
          65,
          66,
          67,
          68,
          69,
          70,
          71,
          72,
          73,
          74,
          75,
          76,
          77,
          78,
          79,
          80,
          81,
          82,
          83,
          84,
          85,
          86,
          87,
          88,
          89,
          90,
          91,
          92,
          93,
          94,
          95,
          96,
          97,
          98,
          99,
          100,
          101,
          102,
          103,
          104,
          105,
          106,
          107,
          108,
          109,
          110,
          111,
          112,
          113,
          114,
          115,
          116,
          117,
          118,
          119,
          120,
          121,
          122,
          123,
          124,
          125,
          126,
          127,
          128,
          129,
          130,
          131,
          132,
          133,
          134,
          135,
          136,
          137,
          138,
          139,
          140,
          141,
          142,
          143,
          144,
          145,
          146,
          147,
          148,
          149,
          150,
          151,
          152,
          153,
          154,
          155,
          156,
          157,
          158,
          159,
          160,
          161,
          162,
          163,
          164,
          165,
          166,
          167,
          168,
          169,
          170,
          171,
          172,
          173,
          174,
          175,
          176,
          177,
          178,
          179,
          180,
          181,
          182,
          183,
          184,
          185,
          186,
          187,
          188,
          189,
          190,
          191,
          192,
          193,
          194,
          195,
          196,
          197,
          198,
          199,
          200,
          201,
          202,
          203,
          204,
          205,
          206,
          207,
          208,
          209,
          210,
          211,
          212,
          213,
          214,
          215,
          216,
          217,
          218,
          219,
          220,
          221,
          222,
          223,
          224,
          225,
          226,
          227,
          228,
          229,
          230,
          231,
          232
         ],
         "xaxis": "x6",
         "y": [
          1000,
          1015,
          1033.277,
          1033.277,
          1033.277,
          1033.277,
          1033.277,
          1010.005,
          1010.005,
          1010.005,
          1010.005,
          994.758,
          979.702,
          965.383,
          967.853,
          967.853,
          951.797,
          951.797,
          951.797,
          975.758,
          975.758,
          957.962,
          941.127,
          923.621,
          949.64,
          933.778,
          958.458,
          958.458,
          958.458,
          958.458,
          983.487,
          983.487,
          983.487,
          983.487,
          983.487,
          999.217,
          999.217,
          978.573,
          978.573,
          978.573,
          964.071,
          941.981,
          941.981,
          941.981,
          941.981,
          941.981,
          941.981,
          928.716,
          918.108,
          940.791,
          956.734,
          956.734,
          970.835,
          958.755,
          958.755,
          947.081,
          970.243,
          970.243,
          959.074,
          974.079,
          974.079,
          974.079,
          974.079,
          957.198,
          957.198,
          957.198,
          941.819,
          941.819,
          926.293,
          926.293,
          947.787,
          932.137,
          947.079,
          972.603,
          988.162,
          988.162,
          988.162,
          988.162,
          988.162,
          972.865,
          972.865,
          972.865,
          972.865,
          972.865,
          972.865,
          998.341,
          998.341,
          998.341,
          998.341,
          974.222,
          974.222,
          958.898,
          976.652,
          976.652,
          976.652,
          999.507,
          985.228,
          985.228,
          985.228,
          1003.647,
          1003.647,
          989.899,
          989.899,
          989.899,
          989.899,
          989.899,
          989.899,
          989.899,
          989.899,
          989.899,
          989.899,
          975.504,
          975.504,
          975.504,
          975.504,
          981.031,
          981.031,
          1003.687,
          1003.687,
          1003.687,
          1003.687,
          981.421,
          981.421,
          981.421,
          981.421,
          981.421,
          966.417,
          990.443,
          990.443,
          972.799,
          956.356,
          956.356,
          956.356,
          956.356,
          956.356,
          956.356,
          961.556,
          987.278,
          987.278,
          987.278,
          964.227,
          942.203,
          942.203,
          966.23,
          948.878,
          972.182,
          972.182,
          988.103,
          988.103,
          973.866,
          973.866,
          958.005,
          958.005,
          973.513,
          957.683,
          957.683,
          972.715,
          972.715,
          958.36,
          942.714,
          942.714,
          966.304,
          948.095,
          932.627,
          964.365,
          948.645,
          948.645,
          933.897,
          938.481,
          967.287,
          952.33,
          952.33,
          952.33,
          952.33,
          952.33,
          981.553,
          1007.114,
          1007.114,
          1007.114,
          989.865,
          974.609,
          960.973,
          986.33,
          969.99,
          984.919,
          1009.557,
          1009.557,
          1009.557,
          1024.911,
          1047.232,
          1061.36,
          1079.48,
          1079.48,
          1094.987,
          1106.803,
          1124.994,
          1124.994,
          1124.994,
          1124.994,
          1139.488,
          1111.917,
          1121.901,
          1093.871,
          1068.986,
          1068.986,
          1083.86,
          1098.099,
          1098.099,
          1098.099,
          1098.099,
          1070.155,
          1070.155,
          1070.155,
          1055.542,
          1071.979,
          1048.005,
          1030.622,
          1055.174,
          1068.148,
          1068.148,
          1068.148,
          1082.994,
          1060.704,
          1075.034,
          1051.436,
          1024.893,
          1009.975,
          1009.975,
          1026.005,
          1026.005,
          1026.005,
          1044.234
         ],
         "yaxis": "y6"
        },
        {
         "mode": "lines",
         "name": "Kochi Tuskers Kerala",
         "type": "scatter",
         "x": [
          1,
          2,
          3,
          4,
          5,
          6,
          7,
          8,
          9,
          10,
          11,
          12,
          13,
          14
         ],
         "xaxis": "x7",
         "y": [
          1014.381,
          1014.381,
          1014.381,
          1028.36,
          1042.3,
          1042.3,
          1042.3,
          1042.3,
          1018.4,
          991.149,
          991.149,
          975.623,
          975.623,
          962.662
         ],
         "yaxis": "y7"
        },
        {
         "mode": "lines",
         "name": "Royal Challengers Bangalore",
         "type": "scatter",
         "x": [
          1,
          2,
          3,
          4,
          5,
          6,
          7,
          8,
          9,
          10,
          11,
          12,
          13,
          14,
          15,
          16,
          17,
          18,
          19,
          20,
          21,
          22,
          23,
          24,
          25,
          26,
          27,
          28,
          29,
          30,
          31,
          32,
          33,
          34,
          35,
          36,
          37,
          38,
          39,
          40,
          41,
          42,
          43,
          44,
          45,
          46,
          47,
          48,
          49,
          50,
          51,
          52,
          53,
          54,
          55,
          56,
          57,
          58,
          59,
          60,
          61,
          62,
          63,
          64,
          65,
          66,
          67,
          68,
          69,
          70,
          71,
          72,
          73,
          74,
          75,
          76,
          77,
          78,
          79,
          80,
          81,
          82,
          83,
          84,
          85,
          86,
          87,
          88,
          89,
          90,
          91,
          92,
          93,
          94,
          95,
          96,
          97,
          98,
          99,
          100,
          101,
          102,
          103,
          104,
          105,
          106,
          107,
          108,
          109,
          110,
          111,
          112,
          113,
          114,
          115,
          116,
          117,
          118,
          119,
          120,
          121,
          122,
          123,
          124,
          125,
          126,
          127,
          128,
          129,
          130,
          131,
          132,
          133,
          134,
          135,
          136,
          137,
          138,
          139,
          140,
          141,
          142,
          143,
          144,
          145,
          146,
          147,
          148,
          149,
          150,
          151,
          152,
          153,
          154,
          155,
          156,
          157,
          158,
          159,
          160,
          161,
          162,
          163,
          164,
          165,
          166,
          167,
          168,
          169,
          170,
          171,
          172,
          173,
          174,
          175,
          176,
          177,
          178,
          179,
          180,
          181,
          182,
          183,
          184,
          185,
          186,
          187,
          188,
          189,
          190,
          191,
          192,
          193,
          194,
          195,
          196,
          197,
          198,
          199,
          200,
          201,
          202,
          203,
          204,
          205,
          206,
          207,
          208,
          209,
          210,
          211,
          212,
          213,
          214,
          215,
          216,
          217,
          218,
          219,
          220,
          221,
          222,
          223,
          224,
          225,
          226,
          227,
          228,
          229,
          230,
          231,
          232,
          233,
          234,
          235,
          236,
          237,
          238,
          239,
          240
         ],
         "xaxis": "x8",
         "y": [
          1000,
          1000,
          1015,
          990.279,
          971.817,
          971.817,
          994.013,
          994.013,
          1015.479,
          1015.479,
          1015.479,
          1015.479,
          1015.479,
          1031.514,
          1005.495,
          1027.665,
          1012.384,
          1012.415,
          1026.585,
          1026.585,
          1003.652,
          982.901,
          998.561,
          998.561,
          998.561,
          998.561,
          980.339,
          980.339,
          963.963,
          979.981,
          979.981,
          979.981,
          979.981,
          1003.275,
          1003.275,
          1003.275,
          985.733,
          985.733,
          962.667,
          962.667,
          962.667,
          946.724,
          931.533,
          931.533,
          931.533,
          931.533,
          961.763,
          946.476,
          935.908,
          935.908,
          935.908,
          935.908,
          925.195,
          911.014,
          932.728,
          932.728,
          932.728,
          932.728,
          932.728,
          948.378,
          948.378,
          948.378,
          948.378,
          948.378,
          948.378,
          979.926,
          1002.777,
          1002.777,
          981.284,
          996.581,
          996.581,
          996.581,
          983.279,
          1004.939,
          1026.587,
          1026.587,
          1026.587,
          1026.587,
          1026.587,
          1026.587,
          1003.732,
          1004.331,
          1004.331,
          981.845,
          981.845,
          981.845,
          969.881,
          984.847,
          999.243,
          983.56,
          983.56,
          968.539,
          950.206,
          950.206,
          932.841,
          955.948,
          955.948,
          955.948,
          941.35,
          957.384,
          957.384,
          957.384,
          942.748,
          928.169,
          928.169,
          928.169,
          928.169,
          928.169,
          928.169,
          928.169,
          955.107,
          937.751,
          920.535,
          943.856,
          969.411,
          993.725,
          993.725,
          978.828,
          978.828,
          978.828,
          1005.027,
          1005.027,
          1005.027,
          1005.027,
          1035.251,
          1035.251,
          1051.694,
          1073.276,
          1091.545,
          1091.545,
          1091.545,
          1091.545,
          1068.651,
          1083.066,
          1055.265,
          1068.472,
          1046.428,
          1046.428,
          1031.114,
          1046.604,
          1046.604,
          1061.475,
          1037.438,
          1037.438,
          1012.982,
          1012.982,
          1012.982,
          1012.982,
          1012.982,
          1037.37,
          1012.496,
          1012.496,
          1012.496,
          1029.848,
          1029.848,
          1045.466,
          1045.466,
          1024.521,
          1024.521,
          1024.521,
          1024.521,
          1039.887,
          1055.607,
          1055.607,
          1070.21,
          1070.21,
          1070.21,
          1085.736,
          1102.68,
          1073.874,
          1089.193,
          1104.935,
          1121.006,
          1121.006,
          1141.826,
          1156.775,
          1156.775,
          1125.628,
          1096.405,
          1067.621,
          1067.621,
          1080.778,
          1080.778,
          1055.217,
          1055.217,
          1072.466,
          1050.644,
          1066.984,
          1066.984,
          1042.346,
          1042.346,
          1042.346,
          1042.346,
          1054.801,
          1069.296,
          1044.785,
          1044.785,
          1058.927,
          1058.927,
          1075.284,
          1057.093,
          1057.093,
          1057.093,
          1073.295,
          1073.295,
          1050.739,
          1050.739,
          1028.537,
          1045.768,
          1045.768,
          1066.062,
          1051.188,
          1051.188,
          1051.188,
          1051.188,
          1051.188,
          1051.188,
          1051.188,
          1051.188,
          1051.188,
          1073.122,
          1086.993,
          1065.295,
          1065.295,
          1043.042,
          1043.042,
          1065.332,
          1065.332,
          1065.332,
          1058.065,
          1074.04,
          1074.04,
          1086.701,
          1115.297,
          1115.297,
          1115.297,
          1115.297,
          1115.297,
          1131.352,
          1116.023
         ],
         "yaxis": "y8"
        },
        {
         "mode": "lines",
         "name": "Sunrisers Hyderabad",
         "type": "scatter",
         "x": [
          1,
          2,
          3,
          4,
          5,
          6,
          7,
          8,
          9,
          10,
          11,
          12,
          13,
          14,
          15,
          16,
          17,
          18,
          19,
          20,
          21,
          22,
          23,
          24,
          25,
          26,
          27,
          28,
          29,
          30,
          31,
          32,
          33,
          34,
          35,
          36,
          37,
          38,
          39,
          40,
          41,
          42,
          43,
          44,
          45,
          46,
          47,
          48,
          49,
          50,
          51,
          52,
          53,
          54,
          55,
          56,
          57,
          58,
          59,
          60,
          61,
          62,
          63,
          64,
          65,
          66,
          67,
          68,
          69,
          70,
          71,
          72,
          73,
          74,
          75,
          76,
          77,
          78,
          79,
          80,
          81,
          82,
          83,
          84,
          85,
          86,
          87,
          88,
          89,
          90,
          91,
          92,
          93,
          94,
          95,
          96,
          97,
          98,
          99,
          100,
          101,
          102,
          103,
          104,
          105,
          106,
          107,
          108,
          109,
          110,
          111,
          112,
          113,
          114,
          115,
          116,
          117,
          118,
          119,
          120,
          121,
          122,
          123,
          124,
          125,
          126,
          127,
          128,
          129,
          130,
          131,
          132,
          133,
          134,
          135,
          136,
          137,
          138,
          139,
          140,
          141,
          142,
          143,
          144,
          145,
          146,
          147,
          148,
          149,
          150,
          151,
          152,
          153,
          154,
          155,
          156,
          157,
          158,
          159,
          160,
          161,
          162,
          163,
          164,
          165,
          166
         ],
         "xaxis": "x9",
         "y": [
          1000,
          1017.055,
          1035.517,
          1035.517,
          1051.025,
          1026.496,
          1004.284,
          1004.284,
          1019.531,
          998.065,
          998.065,
          1013.409,
          1030.244,
          1030.244,
          1030.244,
          1029.522,
          1029.522,
          1047.744,
          1022.715,
          1022.715,
          1022.715,
          1000.534,
          1000.534,
          979.885,
          979.885,
          979.885,
          964.804,
          964.804,
          948.293,
          948.293,
          932.056,
          955.122,
          955.122,
          955.122,
          970.409,
          970.409,
          970.409,
          946.756,
          929.623,
          929.623,
          945.149,
          975.012,
          975.012,
          960.135,
          960.135,
          960.135,
          949.902,
          949.902,
          949.902,
          949.902,
          949.902,
          926.714,
          926.714,
          926.714,
          942.347,
          966.727,
          982.051,
          982.051,
          982.051,
          982.051,
          982.051,
          967.978,
          946.33,
          969.908,
          969.908,
          951.949,
          969.091,
          954.125,
          975.906,
          998.252,
          983.304,
          964.155,
          964.155,
          991.63,
          974.263,
          956.483,
          956.483,
          940.485,
          965.272,
          965.272,
          979.87,
          994.891,
          994.891,
          994.891,
          994.891,
          978.771,
          955.45,
          955.45,
          955.45,
          941.51,
          941.51,
          968.99,
          954.575,
          939.966,
          967.767,
          967.767,
          967.767,
          967.767,
          993.64,
          993.64,
          993.64,
          993.64,
          1011.796,
          1011.796,
          1011.796,
          1028.206,
          1028.206,
          1028.206,
          1043.674,
          1042.067,
          1056.815,
          1056.815,
          1071.772,
          1071.772,
          1071.772,
          1071.772,
          1071.772,
          1087.204,
          1087.204,
          1056.761,
          1040.983,
          1040.983,
          1056.356,
          1056.356,
          1056.356,
          1030.999,
          1046.22,
          1031.924,
          1017.757,
          1002.403,
          1025.109,
          1025.109,
          1046.979,
          1024.886,
          1024.886,
          1010.744,
          994.935,
          978.578,
          960.271,
          960.271,
          960.271,
          960.149,
          960.149,
          960.149,
          960.149,
          975.112,
          959.466,
          943.813,
          943.813,
          943.813,
          943.813,
          943.813,
          943.813,
          943.813,
          943.813,
          959.427,
          959.427,
          959.427,
          945.097,
          945.097,
          933.05,
          940.317,
          927.656,
          918.035,
          901.56,
          901.56
         ],
         "yaxis": "y9"
        },
        {
         "mode": "lines",
         "name": "Gujarat Titans",
         "type": "scatter",
         "x": [
          1,
          2,
          3,
          4,
          5,
          6,
          7,
          8,
          9,
          10,
          11,
          12,
          13,
          14,
          15,
          16,
          17,
          18,
          19,
          20,
          21,
          22,
          23,
          24,
          25,
          26,
          27,
          28,
          29,
          30,
          31,
          32,
          33
         ],
         "xaxis": "x10",
         "y": [
          1000,
          1000,
          1000,
          1000,
          1000,
          985.04,
          985.04,
          1013.048,
          1013.048,
          1013.048,
          1013.048,
          997.248,
          1012.988,
          1030.768,
          1030.768,
          1030.768,
          1030.768,
          1030.768,
          1045.84,
          1045.84,
          1021.117,
          1021.117,
          1021.117,
          1021.117,
          1036.168,
          1036.168,
          1051.097,
          1051.097,
          1067.286,
          1085.13,
          1085.13,
          1066.469,
          1084.687
         ],
         "yaxis": "y10"
        },
        {
         "mode": "lines",
         "name": "Rising Pune Supergiants",
         "type": "scatter",
         "x": [
          1,
          2,
          3,
          4,
          5,
          6,
          7,
          8,
          9,
          10,
          11,
          12,
          13,
          14,
          15,
          16,
          17,
          18,
          19,
          20,
          21,
          22,
          23,
          24,
          25,
          26,
          27,
          28,
          29,
          30
         ],
         "xaxis": "x11",
         "y": [
          985,
          985,
          1007.94,
          1007.94,
          1007.94,
          1007.94,
          1007.94,
          1007.94,
          1007.94,
          987.263,
          987.263,
          964.156,
          964.156,
          964.156,
          986.422,
          1003.638,
          981.33,
          996.334,
          996.334,
          979.232,
          993.533,
          977.612,
          977.612,
          977.612,
          977.612,
          977.612,
          1001.773,
          979.914,
          996.389,
          980.733
         ],
         "yaxis": "y11"
        },
        {
         "mode": "lines",
         "name": "Pune Warriors",
         "type": "scatter",
         "x": [
          1,
          2,
          3,
          4,
          5,
          6,
          7,
          8,
          9,
          10,
          11,
          12,
          13,
          14,
          15,
          16,
          17,
          18,
          19,
          20,
          21,
          22,
          23,
          24,
          25,
          26,
          27,
          28,
          29,
          30,
          31,
          32,
          33,
          34,
          35,
          36,
          37,
          38,
          39,
          40,
          41,
          42,
          43,
          44,
          45,
          46
         ],
         "xaxis": "x12",
         "y": [
          1000,
          978.057,
          963.357,
          963.357,
          945.678,
          929.643,
          945.505,
          927.628,
          949.718,
          973.826,
          973.826,
          952.07,
          937.304,
          919.711,
          919.711,
          919.711,
          919.711,
          919.711,
          901.957,
          901.957,
          901.957,
          884.815,
          870.419,
          904.6,
          904.6,
          904.6,
          904.6,
          886.428,
          913.679,
          913.679,
          913.679,
          913.679,
          913.679,
          913.679,
          913.679,
          913.679,
          904.466,
          904.466,
          904.466,
          892.011,
          920.709,
          910.725,
          910.725,
          910.725,
          900.063,
          900.063
         ],
         "yaxis": "y12"
        },
        {
         "mode": "lines",
         "name": "Deccan Chargers",
         "type": "scatter",
         "x": [
          1,
          2,
          3,
          4,
          5,
          6,
          7,
          8,
          9,
          10,
          11,
          12,
          13,
          14,
          15,
          16,
          17,
          18,
          19,
          20,
          21,
          22,
          23,
          24,
          25,
          26,
          27,
          28,
          29,
          30,
          31,
          32,
          33,
          34,
          35,
          36,
          37,
          38,
          39,
          40,
          41,
          42,
          43,
          44,
          45,
          46,
          47,
          48,
          49,
          50,
          51,
          52,
          53,
          54,
          55,
          56,
          57,
          58,
          59,
          60,
          61,
          62,
          63,
          64,
          65,
          66,
          67,
          68,
          69,
          70,
          71,
          72,
          73,
          74,
          75
         ],
         "xaxis": "x13",
         "y": [
          1000,
          985,
          999.7,
          999.7,
          999.7,
          984.678,
          984.678,
          1002.184,
          1002.184,
          1002.184,
          987.58,
          987.58,
          987.58,
          971.562,
          986.662,
          986.662,
          986.662,
          1002.151,
          1002.151,
          1002.151,
          1019.643,
          1019.643,
          1019.643,
          1019.643,
          1019.643,
          1019.643,
          1019.643,
          1019.643,
          1019.643,
          997.565,
          997.565,
          997.565,
          1015.898,
          1015.898,
          1015.898,
          1039.329,
          1039.329,
          1039.329,
          1039.329,
          1039.329,
          1053.908,
          1026.97,
          1003.89,
          1003.89,
          982.308,
          982.308,
          982.308,
          958.713,
          983.169,
          1006.803,
          983.499,
          999.337,
          999.337,
          984.325,
          984.325,
          984.325,
          984.325,
          968.339,
          953.41,
          979.262,
          993.857,
          970.284,
          970.284,
          953.645,
          953.645,
          953.645,
          953.645,
          938.395,
          938.395,
          938.395,
          922.035,
          908.996,
          908.996,
          898.136,
          887.053
         ],
         "yaxis": "y13"
        },
        {
         "mode": "lines",
         "name": "Lucknow Super Giants",
         "type": "scatter",
         "x": [
          1,
          2,
          3,
          4,
          5,
          6,
          7,
          8,
          9,
          10,
          11,
          12,
          13,
          14,
          15,
          16,
          17,
          18,
          19,
          20,
          21,
          22,
          23,
          24,
          25,
          26,
          27,
          28,
          29,
          30
         ],
         "xaxis": "x14",
         "y": [
          1000,
          1015.686,
          1000.263,
          1015.821,
          1033.636,
          1011.988,
          1026.954,
          1042.952,
          1042.952,
          1042.952,
          1017.397,
          1017.397,
          1040.132,
          1058.32,
          1076.316,
          1076.316,
          1087.387,
          1062.37,
          1041.55,
          1022.302,
          1022.302,
          1007.251,
          1032.136,
          1008.041,
          1008.041,
          1029.683,
          1011.839,
          1035.437,
          1035.437,
          1017.219
         ],
         "yaxis": "y14"
        },
        {
         "mode": "lines",
         "name": "Gujarat Lions",
         "type": "scatter",
         "x": [
          1,
          2,
          3,
          4,
          5,
          6,
          7,
          8,
          9,
          10,
          11,
          12,
          13,
          14,
          15,
          16,
          17,
          18,
          19,
          20,
          21,
          22,
          23,
          24,
          25,
          26,
          27,
          28,
          29,
          30
         ],
         "xaxis": "x15",
         "y": [
          1000,
          1014.56,
          1014.56,
          1014.56,
          1014.56,
          1014.56,
          1014.56,
          1014.56,
          1014.56,
          1029.798,
          1029.798,
          1006.947,
          985.152,
          985.152,
          963.371,
          963.371,
          963.371,
          963.371,
          985.679,
          963.041,
          948.74,
          932.33,
          932.33,
          938.239,
          938.239,
          969.386,
          969.386,
          969.386,
          991.245,
          991.245
         ],
         "yaxis": "y15"
        }
       ],
       "layout": {
        "annotations": [
         {
          "font": {
           "size": 16
          },
          "showarrow": false,
          "text": "Chennai Super Kings",
          "x": 0.14444444444444446,
          "xanchor": "center",
          "xref": "paper",
          "y": 1,
          "yanchor": "bottom",
          "yref": "paper"
         },
         {
          "font": {
           "size": 16
          },
          "showarrow": false,
          "text": "Kolkata Knight Riders",
          "x": 0.5,
          "xanchor": "center",
          "xref": "paper",
          "y": 1,
          "yanchor": "bottom",
          "yref": "paper"
         },
         {
          "font": {
           "size": 16
          },
          "showarrow": false,
          "text": "Rajasthan Royals",
          "x": 0.8555555555555556,
          "xanchor": "center",
          "xref": "paper",
          "y": 1,
          "yanchor": "bottom",
          "yref": "paper"
         },
         {
          "font": {
           "size": 16
          },
          "showarrow": false,
          "text": "Mumbai Indians",
          "x": 0.14444444444444446,
          "xanchor": "center",
          "xref": "paper",
          "y": 0.78,
          "yanchor": "bottom",
          "yref": "paper"
         },
         {
          "font": {
           "size": 16
          },
          "showarrow": false,
          "text": "Delhi Capitals",
          "x": 0.5,
          "xanchor": "center",
          "xref": "paper",
          "y": 0.78,
          "yanchor": "bottom",
          "yref": "paper"
         },
         {
          "font": {
           "size": 16
          },
          "showarrow": false,
          "text": "Punjab Kings",
          "x": 0.8555555555555556,
          "xanchor": "center",
          "xref": "paper",
          "y": 0.78,
          "yanchor": "bottom",
          "yref": "paper"
         },
         {
          "font": {
           "size": 16
          },
          "showarrow": false,
          "text": "Kochi Tuskers Kerala",
          "x": 0.14444444444444446,
          "xanchor": "center",
          "xref": "paper",
          "y": 0.56,
          "yanchor": "bottom",
          "yref": "paper"
         },
         {
          "font": {
           "size": 16
          },
          "showarrow": false,
          "text": "Royal Challengers Bangalore",
          "x": 0.5,
          "xanchor": "center",
          "xref": "paper",
          "y": 0.56,
          "yanchor": "bottom",
          "yref": "paper"
         },
         {
          "font": {
           "size": 16
          },
          "showarrow": false,
          "text": "Sunrisers Hyderabad",
          "x": 0.8555555555555556,
          "xanchor": "center",
          "xref": "paper",
          "y": 0.56,
          "yanchor": "bottom",
          "yref": "paper"
         },
         {
          "font": {
           "size": 16
          },
          "showarrow": false,
          "text": "Gujarat Titans",
          "x": 0.14444444444444446,
          "xanchor": "center",
          "xref": "paper",
          "y": 0.33999999999999997,
          "yanchor": "bottom",
          "yref": "paper"
         },
         {
          "font": {
           "size": 16
          },
          "showarrow": false,
          "text": "Rising Pune Supergiants",
          "x": 0.5,
          "xanchor": "center",
          "xref": "paper",
          "y": 0.33999999999999997,
          "yanchor": "bottom",
          "yref": "paper"
         },
         {
          "font": {
           "size": 16
          },
          "showarrow": false,
          "text": "Pune Warriors",
          "x": 0.8555555555555556,
          "xanchor": "center",
          "xref": "paper",
          "y": 0.33999999999999997,
          "yanchor": "bottom",
          "yref": "paper"
         },
         {
          "font": {
           "size": 16
          },
          "showarrow": false,
          "text": "Deccan Chargers",
          "x": 0.14444444444444446,
          "xanchor": "center",
          "xref": "paper",
          "y": 0.12,
          "yanchor": "bottom",
          "yref": "paper"
         },
         {
          "font": {
           "size": 16
          },
          "showarrow": false,
          "text": "Lucknow Super Giants",
          "x": 0.5,
          "xanchor": "center",
          "xref": "paper",
          "y": 0.12,
          "yanchor": "bottom",
          "yref": "paper"
         },
         {
          "font": {
           "size": 16
          },
          "showarrow": false,
          "text": "Gujarat Lions",
          "x": 0.8555555555555556,
          "xanchor": "center",
          "xref": "paper",
          "y": 0.12,
          "yanchor": "bottom",
          "yref": "paper"
         }
        ],
        "height": 1200,
        "showlegend": false,
        "template": {
         "data": {
          "bar": [
           {
            "error_x": {
             "color": "#2a3f5f"
            },
            "error_y": {
             "color": "#2a3f5f"
            },
            "marker": {
             "line": {
              "color": "#E5ECF6",
              "width": 0.5
             },
             "pattern": {
              "fillmode": "overlay",
              "size": 10,
              "solidity": 0.2
             }
            },
            "type": "bar"
           }
          ],
          "barpolar": [
           {
            "marker": {
             "line": {
              "color": "#E5ECF6",
              "width": 0.5
             },
             "pattern": {
              "fillmode": "overlay",
              "size": 10,
              "solidity": 0.2
             }
            },
            "type": "barpolar"
           }
          ],
          "carpet": [
           {
            "aaxis": {
             "endlinecolor": "#2a3f5f",
             "gridcolor": "white",
             "linecolor": "white",
             "minorgridcolor": "white",
             "startlinecolor": "#2a3f5f"
            },
            "baxis": {
             "endlinecolor": "#2a3f5f",
             "gridcolor": "white",
             "linecolor": "white",
             "minorgridcolor": "white",
             "startlinecolor": "#2a3f5f"
            },
            "type": "carpet"
           }
          ],
          "choropleth": [
           {
            "colorbar": {
             "outlinewidth": 0,
             "ticks": ""
            },
            "type": "choropleth"
           }
          ],
          "contour": [
           {
            "colorbar": {
             "outlinewidth": 0,
             "ticks": ""
            },
            "colorscale": [
             [
              0,
              "#0d0887"
             ],
             [
              0.1111111111111111,
              "#46039f"
             ],
             [
              0.2222222222222222,
              "#7201a8"
             ],
             [
              0.3333333333333333,
              "#9c179e"
             ],
             [
              0.4444444444444444,
              "#bd3786"
             ],
             [
              0.5555555555555556,
              "#d8576b"
             ],
             [
              0.6666666666666666,
              "#ed7953"
             ],
             [
              0.7777777777777778,
              "#fb9f3a"
             ],
             [
              0.8888888888888888,
              "#fdca26"
             ],
             [
              1,
              "#f0f921"
             ]
            ],
            "type": "contour"
           }
          ],
          "contourcarpet": [
           {
            "colorbar": {
             "outlinewidth": 0,
             "ticks": ""
            },
            "type": "contourcarpet"
           }
          ],
          "heatmap": [
           {
            "colorbar": {
             "outlinewidth": 0,
             "ticks": ""
            },
            "colorscale": [
             [
              0,
              "#0d0887"
             ],
             [
              0.1111111111111111,
              "#46039f"
             ],
             [
              0.2222222222222222,
              "#7201a8"
             ],
             [
              0.3333333333333333,
              "#9c179e"
             ],
             [
              0.4444444444444444,
              "#bd3786"
             ],
             [
              0.5555555555555556,
              "#d8576b"
             ],
             [
              0.6666666666666666,
              "#ed7953"
             ],
             [
              0.7777777777777778,
              "#fb9f3a"
             ],
             [
              0.8888888888888888,
              "#fdca26"
             ],
             [
              1,
              "#f0f921"
             ]
            ],
            "type": "heatmap"
           }
          ],
          "heatmapgl": [
           {
            "colorbar": {
             "outlinewidth": 0,
             "ticks": ""
            },
            "colorscale": [
             [
              0,
              "#0d0887"
             ],
             [
              0.1111111111111111,
              "#46039f"
             ],
             [
              0.2222222222222222,
              "#7201a8"
             ],
             [
              0.3333333333333333,
              "#9c179e"
             ],
             [
              0.4444444444444444,
              "#bd3786"
             ],
             [
              0.5555555555555556,
              "#d8576b"
             ],
             [
              0.6666666666666666,
              "#ed7953"
             ],
             [
              0.7777777777777778,
              "#fb9f3a"
             ],
             [
              0.8888888888888888,
              "#fdca26"
             ],
             [
              1,
              "#f0f921"
             ]
            ],
            "type": "heatmapgl"
           }
          ],
          "histogram": [
           {
            "marker": {
             "pattern": {
              "fillmode": "overlay",
              "size": 10,
              "solidity": 0.2
             }
            },
            "type": "histogram"
           }
          ],
          "histogram2d": [
           {
            "colorbar": {
             "outlinewidth": 0,
             "ticks": ""
            },
            "colorscale": [
             [
              0,
              "#0d0887"
             ],
             [
              0.1111111111111111,
              "#46039f"
             ],
             [
              0.2222222222222222,
              "#7201a8"
             ],
             [
              0.3333333333333333,
              "#9c179e"
             ],
             [
              0.4444444444444444,
              "#bd3786"
             ],
             [
              0.5555555555555556,
              "#d8576b"
             ],
             [
              0.6666666666666666,
              "#ed7953"
             ],
             [
              0.7777777777777778,
              "#fb9f3a"
             ],
             [
              0.8888888888888888,
              "#fdca26"
             ],
             [
              1,
              "#f0f921"
             ]
            ],
            "type": "histogram2d"
           }
          ],
          "histogram2dcontour": [
           {
            "colorbar": {
             "outlinewidth": 0,
             "ticks": ""
            },
            "colorscale": [
             [
              0,
              "#0d0887"
             ],
             [
              0.1111111111111111,
              "#46039f"
             ],
             [
              0.2222222222222222,
              "#7201a8"
             ],
             [
              0.3333333333333333,
              "#9c179e"
             ],
             [
              0.4444444444444444,
              "#bd3786"
             ],
             [
              0.5555555555555556,
              "#d8576b"
             ],
             [
              0.6666666666666666,
              "#ed7953"
             ],
             [
              0.7777777777777778,
              "#fb9f3a"
             ],
             [
              0.8888888888888888,
              "#fdca26"
             ],
             [
              1,
              "#f0f921"
             ]
            ],
            "type": "histogram2dcontour"
           }
          ],
          "mesh3d": [
           {
            "colorbar": {
             "outlinewidth": 0,
             "ticks": ""
            },
            "type": "mesh3d"
           }
          ],
          "parcoords": [
           {
            "line": {
             "colorbar": {
              "outlinewidth": 0,
              "ticks": ""
             }
            },
            "type": "parcoords"
           }
          ],
          "pie": [
           {
            "automargin": true,
            "type": "pie"
           }
          ],
          "scatter": [
           {
            "fillpattern": {
             "fillmode": "overlay",
             "size": 10,
             "solidity": 0.2
            },
            "type": "scatter"
           }
          ],
          "scatter3d": [
           {
            "line": {
             "colorbar": {
              "outlinewidth": 0,
              "ticks": ""
             }
            },
            "marker": {
             "colorbar": {
              "outlinewidth": 0,
              "ticks": ""
             }
            },
            "type": "scatter3d"
           }
          ],
          "scattercarpet": [
           {
            "marker": {
             "colorbar": {
              "outlinewidth": 0,
              "ticks": ""
             }
            },
            "type": "scattercarpet"
           }
          ],
          "scattergeo": [
           {
            "marker": {
             "colorbar": {
              "outlinewidth": 0,
              "ticks": ""
             }
            },
            "type": "scattergeo"
           }
          ],
          "scattergl": [
           {
            "marker": {
             "colorbar": {
              "outlinewidth": 0,
              "ticks": ""
             }
            },
            "type": "scattergl"
           }
          ],
          "scattermapbox": [
           {
            "marker": {
             "colorbar": {
              "outlinewidth": 0,
              "ticks": ""
             }
            },
            "type": "scattermapbox"
           }
          ],
          "scatterpolar": [
           {
            "marker": {
             "colorbar": {
              "outlinewidth": 0,
              "ticks": ""
             }
            },
            "type": "scatterpolar"
           }
          ],
          "scatterpolargl": [
           {
            "marker": {
             "colorbar": {
              "outlinewidth": 0,
              "ticks": ""
             }
            },
            "type": "scatterpolargl"
           }
          ],
          "scatterternary": [
           {
            "marker": {
             "colorbar": {
              "outlinewidth": 0,
              "ticks": ""
             }
            },
            "type": "scatterternary"
           }
          ],
          "surface": [
           {
            "colorbar": {
             "outlinewidth": 0,
             "ticks": ""
            },
            "colorscale": [
             [
              0,
              "#0d0887"
             ],
             [
              0.1111111111111111,
              "#46039f"
             ],
             [
              0.2222222222222222,
              "#7201a8"
             ],
             [
              0.3333333333333333,
              "#9c179e"
             ],
             [
              0.4444444444444444,
              "#bd3786"
             ],
             [
              0.5555555555555556,
              "#d8576b"
             ],
             [
              0.6666666666666666,
              "#ed7953"
             ],
             [
              0.7777777777777778,
              "#fb9f3a"
             ],
             [
              0.8888888888888888,
              "#fdca26"
             ],
             [
              1,
              "#f0f921"
             ]
            ],
            "type": "surface"
           }
          ],
          "table": [
           {
            "cells": {
             "fill": {
              "color": "#EBF0F8"
             },
             "line": {
              "color": "white"
             }
            },
            "header": {
             "fill": {
              "color": "#C8D4E3"
             },
             "line": {
              "color": "white"
             }
            },
            "type": "table"
           }
          ]
         },
         "layout": {
          "annotationdefaults": {
           "arrowcolor": "#2a3f5f",
           "arrowhead": 0,
           "arrowwidth": 1
          },
          "autotypenumbers": "strict",
          "coloraxis": {
           "colorbar": {
            "outlinewidth": 0,
            "ticks": ""
           }
          },
          "colorscale": {
           "diverging": [
            [
             0,
             "#8e0152"
            ],
            [
             0.1,
             "#c51b7d"
            ],
            [
             0.2,
             "#de77ae"
            ],
            [
             0.3,
             "#f1b6da"
            ],
            [
             0.4,
             "#fde0ef"
            ],
            [
             0.5,
             "#f7f7f7"
            ],
            [
             0.6,
             "#e6f5d0"
            ],
            [
             0.7,
             "#b8e186"
            ],
            [
             0.8,
             "#7fbc41"
            ],
            [
             0.9,
             "#4d9221"
            ],
            [
             1,
             "#276419"
            ]
           ],
           "sequential": [
            [
             0,
             "#0d0887"
            ],
            [
             0.1111111111111111,
             "#46039f"
            ],
            [
             0.2222222222222222,
             "#7201a8"
            ],
            [
             0.3333333333333333,
             "#9c179e"
            ],
            [
             0.4444444444444444,
             "#bd3786"
            ],
            [
             0.5555555555555556,
             "#d8576b"
            ],
            [
             0.6666666666666666,
             "#ed7953"
            ],
            [
             0.7777777777777778,
             "#fb9f3a"
            ],
            [
             0.8888888888888888,
             "#fdca26"
            ],
            [
             1,
             "#f0f921"
            ]
           ],
           "sequentialminus": [
            [
             0,
             "#0d0887"
            ],
            [
             0.1111111111111111,
             "#46039f"
            ],
            [
             0.2222222222222222,
             "#7201a8"
            ],
            [
             0.3333333333333333,
             "#9c179e"
            ],
            [
             0.4444444444444444,
             "#bd3786"
            ],
            [
             0.5555555555555556,
             "#d8576b"
            ],
            [
             0.6666666666666666,
             "#ed7953"
            ],
            [
             0.7777777777777778,
             "#fb9f3a"
            ],
            [
             0.8888888888888888,
             "#fdca26"
            ],
            [
             1,
             "#f0f921"
            ]
           ]
          },
          "colorway": [
           "#636efa",
           "#EF553B",
           "#00cc96",
           "#ab63fa",
           "#FFA15A",
           "#19d3f3",
           "#FF6692",
           "#B6E880",
           "#FF97FF",
           "#FECB52"
          ],
          "font": {
           "color": "#2a3f5f"
          },
          "geo": {
           "bgcolor": "white",
           "lakecolor": "white",
           "landcolor": "#E5ECF6",
           "showlakes": true,
           "showland": true,
           "subunitcolor": "white"
          },
          "hoverlabel": {
           "align": "left"
          },
          "hovermode": "closest",
          "mapbox": {
           "style": "light"
          },
          "paper_bgcolor": "white",
          "plot_bgcolor": "#E5ECF6",
          "polar": {
           "angularaxis": {
            "gridcolor": "white",
            "linecolor": "white",
            "ticks": ""
           },
           "bgcolor": "#E5ECF6",
           "radialaxis": {
            "gridcolor": "white",
            "linecolor": "white",
            "ticks": ""
           }
          },
          "scene": {
           "xaxis": {
            "backgroundcolor": "#E5ECF6",
            "gridcolor": "white",
            "gridwidth": 2,
            "linecolor": "white",
            "showbackground": true,
            "ticks": "",
            "zerolinecolor": "white"
           },
           "yaxis": {
            "backgroundcolor": "#E5ECF6",
            "gridcolor": "white",
            "gridwidth": 2,
            "linecolor": "white",
            "showbackground": true,
            "ticks": "",
            "zerolinecolor": "white"
           },
           "zaxis": {
            "backgroundcolor": "#E5ECF6",
            "gridcolor": "white",
            "gridwidth": 2,
            "linecolor": "white",
            "showbackground": true,
            "ticks": "",
            "zerolinecolor": "white"
           }
          },
          "shapedefaults": {
           "line": {
            "color": "#2a3f5f"
           }
          },
          "ternary": {
           "aaxis": {
            "gridcolor": "white",
            "linecolor": "white",
            "ticks": ""
           },
           "baxis": {
            "gridcolor": "white",
            "linecolor": "white",
            "ticks": ""
           },
           "bgcolor": "#E5ECF6",
           "caxis": {
            "gridcolor": "white",
            "linecolor": "white",
            "ticks": ""
           }
          },
          "title": {
           "x": 0.05
          },
          "xaxis": {
           "automargin": true,
           "gridcolor": "white",
           "linecolor": "white",
           "ticks": "",
           "title": {
            "standoff": 15
           },
           "zerolinecolor": "white",
           "zerolinewidth": 2
          },
          "yaxis": {
           "automargin": true,
           "gridcolor": "white",
           "linecolor": "white",
           "ticks": "",
           "title": {
            "standoff": 15
           },
           "zerolinecolor": "white",
           "zerolinewidth": 2
          }
         }
        },
        "title": {
         "text": "Match By Match Elo Ratings of Teams"
        },
        "width": 1200,
        "xaxis": {
         "anchor": "y",
         "domain": [
          0,
          0.2888888888888889
         ],
         "title": {
          "text": "Match Number"
         }
        },
        "xaxis10": {
         "anchor": "y10",
         "domain": [
          0,
          0.2888888888888889
         ],
         "title": {
          "text": "Match Number"
         }
        },
        "xaxis11": {
         "anchor": "y11",
         "domain": [
          0.35555555555555557,
          0.6444444444444445
         ],
         "title": {
          "text": "Match Number"
         }
        },
        "xaxis12": {
         "anchor": "y12",
         "domain": [
          0.7111111111111111,
          1
         ],
         "title": {
          "text": "Match Number"
         }
        },
        "xaxis13": {
         "anchor": "y13",
         "domain": [
          0,
          0.2888888888888889
         ],
         "title": {
          "text": "Match Number"
         }
        },
        "xaxis14": {
         "anchor": "y14",
         "domain": [
          0.35555555555555557,
          0.6444444444444445
         ],
         "title": {
          "text": "Match Number"
         }
        },
        "xaxis15": {
         "anchor": "y15",
         "domain": [
          0.7111111111111111,
          1
         ],
         "title": {
          "text": "Match Number"
         }
        },
        "xaxis2": {
         "anchor": "y2",
         "domain": [
          0.35555555555555557,
          0.6444444444444445
         ],
         "title": {
          "text": "Match Number"
         }
        },
        "xaxis3": {
         "anchor": "y3",
         "domain": [
          0.7111111111111111,
          1
         ],
         "title": {
          "text": "Match Number"
         }
        },
        "xaxis4": {
         "anchor": "y4",
         "domain": [
          0,
          0.2888888888888889
         ],
         "title": {
          "text": "Match Number"
         }
        },
        "xaxis5": {
         "anchor": "y5",
         "domain": [
          0.35555555555555557,
          0.6444444444444445
         ],
         "title": {
          "text": "Match Number"
         }
        },
        "xaxis6": {
         "anchor": "y6",
         "domain": [
          0.7111111111111111,
          1
         ],
         "title": {
          "text": "Match Number"
         }
        },
        "xaxis7": {
         "anchor": "y7",
         "domain": [
          0,
          0.2888888888888889
         ],
         "title": {
          "text": "Match Number"
         }
        },
        "xaxis8": {
         "anchor": "y8",
         "domain": [
          0.35555555555555557,
          0.6444444444444445
         ],
         "title": {
          "text": "Match Number"
         }
        },
        "xaxis9": {
         "anchor": "y9",
         "domain": [
          0.7111111111111111,
          1
         ],
         "title": {
          "text": "Match Number"
         }
        },
        "yaxis": {
         "anchor": "x",
         "domain": [
          0.88,
          1
         ],
         "title": {
          "text": "Elo Rating"
         }
        },
        "yaxis10": {
         "anchor": "x10",
         "domain": [
          0.22,
          0.33999999999999997
         ],
         "title": {
          "text": "Elo Rating"
         }
        },
        "yaxis11": {
         "anchor": "x11",
         "domain": [
          0.22,
          0.33999999999999997
         ],
         "title": {
          "text": "Elo Rating"
         }
        },
        "yaxis12": {
         "anchor": "x12",
         "domain": [
          0.22,
          0.33999999999999997
         ],
         "title": {
          "text": "Elo Rating"
         }
        },
        "yaxis13": {
         "anchor": "x13",
         "domain": [
          0,
          0.12
         ],
         "title": {
          "text": "Elo Rating"
         }
        },
        "yaxis14": {
         "anchor": "x14",
         "domain": [
          0,
          0.12
         ],
         "title": {
          "text": "Elo Rating"
         }
        },
        "yaxis15": {
         "anchor": "x15",
         "domain": [
          0,
          0.12
         ],
         "title": {
          "text": "Elo Rating"
         }
        },
        "yaxis2": {
         "anchor": "x2",
         "domain": [
          0.88,
          1
         ],
         "title": {
          "text": "Elo Rating"
         }
        },
        "yaxis3": {
         "anchor": "x3",
         "domain": [
          0.88,
          1
         ],
         "title": {
          "text": "Elo Rating"
         }
        },
        "yaxis4": {
         "anchor": "x4",
         "domain": [
          0.66,
          0.78
         ],
         "title": {
          "text": "Elo Rating"
         }
        },
        "yaxis5": {
         "anchor": "x5",
         "domain": [
          0.66,
          0.78
         ],
         "title": {
          "text": "Elo Rating"
         }
        },
        "yaxis6": {
         "anchor": "x6",
         "domain": [
          0.66,
          0.78
         ],
         "title": {
          "text": "Elo Rating"
         }
        },
        "yaxis7": {
         "anchor": "x7",
         "domain": [
          0.44,
          0.56
         ],
         "title": {
          "text": "Elo Rating"
         }
        },
        "yaxis8": {
         "anchor": "x8",
         "domain": [
          0.44,
          0.56
         ],
         "title": {
          "text": "Elo Rating"
         }
        },
        "yaxis9": {
         "anchor": "x9",
         "domain": [
          0.44,
          0.56
         ],
         "title": {
          "text": "Elo Rating"
         }
        }
       }
      }
     },
     "metadata": {},
     "output_type": "display_data"
    }
   ],
   "source": [
    "teams = df['team'].unique()\n",
    "\n",
    "subFig = make_subplots(rows=5, cols=3, subplot_titles=[f\"{team}\" for team in teams])\n",
    "\n",
    "row = 1\n",
    "col = 1\n",
    "\n",
    "\n",
    "for team in teams:\n",
    "    team_df = df[df['team'] == team]\n",
    "    subFig.add_trace(\n",
    "        go.Scatter(x=team_df['matchNo'], y=team_df['eloRating'], mode='lines', name=team),\n",
    "        row=row, col=col\n",
    "    )\n",
    "    subFig.update_xaxes(title_text=\"Match Number\", row=row, col=col)\n",
    "    subFig.update_yaxes(title_text=\"Elo Rating\", row=row, col=col)\n",
    "    # Update row and column indices for the next subplot\n",
    "    col += 1\n",
    "    if col > 3:\n",
    "        col = 1\n",
    "        row += 1\n",
    "\n",
    "\n",
    "subFig.update_layout(height=1200, width=1200, title_text=\"Match By Match Elo Ratings of Teams\", showlegend=False)\n",
    "subFig.show()"
   ]
  },
  {
   "cell_type": "markdown",
   "metadata": {},
   "source": [
    "## Bar Chart Race"
   ]
  },
  {
   "cell_type": "code",
   "execution_count": null,
   "metadata": {},
   "outputs": [],
   "source": [
    "import bar_chart_race as bcr\n",
    "from IPython.display import Video\n",
    "\n",
    "dfAvg = df.groupby(['season', 'team'])['eloRating'].mean().unstack().fillna(method='ffill')\n",
    "dfAvg.index = pd.to_datetime(dfAvg.index, format='%Y')\n",
    "videoName = 'elo_ratings_race.mp4'\n",
    "\n",
    "bcr.bar_chart_race(\n",
    "    df=dfAvg,\n",
    "    filename=videoName,\n",
    "    orientation='h',\n",
    "    sort='desc',\n",
    "    n_bars=len(df.team.unique()),\n",
    "    fixed_order=False,\n",
    "    fixed_max=True,\n",
    "    steps_per_period=10,\n",
    "    interpolate_period=False,\n",
    "    label_bars=True,\n",
    "    bar_size=.95,\n",
    "    period_label={'x': .99, 'y': .25, 'ha': 'right', 'va': 'center'},\n",
    "    period_fmt='Season %Y',\n",
    "    period_summary_func=lambda v, r: {'x': .99, 'y': .18,\n",
    "                                      's': f'Season Summary',\n",
    "                                      'ha': 'right', 'size': 8, 'family': 'Courier New'},\n",
    "    perpendicular_bar_func='median',\n",
    "    period_length=1000,\n",
    "    figsize=(8, 6),\n",
    "    dpi=300,\n",
    "    cmap='dark12',\n",
    "    title='IPL Teams Elo Ratings Over Seasons',\n",
    "    title_size='',\n",
    "    bar_label_size=7,\n",
    "    tick_label_size=7,\n",
    "    shared_fontdict={'family' : 'Helvetica', 'color' : '.1'},\n",
    "    scale='linear',\n",
    "    writer=None,\n",
    "    fig=None,\n",
    "    bar_kwargs={'alpha': .7},\n",
    "    filter_column_colors=False\n",
    ")\n",
    "\n",
    "\n",
    "Video(videoName)"
   ]
  }
 ],
 "metadata": {
  "kernelspec": {
   "display_name": "player-dashboard",
   "language": "python",
   "name": "python3"
  },
  "language_info": {
   "codemirror_mode": {
    "name": "ipython",
    "version": 3
   },
   "file_extension": ".py",
   "mimetype": "text/x-python",
   "name": "python",
   "nbconvert_exporter": "python",
   "pygments_lexer": "ipython3",
   "version": "3.9.18"
  }
 },
 "nbformat": 4,
 "nbformat_minor": 2
}
